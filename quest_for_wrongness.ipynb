{
 "cells": [
  {
   "cell_type": "markdown",
   "metadata": {},
   "source": [
    "### Something is wrong!\n",
    "### Something is wrong?\n",
    "### Something is wrong!"
   ]
  },
  {
   "cell_type": "markdown",
   "metadata": {},
   "source": [
    "### Ok. Before I can figure out what is wrong I need to get an idea for what IS.\n",
    "Let's take a look at the data files. \n",
    "No, wait. Let's think about it for a minute, first.\n",
    "\n",
    "Things that could be wrong:\n",
    "    a) The data is wrong\n",
    "        approach: Do sanity checks on the individual tables wrt data completeness and 'correctness'.\n",
    "    b) The data shows me something is wrong with the people.\n",
    "        approach: Do sanity checks on the patient-centric tables wrt my biased expectations of usage and illness rates\n",
    "    c) The data shows me something is being done wrong For the people\n",
    "        approach: Look at costs, rxes, procedures, encounter rates, and - if they're there - deaths\n",
    "    d) All of the above\n",
    "        approach: Whatever random stuff I do as digressions\n",
    "    \n"
   ]
  },
  {
   "cell_type": "code",
   "execution_count": 124,
   "metadata": {},
   "outputs": [],
   "source": [
    "## First things first:  some imports\n",
    "import pandas as pd\n",
    "import json\n",
    "import numpy as np\n",
    "from matplotlib import pyplot as plt\n",
    "import seaborn\n",
    "import sklearn\n",
    "import glob"
   ]
  },
  {
   "cell_type": "code",
   "execution_count": 9,
   "metadata": {},
   "outputs": [
    {
     "data": {
      "text/plain": [
       "['medications.csv',\n",
       " 'providers.csv',\n",
       " 'imaging_studies.csv',\n",
       " 'allergies.csv',\n",
       " 'procedures.csv',\n",
       " 'organizations.csv',\n",
       " 'conditions.csv',\n",
       " 'careplans.csv',\n",
       " 'encounters.csv',\n",
       " 'immunizations.csv',\n",
       " 'patients.csv',\n",
       " 'concepts.csv',\n",
       " 'observations.csv']"
      ]
     },
     "execution_count": 9,
     "metadata": {},
     "output_type": "execute_result"
    }
   ],
   "source": [
    "# A quick tour of ALL the tables\n",
    "fnames = glob.glob(\"*.csv\")\n",
    "fnames"
   ]
  },
  {
   "cell_type": "code",
   "execution_count": 29,
   "metadata": {},
   "outputs": [
    {
     "name": "stdout",
     "output_type": "stream",
     "text": [
      "8360\n",
      "8360\n"
     ]
    }
   ],
   "source": [
    "# We all know this is the central table\n",
    "pats = pd.read_csv(\"patients.csv\")\n",
    "n_patients = len(set(pats['Id'].values))\n",
    "print(n_patients)\n",
    "\n",
    "# Hm. Are there dupes?\n",
    "print(len(pats)) \n",
    "# No! Good job, recordkeepers.\n",
    "\n"
   ]
  },
  {
   "cell_type": "code",
   "execution_count": 134,
   "metadata": {},
   "outputs": [
    {
     "data": {
      "text/plain": [
       "3360"
      ]
     },
     "execution_count": 134,
     "metadata": {},
     "output_type": "execute_result"
    }
   ],
   "source": [
    "## What about dead folks?\n",
    "deaths = pats['DEATHDATE'].count()\n",
    "deaths"
   ]
  },
  {
   "cell_type": "code",
   "execution_count": null,
   "metadata": {},
   "outputs": [],
   "source": [
    "## SO we have a round 5000 folks. CONVENIENT."
   ]
  },
  {
   "cell_type": "code",
   "execution_count": 135,
   "metadata": {},
   "outputs": [
    {
     "name": "stdout",
     "output_type": "stream",
     "text": [
      "There are ---> 124759 rows in the ---> MEDICATIONS table.\n",
      "That's 14.923325358851674 per patient\n",
      "earliest START: 1909-11-26 00:00:00, latest date: 2019-05-06 00:00:00\n",
      "earliest STOP: 1909-12-10 00:00:00, latest date: 2019-05-06 00:00:00\n",
      "\n",
      "There are ---> 125 rows in the ---> PROVIDERS table.\n",
      "That's 0.014952153110047847 per patient\n",
      "\n",
      "There are ---> 8278 rows in the ---> IMAGING_STUDIES table.\n",
      "That's 0.9901913875598086 per patient\n",
      "earliest DATE: 1912-08-28 00:00:00, latest date: 2019-05-01 00:00:00\n",
      "\n",
      "There are ---> 3262 rows in the ---> ALLERGIES table.\n",
      "That's 0.3901913875598086 per patient\n",
      "earliest START: 1909-08-21 00:00:00, latest date: 2019-04-14 00:00:00\n",
      "earliest STOP: NaT, latest date: NaT\n",
      "\n",
      "There are ---> 419399 rows in the ---> PROCEDURES table.\n",
      "That's 50.16734449760766 per patient\n",
      "earliest DATE: 1909-01-11 00:00:00, latest date: 2019-05-06 00:00:00\n",
      "\n",
      "There are ---> 125 rows in the ---> ORGANIZATIONS table.\n",
      "That's 0.014952153110047847 per patient\n",
      "\n",
      "There are ---> 109720 rows in the ---> CONDITIONS table.\n",
      "That's 13.124401913875598 per patient\n",
      "earliest START: 1909-11-26 00:00:00, latest date: 2019-05-06 00:00:00\n",
      "earliest STOP: 1910-02-09 00:00:00, latest date: 2019-05-06 00:00:00\n",
      "\n",
      "There are ---> 40048 rows in the ---> CAREPLANS table.\n",
      "That's 4.79043062200957 per patient\n",
      "earliest START: 1909-08-09 00:00:00, latest date: 2019-05-06 00:00:00\n",
      "earliest STOP: NaT, latest date: NaT\n",
      "\n",
      "There are ---> 748639 rows in the ---> ENCOUNTERS table.\n",
      "That's 89.55011961722488 per patient\n",
      "earliest START: 1908-09-02 19:33:21+00:00, latest date: 2019-05-11 13:12:12+00:00\n",
      "earliest STOP: 1908-09-02 19:48:21+00:00, latest date: 2019-05-11 13:27:12+00:00\n",
      "\n",
      "There are ---> 181900 rows in the ---> IMMUNIZATIONS table.\n",
      "That's 21.758373205741627 per patient\n",
      "earliest DATE: 1945-01-16 00:00:00, latest date: 2019-05-06 00:00:00\n",
      "\n",
      "There are ---> 8360 rows in the ---> PATIENTS table.\n",
      "That's 1.0 per patient\n",
      "earliest BIRTHDATE: 1908-09-02 00:00:00, latest date: 2019-05-01 00:00:00\n",
      "earliest DEATHDATE: NaT, latest date: NaT\n",
      "\n",
      "There are ---> 725 rows in the ---> CONCEPTS table.\n",
      "That's 0.0867224880382775 per patient\n",
      "\n",
      "There are ---> 3199998 rows in the ---> OBSERVATIONS table.\n",
      "That's 382.7748803827751 per patient\n",
      "\n",
      "TABLES JOINABLE TO PATIENT TABLE: ['medications', 'imaging_studies', 'allergies', 'procedures', 'conditions', 'careplans', 'encounters', 'immunizations', 'observations']\n",
      "DIM TABLES: ['providers', 'organizations', 'patients', 'concepts']\n"
     ]
    }
   ],
   "source": [
    "## OK. Super naive data exploration time.\n",
    "## How big are the tables\n",
    "## how far back does data go\n",
    "## how many (on super average) are there of *thing* per patient\n",
    "\n",
    "patient_linked=[]\n",
    "independent=[]\n",
    "for fname in fnames:\n",
    "    root= fname.split(\".\")[0]\n",
    "    df = pd.read_csv(fname)\n",
    "    print(\"There are ---> {} rows in the ---> {} table.\".format(len(df), root.upper()))\n",
    "    print(\"That's {} per patient\".format(len(df)/n_patients))\n",
    "    if len(df)<1000000:\n",
    "        for date_word in ['START','STOP','DATE','BIRTHDATE','DEATHDATE']:\n",
    "            if date_word in df.columns:\n",
    "                df[date_word]=df[date_word].apply(pd.to_datetime)\n",
    "\n",
    "                print(\"earliest {}: {}, latest date: {}\".format(date_word, min(df[date_word]), max(df[date_word])))\n",
    "\n",
    "    \n",
    "        \n",
    "    if 'PATIENT' in df.columns:\n",
    "        patient_linked.append(root)\n",
    "    else:\n",
    "        independent.append(root)\n",
    "    print()\n",
    "    \n",
    "print(\"TABLES JOINABLE TO PATIENT TABLE: {}\".format(patient_linked))\n",
    "print(\"DIM TABLES: {}\".format(independent))"
   ]
  },
  {
   "cell_type": "markdown",
   "metadata": {},
   "source": [
    "So I am super impressed with record keeping in Massandopolis, as it appears we have medical record information going back as far as 1908. \n",
    "\n",
    "I personally don't trust any information over 30, so we might have to ignore some of the old stuff later on.\n",
    "\n",
    "\n",
    "\n",
    "... I think it's time to get to know the people of Massandopolis."
   ]
  },
  {
   "cell_type": "code",
   "execution_count": 46,
   "metadata": {},
   "outputs": [
    {
     "data": {
      "text/html": [
       "<div>\n",
       "<style scoped>\n",
       "    .dataframe tbody tr th:only-of-type {\n",
       "        vertical-align: middle;\n",
       "    }\n",
       "\n",
       "    .dataframe tbody tr th {\n",
       "        vertical-align: top;\n",
       "    }\n",
       "\n",
       "    .dataframe thead th {\n",
       "        text-align: right;\n",
       "    }\n",
       "</style>\n",
       "<table border=\"1\" class=\"dataframe\">\n",
       "  <thead>\n",
       "    <tr style=\"text-align: right;\">\n",
       "      <th></th>\n",
       "      <th>Id</th>\n",
       "      <th>BIRTHDATE</th>\n",
       "      <th>DEATHDATE</th>\n",
       "      <th>SSN</th>\n",
       "      <th>DRIVERS</th>\n",
       "      <th>PASSPORT</th>\n",
       "      <th>PREFIX</th>\n",
       "      <th>FIRST</th>\n",
       "      <th>LAST</th>\n",
       "      <th>SUFFIX</th>\n",
       "      <th>MAIDEN</th>\n",
       "      <th>MARITAL</th>\n",
       "      <th>RACE</th>\n",
       "      <th>ETHNICITY</th>\n",
       "      <th>GENDER</th>\n",
       "      <th>BIRTHPLACE</th>\n",
       "      <th>ADDRESS</th>\n",
       "      <th>CITY</th>\n",
       "      <th>STATE</th>\n",
       "      <th>ZIP</th>\n",
       "    </tr>\n",
       "  </thead>\n",
       "  <tbody>\n",
       "    <tr>\n",
       "      <th>0</th>\n",
       "      <td>c0d528b6-cdae-4d98-8936-a270f8827eb7</td>\n",
       "      <td>2013-02-10</td>\n",
       "      <td>NaN</td>\n",
       "      <td>999-83-3170</td>\n",
       "      <td>NaN</td>\n",
       "      <td>NaN</td>\n",
       "      <td>NaN</td>\n",
       "      <td>Claudette391</td>\n",
       "      <td>Hahn503</td>\n",
       "      <td>NaN</td>\n",
       "      <td>NaN</td>\n",
       "      <td>NaN</td>\n",
       "      <td>white</td>\n",
       "      <td>french_canadian</td>\n",
       "      <td>F</td>\n",
       "      <td>Framingham  Massandopolis  US</td>\n",
       "      <td>239 Schaden Glen</td>\n",
       "      <td>Randolph</td>\n",
       "      <td>Massandopolis</td>\n",
       "      <td>2368.0</td>\n",
       "    </tr>\n",
       "    <tr>\n",
       "      <th>1</th>\n",
       "      <td>d709f84f-7d2c-440b-a979-2bc27d41f63a</td>\n",
       "      <td>1994-01-10</td>\n",
       "      <td>2019-01-07</td>\n",
       "      <td>999-31-7937</td>\n",
       "      <td>S99989196</td>\n",
       "      <td>X43239863X</td>\n",
       "      <td>Ms.</td>\n",
       "      <td>Christina143</td>\n",
       "      <td>Langworth352</td>\n",
       "      <td>NaN</td>\n",
       "      <td>NaN</td>\n",
       "      <td>NaN</td>\n",
       "      <td>black</td>\n",
       "      <td>dominican</td>\n",
       "      <td>F</td>\n",
       "      <td>Lynn  Massandopolis  US</td>\n",
       "      <td>535 Romaguera Annex Unit 82</td>\n",
       "      <td>Boston</td>\n",
       "      <td>Massandopolis</td>\n",
       "      <td>2108.0</td>\n",
       "    </tr>\n",
       "    <tr>\n",
       "      <th>2</th>\n",
       "      <td>92aa6efc-004f-4e01-b0be-9aafa40d9857</td>\n",
       "      <td>1989-08-27</td>\n",
       "      <td>NaN</td>\n",
       "      <td>999-59-2188</td>\n",
       "      <td>S99973592</td>\n",
       "      <td>X80581589X</td>\n",
       "      <td>Mrs.</td>\n",
       "      <td>Robbyn526</td>\n",
       "      <td>Eichmann909</td>\n",
       "      <td>NaN</td>\n",
       "      <td>Kohler843</td>\n",
       "      <td>M</td>\n",
       "      <td>hispanic</td>\n",
       "      <td>central_american</td>\n",
       "      <td>F</td>\n",
       "      <td>Salem  Massandopolis  US</td>\n",
       "      <td>986 Franecki Road Apt 37</td>\n",
       "      <td>Bellingham</td>\n",
       "      <td>Massandopolis</td>\n",
       "      <td>2019.0</td>\n",
       "    </tr>\n",
       "    <tr>\n",
       "      <th>3</th>\n",
       "      <td>f9b11b47-e8e8-4c3c-b279-36eba5086cfd</td>\n",
       "      <td>1988-10-09</td>\n",
       "      <td>NaN</td>\n",
       "      <td>999-48-9512</td>\n",
       "      <td>S99947146</td>\n",
       "      <td>X80365010X</td>\n",
       "      <td>Mr.</td>\n",
       "      <td>Earnest658</td>\n",
       "      <td>Bauch723</td>\n",
       "      <td>NaN</td>\n",
       "      <td>NaN</td>\n",
       "      <td>M</td>\n",
       "      <td>white</td>\n",
       "      <td>american</td>\n",
       "      <td>M</td>\n",
       "      <td>Concord  Massandopolis  US</td>\n",
       "      <td>451 Paucek Divide</td>\n",
       "      <td>Plymouth</td>\n",
       "      <td>Massandopolis</td>\n",
       "      <td>2360.0</td>\n",
       "    </tr>\n",
       "    <tr>\n",
       "      <th>4</th>\n",
       "      <td>c9d19013-4435-4b71-823a-c5023ba56195</td>\n",
       "      <td>1997-12-21</td>\n",
       "      <td>NaN</td>\n",
       "      <td>999-44-8705</td>\n",
       "      <td>S99938855</td>\n",
       "      <td>X28806996X</td>\n",
       "      <td>Mr.</td>\n",
       "      <td>Sung603</td>\n",
       "      <td>Schroeder447</td>\n",
       "      <td>NaN</td>\n",
       "      <td>NaN</td>\n",
       "      <td>NaN</td>\n",
       "      <td>white</td>\n",
       "      <td>polish</td>\n",
       "      <td>M</td>\n",
       "      <td>Reading  Massandopolis  US</td>\n",
       "      <td>123 Klocko Gateway</td>\n",
       "      <td>Natick</td>\n",
       "      <td>Massandopolis</td>\n",
       "      <td>1760.0</td>\n",
       "    </tr>\n",
       "  </tbody>\n",
       "</table>\n",
       "</div>"
      ],
      "text/plain": [
       "                                     Id   BIRTHDATE   DEATHDATE          SSN  \\\n",
       "0  c0d528b6-cdae-4d98-8936-a270f8827eb7  2013-02-10         NaN  999-83-3170   \n",
       "1  d709f84f-7d2c-440b-a979-2bc27d41f63a  1994-01-10  2019-01-07  999-31-7937   \n",
       "2  92aa6efc-004f-4e01-b0be-9aafa40d9857  1989-08-27         NaN  999-59-2188   \n",
       "3  f9b11b47-e8e8-4c3c-b279-36eba5086cfd  1988-10-09         NaN  999-48-9512   \n",
       "4  c9d19013-4435-4b71-823a-c5023ba56195  1997-12-21         NaN  999-44-8705   \n",
       "\n",
       "     DRIVERS    PASSPORT PREFIX         FIRST          LAST SUFFIX     MAIDEN  \\\n",
       "0        NaN         NaN    NaN  Claudette391       Hahn503    NaN        NaN   \n",
       "1  S99989196  X43239863X    Ms.  Christina143  Langworth352    NaN        NaN   \n",
       "2  S99973592  X80581589X   Mrs.     Robbyn526   Eichmann909    NaN  Kohler843   \n",
       "3  S99947146  X80365010X    Mr.    Earnest658      Bauch723    NaN        NaN   \n",
       "4  S99938855  X28806996X    Mr.       Sung603  Schroeder447    NaN        NaN   \n",
       "\n",
       "  MARITAL      RACE         ETHNICITY GENDER                     BIRTHPLACE  \\\n",
       "0     NaN     white   french_canadian      F  Framingham  Massandopolis  US   \n",
       "1     NaN     black         dominican      F        Lynn  Massandopolis  US   \n",
       "2       M  hispanic  central_american      F       Salem  Massandopolis  US   \n",
       "3       M     white          american      M     Concord  Massandopolis  US   \n",
       "4     NaN     white            polish      M     Reading  Massandopolis  US   \n",
       "\n",
       "                       ADDRESS        CITY          STATE     ZIP  \n",
       "0             239 Schaden Glen    Randolph  Massandopolis  2368.0  \n",
       "1  535 Romaguera Annex Unit 82      Boston  Massandopolis  2108.0  \n",
       "2     986 Franecki Road Apt 37  Bellingham  Massandopolis  2019.0  \n",
       "3            451 Paucek Divide    Plymouth  Massandopolis  2360.0  \n",
       "4           123 Klocko Gateway      Natick  Massandopolis  1760.0  "
      ]
     },
     "execution_count": 46,
     "metadata": {},
     "output_type": "execute_result"
    }
   ],
   "source": [
    "pats.head()"
   ]
  },
  {
   "cell_type": "code",
   "execution_count": 141,
   "metadata": {},
   "outputs": [],
   "source": [
    "pats['BIRTHDATE']=pats['BIRTHDATE'].apply(pd.to_datetime)\n",
    "pats['BIRTHYEAR']=pats['BIRTHDATE'].dt.year\n",
    "pats['BIRTHDAY']=pats['BIRTHDATE'].dt.day\n",
    "pats['BIRTHMONTH']=pats['BIRTHDATE'].dt.month\n"
   ]
  },
  {
   "cell_type": "code",
   "execution_count": 162,
   "metadata": {},
   "outputs": [
    {
     "name": "stderr",
     "output_type": "stream",
     "text": [
      "/usr/local/lib/python3.7/site-packages/ipykernel_launcher.py:5: SettingWithCopyWarning: \n",
      "A value is trying to be set on a copy of a slice from a DataFrame.\n",
      "Try using .loc[row_indexer,col_indexer] = value instead\n",
      "\n",
      "See the caveats in the documentation: http://pandas.pydata.org/pandas-docs/stable/indexing.html#indexing-view-versus-copy\n",
      "  \"\"\"\n"
     ]
    }
   ],
   "source": [
    "alive = pats[pats['DEATHDATE'].isnull()]\n",
    "alive.name = 'alive'\n",
    "dead = pats[pats['DEATHDATE'].notnull()]\n",
    "dead.name = 'dead'\n",
    "dead['DEATHYEAR']=dead['DEATHDATE'].apply(pd.to_datetime).dt.year\n"
   ]
  },
  {
   "cell_type": "code",
   "execution_count": 178,
   "metadata": {},
   "outputs": [
    {
     "name": "stderr",
     "output_type": "stream",
     "text": [
      "/usr/local/lib/python3.7/site-packages/ipykernel_launcher.py:1: UserWarning: Boolean Series key will be reindexed to match DataFrame index.\n",
      "  \"\"\"Entry point for launching an IPython kernel.\n"
     ]
    },
    {
     "data": {
      "text/plain": [
       "1998    38\n",
       "1996    33\n",
       "2007    32\n",
       "1999    32\n",
       "2002    31\n",
       "2006    31\n",
       "1997    30\n",
       "1994    30\n",
       "2005    28\n",
       "2003    27\n",
       "2004    27\n",
       "2011    27\n",
       "1991    25\n",
       "2009    25\n",
       "1992    24\n",
       "1995    24\n",
       "2010    23\n",
       "2013    23\n",
       "2014    23\n",
       "1990    22\n",
       "1987    22\n",
       "2008    22\n",
       "2018    21\n",
       "1981    20\n",
       "2015    19\n",
       "1989    19\n",
       "2000    18\n",
       "1988    18\n",
       "1993    17\n",
       "2001    17\n",
       "        ..\n",
       "1956     3\n",
       "1957     3\n",
       "1929     3\n",
       "1932     2\n",
       "1936     2\n",
       "1937     2\n",
       "1927     2\n",
       "1923     2\n",
       "1938     2\n",
       "1940     2\n",
       "1933     2\n",
       "2019     2\n",
       "1942     2\n",
       "1958     2\n",
       "1970     2\n",
       "1964     2\n",
       "1945     2\n",
       "1959     2\n",
       "1915     2\n",
       "1954     2\n",
       "1950     2\n",
       "1949     2\n",
       "1953     1\n",
       "1951     1\n",
       "1925     1\n",
       "1965     1\n",
       "1920     1\n",
       "1919     1\n",
       "1916     1\n",
       "1961     1\n",
       "Name: DEATHYEAR, Length: 97, dtype: int64"
      ]
     },
     "execution_count": 178,
     "metadata": {},
     "output_type": "execute_result"
    }
   ],
   "source": [
    "dead[dead['BIRTHYEAR']<1933][dead['GENDER']=='M']['DEATHYEAR'].value_counts()"
   ]
  },
  {
   "cell_type": "code",
   "execution_count": 175,
   "metadata": {},
   "outputs": [
    {
     "data": {
      "text/plain": [
       "1929    304\n",
       "1931    240\n",
       "1930    200\n",
       "1932    168\n",
       "1913     99\n",
       "1933     88\n",
       "1935     79\n",
       "1914     77\n",
       "1941     74\n",
       "1916     66\n",
       "1924     66\n",
       "1915     66\n",
       "1923     55\n",
       "1922     55\n",
       "1937     52\n",
       "1936     50\n",
       "1938     47\n",
       "1944     46\n",
       "1939     45\n",
       "1946     45\n",
       "1919     44\n",
       "1925     44\n",
       "1921     44\n",
       "1912     44\n",
       "1910     44\n",
       "1947     42\n",
       "1953     41\n",
       "1945     40\n",
       "1940     39\n",
       "1928     37\n",
       "       ... \n",
       "1975      9\n",
       "1989      9\n",
       "1979      9\n",
       "1977      9\n",
       "1995      8\n",
       "1991      8\n",
       "1984      7\n",
       "1993      7\n",
       "1990      7\n",
       "1992      6\n",
       "2001      6\n",
       "1985      6\n",
       "2004      5\n",
       "1988      4\n",
       "1994      4\n",
       "1982      4\n",
       "2002      3\n",
       "1997      3\n",
       "1999      3\n",
       "2013      3\n",
       "2007      3\n",
       "1996      2\n",
       "2003      2\n",
       "2000      2\n",
       "2015      1\n",
       "1998      1\n",
       "2008      1\n",
       "2010      1\n",
       "2005      1\n",
       "2012      1\n",
       "Name: BIRTHYEAR, Length: 104, dtype: int64"
      ]
     },
     "execution_count": 175,
     "metadata": {},
     "output_type": "execute_result"
    }
   ],
   "source": [
    "dead['BIRTHYEAR'].value_counts()"
   ]
  },
  {
   "cell_type": "code",
   "execution_count": 148,
   "metadata": {},
   "outputs": [
    {
     "data": {
      "image/png": "[encoded data removed]",
      "text/plain": [
       "<Figure size 360x360 with 1 Axes>"
      ]
     },
     "metadata": {
      "needs_background": "light"
     },
     "output_type": "display_data"
    },
    {
     "data": {
      "image/png": "[encoded data removed]",
      "text/plain": [
       "<Figure size 360x360 with 1 Axes>"
      ]
     },
     "metadata": {
      "needs_background": "light"
     },
     "output_type": "display_data"
    },
    {
     "data": {
      "image/png": "[encoded data removed]",
      "text/plain": [
       "<Figure size 360x360 with 1 Axes>"
      ]
     },
     "metadata": {
      "needs_background": "light"
     },
     "output_type": "display_data"
    },
    {
     "data": {
      "image/png": "[encoded data removed]",
      "text/plain": [
       "<Figure size 360x360 with 1 Axes>"
      ]
     },
     "metadata": {
      "needs_background": "light"
     },
     "output_type": "display_data"
    },
    {
     "data": {
      "image/png": "[encoded data removed]",
      "text/plain": [
       "<Figure size 360x360 with 1 Axes>"
      ]
     },
     "metadata": {
      "needs_background": "light"
     },
     "output_type": "display_data"
    },
    {
     "data": {
      "image/png": "[encoded data removed]",
      "text/plain": [
       "<Figure size 360x360 with 1 Axes>"
      ]
     },
     "metadata": {
      "needs_background": "light"
     },
     "output_type": "display_data"
    }
   ],
   "source": [
    "for sub_tup in [('BIRTHYEAR',22),('BIRTHMONTH',12),('BIRTHDAY',31)]:\n",
    "    for status in [alive, dead]:\n",
    "        bins = 12\n",
    "        f=plt.figure(figsize=(5,5))\n",
    "        plt.hist(status[status['GENDER']=='F'][sub_tup[0]], bins = sub_tup[1], color = 'r', alpha = 0.4, label='F')\n",
    "        plt.hist(status[status['GENDER']=='M'][sub_tup[0]], bins = sub_tup[1], color = 'b', alpha = 0.4, label='M')\n",
    "        plt.legend()\n",
    "        plt.title(status.name + \" \"+ sub_tup[0])"
   ]
  },
  {
   "cell_type": "code",
   "execution_count": 150,
   "metadata": {},
   "outputs": [
    {
     "data": {
      "image/png": "[encoded data removed]",
      "text/plain": [
       "<Figure size 360x360 with 1 Axes>"
      ]
     },
     "metadata": {
      "needs_background": "light"
     },
     "output_type": "display_data"
    },
    {
     "data": {
      "image/png": "[encoded data removed]",
      "text/plain": [
       "<Figure size 360x360 with 1 Axes>"
      ]
     },
     "metadata": {
      "needs_background": "light"
     },
     "output_type": "display_data"
    },
    {
     "data": {
      "image/png": "[encoded data removed]",
      "text/plain": [
       "<Figure size 360x360 with 1 Axes>"
      ]
     },
     "metadata": {
      "needs_background": "light"
     },
     "output_type": "display_data"
    },
    {
     "data": {
      "image/png": "[encoded data removed]",
      "text/plain": [
       "<Figure size 360x360 with 1 Axes>"
      ]
     },
     "metadata": {
      "needs_background": "light"
     },
     "output_type": "display_data"
    },
    {
     "data": {
      "image/png": "[encoded data removed]",
      "text/plain": [
       "<Figure size 360x360 with 1 Axes>"
      ]
     },
     "metadata": {
      "needs_background": "light"
     },
     "output_type": "display_data"
    },
    {
     "data": {
      "image/png": "[encoded data removed]",
      "text/plain": [
       "<Figure size 360x360 with 1 Axes>"
      ]
     },
     "metadata": {
      "needs_background": "light"
     },
     "output_type": "display_data"
    }
   ],
   "source": [
    "## OK so that's weird. Does it go away if I look at density instead of abs numbers?\n",
    "for sub_tup in [('BIRTHYEAR',22),('BIRTHMONTH',12),('BIRTHDAY',31)]:\n",
    "    for status in [alive, dead]:\n",
    "        f=plt.figure(figsize=(5,5))\n",
    "        plt.hist(status[status['GENDER']=='F'][sub_tup[0]], bins = sub_tup[1], color = 'r', alpha = 0.4, label='F', density=True)\n",
    "        plt.hist(status[status['GENDER']=='M'][sub_tup[0]], bins = sub_tup[1], color = 'b', alpha = 0.4, label='M', density= True)\n",
    "        xmin=plt.gca().get_xlim()[0]\n",
    "        if sub_tup[0]!='BIRTHYEAR':\n",
    "            plt.hlines(y=1/(sub_tup[1]), xmin=xmin, xmax = max(pats[sub_tup[0]].values))\n",
    "\n",
    "        plt.legend()\n",
    "        plt.title(status.name + \" \" + sub_tup[0])"
   ]
  },
  {
   "cell_type": "code",
   "execution_count": 182,
   "metadata": {},
   "outputs": [
    {
     "data": {
      "text/plain": [
       "white       0.7562\n",
       "hispanic    0.1076\n",
       "black       0.0716\n",
       "asian       0.0604\n",
       "native      0.0034\n",
       "other       0.0008\n",
       "Name: RACE, dtype: float64"
      ]
     },
     "execution_count": 182,
     "metadata": {},
     "output_type": "execute_result"
    }
   ],
   "source": [
    "alive['RACE'].value_counts()/len(alive)"
   ]
  },
  {
   "cell_type": "code",
   "execution_count": 183,
   "metadata": {},
   "outputs": [
    {
     "data": {
      "text/plain": [
       "white       0.717857\n",
       "hispanic    0.150893\n",
       "black       0.067560\n",
       "asian       0.061905\n",
       "native      0.001488\n",
       "other       0.000298\n",
       "Name: RACE, dtype: float64"
      ]
     },
     "execution_count": 183,
     "metadata": {},
     "output_type": "execute_result"
    }
   ],
   "source": [
    "dead['RACE'].value_counts()/len(dead)"
   ]
  },
  {
   "cell_type": "code",
   "execution_count": null,
   "metadata": {},
   "outputs": [],
   "source": [
    "# HISPANIC FOLK DIE MORE? THE DIFF BTW 10-15% SEEMS VALID TO ME AT A GLANCE.\n",
    "# IF I HAD MORE TIME I'D CHECK ON THEM MORE CLOSELY."
   ]
  },
  {
   "cell_type": "code",
   "execution_count": 184,
   "metadata": {},
   "outputs": [
    {
     "data": {
      "text/plain": [
       "F    2545\n",
       "M    2455\n",
       "Name: GENDER, dtype: int64"
      ]
     },
     "execution_count": 184,
     "metadata": {},
     "output_type": "execute_result"
    }
   ],
   "source": [
    "alive['GENDER'].value_counts()"
   ]
  },
  {
   "cell_type": "code",
   "execution_count": 187,
   "metadata": {},
   "outputs": [
    {
     "data": {
      "text/plain": [
       "M    2679\n",
       "S     653\n",
       "Name: MARITAL, dtype: int64"
      ]
     },
     "execution_count": 187,
     "metadata": {},
     "output_type": "execute_result"
    }
   ],
   "source": [
    "alive['MARITAL'].value_counts()"
   ]
  },
  {
   "cell_type": "code",
   "execution_count": null,
   "metadata": {},
   "outputs": [],
   "source": []
  },
  {
   "cell_type": "code",
   "execution_count": null,
   "metadata": {},
   "outputs": [],
   "source": []
  },
  {
   "cell_type": "markdown",
   "metadata": {},
   "source": [
    "### THOUGHTS ON PATIENTS\n",
    "\n",
    "So, there appear to be a lot (A LOT) of men born in the late 30s here. A lot of people born in the late 30s, but way more men. THAT'S WEIRD.\n",
    "I mean. They would have been too young for WW2 and Korea, too old for Vietnam, so here they are - demographic lottery winners?\n",
    "\n",
    "All the same. There are MORE men than there are women from the 30s. And women of that age (so far as I know) still outsurvive men.\n",
    "So are women dying extra here?\n",
    "\n",
    "Wait. I have no idea if there are death records here!\n",
    "\n",
    "Where would those even be?\n",
    "\n",
    "...\n",
    "\n",
    "\n",
    "Also why would there be more women than men born in the fall, and in the second week of the month in general?\n",
    "The month and day stuff looks like if I checked closer it'd be maybe within range of normal variation, so I'm going to drop it for now. But those birth years though. What??\n",
    "\n"
   ]
  },
  {
   "cell_type": "code",
   "execution_count": null,
   "metadata": {},
   "outputs": [],
   "source": []
  },
  {
   "cell_type": "code",
   "execution_count": null,
   "metadata": {},
   "outputs": [],
   "source": []
  },
  {
   "cell_type": "code",
   "execution_count": 32,
   "metadata": {},
   "outputs": [],
   "source": [
    "meds = pd.read_csv(\"medications.csv\")"
   ]
  },
  {
   "cell_type": "code",
   "execution_count": 33,
   "metadata": {},
   "outputs": [
    {
     "data": {
      "text/html": [
       "<div>\n",
       "<style scoped>\n",
       "    .dataframe tbody tr th:only-of-type {\n",
       "        vertical-align: middle;\n",
       "    }\n",
       "\n",
       "    .dataframe tbody tr th {\n",
       "        vertical-align: top;\n",
       "    }\n",
       "\n",
       "    .dataframe thead th {\n",
       "        text-align: right;\n",
       "    }\n",
       "</style>\n",
       "<table border=\"1\" class=\"dataframe\">\n",
       "  <thead>\n",
       "    <tr style=\"text-align: right;\">\n",
       "      <th></th>\n",
       "      <th>START</th>\n",
       "      <th>STOP</th>\n",
       "      <th>PATIENT</th>\n",
       "      <th>ENCOUNTER</th>\n",
       "      <th>CODE</th>\n",
       "      <th>DESCRIPTION</th>\n",
       "      <th>COST</th>\n",
       "      <th>DISPENSES</th>\n",
       "      <th>TOTALCOST</th>\n",
       "      <th>REASONCODE</th>\n",
       "      <th>REASONDESCRIPTION</th>\n",
       "    </tr>\n",
       "  </thead>\n",
       "  <tbody>\n",
       "    <tr>\n",
       "      <th>0</th>\n",
       "      <td>2013-12-07</td>\n",
       "      <td>2013-12-07</td>\n",
       "      <td>c0d528b6-cdae-4d98-8936-a270f8827eb7</td>\n",
       "      <td>06429fa8-52a8-4e07-bd6a-b102b136cfa6</td>\n",
       "      <td>312617</td>\n",
       "      <td>predniSONE 5 MG Oral Tablet</td>\n",
       "      <td>10.84</td>\n",
       "      <td>1</td>\n",
       "      <td>10.84</td>\n",
       "      <td>NaN</td>\n",
       "      <td>NaN</td>\n",
       "    </tr>\n",
       "    <tr>\n",
       "      <th>1</th>\n",
       "      <td>2013-12-20</td>\n",
       "      <td>NaN</td>\n",
       "      <td>c0d528b6-cdae-4d98-8936-a270f8827eb7</td>\n",
       "      <td>4fa6e02b-272c-4469-8ef6-814ac1fab7ce</td>\n",
       "      <td>997488</td>\n",
       "      <td>Fexofenadine hydrochloride 30 MG Oral Tablet</td>\n",
       "      <td>25.72</td>\n",
       "      <td>65</td>\n",
       "      <td>1671.80</td>\n",
       "      <td>NaN</td>\n",
       "      <td>NaN</td>\n",
       "    </tr>\n",
       "    <tr>\n",
       "      <th>2</th>\n",
       "      <td>2013-12-20</td>\n",
       "      <td>NaN</td>\n",
       "      <td>c0d528b6-cdae-4d98-8936-a270f8827eb7</td>\n",
       "      <td>4fa6e02b-272c-4469-8ef6-814ac1fab7ce</td>\n",
       "      <td>1870230</td>\n",
       "      <td>NDA020800 0.3 ML Epinephrine 1 MG/ML Auto-Inje...</td>\n",
       "      <td>470.29</td>\n",
       "      <td>65</td>\n",
       "      <td>30568.85</td>\n",
       "      <td>NaN</td>\n",
       "      <td>NaN</td>\n",
       "    </tr>\n",
       "    <tr>\n",
       "      <th>3</th>\n",
       "      <td>2014-12-03</td>\n",
       "      <td>2014-12-17</td>\n",
       "      <td>c0d528b6-cdae-4d98-8936-a270f8827eb7</td>\n",
       "      <td>2a24757d-039d-41d3-9570-4fe170c8a282</td>\n",
       "      <td>313782</td>\n",
       "      <td>Acetaminophen 325 MG Oral Tablet</td>\n",
       "      <td>5.40</td>\n",
       "      <td>1</td>\n",
       "      <td>5.40</td>\n",
       "      <td>10509002.0</td>\n",
       "      <td>Acute bronchitis (disorder)</td>\n",
       "    </tr>\n",
       "    <tr>\n",
       "      <th>4</th>\n",
       "      <td>2015-02-17</td>\n",
       "      <td>NaN</td>\n",
       "      <td>c0d528b6-cdae-4d98-8936-a270f8827eb7</td>\n",
       "      <td>6a95d43e-d1e5-4ab3-9a92-82f287b64f5d</td>\n",
       "      <td>895994</td>\n",
       "      <td>120 ACTUAT Fluticasone propionate 0.044 MG/ACT...</td>\n",
       "      <td>36.63</td>\n",
       "      <td>51</td>\n",
       "      <td>1868.13</td>\n",
       "      <td>233678006.0</td>\n",
       "      <td>Childhood asthma</td>\n",
       "    </tr>\n",
       "  </tbody>\n",
       "</table>\n",
       "</div>"
      ],
      "text/plain": [
       "        START        STOP                               PATIENT  \\\n",
       "0  2013-12-07  2013-12-07  c0d528b6-cdae-4d98-8936-a270f8827eb7   \n",
       "1  2013-12-20         NaN  c0d528b6-cdae-4d98-8936-a270f8827eb7   \n",
       "2  2013-12-20         NaN  c0d528b6-cdae-4d98-8936-a270f8827eb7   \n",
       "3  2014-12-03  2014-12-17  c0d528b6-cdae-4d98-8936-a270f8827eb7   \n",
       "4  2015-02-17         NaN  c0d528b6-cdae-4d98-8936-a270f8827eb7   \n",
       "\n",
       "                              ENCOUNTER     CODE  \\\n",
       "0  06429fa8-52a8-4e07-bd6a-b102b136cfa6   312617   \n",
       "1  4fa6e02b-272c-4469-8ef6-814ac1fab7ce   997488   \n",
       "2  4fa6e02b-272c-4469-8ef6-814ac1fab7ce  1870230   \n",
       "3  2a24757d-039d-41d3-9570-4fe170c8a282   313782   \n",
       "4  6a95d43e-d1e5-4ab3-9a92-82f287b64f5d   895994   \n",
       "\n",
       "                                         DESCRIPTION    COST  DISPENSES  \\\n",
       "0                        predniSONE 5 MG Oral Tablet   10.84          1   \n",
       "1       Fexofenadine hydrochloride 30 MG Oral Tablet   25.72         65   \n",
       "2  NDA020800 0.3 ML Epinephrine 1 MG/ML Auto-Inje...  470.29         65   \n",
       "3                   Acetaminophen 325 MG Oral Tablet    5.40          1   \n",
       "4  120 ACTUAT Fluticasone propionate 0.044 MG/ACT...   36.63         51   \n",
       "\n",
       "   TOTALCOST   REASONCODE            REASONDESCRIPTION  \n",
       "0      10.84          NaN                          NaN  \n",
       "1    1671.80          NaN                          NaN  \n",
       "2   30568.85          NaN                          NaN  \n",
       "3       5.40   10509002.0  Acute bronchitis (disorder)  \n",
       "4    1868.13  233678006.0             Childhood asthma  "
      ]
     },
     "execution_count": 33,
     "metadata": {},
     "output_type": "execute_result"
    }
   ],
   "source": [
    "meds.head()"
   ]
  },
  {
   "cell_type": "code",
   "execution_count": 34,
   "metadata": {},
   "outputs": [
    {
     "data": {
      "text/plain": [
       "'2013-12-07'"
      ]
     },
     "execution_count": 34,
     "metadata": {},
     "output_type": "execute_result"
    }
   ],
   "source": [
    "meds['STOP'].values[0]"
   ]
  },
  {
   "cell_type": "code",
   "execution_count": null,
   "metadata": {},
   "outputs": [],
   "source": []
  }
 ],
 "metadata": {
  "kernelspec": {
   "display_name": "Python 3",
   "language": "python",
   "name": "python3"
  },
  "language_info": {
   "codemirror_mode": {
    "name": "ipython",
    "version": 3
   },
   "file_extension": ".py",
   "mimetype": "text/x-python",
   "name": "python",
   "nbconvert_exporter": "python",
   "pygments_lexer": "ipython3",
   "version": "3.7.4"
  }
 },
 "nbformat": 4,
 "nbformat_minor": 2
}
