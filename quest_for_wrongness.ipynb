{
 "cells": [
  {
   "cell_type": "markdown",
   "metadata": {},
   "source": [
    "### Something is wrong!\n",
    "### Something is wrong?\n",
    "### Something is wrong!"
   ]
  },
  {
   "cell_type": "markdown",
   "metadata": {},
   "source": [
    "# Massandopolis - the quest for 'wrong'\n",
    "\n",
    "My attempts to find what - if anything - is wrong with healthcare in Massandopolis, I focussed most of my energies on understanding the people of Massandopolis.\n",
    "\n",
    "## Basic data quality assessment: \n",
    "\n",
    "Fairly complete. A few nulls here and there. One person who dies in the future. One annoying table join (see section on drugs below).\n",
    "\n",
    "## Data analysis:\n",
    "\n",
    "Since the question was phrased as \"IS\" wrong, I tried to focus on the last 20-30 years of data, even more recent in places. \n",
    "\n",
    "\n",
    "### Life and Death Stats\n",
    "\n",
    "First, I checked out basic demographics. Ages, ages at death, base mortality rates, etc. It's clear mortality has been rising steadily, and the population is shrinking - there's no wonder the Massandopolans are worried.\n",
    "\n",
    "At first I thought the increase in mortality rates could be just a function of an aging population, and certainly there's a bit of that there. \n",
    "\n",
    "There has been a big die-off of folks (especially men) born between 1929-1935, even since 2010, though the cause of death data isn't that suspicious. They do seem to have a fair big of lung troubles. A lot of natural causes, pneumonia and such. And they're the right ages to have worked in the famed Massandopolis coal mines) and likely smoke.\n",
    "\n",
    "There's a hint of too-much-dying in the hispanic population, but I'd need more time/data to be sure.\n",
    "\n",
    "My biggest worry about the deaths in Massandopolis are their causes. Drug overdose - even among the seniors - is a huge problem. 5% of senior deaths due to overdose? 50% of young-adult deaths? That's huge. \n",
    "\n",
    "### Drug problems\n",
    "\n",
    "According to my ('codone') checks, 60% of all living Massandopoleans in the system have had a drug overdose. 45% have at least prescription for a drug with \"codone\" in the name - my lazy way of finding opioids (since the concept table had no obvious join). \n",
    "\n",
    "2268 living folk have had opioid prescriptions. Since 1990, Docs have written 8111 scripts for 'codone's. The medication - encounter - join I tried led to the \"PROVIDER\" column being the organization - not the actual prescribing doctor. So I couldn't nail down any individual over-prescribers. That information (prescribing doc) would have been very handy.\n",
    "\n",
    "The hospitals where prescriptions are coming from I can't say are suspicious or not. However, the overabundance of encounters and condition-entries for \"chronic pain\" and \"migraines\" makes me wonder if we don't have some people blatantly drug-seeking and successfully.\n",
    "\n",
    "Other common encounter reason-types - pregnancy, hyperlipidemia, CHF, viral sinusitis (cold), seem normal enough. \n",
    "\n",
    "I didn't see any obvious problems with drug costing, but would like to look more closely.\n",
    "\n",
    "### Out of control diabetes\n",
    "\n",
    "I had trouble finding diabetes encounters, and only 100 patients had medication entries for insulin. That would mean up to half the diabetics aren't getting insulin? Given the BMI distribution (30% obese or more) I would have expected more diabetes and more insulin. These patients may be being underserved, or refusing treatment. Either way, it doesn't look good.\n",
    "\n",
    "## Out of time\n",
    "\n",
    "I ran out of time for digging far into procedures, immunizations, imaging (lots of thoracic stuff - coal mines?) and care plans. I also didn't use the 'concepts' table to join anywhere because the other tables had \"CODE\" columns but not a code type - leaving it open to collisions. If it were me, I'd want code type specified in any table that uses \"CODE\".\n",
    "\n",
    "\n",
    "\n",
    "## Stream of consciousness evidence gathering follows\n",
    "\n",
    "\n",
    "\n",
    "\n",
    "\n",
    "\n",
    "\n"
   ]
  },
  {
   "cell_type": "markdown",
   "metadata": {},
   "source": [
    "### Ok. Before I can figure out what is wrong I need to get an idea for what IS.\n",
    "Let's take a look at the data files. \n",
    "No, wait. Let's think about it for a minute, first.\n",
    "\n",
    "Things that could be wrong:\n",
    "    a) The data is wrong\n",
    "        approach: Do sanity checks on the individual tables wrt data completeness and 'correctness'.\n",
    "    b) The data shows me something is wrong with the people.\n",
    "        approach: Do sanity checks on the patient-centric tables wrt my biased expectations of usage and illness rates\n",
    "    c) The data shows me something is being done wrong For the people\n",
    "        approach: Look at costs, rxes, procedures, encounter rates, and - if they're there - deaths\n",
    "    d) All of the above\n",
    "        approach: Whatever random stuff I do as digressions\n",
    "    \n"
   ]
  },
  {
   "cell_type": "code",
   "execution_count": 124,
   "metadata": {},
   "outputs": [],
   "source": [
    "## First things first:  some imports\n",
    "import pandas as pd\n",
    "import json\n",
    "import numpy as np\n",
    "from matplotlib import pyplot as plt\n",
    "import seaborn\n",
    "import sklearn\n",
    "import glob"
   ]
  },
  {
   "cell_type": "code",
   "execution_count": 9,
   "metadata": {},
   "outputs": [
    {
     "data": {
      "text/plain": [
       "['medications.csv',\n",
       " 'providers.csv',\n",
       " 'imaging_studies.csv',\n",
       " 'allergies.csv',\n",
       " 'procedures.csv',\n",
       " 'organizations.csv',\n",
       " 'conditions.csv',\n",
       " 'careplans.csv',\n",
       " 'encounters.csv',\n",
       " 'immunizations.csv',\n",
       " 'patients.csv',\n",
       " 'concepts.csv',\n",
       " 'observations.csv']"
      ]
     },
     "execution_count": 9,
     "metadata": {},
     "output_type": "execute_result"
    }
   ],
   "source": [
    "# A quick tour of ALL the tables\n",
    "fnames = glob.glob(\"*.csv\")\n",
    "fnames"
   ]
  },
  {
   "cell_type": "code",
   "execution_count": 29,
   "metadata": {},
   "outputs": [
    {
     "name": "stdout",
     "output_type": "stream",
     "text": [
      "8360\n",
      "8360\n"
     ]
    }
   ],
   "source": [
    "# We all know this is the central table\n",
    "pats = pd.read_csv(\"patients.csv\")\n",
    "n_patients = len(set(pats['Id'].values))\n",
    "print(n_patients)\n",
    "\n",
    "# Hm. Are there dupes?\n",
    "print(len(pats)) \n",
    "# No! Good job, recordkeepers.\n",
    "\n"
   ]
  },
  {
   "cell_type": "code",
   "execution_count": 134,
   "metadata": {},
   "outputs": [
    {
     "data": {
      "text/plain": [
       "3360"
      ]
     },
     "execution_count": 134,
     "metadata": {},
     "output_type": "execute_result"
    }
   ],
   "source": [
    "## What about dead folks?\n",
    "deaths = pats['DEATHDATE'].count()\n",
    "deaths"
   ]
  },
  {
   "cell_type": "code",
   "execution_count": null,
   "metadata": {},
   "outputs": [],
   "source": [
    "## SO we have a round 5000 folks. CONVENIENT."
   ]
  },
  {
   "cell_type": "code",
   "execution_count": 243,
   "metadata": {},
   "outputs": [
    {
     "name": "stdout",
     "output_type": "stream",
     "text": [
      "There are ---> 124759 rows in the ---> MEDICATIONS table.\n",
      "That's 14.923325358851674 per patient\n",
      "earliest START: 1909-11-26 00:00:00, latest date: 2019-05-06 00:00:00\n",
      "earliest STOP: 1909-12-10 00:00:00, latest date: 2019-05-06 00:00:00\n",
      "How about nulls? -->\n",
      "STOP has 16524 null values\n",
      "REASONCODE has 44940 null values\n",
      "REASONDESCRIPTION has 44940 null values\n",
      "\n",
      "There are ---> 125 rows in the ---> PROVIDERS table.\n",
      "That's 0.014952153110047847 per patient\n",
      "How about nulls? -->\n",
      "\n",
      "There are ---> 8278 rows in the ---> IMAGING_STUDIES table.\n",
      "That's 0.9901913875598086 per patient\n",
      "earliest DATE: 1912-08-28 00:00:00, latest date: 2019-05-01 00:00:00\n",
      "How about nulls? -->\n",
      "\n",
      "There are ---> 3262 rows in the ---> ALLERGIES table.\n",
      "That's 0.3901913875598086 per patient\n",
      "earliest START: 1909-08-21 00:00:00, latest date: 2019-04-14 00:00:00\n",
      "earliest STOP: NaT, latest date: NaT\n",
      "How about nulls? -->\n",
      "STOP has 2705 null values\n",
      "\n",
      "There are ---> 419399 rows in the ---> PROCEDURES table.\n",
      "That's 50.16734449760766 per patient\n",
      "earliest DATE: 1909-01-11 00:00:00, latest date: 2019-05-06 00:00:00\n",
      "How about nulls? -->\n",
      "REASONCODE has 181376 null values\n",
      "REASONDESCRIPTION has 181376 null values\n",
      "\n",
      "There are ---> 125 rows in the ---> ORGANIZATIONS table.\n",
      "That's 0.014952153110047847 per patient\n",
      "How about nulls? -->\n",
      "\n",
      "There are ---> 109720 rows in the ---> CONDITIONS table.\n",
      "That's 13.124401913875598 per patient\n",
      "earliest START: 1909-11-26 00:00:00, latest date: 2019-05-06 00:00:00\n",
      "earliest STOP: 1910-02-09 00:00:00, latest date: 2019-05-06 00:00:00\n",
      "How about nulls? -->\n",
      "STOP has 48016 null values\n",
      "\n",
      "There are ---> 40048 rows in the ---> CAREPLANS table.\n",
      "That's 4.79043062200957 per patient\n",
      "earliest START: 1909-08-09 00:00:00, latest date: 2019-05-06 00:00:00\n",
      "earliest STOP: NaT, latest date: NaT\n",
      "How about nulls? -->\n",
      "STOP has 14780 null values\n",
      "REASONCODE has 2577 null values\n",
      "REASONDESCRIPTION has 2577 null values\n",
      "\n",
      "There are ---> 748639 rows in the ---> ENCOUNTERS table.\n",
      "That's 89.55011961722488 per patient\n",
      "earliest START: 1908-09-02 19:33:21+00:00, latest date: 2019-05-11 13:12:12+00:00\n",
      "earliest STOP: 1908-09-02 19:48:21+00:00, latest date: 2019-05-11 13:27:12+00:00\n",
      "How about nulls? -->\n",
      "PROVIDER has 2929 null values\n",
      "REASONCODE has 572460 null values\n",
      "REASONDESCRIPTION has 572460 null values\n",
      "\n",
      "There are ---> 181900 rows in the ---> IMMUNIZATIONS table.\n",
      "That's 21.758373205741627 per patient\n",
      "earliest DATE: 1945-01-16 00:00:00, latest date: 2019-05-06 00:00:00\n",
      "How about nulls? -->\n",
      "\n",
      "There are ---> 8360 rows in the ---> PATIENTS table.\n",
      "That's 1.0 per patient\n",
      "earliest BIRTHDATE: 1908-09-02 00:00:00, latest date: 2019-05-01 00:00:00\n",
      "earliest DEATHDATE: NaT, latest date: NaT\n",
      "How about nulls? -->\n",
      "DEATHDATE has 5000 null values\n",
      "DRIVERS has 1194 null values\n",
      "PASSPORT has 1545 null values\n",
      "PREFIX has 1362 null values\n",
      "SUFFIX has 8277 null values\n",
      "MAIDEN has 6008 null values\n",
      "MARITAL has 2144 null values\n",
      "ZIP has 101 null values\n",
      "\n",
      "There are ---> 725 rows in the ---> CONCEPTS table.\n",
      "That's 0.0867224880382775 per patient\n",
      "How about nulls? -->\n",
      "\n",
      "There are ---> 3199998 rows in the ---> OBSERVATIONS table.\n",
      "That's 382.7748803827751 per patient\n",
      "How about nulls? -->\n",
      "VALUE has 29 null values\n",
      "UNITS has 169450 null values\n",
      "\n",
      "TABLES JOINABLE TO PATIENT TABLE: ['medications', 'imaging_studies', 'allergies', 'procedures', 'conditions', 'careplans', 'encounters', 'immunizations', 'observations']\n",
      "DIM TABLES: ['providers', 'organizations', 'patients', 'concepts']\n"
     ]
    }
   ],
   "source": [
    "## OK. Super naive data exploration time.\n",
    "## How big are the tables\n",
    "## how far back does data go\n",
    "## how many (on super average) are there of *thing* per patient\n",
    "\n",
    "patient_linked=[]\n",
    "independent=[]\n",
    "for fname in fnames:\n",
    "    root= fname.split(\".\")[0]\n",
    "    df = pd.read_csv(fname)\n",
    "    print(\"There are ---> {} rows in the ---> {} table.\".format(len(df), root.upper()))\n",
    "    print(\"That's {} per patient\".format(len(df)/n_patients))\n",
    "    if len(df)<1000000:\n",
    "        for date_word in ['START','STOP','DATE','BIRTHDATE','DEATHDATE']:\n",
    "            if date_word in df.columns:\n",
    "                df[date_word]=df[date_word].apply(pd.to_datetime)\n",
    "\n",
    "                print(\"earliest {}: {}, latest date: {}\".format(date_word, min(df[date_word]), max(df[date_word])))\n",
    "\n",
    "    print(\"How about nulls? -->\")\n",
    "    for column in df:\n",
    "        if df[column].isnull().any():\n",
    "            print('{0} has {1} null values'.format(column, df[column].isnull().sum())) \n",
    "    if 'PATIENT' in df.columns:\n",
    "        patient_linked.append(root)\n",
    "    else:\n",
    "        independent.append(root)\n",
    "    print()\n",
    "    \n",
    "print(\"TABLES JOINABLE TO PATIENT TABLE: {}\".format(patient_linked))\n",
    "print(\"DIM TABLES: {}\".format(independent))"
   ]
  },
  {
   "cell_type": "markdown",
   "metadata": {},
   "source": [
    "So I am super impressed with record keeping in Massandopolis, as it appears we have medical record information going back as far as 1908. \n",
    "\n",
    "I personally don't trust any information over 30, so we might have to ignore some of the old stuff later on.\n",
    "\n",
    "\n",
    "\n",
    "... I think it's time to get to know the people of Massandopolis."
   ]
  },
  {
   "cell_type": "code",
   "execution_count": 1034,
   "metadata": {},
   "outputs": [],
   "source": [
    "#pats.head()"
   ]
  },
  {
   "cell_type": "code",
   "execution_count": 562,
   "metadata": {},
   "outputs": [],
   "source": [
    "## Let's make these dates a little more usable, shall we?\n",
    "\n",
    "pats['BIRTHDATE']=pats['BIRTHDATE'].apply(pd.to_datetime)\n",
    "pats['BIRTHYEAR']=pats['BIRTHDATE'].dt.year\n",
    "pats['BIRTHDAY']=pats['BIRTHDATE'].dt.day\n",
    "pats['BIRTHMONTH']=pats['BIRTHDATE'].dt.month\n",
    "pats['DEATHDATE']=pats['DEATHDATE'].apply(pd.to_datetime)\n",
    "pats['DEATHYEAR']=pats['DEATHDATE'].dt.year\n",
    "pats['APPROX_AGE_AT_DEATH']=(pats['DEATHDATE'].dt.year-pats['BIRTHDATE'].dt.year)\n"
   ]
  },
  {
   "cell_type": "code",
   "execution_count": null,
   "metadata": {},
   "outputs": [],
   "source": []
  },
  {
   "cell_type": "markdown",
   "metadata": {},
   "source": [
    "### SEPARATING THE LIVING FROM THE DEAD\n",
    "\n",
    "In investigating the people of Massandopolis, I'm interested in what's going on with the living as well as with the (recently) dead. The living might be sick, the dead might have died unjustly. Both are interesting!\n",
    "For ease of understanding I'm keeping them separate here."
   ]
  },
  {
   "cell_type": "code",
   "execution_count": 618,
   "metadata": {},
   "outputs": [],
   "source": [
    "alive = pats[pats['DEATHYEAR'].fillna(2050)> 2019]\n",
    "alive.name = 'alive'\n",
    "dead = pats[pats['DEATHYEAR'].fillna(2050)<=2019]\n",
    "dead.name = 'dead'\n",
    "\n",
    "## NOTE: Someone had a magical future deathdate of 2022, so just using a null Deathdate was a bad idea.\n",
    "## Thus my odd fillna solution.\n",
    "## Someone should really check on Mr Eddy Dach!"
   ]
  },
  {
   "cell_type": "code",
   "execution_count": 621,
   "metadata": {},
   "outputs": [],
   "source": [
    "## OVERALL MORTALITY\n",
    "\n",
    "dead_years = sorted(dead['DEATHYEAR'].unique())\n",
    "#print(dead_years)\n",
    "\n",
    "##Spotty records before 1930. "
   ]
  },
  {
   "cell_type": "markdown",
   "metadata": {},
   "source": [
    "## RATES AND CAUSES OF DEATH"
   ]
  },
  {
   "cell_type": "code",
   "execution_count": 1035,
   "metadata": {},
   "outputs": [
    {
     "name": "stderr",
     "output_type": "stream",
     "text": [
      "/usr/local/lib/python3.7/site-packages/ipykernel_launcher.py:12: UserWarning: Boolean Series key will be reindexed to match DataFrame index.\n",
      "  if sys.path[0] == '':\n"
     ]
    }
   ],
   "source": [
    "## Simple mortality estimates\n",
    "\n",
    "morts =[]\n",
    "popns=[]\n",
    "deaths=[]\n",
    "avg_age_of_death=[]\n",
    "start_year = 1912\n",
    "#FOR SAKE OF THIS PLOT, I'M LAZILY FILLING DEATHYEAR WITH 2040\n",
    "# eg. pats['DEATHYEAR'].fillna(2040)\n",
    "for year in range(start_year,2020):\n",
    "    #print(year)\n",
    "    starting_popn = pats[pats['BIRTHYEAR']<=year][pats['DEATHYEAR'].fillna(2050)>year]['Id'].nunique()\n",
    "    dead_this_year = dead[dead['DEATHYEAR']==year]['Id'].nunique()\n",
    "    mortality_rate = dead_this_year/starting_popn*1000\n",
    "    avg_age_of_death.append(dead[dead['DEATHYEAR']==year]['APPROX_AGE_AT_DEATH'].mean())\n",
    "    deaths.append(dead_this_year)\n",
    "    popns.append(starting_popn)\n",
    "    morts.append(mortality_rate)\n",
    "    \n"
   ]
  },
  {
   "cell_type": "code",
   "execution_count": 1036,
   "metadata": {},
   "outputs": [
    {
     "data": {
      "image/png": "[encoded data removed]",
      "text/plain": [
       "<Figure size 720x576 with 4 Axes>"
      ]
     },
     "metadata": {
      "needs_background": "light"
     },
     "output_type": "display_data"
    }
   ],
   "source": [
    "# Matplotlib. It's gross but it works.\n",
    "\n",
    "f, (ax) = plt.subplots(2,2, sharey=False, figsize=(10, 8))\n",
    "ax[0,0].plot(range(start_year, 2020), popns)\n",
    "ax[0,0].set_title('Total Population')\n",
    "ax[0,0].set_xlim([start_year,2019])\n",
    "ax[0,1].scatter(range(start_year,2020), deaths)\n",
    "ax[0,1].set_title(\"Annual Deaths\")\n",
    "ax[0,1].set_xlim([start_year,2019])\n",
    "ax[1,0].scatter(range(start_year,2020), morts)\n",
    "ax[1,0].set_title(\"Base mortality rate (deaths per 1000)\")\n",
    "ax[1,0].set_xlim([start_year,2019])\n",
    "ax[1,1].scatter(range(start_year,2020), avg_age_of_death)\n",
    "ax[1,1].set_title(\"Avg age at death\")\n",
    "ax[1,1].set_xlim([start_year,2019])\n",
    "plt.tight_layout()\n"
   ]
  },
  {
   "cell_type": "markdown",
   "metadata": {},
   "source": [
    "## So, like I said before. Recordkeeping in the old days was rubbish, plus average age at death is kind of meaningless when there's less than 10 deaths a year!\n",
    "\n",
    "## Let's try looking at the last 30 years, or say, since 1990"
   ]
  },
  {
   "cell_type": "code",
   "execution_count": 695,
   "metadata": {},
   "outputs": [
    {
     "name": "stderr",
     "output_type": "stream",
     "text": [
      "/usr/local/lib/python3.7/site-packages/ipykernel_launcher.py:11: UserWarning: Boolean Series key will be reindexed to match DataFrame index.\n",
      "  # This is added back by InteractiveShellApp.init_path()\n",
      "/usr/local/lib/python3.7/site-packages/ipykernel_launcher.py:15: UserWarning: Boolean Series key will be reindexed to match DataFrame index.\n",
      "  from ipykernel import kernelapp as app\n"
     ]
    },
    {
     "data": {
      "text/plain": [
       "<matplotlib.legend.Legend at 0x17e4c6810>"
      ]
     },
     "execution_count": 695,
     "metadata": {},
     "output_type": "execute_result"
    },
    {
     "data": {
      "image/png": "[encoded data removed]",
      "text/plain": [
       "<Figure size 720x576 with 4 Axes>"
      ]
     },
     "metadata": {
      "needs_background": "light"
     },
     "output_type": "display_data"
    }
   ],
   "source": [
    "morts =[]\n",
    "popns=[]\n",
    "deaths=[]\n",
    "avg_age_of_death=[]\n",
    "avg_age_of_alive=[]\n",
    "start_year = 1990\n",
    "#FOR SAKE OF THIS PLOT, I'M LAZILY FILLING DEATHYEAR WITH 2040\n",
    "pats['DEATHYEAR'].fillna(2040)\n",
    "for year in range(start_year,2020):\n",
    "    #print(year)\n",
    "    starting_popn = pats[pats['BIRTHYEAR']<=year][pats['DEATHYEAR'].fillna(2050)>year]['Id'].nunique()\n",
    "    dead_this_year = dead[dead['DEATHYEAR']==year]['Id'].nunique()\n",
    "    mortality_rate = dead_this_year/starting_popn*1000\n",
    "    avg_age_of_death.append(dead[dead['DEATHYEAR']==year]['APPROX_AGE_AT_DEATH'].mean())\n",
    "    avg_age_of_alive.append(pats[pats['BIRTHYEAR']<=year][pats['DEATHYEAR'].fillna(2050)>year]['BIRTHYEAR'].apply(lambda x: year - x).mean())\n",
    "    deaths.append(dead_this_year)\n",
    "    popns.append(starting_popn)\n",
    "    morts.append(mortality_rate)\n",
    "    \n",
    "\n",
    "f, (ax) = plt.subplots(2,2, sharey=False, figsize=(10, 8))\n",
    "ax[0,0].plot(range(start_year, 2020), popns)\n",
    "ax[0,0].set_title('Total Population')\n",
    "ax[0,0].set_xlim([start_year,2019])\n",
    "ax[0,1].scatter(range(start_year,2020), deaths)\n",
    "ax[0,1].set_title(\"Annual Deaths\")\n",
    "ax[0,1].set_xlim([start_year,2019])\n",
    "ax[1,0].scatter(range(start_year,2020), morts)\n",
    "ax[1,0].set_title(\"Base mortality rate (deaths per 1000)\")\n",
    "ax[1,0].set_xlim([start_year,2019])\n",
    "ax[1,1].scatter(range(start_year,2020), avg_age_of_death, label = 'avg age of death')\n",
    "ax[1,1].scatter(range(start_year, 2020), avg_age_of_alive, color='g', label = 'avg age of living')\n",
    "ax[1,1].set_title(\"Avg age\")\n",
    "ax[1,1].set_xlim([start_year,2019])\n",
    "plt.tight_layout()\n",
    "plt.legend()\n"
   ]
  },
  {
   "cell_type": "code",
   "execution_count": null,
   "metadata": {},
   "outputs": [],
   "source": []
  },
  {
   "cell_type": "markdown",
   "metadata": {},
   "source": [
    "### So that's....not good. Annual deaths and base mortality rate are all going up...but so is average age at death.\n",
    "### Better look more closely at age-distributions of death"
   ]
  },
  {
   "cell_type": "code",
   "execution_count": 676,
   "metadata": {},
   "outputs": [
    {
     "name": "stderr",
     "output_type": "stream",
     "text": [
      "/usr/local/lib/python3.7/site-packages/ipykernel_launcher.py:1: SettingWithCopyWarning: \n",
      "A value is trying to be set on a copy of a slice from a DataFrame.\n",
      "Try using .loc[row_indexer,col_indexer] = value instead\n",
      "\n",
      "See the caveats in the documentation: http://pandas.pydata.org/pandas-docs/stable/indexing.html#indexing-view-versus-copy\n",
      "  \"\"\"Entry point for launching an IPython kernel.\n"
     ]
    }
   ],
   "source": [
    "dead['AGE_BIN_AT_DEATH'] = pd.cut(dead['APPROX_AGE_AT_DEATH'], bins=[0,12,20,40,65,90,120], include_lowest=True, labels = ['kids','teens','adults','middle_age','senior','elder'])"
   ]
  },
  {
   "cell_type": "code",
   "execution_count": null,
   "metadata": {},
   "outputs": [],
   "source": [
    "#90s distribution\n",
    "nineties_dead = dead[dead['DEATHYEAR']>1990][dead['DEATHYEAR']<2001]\n",
    "dead_dict={}\n",
    "for agebin in dead['AGE_BIN_AT_DEATH'].unique():\n",
    "    dead_dict[agebin]=nineties_dead[]"
   ]
  },
  {
   "cell_type": "code",
   "execution_count": 677,
   "metadata": {},
   "outputs": [
    {
     "name": "stderr",
     "output_type": "stream",
     "text": [
      "/usr/local/lib/python3.7/site-packages/ipykernel_launcher.py:1: UserWarning: Boolean Series key will be reindexed to match DataFrame index.\n",
      "  \"\"\"Entry point for launching an IPython kernel.\n"
     ]
    },
    {
     "data": {
      "text/plain": [
       "senior        0.500000\n",
       "middle_age    0.343407\n",
       "adults        0.092033\n",
       "teens         0.035714\n",
       "kids          0.028846\n",
       "elder         0.000000\n",
       "Name: AGE_BIN_AT_DEATH, dtype: float64"
      ]
     },
     "execution_count": 677,
     "metadata": {},
     "output_type": "execute_result"
    }
   ],
   "source": [
    "nineties_dead = dead[dead['DEATHYEAR']>1990][dead['DEATHYEAR']<2001]\n",
    "nineties_dead['AGE_BIN_AT_DEATH'].value_counts()/len(nineties_dead)"
   ]
  },
  {
   "cell_type": "code",
   "execution_count": 678,
   "metadata": {},
   "outputs": [
    {
     "name": "stderr",
     "output_type": "stream",
     "text": [
      "/usr/local/lib/python3.7/site-packages/ipykernel_launcher.py:1: UserWarning: Boolean Series key will be reindexed to match DataFrame index.\n",
      "  \"\"\"Entry point for launching an IPython kernel.\n"
     ]
    },
    {
     "data": {
      "text/plain": [
       "senior        0.642384\n",
       "middle_age    0.226269\n",
       "adults        0.056291\n",
       "teens         0.032009\n",
       "elder         0.026490\n",
       "kids          0.016556\n",
       "Name: AGE_BIN_AT_DEATH, dtype: float64"
      ]
     },
     "execution_count": 678,
     "metadata": {},
     "output_type": "execute_result"
    }
   ],
   "source": [
    "aughts_dead = dead[dead['DEATHYEAR']>2000][dead['DEATHYEAR']<2011]\n",
    "aughts_dead['AGE_BIN_AT_DEATH'].value_counts()/len(aughts_dead)"
   ]
  },
  {
   "cell_type": "code",
   "execution_count": 679,
   "metadata": {},
   "outputs": [
    {
     "data": {
      "text/plain": [
       "senior        0.612374\n",
       "middle_age    0.258838\n",
       "adults        0.064394\n",
       "elder         0.029040\n",
       "teens         0.017677\n",
       "kids          0.017677\n",
       "Name: AGE_BIN_AT_DEATH, dtype: float64"
      ]
     },
     "execution_count": 679,
     "metadata": {},
     "output_type": "execute_result"
    }
   ],
   "source": [
    "dead[dead['DEATHYEAR']>2010]['AGE_BIN_AT_DEATH'].value_counts()/len(dead[dead['DEATHYEAR']>2010])"
   ]
  },
  {
   "cell_type": "code",
   "execution_count": 696,
   "metadata": {},
   "outputs": [],
   "source": [
    "## OK. The overall age-distribution of death isn't really shifting that much, aside from a pleasing decrease in child and teen mortality. Also elder mortality pretty stable.\n",
    "\n",
    "## I think in order to know more, I should look at the living for a bit. "
   ]
  },
  {
   "cell_type": "code",
   "execution_count": 702,
   "metadata": {},
   "outputs": [],
   "source": [
    "recent_dead = dead[dead['DEATHYEAR']>2010]\n",
    "recent_dead.name = 'Dead since 2010'"
   ]
  },
  {
   "cell_type": "code",
   "execution_count": 704,
   "metadata": {
    "scrolled": false
   },
   "outputs": [
    {
     "data": {
      "image/png": "[encoded data removed]",
      "text/plain": [
       "<Figure size 360x360 with 1 Axes>"
      ]
     },
     "metadata": {
      "needs_background": "light"
     },
     "output_type": "display_data"
    },
    {
     "data": {
      "image/png": "[encoded data removed]",
      "text/plain": [
       "<Figure size 360x360 with 1 Axes>"
      ]
     },
     "metadata": {
      "needs_background": "light"
     },
     "output_type": "display_data"
    },
    {
     "data": {
      "image/png": "[encoded data removed]",
      "text/plain": [
       "<Figure size 360x360 with 1 Axes>"
      ]
     },
     "metadata": {
      "needs_background": "light"
     },
     "output_type": "display_data"
    },
    {
     "data": {
      "image/png": "[encoded data removed]",
      "text/plain": [
       "<Figure size 360x360 with 1 Axes>"
      ]
     },
     "metadata": {
      "needs_background": "light"
     },
     "output_type": "display_data"
    },
    {
     "data": {
      "image/png": "[encoded data removed]",
      "text/plain": [
       "<Figure size 360x360 with 1 Axes>"
      ]
     },
     "metadata": {
      "needs_background": "light"
     },
     "output_type": "display_data"
    },
    {
     "data": {
      "image/png": "[encoded data removed]",
      "text/plain": [
       "<Figure size 360x360 with 1 Axes>"
      ]
     },
     "metadata": {
      "needs_background": "light"
     },
     "output_type": "display_data"
    }
   ],
   "source": [
    "for sub_tup in [('BIRTHYEAR',22),('BIRTHMONTH',12),('BIRTHDAY',31)]:\n",
    "    for status in [alive, recent_dead]:\n",
    "        bins = 12\n",
    "        f=plt.figure(figsize=(5,5))\n",
    "        plt.hist(status[status['GENDER']=='F'][sub_tup[0]], bins = sub_tup[1], color = 'r', alpha = 0.4, label='F')\n",
    "        plt.hist(status[status['GENDER']=='M'][sub_tup[0]], bins = sub_tup[1], color = 'b', alpha = 0.4, label='M')\n",
    "        plt.legend()\n",
    "        plt.title(status.name + \" \"+ sub_tup[0])"
   ]
  },
  {
   "cell_type": "code",
   "execution_count": 705,
   "metadata": {
    "scrolled": false
   },
   "outputs": [
    {
     "data": {
      "image/png": "[encoded data removed]",
      "text/plain": [
       "<Figure size 360x360 with 1 Axes>"
      ]
     },
     "metadata": {
      "needs_background": "light"
     },
     "output_type": "display_data"
    },
    {
     "data": {
      "image/png": "[encoded data removed]",
      "text/plain": [
       "<Figure size 360x360 with 1 Axes>"
      ]
     },
     "metadata": {
      "needs_background": "light"
     },
     "output_type": "display_data"
    },
    {
     "data": {
      "image/png": "[encoded data removed]",
      "text/plain": [
       "<Figure size 360x360 with 1 Axes>"
      ]
     },
     "metadata": {
      "needs_background": "light"
     },
     "output_type": "display_data"
    },
    {
     "data": {
      "image/png": "[encoded data removed]",
      "text/plain": [
       "<Figure size 360x360 with 1 Axes>"
      ]
     },
     "metadata": {
      "needs_background": "light"
     },
     "output_type": "display_data"
    },
    {
     "data": {
      "image/png": "[encoded data removed]",
      "text/plain": [
       "<Figure size 360x360 with 1 Axes>"
      ]
     },
     "metadata": {
      "needs_background": "light"
     },
     "output_type": "display_data"
    },
    {
     "data": {
      "image/png": "[encoded data removed]",
      "text/plain": [
       "<Figure size 360x360 with 1 Axes>"
      ]
     },
     "metadata": {
      "needs_background": "light"
     },
     "output_type": "display_data"
    }
   ],
   "source": [
    "## OK so that's weird. Does it go away if I look at density instead of abs numbers?\n",
    "for sub_tup in [('BIRTHYEAR',22),('BIRTHMONTH',12),('BIRTHDAY',31)]:\n",
    "    for status in [alive, recent_dead]:\n",
    "        f=plt.figure(figsize=(5,5))\n",
    "        plt.hist(status[status['GENDER']=='F'][sub_tup[0]], bins = sub_tup[1], color = 'r', alpha = 0.4, label='F', density=True)\n",
    "        plt.hist(status[status['GENDER']=='M'][sub_tup[0]], bins = sub_tup[1], color = 'b', alpha = 0.4, label='M', density= True)\n",
    "        xmin=plt.gca().get_xlim()[0]\n",
    "        if sub_tup[0]!='BIRTHYEAR':\n",
    "            plt.hlines(y=1/(sub_tup[1]), xmin=xmin, xmax = max(pats[sub_tup[0]].values))\n",
    "\n",
    "        plt.legend()\n",
    "        plt.title(status.name + \" \" + sub_tup[0])"
   ]
  },
  {
   "cell_type": "code",
   "execution_count": 717,
   "metadata": {},
   "outputs": [
    {
     "data": {
      "text/plain": [
       "1929    66\n",
       "1931    60\n",
       "1930    52\n",
       "1932    37\n",
       "1935    24\n",
       "1941    22\n",
       "1933    21\n",
       "1947    19\n",
       "1937    17\n",
       "1949    16\n",
       "Name: BIRTHYEAR, dtype: int64"
      ]
     },
     "execution_count": 717,
     "metadata": {},
     "output_type": "execute_result"
    }
   ],
   "source": [
    "recent_dead['BIRTHYEAR'].value_counts()[:10]\n"
   ]
  },
  {
   "cell_type": "code",
   "execution_count": 710,
   "metadata": {},
   "outputs": [
    {
     "name": "stderr",
     "output_type": "stream",
     "text": [
      "/usr/local/lib/python3.7/site-packages/ipykernel_launcher.py:1: UserWarning: Boolean Series key will be reindexed to match DataFrame index.\n",
      "  \"\"\"Entry point for launching an IPython kernel.\n"
     ]
    },
    {
     "data": {
      "text/plain": [
       "81.0    27\n",
       "84.0    23\n",
       "83.0    23\n",
       "88.0    21\n",
       "85.0    19\n",
       "82.0    16\n",
       "86.0    15\n",
       "87.0     9\n",
       "89.0     2\n",
       "Name: DEATHYEAR, dtype: int64"
      ]
     },
     "execution_count": 710,
     "metadata": {},
     "output_type": "execute_result"
    }
   ],
   "source": [
    "recent_dead_men_ages = recent_dead[recent_dead['BIRTHYEAR']<1933][recent_dead['GENDER']=='M']['DEATHYEAR'].apply(lambda x: x-1930)\n",
    "recent_dead_men_ages.value_counts()"
   ]
  },
  {
   "cell_type": "markdown",
   "metadata": {},
   "source": [
    "### A BRIEF DETOUR INTO OTHER DEMOGRAPHIC FEATURES"
   ]
  },
  {
   "cell_type": "markdown",
   "metadata": {},
   "source": [
    "### Race and ethnicity"
   ]
  },
  {
   "cell_type": "code",
   "execution_count": 722,
   "metadata": {},
   "outputs": [
    {
     "data": {
      "text/plain": [
       "white       0.756049\n",
       "hispanic    0.107578\n",
       "black       0.071586\n",
       "asian       0.060588\n",
       "native      0.003399\n",
       "other       0.000800\n",
       "Name: RACE, dtype: float64"
      ]
     },
     "execution_count": 722,
     "metadata": {},
     "output_type": "execute_result"
    }
   ],
   "source": [
    "alive['RACE'].value_counts()/len(alive)"
   ]
  },
  {
   "cell_type": "code",
   "execution_count": 723,
   "metadata": {},
   "outputs": [
    {
     "data": {
      "text/plain": [
       "white       0.733586\n",
       "hispanic    0.140152\n",
       "asian       0.064394\n",
       "black       0.058081\n",
       "native      0.003788\n",
       "Name: RACE, dtype: float64"
      ]
     },
     "execution_count": 723,
     "metadata": {},
     "output_type": "execute_result"
    }
   ],
   "source": [
    "recent_dead['RACE'].value_counts()/len(recent_dead)"
   ]
  },
  {
   "cell_type": "code",
   "execution_count": 724,
   "metadata": {},
   "outputs": [
    {
     "data": {
      "text/plain": [
       "white       0.708129\n",
       "hispanic    0.164757\n",
       "black       0.070376\n",
       "asian       0.056738\n",
       "Name: RACE, dtype: float64"
      ]
     },
     "execution_count": 724,
     "metadata": {},
     "output_type": "execute_result"
    }
   ],
   "source": [
    "dead[dead['BIRTHYEAR']<1933]['RACE'].value_counts()/len(dead[dead['BIRTHYEAR']<1933])"
   ]
  },
  {
   "cell_type": "code",
   "execution_count": 725,
   "metadata": {},
   "outputs": [],
   "source": [
    "# HISPANIC FOLK DIE MORE? THE DIFF BTW 10% of alive folk vs 15% of dead folk SEEMS ODD TO ME AT A GLANCE.\n",
    "# IF I HAD MORE TIME I'D CHECK ON THEM MORE CLOSELY."
   ]
  },
  {
   "cell_type": "markdown",
   "metadata": {},
   "source": [
    "### MARITAL STATUS"
   ]
  },
  {
   "cell_type": "code",
   "execution_count": 730,
   "metadata": {},
   "outputs": [
    {
     "data": {
      "text/plain": [
       "F    0.508898\n",
       "M    0.491102\n",
       "Name: GENDER, dtype: float64"
      ]
     },
     "execution_count": 730,
     "metadata": {},
     "output_type": "execute_result"
    }
   ],
   "source": [
    "alive['GENDER'].value_counts()/len(alive)"
   ]
  },
  {
   "cell_type": "code",
   "execution_count": 733,
   "metadata": {},
   "outputs": [
    {
     "data": {
      "text/plain": [
       "M    0.535693\n",
       "S    0.130774\n",
       "Name: MARITAL, dtype: float64"
      ]
     },
     "execution_count": 733,
     "metadata": {},
     "output_type": "execute_result"
    }
   ],
   "source": [
    "alive[alive['BIRTHYEAR']<2001]['MARITAL'].value_counts()/len(alive) #Really should only look at over 18s for this\n",
    "#Yes, I checked, no child brides :)\n"
   ]
  },
  {
   "cell_type": "code",
   "execution_count": 741,
   "metadata": {},
   "outputs": [
    {
     "data": {
      "text/plain": [
       "irish               0.197560\n",
       "italian             0.123375\n",
       "english             0.091182\n",
       "french              0.067187\n",
       "puerto_rican        0.060588\n",
       "german              0.060388\n",
       "polish              0.043791\n",
       "portuguese          0.039392\n",
       "american            0.038992\n",
       "chinese             0.037393\n",
       "french_canadian     0.030794\n",
       "dominican           0.024595\n",
       "african             0.024395\n",
       "asian_indian        0.023195\n",
       "west_indian         0.022595\n",
       "scottish            0.021996\n",
       "russian             0.019196\n",
       "south_american      0.015997\n",
       "central_american    0.015597\n",
       "mexican             0.015397\n",
       "swedish             0.011998\n",
       "greek               0.010198\n",
       "american_indian     0.003399\n",
       "arab                0.000800\n",
       "Name: ETHNICITY, dtype: float64"
      ]
     },
     "execution_count": 741,
     "metadata": {},
     "output_type": "execute_result"
    }
   ],
   "source": [
    "alive['ETHNICITY'].value_counts()/len(alive)"
   ]
  },
  {
   "cell_type": "markdown",
   "metadata": {},
   "source": [
    "### WHERE ARE THE OLD FOLKS DYING?"
   ]
  },
  {
   "cell_type": "code",
   "execution_count": 763,
   "metadata": {},
   "outputs": [],
   "source": [
    "prop_deaths_early=recent_dead[recent_dead['BIRTHYEAR']<1940]['CITY'].value_counts()/len(recent_dead[recent_dead['BIRTHYEAR']<1940])\n",
    "prop_deaths_late=recent_dead[recent_dead['BIRTHYEAR']>1940]['CITY'].value_counts()/len(recent_dead[recent_dead['BIRTHYEAR']>1940])\n"
   ]
  },
  {
   "cell_type": "code",
   "execution_count": 765,
   "metadata": {},
   "outputs": [
    {
     "data": {
      "text/plain": [
       "Worcester      0.050938\n",
       "Lynn           0.042895\n",
       "Lowell         0.040214\n",
       "Chicopee       0.034853\n",
       "Agawam Town    0.032172\n",
       "Natick         0.032172\n",
       "Everett        0.029491\n",
       "Medford        0.029491\n",
       "Boston         0.029491\n",
       "Marblehead     0.026810\n",
       "Name: CITY, dtype: float64"
      ]
     },
     "execution_count": 765,
     "metadata": {},
     "output_type": "execute_result"
    }
   ],
   "source": [
    "prop_deaths_early[:10]  #Towns with highest proportion of young people deaths (Of all young deaths, what % happened in this town)"
   ]
  },
  {
   "cell_type": "code",
   "execution_count": 776,
   "metadata": {},
   "outputs": [
    {
     "data": {
      "text/plain": [
       "Boston         0.089109\n",
       "Worcester      0.029703\n",
       "New Bedford    0.019802\n",
       "Lynn           0.019802\n",
       "Lawrence       0.017327\n",
       "Springfield    0.017327\n",
       "Hingham        0.017327\n",
       "Canton         0.017327\n",
       "Lowell         0.017327\n",
       "Quincy         0.017327\n",
       "Name: CITY, dtype: float64"
      ]
     },
     "execution_count": 776,
     "metadata": {},
     "output_type": "execute_result"
    }
   ],
   "source": [
    "prop_deaths_late[:10] #Towns with highest proportion of all old people deaths (Of all aged deaths, what % happened in this town)"
   ]
  },
  {
   "cell_type": "code",
   "execution_count": 780,
   "metadata": {},
   "outputs": [
    {
     "data": {
      "text/plain": [
       "Marblehead      10.831099\n",
       "Stoneham         9.747989\n",
       "Southampton      7.581769\n",
       "Natick           6.498660\n",
       "Sudbury          6.498660\n",
       "Medford          5.957105\n",
       "Brockton         4.873995\n",
       "Chicopee         4.693476\n",
       "Agawam Town      4.332440\n",
       "Swampscott       4.332440\n",
       "Raynham          4.332440\n",
       "Hanover          4.332440\n",
       "Methuen Town     3.790885\n",
       "Westford         3.249330\n",
       "Lexington        3.249330\n",
       "Name: CITY, dtype: float64"
      ]
     },
     "execution_count": 780,
     "metadata": {},
     "output_type": "execute_result"
    }
   ],
   "source": [
    "early_to_late = prop_deaths_early / prop_deaths_late  \n",
    "early_to_late[early_to_late.notnull()].sort_values(ascending=False)[:15]\n",
    "#Towns with a bigger share of young deaths than of old deaths\n",
    "#Opioids? Or just having a small population and a few young deaths. Running out of time, so have to save it for now."
   ]
  },
  {
   "cell_type": "code",
   "execution_count": 778,
   "metadata": {},
   "outputs": [
    {
     "data": {
      "text/plain": [
       "Boston         482\n",
       "Worcester      141\n",
       "Springfield    101\n",
       "Quincy          80\n",
       "Lowell          75\n",
       "Brockton        74\n",
       "Cambridge       69\n",
       "New Bedford     69\n",
       "Newton          65\n",
       "Somerville      65\n",
       "Lawrence        62\n",
       "Lynn            61\n",
       "Chicopee        59\n",
       "Brookline       46\n",
       "Attleboro       46\n",
       "Name: CITY, dtype: int64"
      ]
     },
     "execution_count": 778,
     "metadata": {},
     "output_type": "execute_result"
    }
   ],
   "source": [
    "alive['CITY'].value_counts()[:15]"
   ]
  },
  {
   "cell_type": "code",
   "execution_count": 779,
   "metadata": {},
   "outputs": [
    {
     "data": {
      "text/plain": [
       "Boston         669\n",
       "Worcester      289\n",
       "Brockton       170\n",
       "Lowell         154\n",
       "Lynn           154\n",
       "Cambridge      142\n",
       "Quincy         136\n",
       "Springfield    135\n",
       "New Bedford    125\n",
       "Chicopee       122\n",
       "Everett        121\n",
       "Newton         109\n",
       "Somerville     108\n",
       "Lawrence       108\n",
       "Peabody        106\n",
       "Name: CITY, dtype: int64"
      ]
     },
     "execution_count": 779,
     "metadata": {},
     "output_type": "execute_result"
    }
   ],
   "source": [
    "pats['CITY'].value_counts()[:15]"
   ]
  },
  {
   "cell_type": "markdown",
   "metadata": {},
   "source": [
    "### INITIAL THOUGHTS ON PATIENTS\n",
    "\n",
    "So, there appear to be a lot (A LOT) of men born in the late 30s using health services, and dying, here. A lot of people born in the late 30s, and way more men. \n",
    "\n",
    "All the same. There are WAY MORE men than there are women from the 30s using healthcare and dying. Men in their late 60s-70s HATE going to the doctor. Although, it looks like they were mostly married, and those guys wives make them go to the doctor (sexist but true last time I checked - married men die slower than singletons)\n",
    "\n",
    "MINOR POINTS\n",
    "Also why would there be more women than men born in the fall, and in the second week of the month in general?\n",
    "The month and day stuff looks like if I checked closer it'd be maybe within range of normal variation, so I'm going to drop it for now. But those birth years though. What??\n",
    "\n",
    "I could probably rabbit-hole into patient data for ages, but I'm only supposed to spend an afternoon on this and I've clearly gotten distracted from basic data quality checks. On to the other files!"
   ]
  },
  {
   "cell_type": "markdown",
   "metadata": {},
   "source": [
    "### MEDICATIONS"
   ]
  },
  {
   "cell_type": "code",
   "execution_count": 222,
   "metadata": {},
   "outputs": [],
   "source": [
    "meds = pd.read_csv(\"medications.csv\")"
   ]
  },
  {
   "cell_type": "code",
   "execution_count": 782,
   "metadata": {
    "scrolled": true
   },
   "outputs": [],
   "source": [
    "meds['START']=meds['START'].apply(pd.to_datetime)\n",
    "meds['STOP']=meds['STOP'].apply(pd.to_datetime)"
   ]
  },
  {
   "cell_type": "code",
   "execution_count": 783,
   "metadata": {},
   "outputs": [
    {
     "data": {
      "text/plain": [
       "START                    0\n",
       "STOP                 16524\n",
       "PATIENT                  0\n",
       "ENCOUNTER                0\n",
       "CODE                     0\n",
       "DESCRIPTION              0\n",
       "COST                     0\n",
       "DISPENSES                0\n",
       "TOTALCOST                0\n",
       "REASONCODE           44940\n",
       "REASONDESCRIPTION    44940\n",
       "dtype: int64"
      ]
     },
     "execution_count": 783,
     "metadata": {},
     "output_type": "execute_result"
    }
   ],
   "source": [
    "meds.isnull().sum()"
   ]
  },
  {
   "cell_type": "code",
   "execution_count": 784,
   "metadata": {},
   "outputs": [],
   "source": [
    "meds_plus_dem = meds.merge(pats, left_on=\"PATIENT\", right_on=\"Id\")"
   ]
  },
  {
   "cell_type": "code",
   "execution_count": 799,
   "metadata": {},
   "outputs": [],
   "source": [
    "## Let's just look at recent usage, because I'm running out of time a bit here.\n",
    "## This cutoff also implies the people were alive at least up to 1990\n",
    "meds_plus_dem = meds_plus_dem[meds_plus_dem['START'].dt.year > 1990]"
   ]
  },
  {
   "cell_type": "code",
   "execution_count": 990,
   "metadata": {},
   "outputs": [],
   "source": [
    "enc_providers = enc[['PATIENT','PROVIDER','Id']]"
   ]
  },
  {
   "cell_type": "code",
   "execution_count": 992,
   "metadata": {},
   "outputs": [],
   "source": [
    "meds_plus_dem_plus_docs = meds_plus_dem.merge(enc_providers, left_on=\"ENCOUNTER\", right_on=\"Id\", how = 'inner')"
   ]
  },
  {
   "cell_type": "code",
   "execution_count": 1017,
   "metadata": {},
   "outputs": [],
   "source": [
    "meds_plus_dem_plus_docs = meds_plus_dem_plus_docs.merge(orgs, left_on=\"PROVIDER\", right_on=\"Id\", how = 'inner')"
   ]
  },
  {
   "cell_type": "code",
   "execution_count": 1018,
   "metadata": {},
   "outputs": [
    {
     "data": {
      "text/plain": [
       "90379"
      ]
     },
     "execution_count": 1018,
     "metadata": {},
     "output_type": "execute_result"
    }
   ],
   "source": [
    "len(meds_plus_dem_plus_docs)"
   ]
  },
  {
   "cell_type": "code",
   "execution_count": 787,
   "metadata": {},
   "outputs": [
    {
     "name": "stdout",
     "output_type": "stream",
     "text": [
      "simvistatin 10 mg    14029\n",
      "Name: DESCRIPTION, dtype: int64\n",
      "\n",
      "1 ml epoetin alfa 4000 unt/ml injection [epogen]    12193\n",
      "Name: DESCRIPTION, dtype: int64\n",
      "\n",
      "acetaminophen 325 mg oral tablet    7013\n",
      "Name: DESCRIPTION, dtype: int64\n",
      "\n",
      "cisplatin 50 mg injection    4752\n",
      "Name: DESCRIPTION, dtype: int64\n",
      "\n",
      "paclitaxel 100 mg injection    4064\n",
      "Name: DESCRIPTION, dtype: int64\n",
      "\n",
      "amoxicillin 250 mg / clavulanate 125 mg oral tablet    3019\n",
      "Name: DESCRIPTION, dtype: int64\n",
      "\n",
      "acetaminophen 325 mg / oxycodone hydrochloride 5 mg oral tablet    2750\n",
      "Name: DESCRIPTION, dtype: int64\n",
      "\n",
      "abuse-deterrent 12 hr oxycodone hydrochloride 15 mg extended release oral tablet    2575\n",
      "Name: DESCRIPTION, dtype: int64\n",
      "\n",
      "acetaminophen 300 mg / hydrocodone bitartrate 5 mg [vicodin]    2564\n",
      "Name: DESCRIPTION, dtype: int64\n",
      "\n",
      "naproxen sodium 220 mg oral tablet    2300\n",
      "Name: DESCRIPTION, dtype: int64\n",
      "\n",
      "ibuprofen 200 mg oral tablet    2048\n",
      "Name: DESCRIPTION, dtype: int64\n",
      "\n",
      "acetaminophen 21.7 mg/ml / dextromethorphan hydrobromide 1 mg/ml / doxylamine succinate 0.417 mg/ml oral solution    1434\n",
      "Name: DESCRIPTION, dtype: int64\n",
      "\n",
      "acetaminophen 160 mg oral tablet    1376\n",
      "Name: DESCRIPTION, dtype: int64\n",
      "\n",
      "ibuprofen 100 mg oral tablet    1336\n",
      "Name: DESCRIPTION, dtype: int64\n",
      "\n",
      "jolivette 28 day pack    1336\n",
      "Name: DESCRIPTION, dtype: int64\n",
      "\n",
      "camila 28 day pack    1185\n",
      "Name: DESCRIPTION, dtype: int64\n",
      "\n",
      "errin 28 day pack    1018\n",
      "Name: DESCRIPTION, dtype: int64\n",
      "\n",
      "amoxicillin 250 mg oral capsule    938\n",
      "Name: DESCRIPTION, dtype: int64\n",
      "\n",
      "1 ml medroxyprogesterone acetate 150 mg/ml injection    930\n",
      "Name: DESCRIPTION, dtype: int64\n",
      "\n",
      "penicillin v potassium 500 mg oral tablet    888\n",
      "Name: DESCRIPTION, dtype: int64\n",
      "\n",
      "estrostep fe 28 day pack    887\n",
      "Name: DESCRIPTION, dtype: int64\n",
      "\n",
      "penicillin v potassium 250 mg oral tablet    872\n",
      "Name: DESCRIPTION, dtype: int64\n",
      "\n",
      "clopidogrel 75 mg oral tablet    846\n",
      "Name: DESCRIPTION, dtype: int64\n",
      "\n",
      "mirena 52 mg intrauterine system    701\n",
      "Name: DESCRIPTION, dtype: int64\n",
      "\n",
      "etoposide 100 mg injection    688\n",
      "Name: DESCRIPTION, dtype: int64\n",
      "\n",
      "hydrochlorothiazide 25 mg    671\n",
      "Name: DESCRIPTION, dtype: int64\n",
      "\n",
      "ortho tri-cyclen 28 day pack    654\n",
      "Name: DESCRIPTION, dtype: int64\n",
      "\n",
      "etonogestrel 68 mg drug implant    648\n",
      "Name: DESCRIPTION, dtype: int64\n",
      "\n",
      "phenazopyridine hydrochloride 100 mg oral tablet    594\n",
      "Name: DESCRIPTION, dtype: int64\n",
      "\n",
      "nitrofurantoin 5 mg/ml oral suspension    594\n",
      "Name: DESCRIPTION, dtype: int64\n",
      "\n"
     ]
    }
   ],
   "source": [
    "for code in meds_plus_dem['CODE'].value_counts().index[:30]:\n",
    "    print(meds_plus_dem[meds_plus_dem['CODE']==code]['DESCRIPTION'].value_counts())\n",
    "    print()"
   ]
  },
  {
   "cell_type": "code",
   "execution_count": 282,
   "metadata": {},
   "outputs": [],
   "source": [
    "#Because opioids"
   ]
  },
  {
   "cell_type": "code",
   "execution_count": 1037,
   "metadata": {},
   "outputs": [
    {
     "data": {
      "text/plain": [
       "3655"
      ]
     },
     "execution_count": 1037,
     "metadata": {},
     "output_type": "execute_result"
    }
   ],
   "source": [
    "meds_plus_dem['DESCRIPTION']=meds_plus_dem['DESCRIPTION'].str.lower()\n",
    "meds_plus_dem['REASONDESCRIPTION']=meds_plus_dem['REASONDESCRIPTION'].str.lower()\n",
    "meds_plus_dem[meds_plus_dem['DESCRIPTION'].str.contains(\"codone\")]['PATIENT'].nunique()\n",
    "#How many scripts for 'codones' do we see?"
   ]
  },
  {
   "cell_type": "code",
   "execution_count": 293,
   "metadata": {},
   "outputs": [],
   "source": [
    "#HALF THE PEOPLE HAVE HAD OPIOIDS?!?"
   ]
  },
  {
   "cell_type": "code",
   "execution_count": 1019,
   "metadata": {},
   "outputs": [
    {
     "data": {
      "text/plain": [
       "8111"
      ]
     },
     "execution_count": 1019,
     "metadata": {},
     "output_type": "execute_result"
    }
   ],
   "source": [
    "len(meds_plus_dem_plus_docs[meds_plus_dem_plus_docs['DESCRIPTION'].str.contains(\"codone\")])\n",
    "#How many total scripts for 'codones'?"
   ]
  },
  {
   "cell_type": "code",
   "execution_count": 1029,
   "metadata": {},
   "outputs": [
    {
     "data": {
      "text/plain": [
       "HALLMARK HEALTH SYSTEM           418\n",
       "NORTH SHORE MEDICAL CENTER -     348\n",
       "LOWELL GENERAL HOSPITAL          286\n",
       "BEVERLY HOSPITAL CORPORATION     253\n",
       "GOOD SAMARITAN MEDICAL CENTER    250\n",
       "Name: NAME, dtype: int64"
      ]
     },
     "execution_count": 1029,
     "metadata": {},
     "output_type": "execute_result"
    }
   ],
   "source": [
    "#Who is prescribing the codones?\n",
    "meds_plus_dem_plus_docs[meds_plus_dem_plus_docs['DESCRIPTION'].str.contains(\"codone\")]['NAME'].value_counts()[:5]"
   ]
  },
  {
   "cell_type": "code",
   "execution_count": 1030,
   "metadata": {},
   "outputs": [],
   "source": []
  },
  {
   "cell_type": "code",
   "execution_count": 789,
   "metadata": {
    "scrolled": true
   },
   "outputs": [
    {
     "name": "stderr",
     "output_type": "stream",
     "text": [
      "/usr/local/lib/python3.7/site-packages/ipykernel_launcher.py:2: UserWarning: Boolean Series key will be reindexed to match DataFrame index.\n",
      "  \n"
     ]
    },
    {
     "data": {
      "text/plain": [
       "2268"
      ]
     },
     "execution_count": 789,
     "metadata": {},
     "output_type": "execute_result"
    }
   ],
   "source": [
    "#WHAT ABOUT JUST ALIVE PEOPLE?\n",
    "meds_plus_dem[meds_plus_dem['DESCRIPTION'].str.contains(\"codone\")][meds_plus_dem['DEATHDATE'].isnull()]['Id'].nunique()"
   ]
  },
  {
   "cell_type": "code",
   "execution_count": 790,
   "metadata": {},
   "outputs": [
    {
     "data": {
      "text/plain": [
       "0.4536"
      ]
     },
     "execution_count": 790,
     "metadata": {},
     "output_type": "execute_result"
    }
   ],
   "source": [
    "2268/5000 #That's almost half of alive people with opioid scripts?!"
   ]
  },
  {
   "cell_type": "code",
   "execution_count": 791,
   "metadata": {},
   "outputs": [
    {
     "name": "stderr",
     "output_type": "stream",
     "text": [
      "/usr/local/lib/python3.7/site-packages/ipykernel_launcher.py:1: UserWarning: Boolean Series key will be reindexed to match DataFrame index.\n",
      "  \"\"\"Entry point for launching an IPython kernel.\n"
     ]
    },
    {
     "data": {
      "text/plain": [
       "1986    182\n",
       "1987    165\n",
       "1989    151\n",
       "1983    138\n",
       "1984    135\n",
       "1988    128\n",
       "1994    123\n",
       "1985    120\n",
       "1996    116\n",
       "1991    111\n",
       "Name: BIRTHYEAR, dtype: int64"
      ]
     },
     "execution_count": 791,
     "metadata": {},
     "output_type": "execute_result"
    }
   ],
   "source": [
    "meds_plus_dem[meds_plus_dem['DESCRIPTION'].str.contains(\"codone\")][meds_plus_dem['DEATHDATE'].isnull()]['BIRTHYEAR'].value_counts()[:10]"
   ]
  },
  {
   "cell_type": "code",
   "execution_count": 794,
   "metadata": {},
   "outputs": [
    {
     "name": "stderr",
     "output_type": "stream",
     "text": [
      "/usr/local/lib/python3.7/site-packages/ipykernel_launcher.py:2: UserWarning: Boolean Series key will be reindexed to match DataFrame index.\n",
      "  \n"
     ]
    },
    {
     "data": {
      "text/plain": [
       "0b24afa8-2453-4d75-9b0f-34a150d510b5    15\n",
       "bc96bbc2-d741-4ac5-a3f4-8dadb0dddc33    13\n",
       "db153b45-5f34-4b37-b8a1-8d1779be8a21    13\n",
       "448bbf28-b47d-4325-b45d-0dc6bc8f4f31    12\n",
       "98e2e93a-8ef4-4b97-a4d8-fba2bf62ea75    11\n",
       "fc74bf14-fc1c-4f4c-a2d2-190bafb84b00    10\n",
       "4c12edfc-7da7-4103-8b4a-e7a958f92120    10\n",
       "930582b8-d01b-4fc7-a731-ecd011eff16b    10\n",
       "2b433be1-ae2c-4be7-9502-cc878db84e4d     9\n",
       "98b4bce5-803d-4297-ae55-69c5dfe7fe42     9\n",
       "Name: Id, dtype: int64"
      ]
     },
     "execution_count": 794,
     "metadata": {},
     "output_type": "execute_result"
    }
   ],
   "source": [
    "# Opioid prescriptions for the 'young'\n",
    "meds_plus_dem[meds_plus_dem['DESCRIPTION'].str.contains(\"codone\")][meds_plus_dem['DEATHDATE'].isnull()][meds_plus_dem['BIRTHYEAR']>1980]['Id'].value_counts()[:10]"
   ]
  },
  {
   "cell_type": "code",
   "execution_count": 802,
   "metadata": {},
   "outputs": [
    {
     "name": "stderr",
     "output_type": "stream",
     "text": [
      "/usr/local/lib/python3.7/site-packages/ipykernel_launcher.py:1: UserWarning: Boolean Series key will be reindexed to match DataFrame index.\n",
      "  \"\"\"Entry point for launching an IPython kernel.\n"
     ]
    },
    {
     "data": {
      "text/plain": [
       "52"
      ]
     },
     "execution_count": 802,
     "metadata": {},
     "output_type": "execute_result"
    }
   ],
   "source": [
    "\n",
    "#opioid scripts among the recently dead young people\n",
    "meds_plus_dem[meds_plus_dem['DESCRIPTION'].str.contains(\"codone\")][meds_plus_dem['DEATHYEAR']>1990][meds_plus_dem['BIRTHYEAR']>1980]['Id'].nunique()"
   ]
  },
  {
   "cell_type": "code",
   "execution_count": 803,
   "metadata": {},
   "outputs": [
    {
     "name": "stderr",
     "output_type": "stream",
     "text": [
      "/usr/local/lib/python3.7/site-packages/ipykernel_launcher.py:1: UserWarning: Boolean Series key will be reindexed to match DataFrame index.\n",
      "  \"\"\"Entry point for launching an IPython kernel.\n"
     ]
    },
    {
     "data": {
      "text/plain": [
       "146"
      ]
     },
     "execution_count": 803,
     "metadata": {},
     "output_type": "execute_result"
    }
   ],
   "source": [
    "#Total recently dead young people\n",
    "pats[pats['DEATHYEAR']>1990][pats['BIRTHYEAR']>1980]['Id'].nunique()"
   ]
  },
  {
   "cell_type": "code",
   "execution_count": 805,
   "metadata": {},
   "outputs": [
    {
     "data": {
      "text/plain": [
       "0.3561643835616438"
      ]
     },
     "execution_count": 805,
     "metadata": {},
     "output_type": "execute_result"
    }
   ],
   "source": [
    "52/146  #That's a lot of dead young people with opioid prescriptions? OR is it?"
   ]
  },
  {
   "cell_type": "code",
   "execution_count": 806,
   "metadata": {},
   "outputs": [
    {
     "name": "stderr",
     "output_type": "stream",
     "text": [
      "/usr/local/lib/python3.7/site-packages/ipykernel_launcher.py:1: UserWarning: Boolean Series key will be reindexed to match DataFrame index.\n",
      "  \"\"\"Entry point for launching an IPython kernel.\n"
     ]
    },
    {
     "data": {
      "text/plain": [
       "Posttraumatic stress disorder    4\n",
       "Primary fibromyalgia syndrome    4\n",
       "Name: REASONDESCRIPTION, dtype: int64"
      ]
     },
     "execution_count": 806,
     "metadata": {},
     "output_type": "execute_result"
    }
   ],
   "source": [
    "#Any useful data in the reason description? Not really\n",
    "meds_plus_dem[meds_plus_dem['DESCRIPTION'].str.contains(\"codone\")][meds_plus_dem['DEATHDATE'].isnull()]['REASONDESCRIPTION'].value_counts()"
   ]
  },
  {
   "cell_type": "code",
   "execution_count": 1039,
   "metadata": {},
   "outputs": [],
   "source": [
    "#meds_plus_dem[meds_plus_dem['DESCRIPTION'].str.contains(\"codone\")][meds_plus_dem['DEATHDATE'].isnull()][meds_plus_dem['BIRTHYEAR']>1980]['Id'].value_counts()[:10]"
   ]
  },
  {
   "cell_type": "markdown",
   "metadata": {},
   "source": [
    "### Checking for other insanity in meds"
   ]
  },
  {
   "cell_type": "code",
   "execution_count": 795,
   "metadata": {},
   "outputs": [
    {
     "data": {
      "text/plain": [
       "(array([9.0282e+04, 5.5000e+01, 1.8000e+01, 1.3000e+01, 6.0000e+00,\n",
       "        5.0000e+00, 1.0000e+00, 0.0000e+00, 0.0000e+00, 1.0000e+00]),\n",
       " array([2.90000000e-01, 1.91952726e+05, 3.83905162e+05, 5.75857598e+05,\n",
       "        7.67810034e+05, 9.59762470e+05, 1.15171491e+06, 1.34366734e+06,\n",
       "        1.53561978e+06, 1.72757221e+06, 1.91952465e+06]),\n",
       " <a list of 10 Patch objects>)"
      ]
     },
     "execution_count": 795,
     "metadata": {},
     "output_type": "execute_result"
    },
    {
     "data": {
      "image/png": "[encoded data removed]",
      "text/plain": [
       "<Figure size 432x288 with 1 Axes>"
      ]
     },
     "metadata": {
      "needs_background": "light"
     },
     "output_type": "display_data"
    }
   ],
   "source": [
    "plt.hist(meds_plus_dem['TOTALCOST'])"
   ]
  },
  {
   "cell_type": "code",
   "execution_count": 808,
   "metadata": {},
   "outputs": [
    {
     "data": {
      "text/plain": [
       "Hyperlipidemia                                                           14029\n",
       "Anemia (disorder)                                                        12193\n",
       "Non-small cell carcinoma of lung  TNM stage 1 (disorder)                  8128\n",
       "Acute bronchitis (disorder)                                               6149\n",
       "Viral sinusitis (disorder)                                                2709\n",
       "Streptococcal sore throat (disorder)                                      1644\n",
       "Primary small cell malignant neoplasm of lung  TNM stage 1 (disorder)     1376\n",
       "Chronic congestive heart failure (disorder)                               1123\n",
       "Hypertension                                                               829\n",
       "Escherichia coli urinary tract infection                                   747\n",
       "Diabetes                                                                   617\n",
       "Cystitis                                                                   512\n",
       "Alzheimer's disease (disorder)                                             475\n",
       "Childhood asthma                                                           248\n",
       "Osteoarthritis of knee                                                     227\n",
       "Name: REASONDESCRIPTION, dtype: int64"
      ]
     },
     "execution_count": 808,
     "metadata": {},
     "output_type": "execute_result"
    }
   ],
   "source": [
    "meds_plus_dem['REASONDESCRIPTION'].value_counts()[:15]"
   ]
  },
  {
   "cell_type": "code",
   "execution_count": 809,
   "metadata": {},
   "outputs": [],
   "source": [
    "#Cancer. Lung cancer is generally 20-30 / 100k people per year. So I'd expect 1-3 in my 8000 person sample per year. That's "
   ]
  },
  {
   "cell_type": "code",
   "execution_count": 824,
   "metadata": {},
   "outputs": [
    {
     "data": {
      "text/plain": [
       "118"
      ]
     },
     "execution_count": 824,
     "metadata": {},
     "output_type": "execute_result"
    }
   ],
   "source": [
    "meds_plus_dem[meds_plus_dem['REASONDESCRIPTION'].str.contains(\"lung\")==True]['Id'].nunique()"
   ]
  },
  {
   "cell_type": "code",
   "execution_count": 828,
   "metadata": {},
   "outputs": [
    {
     "data": {
      "text/plain": [
       "1929    1410\n",
       "1932     802\n",
       "1930     786\n",
       "1931     478\n",
       "1928     428\n",
       "1947     342\n",
       "1936     338\n",
       "1939     296\n",
       "1950     240\n",
       "1914     236\n",
       "1918     216\n",
       "1963     212\n",
       "1922     212\n",
       "1965     212\n",
       "1940     206\n",
       "1916     198\n",
       "1935     190\n",
       "1952     170\n",
       "1937     164\n",
       "1919     156\n",
       "1943     144\n",
       "1941     142\n",
       "1967     140\n",
       "1917     134\n",
       "1934     118\n",
       "1951     118\n",
       "1921     118\n",
       "1942      96\n",
       "1961      96\n",
       "1945      94\n",
       "1955      94\n",
       "1962      94\n",
       "1927      94\n",
       "1924      92\n",
       "1933      92\n",
       "1953      90\n",
       "1920      80\n",
       "1966      72\n",
       "1948      70\n",
       "1912      62\n",
       "1938      48\n",
       "1915      48\n",
       "1970      26\n",
       "1946      16\n",
       "1923      12\n",
       "1926      12\n",
       "1925      10\n",
       "Name: BIRTHYEAR, dtype: int64"
      ]
     },
     "execution_count": 828,
     "metadata": {},
     "output_type": "execute_result"
    }
   ],
   "source": [
    "meds_plus_dem[meds_plus_dem['REASONDESCRIPTION'].str.contains(\"lung\")==True]['BIRTHYEAR'].value_counts()"
   ]
  },
  {
   "cell_type": "code",
   "execution_count": 1033,
   "metadata": {},
   "outputs": [
    {
     "name": "stderr",
     "output_type": "stream",
     "text": [
      "/usr/local/lib/python3.7/site-packages/ipykernel_launcher.py:1: UserWarning: Boolean Series key will be reindexed to match DataFrame index.\n",
      "  \"\"\"Entry point for launching an IPython kernel.\n"
     ]
    },
    {
     "data": {
      "text/plain": [
       "69"
      ]
     },
     "execution_count": 1033,
     "metadata": {},
     "output_type": "execute_result"
    }
   ],
   "source": [
    "# 69 old folks with lung problems? But they have repeated problems\n",
    "meds_plus_dem[meds_plus_dem['REASONDESCRIPTION'].str.contains(\"lung\")==True][meds_plus_dem['BIRTHYEAR']<1935]['PATIENT'].nunique()"
   ]
  },
  {
   "cell_type": "code",
   "execution_count": 890,
   "metadata": {},
   "outputs": [
    {
     "name": "stderr",
     "output_type": "stream",
     "text": [
      "/usr/local/lib/python3.7/site-packages/ipykernel_launcher.py:1: UserWarning: Boolean Series key will be reindexed to match DataFrame index.\n",
      "  \"\"\"Entry point for launching an IPython kernel.\n"
     ]
    },
    {
     "data": {
      "text/plain": [
       "100"
      ]
     },
     "execution_count": 890,
     "metadata": {},
     "output_type": "execute_result"
    }
   ],
   "source": [
    "#Only 100 people getting insulin?\n",
    "meds_plus_dem[meds_plus_dem['DESCRIPTION'].str.contains(\"insulin\")][meds_plus_dem['DEATHDATE'].isnull()]['Id'].nunique()"
   ]
  },
  {
   "cell_type": "code",
   "execution_count": 1040,
   "metadata": {},
   "outputs": [],
   "source": [
    "#meds_plus_dem[meds_plus_dem['DESCRIPTION'].str.contains(\"insulin\")]"
   ]
  },
  {
   "cell_type": "code",
   "execution_count": null,
   "metadata": {},
   "outputs": [],
   "source": [
    "#ONLY 100 people are getting insulin? That can't be right? There's 190 diabetics! (see below)"
   ]
  },
  {
   "cell_type": "code",
   "execution_count": 352,
   "metadata": {},
   "outputs": [],
   "source": [
    "\n"
   ]
  },
  {
   "cell_type": "markdown",
   "metadata": {},
   "source": [
    "### OBSERVATIONS"
   ]
  },
  {
   "cell_type": "code",
   "execution_count": 829,
   "metadata": {},
   "outputs": [],
   "source": [
    "obs = pd.read_csv(\"observations.csv\")"
   ]
  },
  {
   "cell_type": "code",
   "execution_count": 830,
   "metadata": {},
   "outputs": [
    {
     "data": {
      "text/plain": [
       "Index(['DATE', 'PATIENT', 'ENCOUNTER', 'CODE', 'DESCRIPTION', 'VALUE', 'UNITS',\n",
       "       'TYPE'],\n",
       "      dtype='object')"
      ]
     },
     "execution_count": 830,
     "metadata": {},
     "output_type": "execute_result"
    }
   ],
   "source": [
    "obs.columns"
   ]
  },
  {
   "cell_type": "code",
   "execution_count": 836,
   "metadata": {},
   "outputs": [],
   "source": [
    "obs['DATE'] = obs['DATE'].apply(pd.to_datetime)"
   ]
  },
  {
   "cell_type": "code",
   "execution_count": 837,
   "metadata": {},
   "outputs": [],
   "source": [
    "## LOOKING JUST AT RECENTER STUFF\n",
    "obs = obs[obs['DATE'].dt.year >= 1990]"
   ]
  },
  {
   "cell_type": "code",
   "execution_count": 839,
   "metadata": {},
   "outputs": [
    {
     "data": {
      "text/plain": [
       "Pain severity - 0-10 verbal numeric rating [Score] - Reported    174135\n",
       "Diastolic Blood Pressure                                         133346\n",
       "Systolic Blood Pressure                                          133346\n",
       "Body Weight                                                      132003\n",
       "Tobacco smoking status NHIS                                      132003\n",
       "Body Height                                                      132003\n",
       "Body Mass Index                                                  120924\n",
       "Glucose                                                           74491\n",
       "Urea Nitrogen                                                     74491\n",
       "Carbon Dioxide                                                    74491\n",
       "Potassium                                                         74491\n",
       "Chloride                                                          74491\n",
       "Creatinine                                                        74491\n",
       "Calcium                                                           74491\n",
       "Sodium                                                            74491\n",
       "Triglycerides                                                     63467\n",
       "Low Density Lipoprotein Cholesterol                               63467\n",
       "Total Cholesterol                                                 63467\n",
       "High Density Lipoprotein Cholesterol                              63467\n",
       "Hemoglobin A1c/Hemoglobin.total in Blood                          56693\n",
       "Name: DESCRIPTION, dtype: int64"
      ]
     },
     "execution_count": 839,
     "metadata": {},
     "output_type": "execute_result"
    }
   ],
   "source": [
    "obs['DESCRIPTION'].value_counts()[:20]"
   ]
  },
  {
   "cell_type": "code",
   "execution_count": 840,
   "metadata": {},
   "outputs": [],
   "source": [
    "causes_of_death = obs[obs['DESCRIPTION'].apply(lambda x: 'Death' in x) == True]"
   ]
  },
  {
   "cell_type": "code",
   "execution_count": 841,
   "metadata": {},
   "outputs": [
    {
     "data": {
      "text/plain": [
       "2127"
      ]
     },
     "execution_count": 841,
     "metadata": {},
     "output_type": "execute_result"
    }
   ],
   "source": [
    "len(causes_of_death)"
   ]
  },
  {
   "cell_type": "code",
   "execution_count": 868,
   "metadata": {},
   "outputs": [
    {
     "data": {
      "text/plain": [
       "[adults, middle_age, senior, kids, teens, elder, NaN]\n",
       "Categories (6, object): [kids < teens < adults < middle_age < senior < elder]"
      ]
     },
     "execution_count": 868,
     "metadata": {},
     "output_type": "execute_result"
    }
   ],
   "source": [
    "dead['AGE_BIN_AT_DEATH'].unique()"
   ]
  },
  {
   "cell_type": "code",
   "execution_count": 871,
   "metadata": {},
   "outputs": [],
   "source": [
    "#Let's bin folks by age so I can get a grip on causes of death\n",
    "\n",
    "recent_dead_folk = recent_dead['Id'].values\n",
    "recent_dead_seniors = recent_dead[recent_dead['AGE_BIN_AT_DEATH']=='senior']['Id'].values\n",
    "recent_dead_young = recent_dead[recent_dead['AGE_BIN_AT_DEATH']=='adults']['Id'].values\n",
    "recent_dead_middle_age = recent_dead[recent_dead['AGE_BIN_AT_DEATH']=='middle_age']['Id'].values\n",
    "recent_causes = causes_of_death[causes_of_death['PATIENT'].isin(recent_dead_folk)]\n",
    "recent_senior_causes = causes_of_death[causes_of_death['PATIENT'].isin(recent_dead_seniors)]\n",
    "recent_ya_causes = causes_of_death[causes_of_death['PATIENT'].isin(recent_dead_young)]\n",
    "recent_ma_causes = causes_of_death[causes_of_death['PATIENT'].isin(recent_dead_middle_age)]"
   ]
  },
  {
   "cell_type": "code",
   "execution_count": 872,
   "metadata": {},
   "outputs": [
    {
     "data": {
      "text/plain": [
       "Natural death with unknown cause                          0.379310\n",
       "Drug overdose                                             0.281609\n",
       "Myocardial Infarction                                     0.086207\n",
       "Malignant tumor of colon                                  0.045977\n",
       "Pneumonia                                                 0.040230\n",
       "Non-small cell lung cancer (disorder)                     0.034483\n",
       "Familial Alzheimer's disease of early onset (disorder)    0.022989\n",
       "Pulmonary emphysema (disorder)                            0.022989\n",
       "Sudden Cardiac Death                                      0.017241\n",
       "Overlapping malignant neoplasm of colon                   0.011494\n",
       "Name: VALUE, dtype: float64"
      ]
     },
     "execution_count": 872,
     "metadata": {},
     "output_type": "execute_result"
    }
   ],
   "source": [
    "recent_ma_causes['VALUE'].value_counts()[:10]/len(recent_ma_causes)"
   ]
  },
  {
   "cell_type": "code",
   "execution_count": 870,
   "metadata": {},
   "outputs": [
    {
     "data": {
      "text/plain": [
       "Drug overdose                                               0.490196\n",
       "Natural death with unknown cause                            0.274510\n",
       "Myocardial Infarction                                       0.078431\n",
       "Bullet wound                                                0.039216\n",
       "Sudden Cardiac Death                                        0.039216\n",
       "Malignant tumor of colon                                    0.019608\n",
       "Cardiac Arrest                                              0.019608\n",
       "Pulmonary emphysema (disorder)                              0.019608\n",
       "Fracture of the vertebral column with spinal cord injury    0.019608\n",
       "Name: VALUE, dtype: float64"
      ]
     },
     "execution_count": 870,
     "metadata": {},
     "output_type": "execute_result"
    }
   ],
   "source": [
    "recent_ya_causes['VALUE'].value_counts()[:10]/len(recent_ya_causes)"
   ]
  },
  {
   "cell_type": "code",
   "execution_count": 860,
   "metadata": {},
   "outputs": [
    {
     "data": {
      "text/plain": [
       "Natural death with unknown cause         0.553802\n",
       "Drug overdose                            0.143472\n",
       "Myocardial Infarction                    0.055954\n",
       "Pneumonia                                0.048780\n",
       "Sudden Cardiac Death                     0.035868\n",
       "Alzheimer's disease (disorder)           0.030129\n",
       "Stroke                                   0.028694\n",
       "Non-small cell lung cancer (disorder)    0.025825\n",
       "Pulmonary emphysema (disorder)           0.014347\n",
       "Malignant tumor of colon                 0.014347\n",
       "Name: VALUE, dtype: float64"
      ]
     },
     "execution_count": 860,
     "metadata": {},
     "output_type": "execute_result"
    }
   ],
   "source": [
    "recent_causes['VALUE'].value_counts()[:10]/len(recent_causes)"
   ]
  },
  {
   "cell_type": "code",
   "execution_count": 861,
   "metadata": {},
   "outputs": [
    {
     "data": {
      "text/plain": [
       "Natural death with unknown cause           0.672209\n",
       "Pneumonia                                  0.059382\n",
       "Drug overdose                              0.054632\n",
       "Alzheimer's disease (disorder)             0.049881\n",
       "Myocardial Infarction                      0.045131\n",
       "Stroke                                     0.040380\n",
       "Non-small cell lung cancer (disorder)      0.028504\n",
       "Pulmonary emphysema (disorder)             0.011876\n",
       "Cardiac Arrest                             0.009501\n",
       "Small cell carcinoma of lung (disorder)    0.007126\n",
       "Name: VALUE, dtype: float64"
      ]
     },
     "execution_count": 861,
     "metadata": {},
     "output_type": "execute_result"
    }
   ],
   "source": [
    "recent_senior_causes['VALUE'].value_counts()[:10]/len(recent_senior_causes)"
   ]
  },
  {
   "cell_type": "code",
   "execution_count": 873,
   "metadata": {},
   "outputs": [
    {
     "data": {
      "text/plain": [
       "Natural death with unknown cause                          0.512929\n",
       "Drug overdose                                             0.139633\n",
       "Myocardial Infarction                                     0.060179\n",
       "Sudden Cardiac Death                                      0.043724\n",
       "Non-small cell lung cancer (disorder)                     0.038082\n",
       "Stroke                                                    0.035731\n",
       "Pneumonia                                                 0.032910\n",
       "Neoplasm of prostate                                      0.024918\n",
       "Alzheimer's disease (disorder)                            0.024448\n",
       "Pulmonary emphysema (disorder)                            0.015985\n",
       "Cardiac Arrest                                            0.015985\n",
       "Malignant tumor of colon                                  0.011754\n",
       "Chronic obstructive bronchitis (disorder)                 0.009873\n",
       "Familial Alzheimer's disease of early onset (disorder)    0.007992\n",
       "Small cell carcinoma of lung (disorder)                   0.005172\n",
       "Name: VALUE, dtype: float64"
      ]
     },
     "execution_count": 873,
     "metadata": {},
     "output_type": "execute_result"
    }
   ],
   "source": [
    "#causes_of_death['VALUE'].value_counts()[:15]/len(causes_of_death)"
   ]
  },
  {
   "cell_type": "code",
   "execution_count": 874,
   "metadata": {},
   "outputs": [],
   "source": [
    "bmis = obs[obs['DESCRIPTION']=='Body Mass Index'].sort_values(\"DATE\").groupby(\"PATIENT\").last()\n",
    "\n",
    "#KEEPS THE MOST RECENT BMI OBSERVATION FOR EACH PATIENT"
   ]
  },
  {
   "cell_type": "code",
   "execution_count": 875,
   "metadata": {},
   "outputs": [
    {
     "name": "stderr",
     "output_type": "stream",
     "text": [
      "/usr/local/lib/python3.7/site-packages/numpy/lib/histograms.py:824: RuntimeWarning: invalid value encountered in greater_equal\n",
      "  keep = (tmp_a >= first_edge)\n",
      "/usr/local/lib/python3.7/site-packages/numpy/lib/histograms.py:825: RuntimeWarning: invalid value encountered in less_equal\n",
      "  keep &= (tmp_a <= last_edge)\n"
     ]
    },
    {
     "data": {
      "text/plain": [
       "<matplotlib.lines.Line2D at 0x193a57a90>"
      ]
     },
     "execution_count": 875,
     "metadata": {},
     "output_type": "execute_result"
    },
    {
     "data": {
      "image/png": "[encoded data removed]",
      "text/plain": [
       "<Figure size 432x288 with 1 Axes>"
      ]
     },
     "metadata": {
      "needs_background": "light"
     },
     "output_type": "display_data"
    }
   ],
   "source": [
    "#print(bmis.head())\n",
    "\n",
    "plt.hist(bmis['VALUE'].apply(float), bins=50)\n",
    "plt.axvline(x=25, color='g')\n",
    "plt.axvline(x=20, color = 'r')\n",
    "plt.axvline(x=30, color = 'r')"
   ]
  },
  {
   "cell_type": "code",
   "execution_count": 889,
   "metadata": {},
   "outputs": [
    {
     "data": {
      "text/plain": [
       "0.29154169166166766"
      ]
     },
     "execution_count": 889,
     "metadata": {},
     "output_type": "execute_result"
    }
   ],
   "source": [
    "#obese = bmis[bmis['VALUE'].apply(float)>35]['PATIENT'].values\n",
    "bmis.reset_index()\n",
    "obese = bmis[bmis['VALUE'].apply(float)>35].reset_index()\n",
    "alive_ids = alive['Id'].values\n",
    "alive_obese = obese[obese['PATIENT'].isin(alive_ids)]\n",
    "len(alive_obese)/len(alive)\n",
    "\n",
    "#30% obesity rate....that's no bueno"
   ]
  },
  {
   "cell_type": "markdown",
   "metadata": {},
   "source": [
    "### ALLERGIES"
   ]
  },
  {
   "cell_type": "code",
   "execution_count": 359,
   "metadata": {},
   "outputs": [],
   "source": [
    "allergy = pd.read_csv(\"allergies.csv\")"
   ]
  },
  {
   "cell_type": "code",
   "execution_count": 414,
   "metadata": {},
   "outputs": [
    {
     "data": {
      "text/plain": [
       "Index(['START', 'STOP', 'PATIENT', 'ENCOUNTER', 'CODE', 'DESCRIPTION'], dtype='object')"
      ]
     },
     "execution_count": 414,
     "metadata": {},
     "output_type": "execute_result"
    }
   ],
   "source": [
    "allergy.columns"
   ]
  },
  {
   "cell_type": "code",
   "execution_count": 415,
   "metadata": {},
   "outputs": [
    {
     "data": {
      "text/plain": [
       "Allergy to mould            470\n",
       "Dander (animal) allergy     434\n",
       "House dust mite allergy     344\n",
       "Allergy to tree pollen      326\n",
       "Allergy to grass pollen     318\n",
       "Shellfish allergy           269\n",
       "Allergy to peanuts          177\n",
       "Allergy to bee venom        143\n",
       "Allergy to fish             138\n",
       "Allergy to eggs             131\n",
       "Latex allergy               131\n",
       "Allergy to nut              127\n",
       "Allergy to wheat            127\n",
       "Allergy to dairy product     79\n",
       "Allergy to soya              48\n",
       "Name: DESCRIPTION, dtype: int64"
      ]
     },
     "execution_count": 415,
     "metadata": {},
     "output_type": "execute_result"
    }
   ],
   "source": [
    "allergy['DESCRIPTION'].value_counts()"
   ]
  },
  {
   "cell_type": "code",
   "execution_count": null,
   "metadata": {},
   "outputs": [],
   "source": [
    "# This seems...fine"
   ]
  },
  {
   "cell_type": "markdown",
   "metadata": {},
   "source": [
    "### ENCOUNTERS"
   ]
  },
  {
   "cell_type": "code",
   "execution_count": 355,
   "metadata": {},
   "outputs": [],
   "source": [
    "enc = pd.read_csv(\"encounters.csv\")"
   ]
  },
  {
   "cell_type": "code",
   "execution_count": 408,
   "metadata": {},
   "outputs": [
    {
     "data": {
      "text/plain": [
       "Index(['Id', 'START', 'STOP', 'PATIENT', 'PROVIDER', 'ENCOUNTERCLASS', 'CODE',\n",
       "       'DESCRIPTION', 'COST', 'REASONCODE', 'REASONDESCRIPTION'],\n",
       "      dtype='object')"
      ]
     },
     "execution_count": 408,
     "metadata": {},
     "output_type": "execute_result"
    }
   ],
   "source": [
    "enc.columns"
   ]
  },
  {
   "cell_type": "code",
   "execution_count": 959,
   "metadata": {},
   "outputs": [],
   "source": [
    "enc = enc[enc['START'].apply(lambda x: int(x[:4]))>1990]"
   ]
  },
  {
   "cell_type": "code",
   "execution_count": 960,
   "metadata": {},
   "outputs": [
    {
     "data": {
      "text/plain": [
       "Encounter for problem (procedure)         214828\n",
       "Encounter for check up (procedure)        131636\n",
       "Outpatient procedure (procedure)           46976\n",
       "Encounter for symptom                      36039\n",
       "Prenatal visit                             26880\n",
       "Emergency Room Admission                   22858\n",
       "Outpatient procedure                       17710\n",
       "Encounter for problem                      17314\n",
       "Drug rehabilitation and detoxification     17254\n",
       "Patient encounter procedure                16386\n",
       "Follow-up encounter                        14041\n",
       "Consultation for treatment                 12278\n",
       "Encounter for 'check-up'                   11108\n",
       "Encounter Inpatient                        10521\n",
       "Emergency room admission (procedure)        8590\n",
       "Emergency Encounter                         6841\n",
       "Prenatal initial visit                      5314\n",
       "Postnatal visit                             3117\n",
       "Obstetric emergency hospital admission      3115\n",
       "Asthma follow-up                            2408\n",
       "Name: DESCRIPTION, dtype: int64"
      ]
     },
     "execution_count": 960,
     "metadata": {},
     "output_type": "execute_result"
    }
   ],
   "source": [
    "enc['DESCRIPTION'].value_counts()[:20]"
   ]
  },
  {
   "cell_type": "code",
   "execution_count": 962,
   "metadata": {},
   "outputs": [
    {
     "data": {
      "text/plain": [
       "Normal pregnancy                                                         35374\n",
       "Drug overdose                                                            22195\n",
       "Hyperlipidemia                                                           14029\n",
       "Viral sinusitis (disorder)                                               13521\n",
       "Acute viral pharyngitis (disorder)                                        7538\n",
       "Child attention deficit disorder                                          6367\n",
       "Acute bronchitis (disorder)                                               6364\n",
       "Chronic pain                                                              3486\n",
       "Chronic intractable migraine without aura                                 3446\n",
       "Impacted molars                                                           3432\n",
       "Chronic congestive heart failure (disorder)                               2412\n",
       "Asthma                                                                    2005\n",
       "Otitis media                                                              1848\n",
       "Sinusitis (disorder)                                                      1841\n",
       "Streptococcal sore throat (disorder)                                      1781\n",
       "Acute bacterial sinusitis (disorder)                                      1611\n",
       "Anemia (disorder)                                                         1319\n",
       "Childhood asthma                                                           992\n",
       "Concussion with no loss of consciousness                                   763\n",
       "Primary small cell malignant neoplasm of lung  TNM stage 1 (disorder)      700\n",
       "Name: REASONDESCRIPTION, dtype: int64"
      ]
     },
     "execution_count": 962,
     "metadata": {},
     "output_type": "execute_result"
    }
   ],
   "source": [
    "enc['REASONDESCRIPTION'].value_counts()[:20]"
   ]
  },
  {
   "cell_type": "code",
   "execution_count": 976,
   "metadata": {},
   "outputs": [
    {
     "data": {
      "text/html": [
       "<div>\n",
       "<style scoped>\n",
       "    .dataframe tbody tr th:only-of-type {\n",
       "        vertical-align: middle;\n",
       "    }\n",
       "\n",
       "    .dataframe tbody tr th {\n",
       "        vertical-align: top;\n",
       "    }\n",
       "\n",
       "    .dataframe thead th {\n",
       "        text-align: right;\n",
       "    }\n",
       "</style>\n",
       "<table border=\"1\" class=\"dataframe\">\n",
       "  <thead>\n",
       "    <tr style=\"text-align: right;\">\n",
       "      <th></th>\n",
       "      <th>Id</th>\n",
       "      <th>START</th>\n",
       "      <th>STOP</th>\n",
       "      <th>PATIENT</th>\n",
       "      <th>PROVIDER</th>\n",
       "      <th>ENCOUNTERCLASS</th>\n",
       "      <th>CODE</th>\n",
       "      <th>DESCRIPTION</th>\n",
       "      <th>COST</th>\n",
       "      <th>REASONCODE</th>\n",
       "      <th>REASONDESCRIPTION</th>\n",
       "    </tr>\n",
       "  </thead>\n",
       "  <tbody>\n",
       "    <tr>\n",
       "      <th>384732</th>\n",
       "      <td>e0c46e39-630c-40ac-9274-58106f2bdafd</td>\n",
       "      <td>2004-10-23T09:17:09Z</td>\n",
       "      <td>2004-11-20T10:17:09Z</td>\n",
       "      <td>c4ae5f6e-6136-48e4-b1e1-311f586d6563</td>\n",
       "      <td>f4e7709c-02f6-37ca-aeea-8247d74e88e7</td>\n",
       "      <td>inpatient</td>\n",
       "      <td>185347001</td>\n",
       "      <td>Encounter for problem</td>\n",
       "      <td>129.16</td>\n",
       "      <td>3.685810e+14</td>\n",
       "      <td>neuropathy due to type 2 diabetes mellitus (di...</td>\n",
       "    </tr>\n",
       "    <tr>\n",
       "      <th>543579</th>\n",
       "      <td>02a8ec02-0bcf-42d6-9946-e8b845e06b52</td>\n",
       "      <td>1997-04-03T11:27:35Z</td>\n",
       "      <td>1997-05-08T12:27:35Z</td>\n",
       "      <td>d135c94d-692d-4edd-b8cb-35c89cc4d54d</td>\n",
       "      <td>a9f20dc1-5147-3789-bcef-bbecb41c5983</td>\n",
       "      <td>inpatient</td>\n",
       "      <td>185347001</td>\n",
       "      <td>Encounter for problem</td>\n",
       "      <td>129.16</td>\n",
       "      <td>3.685810e+14</td>\n",
       "      <td>neuropathy due to type 2 diabetes mellitus (di...</td>\n",
       "    </tr>\n",
       "  </tbody>\n",
       "</table>\n",
       "</div>"
      ],
      "text/plain": [
       "                                          Id                 START  \\\n",
       "384732  e0c46e39-630c-40ac-9274-58106f2bdafd  2004-10-23T09:17:09Z   \n",
       "543579  02a8ec02-0bcf-42d6-9946-e8b845e06b52  1997-04-03T11:27:35Z   \n",
       "\n",
       "                        STOP                               PATIENT  \\\n",
       "384732  2004-11-20T10:17:09Z  c4ae5f6e-6136-48e4-b1e1-311f586d6563   \n",
       "543579  1997-05-08T12:27:35Z  d135c94d-692d-4edd-b8cb-35c89cc4d54d   \n",
       "\n",
       "                                    PROVIDER ENCOUNTERCLASS       CODE  \\\n",
       "384732  f4e7709c-02f6-37ca-aeea-8247d74e88e7      inpatient  185347001   \n",
       "543579  a9f20dc1-5147-3789-bcef-bbecb41c5983      inpatient  185347001   \n",
       "\n",
       "                  DESCRIPTION    COST    REASONCODE  \\\n",
       "384732  Encounter for problem  129.16  3.685810e+14   \n",
       "543579  Encounter for problem  129.16  3.685810e+14   \n",
       "\n",
       "                                        REASONDESCRIPTION  \n",
       "384732  neuropathy due to type 2 diabetes mellitus (di...  \n",
       "543579  neuropathy due to type 2 diabetes mellitus (di...  "
      ]
     },
     "execution_count": 976,
     "metadata": {},
     "output_type": "execute_result"
    }
   ],
   "source": [
    "enc['REASONDESCRIPTION']=enc['REASONDESCRIPTION'].str.lower()\n",
    "enc[enc['REASONDESCRIPTION'].apply(lambda x: 'diabetes' in str(x))]"
   ]
  },
  {
   "cell_type": "code",
   "execution_count": null,
   "metadata": {},
   "outputs": [],
   "source": [
    "## WHERE ARE THE DIABETES ENCOUNTERS. I probably need to dig into the codes and I don't have time."
   ]
  },
  {
   "cell_type": "markdown",
   "metadata": {},
   "source": [
    "### CONDITIONS"
   ]
  },
  {
   "cell_type": "code",
   "execution_count": 358,
   "metadata": {},
   "outputs": [],
   "source": [
    "cond = pd.read_csv(\"conditions.csv\")"
   ]
  },
  {
   "cell_type": "code",
   "execution_count": 942,
   "metadata": {},
   "outputs": [
    {
     "data": {
      "text/plain": [
       "Index(['START', 'STOP', 'PATIENT', 'ENCOUNTER', 'CODE', 'DESCRIPTION', 'Id',\n",
       "       'BIRTHDATE', 'DEATHDATE', 'SSN', 'DRIVERS', 'PASSPORT', 'PREFIX',\n",
       "       'FIRST', 'LAST', 'SUFFIX', 'MAIDEN', 'MARITAL', 'RACE', 'ETHNICITY',\n",
       "       'GENDER', 'BIRTHPLACE', 'ADDRESS', 'CITY', 'STATE', 'ZIP', 'BIRTHYEAR',\n",
       "       'BIRTHDAY', 'BIRTHMONTH'],\n",
       "      dtype='object')"
      ]
     },
     "execution_count": 942,
     "metadata": {},
     "output_type": "execute_result"
    }
   ],
   "source": [
    "cond.columns"
   ]
  },
  {
   "cell_type": "code",
   "execution_count": 476,
   "metadata": {},
   "outputs": [],
   "source": [
    "cond = pd.merge(cond, pats, left_on=\"PATIENT\", right_on=\"Id\")"
   ]
  },
  {
   "cell_type": "code",
   "execution_count": 892,
   "metadata": {},
   "outputs": [],
   "source": [
    "cond['START']=cond['START'].apply(pd.to_datetime)"
   ]
  },
  {
   "cell_type": "code",
   "execution_count": 893,
   "metadata": {},
   "outputs": [],
   "source": [
    "## Keeping just the recent things\n",
    "cond = cond[cond['START'].dt.year > 1990]"
   ]
  },
  {
   "cell_type": "code",
   "execution_count": 902,
   "metadata": {},
   "outputs": [
    {
     "data": {
      "text/plain": [
       "viral sinusitis (disorder)                   13481\n",
       "acute viral pharyngitis (disorder)            7536\n",
       "acute bronchitis (disorder)                   6142\n",
       "normal pregnancy                              5047\n",
       "drug overdose                                 4517\n",
       "chronic pain                                  2466\n",
       "chronic intractable migraine without aura     2420\n",
       "impacted molars                               2412\n",
       "otitis media                                  1847\n",
       "streptococcal sore throat (disorder)          1781\n",
       "body mass index 30+ - obesity (finding)       1551\n",
       "anemia (disorder)                             1348\n",
       "sprain of ankle                               1324\n",
       "prediabetes                                   1092\n",
       "polyp of colon                                 871\n",
       "chronic sinusitis (disorder)                   766\n",
       "concussion with no loss of consciousness       765\n",
       "acute bacterial sinusitis (disorder)           743\n",
       "sinusitis (disorder)                           732\n",
       "hyperlipidemia                                 698\n",
       "hypertension                                   671\n",
       "miscarriage in first trimester                 626\n",
       "sprain of wrist                                609\n",
       "whiplash injury to neck                        608\n",
       "child attention deficit disorder               579\n",
       "Name: DESCRIPTION, dtype: int64"
      ]
     },
     "execution_count": 902,
     "metadata": {},
     "output_type": "execute_result"
    }
   ],
   "source": [
    "cond['DESCRIPTION'].value_counts()[:25]"
   ]
  },
  {
   "cell_type": "code",
   "execution_count": 900,
   "metadata": {},
   "outputs": [
    {
     "data": {
      "text/plain": [
       "prediabetes                                                                         1092\n",
       "diabetes                                                                             224\n",
       "neuropathy due to type 2 diabetes mellitus (disorder)                                120\n",
       "diabetic retinopathy associated with type ii diabetes mellitus (disorder)             96\n",
       "nonproliferative diabetic retinopathy due to type 2 diabetes mellitus (disorder)      60\n",
       "macular edema and retinopathy due to type 2 diabetes mellitus (disorder)              34\n",
       "proliferative diabetic retinopathy due to type ii diabetes mellitus (disorder)        24\n",
       "microalbuminuria due to type 2 diabetes mellitus (disorder)                           21\n",
       "proteinuria due to type 2 diabetes mellitus (disorder)                                 5\n",
       "blindness due to type 2 diabetes mellitus (disorder)                                   2\n",
       "Name: DESCRIPTION, dtype: int64"
      ]
     },
     "execution_count": 900,
     "metadata": {},
     "output_type": "execute_result"
    }
   ],
   "source": [
    "cond['DESCRIPTION']=cond['DESCRIPTION'].str.lower()\n",
    "cond[cond['DESCRIPTION'].str.contains(\"diabetes\")]['DESCRIPTION'].value_counts()"
   ]
  },
  {
   "cell_type": "code",
   "execution_count": 925,
   "metadata": {},
   "outputs": [],
   "source": [
    "##How many people have been diagnosed with diabetes?\n",
    "diabetics = cond[cond['DESCRIPTION']=='diabetes']['PATIENT'].unique()\n"
   ]
  },
  {
   "cell_type": "code",
   "execution_count": 929,
   "metadata": {},
   "outputs": [
    {
     "data": {
      "text/plain": [
       "0"
      ]
     },
     "execution_count": 929,
     "metadata": {},
     "output_type": "execute_result"
    }
   ],
   "source": [
    "## Have any of those fixed themselves with diet and exercise?\n",
    "sum(cond[cond['DESCRIPTION']=='diabetes']['STOP'].notnull())\n",
    "## NOPE."
   ]
  },
  {
   "cell_type": "code",
   "execution_count": 930,
   "metadata": {},
   "outputs": [
    {
     "data": {
      "text/plain": [
       "190"
      ]
     },
     "execution_count": 930,
     "metadata": {},
     "output_type": "execute_result"
    }
   ],
   "source": [
    "## So how many alive diabetics do we have?\n",
    "len(set(alive_ids).intersection(set(diabetics)))\n",
    "\n",
    "## THAT CAN\"T BE RIGHT - we only saw 100 alive folk getting insulin ever.\n",
    "## THAT'S LIKE HALF THE DIABETICS NOT GETTING INSULIN?"
   ]
  },
  {
   "cell_type": "code",
   "execution_count": null,
   "metadata": {},
   "outputs": [],
   "source": []
  },
  {
   "cell_type": "code",
   "execution_count": 977,
   "metadata": {},
   "outputs": [
    {
     "data": {
      "text/plain": [
       "0.038"
      ]
     },
     "execution_count": 977,
     "metadata": {},
     "output_type": "execute_result"
    }
   ],
   "source": [
    "190/5000\n",
    "#So 4% diabetes prevalence, but 30% obesity?\n",
    "# That has to be underdiagnosed. It's definitely being underserved in terms of insulin scripts."
   ]
  },
  {
   "cell_type": "code",
   "execution_count": 931,
   "metadata": {},
   "outputs": [
    {
     "data": {
      "text/plain": [
       "3017"
      ]
     },
     "execution_count": 931,
     "metadata": {},
     "output_type": "execute_result"
    }
   ],
   "source": [
    "overdoses = cond[cond['DESCRIPTION'].str.contains(\"overdose\")]['PATIENT'].unique()\n",
    "\n",
    "#THAT CAN'T BE RIGHT...\n",
    "len(set(alive_ids).intersection(set(overdoses)))"
   ]
  },
  {
   "cell_type": "code",
   "execution_count": 932,
   "metadata": {},
   "outputs": [
    {
     "data": {
      "text/plain": [
       "0.6034"
      ]
     },
     "execution_count": 932,
     "metadata": {},
     "output_type": "execute_result"
    }
   ],
   "source": [
    "3017/5000"
   ]
  },
  {
   "cell_type": "code",
   "execution_count": 933,
   "metadata": {},
   "outputs": [],
   "source": [
    "# 60% of alive patients have a drug overdose on their records?! Can that even be possible?"
   ]
  },
  {
   "cell_type": "code",
   "execution_count": 934,
   "metadata": {},
   "outputs": [
    {
     "data": {
      "text/plain": [
       "drug overdose    4517\n",
       "Name: DESCRIPTION, dtype: int64"
      ]
     },
     "execution_count": 934,
     "metadata": {},
     "output_type": "execute_result"
    }
   ],
   "source": [
    "cond[cond['DESCRIPTION'].str.contains(\"overdose\")]['DESCRIPTION'].value_counts()"
   ]
  },
  {
   "cell_type": "code",
   "execution_count": 939,
   "metadata": {},
   "outputs": [
    {
     "data": {
      "text/plain": [
       "4904"
      ]
     },
     "execution_count": 939,
     "metadata": {},
     "output_type": "execute_result"
    }
   ],
   "source": [
    "cond['PATIENT'].nunique() < alive['Id'].nunique()\n",
    "len(set(alive['Id'].values).intersection(set(cond['PATIENT'].values)))\n",
    "#That's fine. Some patients don't have any conditions, maybe"
   ]
  },
  {
   "cell_type": "code",
   "execution_count": 940,
   "metadata": {},
   "outputs": [
    {
     "name": "stderr",
     "output_type": "stream",
     "text": [
      "/usr/local/lib/python3.7/site-packages/ipykernel_launcher.py:1: UserWarning: Boolean Series key will be reindexed to match DataFrame index.\n",
      "  \"\"\"Entry point for launching an IPython kernel.\n"
     ]
    },
    {
     "data": {
      "text/plain": [
       "1501"
      ]
     },
     "execution_count": 940,
     "metadata": {},
     "output_type": "execute_result"
    }
   ],
   "source": [
    "len(cond[cond['DESCRIPTION'].str.contains(\"overdose\")][cond['DEATHDATE'].isnull()==False])"
   ]
  },
  {
   "cell_type": "code",
   "execution_count": 485,
   "metadata": {},
   "outputs": [],
   "source": [
    "#THAT SEEMS LIKE A LOT OF OVERDOSES TO ME?"
   ]
  },
  {
   "cell_type": "code",
   "execution_count": 944,
   "metadata": {},
   "outputs": [
    {
     "name": "stderr",
     "output_type": "stream",
     "text": [
      "/usr/local/lib/python3.7/site-packages/ipykernel_launcher.py:1: UserWarning: Boolean Series key will be reindexed to match DataFrame index.\n",
      "  \"\"\"Entry point for launching an IPython kernel.\n"
     ]
    },
    {
     "data": {
      "text/plain": [
       "645"
      ]
     },
     "execution_count": 944,
     "metadata": {},
     "output_type": "execute_result"
    }
   ],
   "source": [
    "len(cond[cond['DESCRIPTION'].str.contains(\"overdose\")][pd.to_datetime(cond['DEATHDATE']).dt.year>2010])"
   ]
  },
  {
   "cell_type": "code",
   "execution_count": 950,
   "metadata": {},
   "outputs": [
    {
     "data": {
      "text/plain": [
       "0.8131313131313131"
      ]
     },
     "execution_count": 950,
     "metadata": {},
     "output_type": "execute_result"
    }
   ],
   "source": [
    "len(set(recent_dead['Id'].values).intersection(set(overdoses)))/len(set(recent_dead['Id'].values))"
   ]
  },
  {
   "cell_type": "code",
   "execution_count": 951,
   "metadata": {},
   "outputs": [],
   "source": [
    "## A FULL 80% OF RECENT DEAD FOLK HAVE AN OVERDOSE ON THEIR RECORDS??!?!"
   ]
  },
  {
   "cell_type": "code",
   "execution_count": null,
   "metadata": {},
   "outputs": [],
   "source": [
    "## OK. I Want to know who the dirty docs are."
   ]
  },
  {
   "cell_type": "markdown",
   "metadata": {},
   "source": [
    "### PROVIDERS"
   ]
  },
  {
   "cell_type": "code",
   "execution_count": 467,
   "metadata": {},
   "outputs": [],
   "source": [
    "prov = pd.read_csv(\"providers.csv\")"
   ]
  },
  {
   "cell_type": "code",
   "execution_count": 404,
   "metadata": {},
   "outputs": [
    {
     "data": {
      "text/plain": [
       "Index(['Id', 'ORGANIZATION', 'NAME', 'GENDER', 'SPECIALITY', 'ADDRESS', 'CITY',\n",
       "       'STATE', 'ZIP', 'UTILIZATION'],\n",
       "      dtype='object')"
      ]
     },
     "execution_count": 404,
     "metadata": {},
     "output_type": "execute_result"
    }
   ],
   "source": [
    "prov.columns"
   ]
  },
  {
   "cell_type": "code",
   "execution_count": 405,
   "metadata": {},
   "outputs": [
    {
     "data": {
      "text/html": [
       "<div>\n",
       "<style scoped>\n",
       "    .dataframe tbody tr th:only-of-type {\n",
       "        vertical-align: middle;\n",
       "    }\n",
       "\n",
       "    .dataframe tbody tr th {\n",
       "        vertical-align: top;\n",
       "    }\n",
       "\n",
       "    .dataframe thead th {\n",
       "        text-align: right;\n",
       "    }\n",
       "</style>\n",
       "<table border=\"1\" class=\"dataframe\">\n",
       "  <thead>\n",
       "    <tr style=\"text-align: right;\">\n",
       "      <th></th>\n",
       "      <th>Id</th>\n",
       "      <th>ORGANIZATION</th>\n",
       "      <th>NAME</th>\n",
       "      <th>GENDER</th>\n",
       "      <th>SPECIALITY</th>\n",
       "      <th>ADDRESS</th>\n",
       "      <th>CITY</th>\n",
       "      <th>STATE</th>\n",
       "      <th>ZIP</th>\n",
       "      <th>UTILIZATION</th>\n",
       "    </tr>\n",
       "  </thead>\n",
       "  <tbody>\n",
       "    <tr>\n",
       "      <th>0</th>\n",
       "      <td>af944a62-54d2-4af0-b441-255e7f399cd2</td>\n",
       "      <td>ef58ea08-d883-3957-8300-150554edc8fb</td>\n",
       "      <td>Noe500 Dibbert990</td>\n",
       "      <td>M</td>\n",
       "      <td>GENERAL PRACTICE</td>\n",
       "      <td>60 HOSPITAL ROAD</td>\n",
       "      <td>LEOMINSTER</td>\n",
       "      <td>MA</td>\n",
       "      <td>1453</td>\n",
       "      <td>33568</td>\n",
       "    </tr>\n",
       "    <tr>\n",
       "      <th>1</th>\n",
       "      <td>66105bcb-96ef-4289-b1fb-996c631e5ea2</td>\n",
       "      <td>69176529-fd1f-3b3f-abce-a0a3626769eb</td>\n",
       "      <td>Mariam937 Gleason633</td>\n",
       "      <td>F</td>\n",
       "      <td>GENERAL PRACTICE</td>\n",
       "      <td>330 MOUNT AUBURN STREET</td>\n",
       "      <td>CAMBRIDGE</td>\n",
       "      <td>MA</td>\n",
       "      <td>2138</td>\n",
       "      <td>57842</td>\n",
       "    </tr>\n",
       "    <tr>\n",
       "      <th>2</th>\n",
       "      <td>e164c630-bacb-47e3-81d3-6821b8f5d112</td>\n",
       "      <td>5e765f2b-e908-3888-9fc7-df2cb87beb58</td>\n",
       "      <td>Dagny669 Schoen8</td>\n",
       "      <td>F</td>\n",
       "      <td>GENERAL PRACTICE</td>\n",
       "      <td>211 PARK STREET</td>\n",
       "      <td>ATTLEBORO</td>\n",
       "      <td>MA</td>\n",
       "      <td>2703</td>\n",
       "      <td>72109</td>\n",
       "    </tr>\n",
       "    <tr>\n",
       "      <th>3</th>\n",
       "      <td>9cdc032d-fcad-4aef-a5ef-b42626e9c34e</td>\n",
       "      <td>f1fbcbfb-fcfa-3bd2-b7f4-df20f1b3c3a4</td>\n",
       "      <td>Tyron580 Torphy630</td>\n",
       "      <td>M</td>\n",
       "      <td>GENERAL PRACTICE</td>\n",
       "      <td>ONE GENERAL STREET</td>\n",
       "      <td>LAWRENCE</td>\n",
       "      <td>MA</td>\n",
       "      <td>1842</td>\n",
       "      <td>66339</td>\n",
       "    </tr>\n",
       "    <tr>\n",
       "      <th>4</th>\n",
       "      <td>3880a375-efa5-456b-bcdf-b5aee0280512</td>\n",
       "      <td>e002090d-4e92-300e-b41e-7d1f21dee4c6</td>\n",
       "      <td>Loren192 Fay398</td>\n",
       "      <td>M</td>\n",
       "      <td>GENERAL PRACTICE</td>\n",
       "      <td>1493 CAMBRIDGE STREET</td>\n",
       "      <td>CAMBRIDGE</td>\n",
       "      <td>MA</td>\n",
       "      <td>2138</td>\n",
       "      <td>57789</td>\n",
       "    </tr>\n",
       "  </tbody>\n",
       "</table>\n",
       "</div>"
      ],
      "text/plain": [
       "                                     Id                          ORGANIZATION  \\\n",
       "0  af944a62-54d2-4af0-b441-255e7f399cd2  ef58ea08-d883-3957-8300-150554edc8fb   \n",
       "1  66105bcb-96ef-4289-b1fb-996c631e5ea2  69176529-fd1f-3b3f-abce-a0a3626769eb   \n",
       "2  e164c630-bacb-47e3-81d3-6821b8f5d112  5e765f2b-e908-3888-9fc7-df2cb87beb58   \n",
       "3  9cdc032d-fcad-4aef-a5ef-b42626e9c34e  f1fbcbfb-fcfa-3bd2-b7f4-df20f1b3c3a4   \n",
       "4  3880a375-efa5-456b-bcdf-b5aee0280512  e002090d-4e92-300e-b41e-7d1f21dee4c6   \n",
       "\n",
       "                   NAME GENDER        SPECIALITY                  ADDRESS  \\\n",
       "0     Noe500 Dibbert990      M  GENERAL PRACTICE         60 HOSPITAL ROAD   \n",
       "1  Mariam937 Gleason633      F  GENERAL PRACTICE  330 MOUNT AUBURN STREET   \n",
       "2      Dagny669 Schoen8      F  GENERAL PRACTICE          211 PARK STREET   \n",
       "3    Tyron580 Torphy630      M  GENERAL PRACTICE       ONE GENERAL STREET   \n",
       "4       Loren192 Fay398      M  GENERAL PRACTICE    1493 CAMBRIDGE STREET   \n",
       "\n",
       "         CITY STATE   ZIP  UTILIZATION  \n",
       "0  LEOMINSTER    MA  1453        33568  \n",
       "1   CAMBRIDGE    MA  2138        57842  \n",
       "2   ATTLEBORO    MA  2703        72109  \n",
       "3    LAWRENCE    MA  1842        66339  \n",
       "4   CAMBRIDGE    MA  2138        57789  "
      ]
     },
     "execution_count": 405,
     "metadata": {},
     "output_type": "execute_result"
    }
   ],
   "source": [
    "prov.head()"
   ]
  },
  {
   "cell_type": "code",
   "execution_count": 1005,
   "metadata": {},
   "outputs": [
    {
     "data": {
      "text/plain": [
       "array(['24cb4eab-6166-3530-bddc-a5a8a14a4fc1',\n",
       "       'b1ddf812-1fdd-3adf-b1d5-32cc8bd07ebb',\n",
       "       '08bcda9c-f8c8-3244-82d4-fc306a7a55d3', ...,\n",
       "       'ebc3f5c4-6700-34af-8323-85621c313726',\n",
       "       'cb6a50e0-af76-3758-99ad-3200ede03fff',\n",
       "       'cb6a50e0-af76-3758-99ad-3200ede03fff'], dtype=object)"
      ]
     },
     "execution_count": 1005,
     "metadata": {},
     "output_type": "execute_result"
    }
   ],
   "source": [
    "opioid_docs"
   ]
  },
  {
   "cell_type": "code",
   "execution_count": 1013,
   "metadata": {},
   "outputs": [
    {
     "data": {
      "text/plain": [
       "83"
      ]
     },
     "execution_count": 1013,
     "metadata": {},
     "output_type": "execute_result"
    }
   ],
   "source": [
    "len(set(prov['ORGANIZATION'].values).intersection(set(opioid_docs)))"
   ]
  },
  {
   "cell_type": "markdown",
   "metadata": {},
   "source": [
    "### PROCEDURES"
   ]
  },
  {
   "cell_type": "code",
   "execution_count": 360,
   "metadata": {},
   "outputs": [],
   "source": [
    "proc = pd.read_csv(\"procedures.csv\")"
   ]
  },
  {
   "cell_type": "code",
   "execution_count": 402,
   "metadata": {},
   "outputs": [
    {
     "data": {
      "text/plain": [
       "Index(['DATE', 'PATIENT', 'ENCOUNTER', 'CODE', 'DESCRIPTION', 'COST',\n",
       "       'REASONCODE', 'REASONDESCRIPTION'],\n",
       "      dtype='object')"
      ]
     },
     "execution_count": 402,
     "metadata": {},
     "output_type": "execute_result"
    }
   ],
   "source": [
    "proc.columns"
   ]
  },
  {
   "cell_type": "code",
   "execution_count": 418,
   "metadata": {},
   "outputs": [
    {
     "data": {
      "text/plain": [
       "Documentation of current medications                               73957\n",
       "Auscultation of the fetal heart                                    33693\n",
       "Evaluation of uterine fundal height                                33693\n",
       "Renal dialysis (procedure)                                         23892\n",
       "Subcutaneous immunotherapy                                         19430\n",
       "Intramuscular injection                                            13385\n",
       "Electrical cardioversion                                           10214\n",
       "Colonoscopy                                                         9444\n",
       "Hemoglobin / Hematocrit / Platelet count                            7565\n",
       "Combined chemotherapy and radiation therapy (procedure)             7536\n",
       "Cognitive and behavioral therapy                                    7238\n",
       "Depression screening                                                5938\n",
       "Standard pregnancy test                                             5914\n",
       "Ultrasound scan for fetal viability                                 5914\n",
       "Spirometry (procedure)                                              4212\n",
       "Throat culture (procedure)                                          4148\n",
       "Screening for chromosomal aneuploidy in prenatal amniotic fluid     3854\n",
       "Hepatitis B Surface Antigen Measurement                             3847\n",
       "Syphilis infection test                                             3847\n",
       "Urine protein test                                                  3847\n",
       "Skin test for tuberculosis                                          3847\n",
       "Gonorrhea infection test                                            3847\n",
       "Hepatitis C antibody test                                           3847\n",
       "Urine screening test for diabetes                                   3847\n",
       "Blood typing  RH typing                                             3847\n",
       "Chlamydia antigen test                                              3847\n",
       "Physical examination of mother                                      3847\n",
       "Cytopathology procedure  preparation of smear  genital source       3847\n",
       "Urine culture                                                       3847\n",
       "Measurement of Varicella-zoster virus antibody                      3847\n",
       "                                                                   ...  \n",
       "Admission to burn unit                                                26\n",
       "Transplant of lung (procedure)                                        22\n",
       "Mental health screening (procedure)                                   20\n",
       "Oral Glucose Tolerance Test                                           20\n",
       "Surgical manipulation of shoulder joint                               17\n",
       "Admission to trauma surgery department                                16\n",
       "Spontaneous breech delivery                                            9\n",
       "Construction of diverting colostomy                                    7\n",
       "positive screening for PHQ-9                                           7\n",
       "negative screening for depression on phq9                              7\n",
       "Admission to neurosurgical department                                  4\n",
       "positive screening for depression on phq9                              4\n",
       "Open Removal of Gall Bladder                                           3\n",
       "Total replacement of hip                                               3\n",
       "Total knee replacement                                                 3\n",
       "20 Gene mutation test                                                  3\n",
       "Sweat Test                                                             3\n",
       "Intravenous infusion (procedure)                                       2\n",
       "Neonatal Screening                                                     2\n",
       "Lung Transplant                                                        2\n",
       "Intravenous antibiotic therapy                                         2\n",
       "Evaluation of psychiatric state of patient                             2\n",
       "Incision of trachea (procedure)                                        2\n",
       "Hospital admission  short-term  24 hours                               2\n",
       "Amputation of right leg                                                2\n",
       "Psychiatric follow-up                                                  2\n",
       "Oxygen Therapy                                                         2\n",
       "negative screening for PHQ9                                            1\n",
       "Amputation of left leg                                                 1\n",
       "Enema                                                                  1\n",
       "Name: DESCRIPTION, Length: 157, dtype: int64"
      ]
     },
     "execution_count": 418,
     "metadata": {},
     "output_type": "execute_result"
    }
   ],
   "source": [
    "proc['DESCRIPTION'].value_counts()"
   ]
  },
  {
   "cell_type": "code",
   "execution_count": 403,
   "metadata": {},
   "outputs": [
    {
     "data": {
      "text/plain": [
       "Normal pregnancy                                                         182604\n",
       "Atrial Fibrillation                                                       12596\n",
       "Child attention deficit disorder                                           7238\n",
       "Acute bronchitis (disorder)                                                5760\n",
       "Non-small cell carcinoma of lung  TNM stage 1 (disorder)                   5565\n",
       "Pulmonary emphysema (disorder)                                             3273\n",
       "Acute viral pharyngitis (disorder)                                         2983\n",
       "Chronic obstructive bronchitis (disorder)                                  2821\n",
       "Polyp of colon                                                             2292\n",
       "Primary small cell malignant neoplasm of lung  TNM stage 1 (disorder)      1246\n",
       "Streptococcal sore throat (disorder)                                       1165\n",
       "Fracture of forearm                                                         829\n",
       "Fracture of clavicle                                                        708\n",
       "Fracture subluxation of wrist                                               695\n",
       "Fracture of ankle                                                           685\n",
       "Malignant tumor of colon                                                    623\n",
       "Laceration of forearm                                                       616\n",
       "Laceration of thigh                                                         566\n",
       "Laceration of hand                                                          562\n",
       "Laceration of foot                                                          557\n",
       "Facial laceration                                                           535\n",
       "Stroke                                                                      532\n",
       "Myocardial Infarction                                                       498\n",
       "Suspected lung cancer (situation)                                           471\n",
       "Cardiac Arrest                                                              352\n",
       "Fracture of rib                                                             334\n",
       "Neoplasm of prostate                                                        287\n",
       "Overlapping malignant neoplasm of colon                                     267\n",
       "Recurrent rectal polyp                                                      238\n",
       "Closed fracture of hip                                                      235\n",
       "Secondary malignant neoplasm of colon                                       184\n",
       "Appendicitis                                                                139\n",
       "Injury of medial collateral ligament of knee                                104\n",
       "Childhood asthma                                                            100\n",
       "Injury of anterior cruciate ligament                                         86\n",
       "Posttraumatic stress disorder                                                77\n",
       "Rupture of patellar tendon                                                   68\n",
       "Third degree burn                                                            52\n",
       "Injury of tendon of the rotator cuff of shoulder                             17\n",
       "Bullet wound                                                                 16\n",
       "Primary malignant neoplasm of colon                                          11\n",
       "Tubal pregnancy                                                               9\n",
       "Major depression  single episode                                              8\n",
       "Attempted suicide - suffocation                                               6\n",
       "Fracture of the vertebral column with spinal cord injury                      4\n",
       "Asthma                                                                        4\n",
       "Neuropathy due to type 2 diabetes mellitus (disorder)                         3\n",
       "Cystic Fibrosis                                                               2\n",
       "Name: REASONDESCRIPTION, dtype: int64"
      ]
     },
     "execution_count": 403,
     "metadata": {},
     "output_type": "execute_result"
    }
   ],
   "source": [
    "proc['REASONDESCRIPTION'].value_counts()"
   ]
  },
  {
   "cell_type": "code",
   "execution_count": null,
   "metadata": {},
   "outputs": [],
   "source": []
  },
  {
   "cell_type": "markdown",
   "metadata": {},
   "source": [
    "### PLANS AND ORGS"
   ]
  },
  {
   "cell_type": "code",
   "execution_count": 363,
   "metadata": {},
   "outputs": [],
   "source": [
    "plans = pd.read_csv(\"careplans.csv\")\n",
    "orgs = pd.read_csv(\"organizations.csv\")"
   ]
  },
  {
   "cell_type": "code",
   "execution_count": 400,
   "metadata": {},
   "outputs": [
    {
     "data": {
      "text/plain": [
       "Index(['Id', 'NAME', 'ADDRESS', 'CITY', 'STATE', 'ZIP', 'PHONE',\n",
       "       'UTILIZATION'],\n",
       "      dtype='object')"
      ]
     },
     "execution_count": 400,
     "metadata": {},
     "output_type": "execute_result"
    }
   ],
   "source": [
    "orgs.columns"
   ]
  },
  {
   "cell_type": "code",
   "execution_count": 401,
   "metadata": {},
   "outputs": [
    {
     "data": {
      "text/html": [
       "<div>\n",
       "<style scoped>\n",
       "    .dataframe tbody tr th:only-of-type {\n",
       "        vertical-align: middle;\n",
       "    }\n",
       "\n",
       "    .dataframe tbody tr th {\n",
       "        vertical-align: top;\n",
       "    }\n",
       "\n",
       "    .dataframe thead th {\n",
       "        text-align: right;\n",
       "    }\n",
       "</style>\n",
       "<table border=\"1\" class=\"dataframe\">\n",
       "  <thead>\n",
       "    <tr style=\"text-align: right;\">\n",
       "      <th></th>\n",
       "      <th>Id</th>\n",
       "      <th>NAME</th>\n",
       "      <th>ADDRESS</th>\n",
       "      <th>CITY</th>\n",
       "      <th>STATE</th>\n",
       "      <th>ZIP</th>\n",
       "      <th>PHONE</th>\n",
       "      <th>UTILIZATION</th>\n",
       "    </tr>\n",
       "  </thead>\n",
       "  <tbody>\n",
       "    <tr>\n",
       "      <th>0</th>\n",
       "      <td>ef58ea08-d883-3957-8300-150554edc8fb</td>\n",
       "      <td>HEALTHALLIANCE HOSPITALS  INC</td>\n",
       "      <td>60 HOSPITAL ROAD</td>\n",
       "      <td>LEOMINSTER</td>\n",
       "      <td>MA</td>\n",
       "      <td>1453</td>\n",
       "      <td>9784662000</td>\n",
       "      <td>33568</td>\n",
       "    </tr>\n",
       "    <tr>\n",
       "      <th>1</th>\n",
       "      <td>69176529-fd1f-3b3f-abce-a0a3626769eb</td>\n",
       "      <td>MOUNT AUBURN HOSPITAL</td>\n",
       "      <td>330 MOUNT AUBURN STREET</td>\n",
       "      <td>CAMBRIDGE</td>\n",
       "      <td>MA</td>\n",
       "      <td>2138</td>\n",
       "      <td>6174923500</td>\n",
       "      <td>57842</td>\n",
       "    </tr>\n",
       "    <tr>\n",
       "      <th>2</th>\n",
       "      <td>5e765f2b-e908-3888-9fc7-df2cb87beb58</td>\n",
       "      <td>STURDY MEMORIAL HOSPITAL</td>\n",
       "      <td>211 PARK STREET</td>\n",
       "      <td>ATTLEBORO</td>\n",
       "      <td>MA</td>\n",
       "      <td>2703</td>\n",
       "      <td>5082225200</td>\n",
       "      <td>72109</td>\n",
       "    </tr>\n",
       "    <tr>\n",
       "      <th>3</th>\n",
       "      <td>f1fbcbfb-fcfa-3bd2-b7f4-df20f1b3c3a4</td>\n",
       "      <td>LAWRENCE GENERAL HOSPITAL</td>\n",
       "      <td>ONE GENERAL STREET</td>\n",
       "      <td>LAWRENCE</td>\n",
       "      <td>MA</td>\n",
       "      <td>1842</td>\n",
       "      <td>9786834000</td>\n",
       "      <td>66339</td>\n",
       "    </tr>\n",
       "    <tr>\n",
       "      <th>4</th>\n",
       "      <td>e002090d-4e92-300e-b41e-7d1f21dee4c6</td>\n",
       "      <td>CAMBRIDGE HEALTH ALLIANCE</td>\n",
       "      <td>1493 CAMBRIDGE STREET</td>\n",
       "      <td>CAMBRIDGE</td>\n",
       "      <td>MA</td>\n",
       "      <td>2138</td>\n",
       "      <td>6176652300</td>\n",
       "      <td>57789</td>\n",
       "    </tr>\n",
       "  </tbody>\n",
       "</table>\n",
       "</div>"
      ],
      "text/plain": [
       "                                     Id                           NAME  \\\n",
       "0  ef58ea08-d883-3957-8300-150554edc8fb  HEALTHALLIANCE HOSPITALS  INC   \n",
       "1  69176529-fd1f-3b3f-abce-a0a3626769eb          MOUNT AUBURN HOSPITAL   \n",
       "2  5e765f2b-e908-3888-9fc7-df2cb87beb58       STURDY MEMORIAL HOSPITAL   \n",
       "3  f1fbcbfb-fcfa-3bd2-b7f4-df20f1b3c3a4      LAWRENCE GENERAL HOSPITAL   \n",
       "4  e002090d-4e92-300e-b41e-7d1f21dee4c6      CAMBRIDGE HEALTH ALLIANCE   \n",
       "\n",
       "                   ADDRESS        CITY STATE   ZIP       PHONE  UTILIZATION  \n",
       "0         60 HOSPITAL ROAD  LEOMINSTER    MA  1453  9784662000        33568  \n",
       "1  330 MOUNT AUBURN STREET   CAMBRIDGE    MA  2138  6174923500        57842  \n",
       "2          211 PARK STREET   ATTLEBORO    MA  2703  5082225200        72109  \n",
       "3       ONE GENERAL STREET    LAWRENCE    MA  1842  9786834000        66339  \n",
       "4    1493 CAMBRIDGE STREET   CAMBRIDGE    MA  2138  6176652300        57789  "
      ]
     },
     "execution_count": 401,
     "metadata": {},
     "output_type": "execute_result"
    }
   ],
   "source": [
    "orgs.head()"
   ]
  },
  {
   "cell_type": "code",
   "execution_count": 1015,
   "metadata": {},
   "outputs": [
    {
     "data": {
      "text/html": [
       "<div>\n",
       "<style scoped>\n",
       "    .dataframe tbody tr th:only-of-type {\n",
       "        vertical-align: middle;\n",
       "    }\n",
       "\n",
       "    .dataframe tbody tr th {\n",
       "        vertical-align: top;\n",
       "    }\n",
       "\n",
       "    .dataframe thead th {\n",
       "        text-align: right;\n",
       "    }\n",
       "</style>\n",
       "<table border=\"1\" class=\"dataframe\">\n",
       "  <thead>\n",
       "    <tr style=\"text-align: right;\">\n",
       "      <th></th>\n",
       "      <th>Id</th>\n",
       "      <th>NAME</th>\n",
       "      <th>ADDRESS</th>\n",
       "      <th>CITY</th>\n",
       "      <th>STATE</th>\n",
       "      <th>ZIP</th>\n",
       "      <th>PHONE</th>\n",
       "      <th>UTILIZATION</th>\n",
       "    </tr>\n",
       "  </thead>\n",
       "  <tbody>\n",
       "    <tr>\n",
       "      <th>0</th>\n",
       "      <td>ef58ea08-d883-3957-8300-150554edc8fb</td>\n",
       "      <td>HEALTHALLIANCE HOSPITALS  INC</td>\n",
       "      <td>60 HOSPITAL ROAD</td>\n",
       "      <td>LEOMINSTER</td>\n",
       "      <td>MA</td>\n",
       "      <td>1453</td>\n",
       "      <td>9784662000</td>\n",
       "      <td>33568</td>\n",
       "    </tr>\n",
       "    <tr>\n",
       "      <th>1</th>\n",
       "      <td>69176529-fd1f-3b3f-abce-a0a3626769eb</td>\n",
       "      <td>MOUNT AUBURN HOSPITAL</td>\n",
       "      <td>330 MOUNT AUBURN STREET</td>\n",
       "      <td>CAMBRIDGE</td>\n",
       "      <td>MA</td>\n",
       "      <td>2138</td>\n",
       "      <td>6174923500</td>\n",
       "      <td>57842</td>\n",
       "    </tr>\n",
       "    <tr>\n",
       "      <th>2</th>\n",
       "      <td>5e765f2b-e908-3888-9fc7-df2cb87beb58</td>\n",
       "      <td>STURDY MEMORIAL HOSPITAL</td>\n",
       "      <td>211 PARK STREET</td>\n",
       "      <td>ATTLEBORO</td>\n",
       "      <td>MA</td>\n",
       "      <td>2703</td>\n",
       "      <td>5082225200</td>\n",
       "      <td>72109</td>\n",
       "    </tr>\n",
       "    <tr>\n",
       "      <th>3</th>\n",
       "      <td>f1fbcbfb-fcfa-3bd2-b7f4-df20f1b3c3a4</td>\n",
       "      <td>LAWRENCE GENERAL HOSPITAL</td>\n",
       "      <td>ONE GENERAL STREET</td>\n",
       "      <td>LAWRENCE</td>\n",
       "      <td>MA</td>\n",
       "      <td>1842</td>\n",
       "      <td>9786834000</td>\n",
       "      <td>66339</td>\n",
       "    </tr>\n",
       "    <tr>\n",
       "      <th>4</th>\n",
       "      <td>e002090d-4e92-300e-b41e-7d1f21dee4c6</td>\n",
       "      <td>CAMBRIDGE HEALTH ALLIANCE</td>\n",
       "      <td>1493 CAMBRIDGE STREET</td>\n",
       "      <td>CAMBRIDGE</td>\n",
       "      <td>MA</td>\n",
       "      <td>2138</td>\n",
       "      <td>6176652300</td>\n",
       "      <td>57789</td>\n",
       "    </tr>\n",
       "    <tr>\n",
       "      <th>5</th>\n",
       "      <td>ef6ab57c-ed94-3dbe-9861-812d515918b3</td>\n",
       "      <td>CAPE COD HOSPITAL</td>\n",
       "      <td>88 LEWIS BAY ROAD</td>\n",
       "      <td>HYANNIS</td>\n",
       "      <td>MA</td>\n",
       "      <td>2601</td>\n",
       "      <td>5087711800</td>\n",
       "      <td>20948</td>\n",
       "    </tr>\n",
       "    <tr>\n",
       "      <th>6</th>\n",
       "      <td>49318f80-bd8b-3fc7-a096-ac43088b0c12</td>\n",
       "      <td>COOLEY DICKINSON HOSPITAL INC THE</td>\n",
       "      <td>30 LOCUST STREET</td>\n",
       "      <td>NORTHAMPTON</td>\n",
       "      <td>MA</td>\n",
       "      <td>1060</td>\n",
       "      <td>4135822000</td>\n",
       "      <td>22084</td>\n",
       "    </tr>\n",
       "    <tr>\n",
       "      <th>7</th>\n",
       "      <td>fbf6180e-b800-3ebe-b91d-93d0288c400e</td>\n",
       "      <td>BAYSTATE FRANKLIN MEDICAL CENTER</td>\n",
       "      <td>164 HIGH STREET</td>\n",
       "      <td>GREENFIELD</td>\n",
       "      <td>MA</td>\n",
       "      <td>1301</td>\n",
       "      <td>4137730211</td>\n",
       "      <td>18744</td>\n",
       "    </tr>\n",
       "    <tr>\n",
       "      <th>8</th>\n",
       "      <td>8b58cdd1-3d79-3126-8fe0-da2c54d6805c</td>\n",
       "      <td>CARNEY HOSPITAL</td>\n",
       "      <td>2100 DORCHESTER AVENUE</td>\n",
       "      <td>BOSTON</td>\n",
       "      <td>MA</td>\n",
       "      <td>2124</td>\n",
       "      <td>6175062000</td>\n",
       "      <td>19366</td>\n",
       "    </tr>\n",
       "    <tr>\n",
       "      <th>9</th>\n",
       "      <td>4bdaa4c2-c664-3089-aee2-7137abbad27f</td>\n",
       "      <td>HARRINGTON MEMORIAL HOSPITAL-1</td>\n",
       "      <td>100 SOUTH STREET</td>\n",
       "      <td>SOUTHBRIDGE</td>\n",
       "      <td>MA</td>\n",
       "      <td>1550</td>\n",
       "      <td>5087659771</td>\n",
       "      <td>31800</td>\n",
       "    </tr>\n",
       "    <tr>\n",
       "      <th>10</th>\n",
       "      <td>ecc51621-0af3-3b35-ac3e-8b1e34022e92</td>\n",
       "      <td>SAINT ANNE'S HOSPITAL</td>\n",
       "      <td>795 MIDDLE STREET</td>\n",
       "      <td>FALL RIVER</td>\n",
       "      <td>MA</td>\n",
       "      <td>2721</td>\n",
       "      <td>5086745600</td>\n",
       "      <td>43646</td>\n",
       "    </tr>\n",
       "    <tr>\n",
       "      <th>11</th>\n",
       "      <td>5d4b9df1-93ae-3bc9-b680-03249990e558</td>\n",
       "      <td>HOLYOKE MEDICAL CENTER</td>\n",
       "      <td>575 BEECH STREET</td>\n",
       "      <td>HOLYOKE</td>\n",
       "      <td>MA</td>\n",
       "      <td>1040</td>\n",
       "      <td>4135342500</td>\n",
       "      <td>26114</td>\n",
       "    </tr>\n",
       "    <tr>\n",
       "      <th>12</th>\n",
       "      <td>37b4d73f-652d-3033-a16e-d97b9e8b4cda</td>\n",
       "      <td>ANNA JAQUES HOSPITAL</td>\n",
       "      <td>25 HIGHLAND AVENUE</td>\n",
       "      <td>NEWBURYPORT</td>\n",
       "      <td>MA</td>\n",
       "      <td>1950</td>\n",
       "      <td>9784631000</td>\n",
       "      <td>47358</td>\n",
       "    </tr>\n",
       "    <tr>\n",
       "      <th>13</th>\n",
       "      <td>5844ad77-f653-3c2b-b7dd-e97576ab3b03</td>\n",
       "      <td>BAYSTATE WING HOSPITAL AND MEDICAL CENTERS</td>\n",
       "      <td>40 WRIGHT STREET</td>\n",
       "      <td>PALMER</td>\n",
       "      <td>MA</td>\n",
       "      <td>1069</td>\n",
       "      <td>4132837651</td>\n",
       "      <td>10968</td>\n",
       "    </tr>\n",
       "    <tr>\n",
       "      <th>14</th>\n",
       "      <td>08bcda9c-f8c8-3244-82d4-fc306a7a55d3</td>\n",
       "      <td>BOSTON MEDICAL CENTER CORPORATION-</td>\n",
       "      <td>1 BOSTON MEDICAL CENTER PLACE</td>\n",
       "      <td>BOSTON</td>\n",
       "      <td>MA</td>\n",
       "      <td>2118</td>\n",
       "      <td>6176388000</td>\n",
       "      <td>18456</td>\n",
       "    </tr>\n",
       "    <tr>\n",
       "      <th>15</th>\n",
       "      <td>37c0de84-bcaf-3624-82bf-a89b2ac441b8</td>\n",
       "      <td>BEVERLY HOSPITAL CORPORATION</td>\n",
       "      <td>85 HERRICK STREET</td>\n",
       "      <td>BEVERLY</td>\n",
       "      <td>MA</td>\n",
       "      <td>1915</td>\n",
       "      <td>9789223000</td>\n",
       "      <td>76360</td>\n",
       "    </tr>\n",
       "    <tr>\n",
       "      <th>16</th>\n",
       "      <td>4861d01f-019c-3dac-a153-8334e50919f9</td>\n",
       "      <td>NORTH SHORE MEDICAL CENTER -</td>\n",
       "      <td>81 HIGHLAND AVENUE</td>\n",
       "      <td>SALEM</td>\n",
       "      <td>MA</td>\n",
       "      <td>1970</td>\n",
       "      <td>9787411215</td>\n",
       "      <td>151371</td>\n",
       "    </tr>\n",
       "    <tr>\n",
       "      <th>17</th>\n",
       "      <td>a0b6ec0c-e587-3b2a-bf9f-248849f29ee5</td>\n",
       "      <td>ST ELIZABETH'S MEDICAL CENTER</td>\n",
       "      <td>736 CAMBRIDGE STREET</td>\n",
       "      <td>BRIGHTON</td>\n",
       "      <td>MA</td>\n",
       "      <td>2135</td>\n",
       "      <td>6177893000</td>\n",
       "      <td>20771</td>\n",
       "    </tr>\n",
       "    <tr>\n",
       "      <th>18</th>\n",
       "      <td>4f3a530e-a2f7-3de0-9a09-c0a70a9ab894</td>\n",
       "      <td>BERKSHIRE MEDICAL CENTER INC - 1</td>\n",
       "      <td>725 NORTH STREET</td>\n",
       "      <td>PITTSFIELD</td>\n",
       "      <td>MA</td>\n",
       "      <td>1201</td>\n",
       "      <td>4134472000</td>\n",
       "      <td>28062</td>\n",
       "    </tr>\n",
       "    <tr>\n",
       "      <th>19</th>\n",
       "      <td>f71ce1a9-cca7-3295-9a1e-c88ac3479b6f</td>\n",
       "      <td>MARLBOROUGH HOSPITAL</td>\n",
       "      <td>157 UNION STREET</td>\n",
       "      <td>MARLBOROUGH</td>\n",
       "      <td>MA</td>\n",
       "      <td>1752</td>\n",
       "      <td>5084815000</td>\n",
       "      <td>24889</td>\n",
       "    </tr>\n",
       "    <tr>\n",
       "      <th>20</th>\n",
       "      <td>c44f361c-2efb-3050-8f97-0354a12e2920</td>\n",
       "      <td>SIGNATURE HEALTHCARE BROCKTON HOSPITAL</td>\n",
       "      <td>680 CENTER STREET</td>\n",
       "      <td>BROCKTON</td>\n",
       "      <td>MA</td>\n",
       "      <td>2302</td>\n",
       "      <td>5089417000</td>\n",
       "      <td>84013</td>\n",
       "    </tr>\n",
       "    <tr>\n",
       "      <th>21</th>\n",
       "      <td>331f4c11-d298-308b-aaa1-d7825b29b57f</td>\n",
       "      <td>CLINTON HOSPITAL ASSOCIATION</td>\n",
       "      <td>201 HIGHLAND STREET</td>\n",
       "      <td>CLINTON</td>\n",
       "      <td>MA</td>\n",
       "      <td>1510</td>\n",
       "      <td>9783683000</td>\n",
       "      <td>20258</td>\n",
       "    </tr>\n",
       "    <tr>\n",
       "      <th>22</th>\n",
       "      <td>b1ddf812-1fdd-3adf-b1d5-32cc8bd07ebb</td>\n",
       "      <td>BETH ISRAEL DEACONESS HOSPITAL - PLYMOUTH</td>\n",
       "      <td>275 SANDWICH STREET</td>\n",
       "      <td>PLYMOUTH</td>\n",
       "      <td>MA</td>\n",
       "      <td>2360</td>\n",
       "      <td>5087462000</td>\n",
       "      <td>55752</td>\n",
       "    </tr>\n",
       "    <tr>\n",
       "      <th>23</th>\n",
       "      <td>6be05ccf-ef94-341f-a2a3-1cf9bfde1b18</td>\n",
       "      <td>ADCARE HOSPITAL OF WORCESTER INC</td>\n",
       "      <td>107 LINCOLN STREET</td>\n",
       "      <td>WORCESTER</td>\n",
       "      <td>MA</td>\n",
       "      <td>1605</td>\n",
       "      <td>5087999000</td>\n",
       "      <td>38391</td>\n",
       "    </tr>\n",
       "    <tr>\n",
       "      <th>24</th>\n",
       "      <td>b0e04623-b02c-3f8b-92ea-943fc4db60da</td>\n",
       "      <td>LOWELL GENERAL HOSPITAL</td>\n",
       "      <td>295 VARNUM AVENUE</td>\n",
       "      <td>LOWELL</td>\n",
       "      <td>MA</td>\n",
       "      <td>1854</td>\n",
       "      <td>9789376000</td>\n",
       "      <td>94890</td>\n",
       "    </tr>\n",
       "    <tr>\n",
       "      <th>25</th>\n",
       "      <td>ebc3f5c4-6700-34af-8323-85621c313726</td>\n",
       "      <td>NOBLE HOSPITAL</td>\n",
       "      <td>115 WEST SILVER STREET</td>\n",
       "      <td>WESTFIELD</td>\n",
       "      <td>MA</td>\n",
       "      <td>1085</td>\n",
       "      <td>4135682811</td>\n",
       "      <td>45423</td>\n",
       "    </tr>\n",
       "    <tr>\n",
       "      <th>26</th>\n",
       "      <td>fd328395-ab1d-35c6-a2d0-d05a9a79cf11</td>\n",
       "      <td>MERCY MEDICAL CTR</td>\n",
       "      <td>271 CAREW STREET</td>\n",
       "      <td>SPRINGFIELD</td>\n",
       "      <td>MA</td>\n",
       "      <td>1104</td>\n",
       "      <td>4137489000</td>\n",
       "      <td>40927</td>\n",
       "    </tr>\n",
       "    <tr>\n",
       "      <th>27</th>\n",
       "      <td>d692e283-0833-3201-8e55-4f868a9c0736</td>\n",
       "      <td>HALLMARK HEALTH SYSTEM</td>\n",
       "      <td>585 LEBANON STREET</td>\n",
       "      <td>MELROSE</td>\n",
       "      <td>MA</td>\n",
       "      <td>2176</td>\n",
       "      <td>7819793000</td>\n",
       "      <td>170651</td>\n",
       "    </tr>\n",
       "    <tr>\n",
       "      <th>28</th>\n",
       "      <td>d78e84ec-30aa-3bba-a33a-f29a3a454662</td>\n",
       "      <td>MASSACHUSETTS GENERAL HOSPITAL</td>\n",
       "      <td>55 FRUIT STREET</td>\n",
       "      <td>BOSTON</td>\n",
       "      <td>MA</td>\n",
       "      <td>2114</td>\n",
       "      <td>6177262000</td>\n",
       "      <td>13156</td>\n",
       "    </tr>\n",
       "    <tr>\n",
       "      <th>29</th>\n",
       "      <td>8ad64ecf-c817-3753-bee7-006a8e662e06</td>\n",
       "      <td>MORTON HOSPITAL</td>\n",
       "      <td>88 WASHINGTON STREET</td>\n",
       "      <td>TAUNTON</td>\n",
       "      <td>MA</td>\n",
       "      <td>2780</td>\n",
       "      <td>5088287000</td>\n",
       "      <td>66004</td>\n",
       "    </tr>\n",
       "    <tr>\n",
       "      <th>...</th>\n",
       "      <td>...</td>\n",
       "      <td>...</td>\n",
       "      <td>...</td>\n",
       "      <td>...</td>\n",
       "      <td>...</td>\n",
       "      <td>...</td>\n",
       "      <td>...</td>\n",
       "      <td>...</td>\n",
       "    </tr>\n",
       "    <tr>\n",
       "      <th>53</th>\n",
       "      <td>465de31f-3098-365c-af70-48a071e1f5aa</td>\n",
       "      <td>METROWEST MEDICAL CENTER</td>\n",
       "      <td>115 LINCOLN STREET</td>\n",
       "      <td>FRAMINGHAM</td>\n",
       "      <td>MA</td>\n",
       "      <td>1701</td>\n",
       "      <td>5083831000</td>\n",
       "      <td>81909</td>\n",
       "    </tr>\n",
       "    <tr>\n",
       "      <th>54</th>\n",
       "      <td>1eaf97fa-9de6-38de-a9c4-6efe5dc574be</td>\n",
       "      <td>ST VINCENT HOSPITAL</td>\n",
       "      <td>123 SUMMER STREET</td>\n",
       "      <td>WORCESTER</td>\n",
       "      <td>MA</td>\n",
       "      <td>1608</td>\n",
       "      <td>5083635000</td>\n",
       "      <td>39964</td>\n",
       "    </tr>\n",
       "    <tr>\n",
       "      <th>55</th>\n",
       "      <td>80e919cc-df1a-3838-b75e-541564a286e5</td>\n",
       "      <td>NANTUCKET COTTAGE HOSPITAL</td>\n",
       "      <td>57 PROSPECT STREET</td>\n",
       "      <td>NANTUCKET</td>\n",
       "      <td>MA</td>\n",
       "      <td>2554</td>\n",
       "      <td>5082281200</td>\n",
       "      <td>15887</td>\n",
       "    </tr>\n",
       "    <tr>\n",
       "      <th>56</th>\n",
       "      <td>8e00f524-3a5f-313e-9542-378dfc61193f</td>\n",
       "      <td>MARTHA'S VINEYARD HOSPITAL INC</td>\n",
       "      <td>ONE HOSPITAL ROAD  FIRST FL  WING 5   PO BOX 1477</td>\n",
       "      <td>OAK BLUFFS</td>\n",
       "      <td>MA</td>\n",
       "      <td>2557</td>\n",
       "      <td>5086930410</td>\n",
       "      <td>2178</td>\n",
       "    </tr>\n",
       "    <tr>\n",
       "      <th>57</th>\n",
       "      <td>56e0b3b3-4fac-3776-8fc9-7b465eb2fc17</td>\n",
       "      <td>FAIRVIEW HOSPITAL</td>\n",
       "      <td>29 LEWIS AVENUE</td>\n",
       "      <td>GREAT BARRINGTON</td>\n",
       "      <td>MA</td>\n",
       "      <td>1230</td>\n",
       "      <td>4135280790</td>\n",
       "      <td>4196</td>\n",
       "    </tr>\n",
       "    <tr>\n",
       "      <th>58</th>\n",
       "      <td>161a799c-4894-36f6-8ca7-2a71c8107f79</td>\n",
       "      <td>ATHOL MEMORIAL HOSPITAL</td>\n",
       "      <td>2033 MAIN STREET</td>\n",
       "      <td>ATHOL</td>\n",
       "      <td>MA</td>\n",
       "      <td>1331</td>\n",
       "      <td>9782493511</td>\n",
       "      <td>15757</td>\n",
       "    </tr>\n",
       "    <tr>\n",
       "      <th>59</th>\n",
       "      <td>956ccb85-bea0-30f9-af48-52f5dd95ff72</td>\n",
       "      <td>FRANCISCAN CHILDREN'S HOSPITAL &amp; REHAB CENTER</td>\n",
       "      <td>30 WARREN STREET</td>\n",
       "      <td>BRIGHTON</td>\n",
       "      <td>MA</td>\n",
       "      <td>2135</td>\n",
       "      <td>6172543800</td>\n",
       "      <td>17328</td>\n",
       "    </tr>\n",
       "    <tr>\n",
       "      <th>60</th>\n",
       "      <td>d7b11827-25f2-350b-bcd8-939fc59851b0</td>\n",
       "      <td>BOSTON CHILDREN'S HOSPITAL</td>\n",
       "      <td>300 LONGWOOD AVENUE</td>\n",
       "      <td>BOSTON</td>\n",
       "      <td>MA</td>\n",
       "      <td>2115</td>\n",
       "      <td>6177356000</td>\n",
       "      <td>19949</td>\n",
       "    </tr>\n",
       "    <tr>\n",
       "      <th>61</th>\n",
       "      <td>5103c940-0c08-392f-95cd-446e0cea042a</td>\n",
       "      <td>SHRINERS' HOSPITAL FOR CHILDREN (THE)</td>\n",
       "      <td>516 CAREW STREET</td>\n",
       "      <td>SPRINGFIELD</td>\n",
       "      <td>MA</td>\n",
       "      <td>1104</td>\n",
       "      <td>4137872000</td>\n",
       "      <td>43185</td>\n",
       "    </tr>\n",
       "    <tr>\n",
       "      <th>62</th>\n",
       "      <td>ff9863d3-3fa3-3861-900e-f00148f5d9c2</td>\n",
       "      <td>SHRINERS' HOSPITAL FOR CHILDREN - BOSTON  THE</td>\n",
       "      <td>51 BLOSSOM STREET</td>\n",
       "      <td>BOSTON</td>\n",
       "      <td>MA</td>\n",
       "      <td>2114</td>\n",
       "      <td>6177223000</td>\n",
       "      <td>22599</td>\n",
       "    </tr>\n",
       "    <tr>\n",
       "      <th>63</th>\n",
       "      <td>72a10c1a-ee7c-3a01-97b1-33f63244c13e</td>\n",
       "      <td>Edith Nourse Rogers Memorial Veterans Hospital...</td>\n",
       "      <td>200 Springs Rd.</td>\n",
       "      <td>Bedford</td>\n",
       "      <td>MA</td>\n",
       "      <td>1730</td>\n",
       "      <td>781-687-2000</td>\n",
       "      <td>38</td>\n",
       "    </tr>\n",
       "    <tr>\n",
       "      <th>65</th>\n",
       "      <td>be4c63f3-8d38-3fa9-a183-62045b5c85f6</td>\n",
       "      <td>VA Boston Healthcare System  Jamaica Plain Campus</td>\n",
       "      <td>150 South Huntington Avenue</td>\n",
       "      <td>Jamaica Plain</td>\n",
       "      <td>MA</td>\n",
       "      <td>2130</td>\n",
       "      <td>617-232-9500</td>\n",
       "      <td>5</td>\n",
       "    </tr>\n",
       "    <tr>\n",
       "      <th>66</th>\n",
       "      <td>05462bf2-25d4-3ecd-afdf-bb3e1140929a</td>\n",
       "      <td>Causeway OPC</td>\n",
       "      <td>251 Causeway St.</td>\n",
       "      <td>Boston</td>\n",
       "      <td>MA</td>\n",
       "      <td>2114</td>\n",
       "      <td>800-865-3384</td>\n",
       "      <td>337</td>\n",
       "    </tr>\n",
       "    <tr>\n",
       "      <th>68</th>\n",
       "      <td>53b25c4b-e95f-3dd1-8e69-d427cdd83631</td>\n",
       "      <td>Framingham Outpatient Clinic</td>\n",
       "      <td>61 Lincoln Street  Suite 112</td>\n",
       "      <td>Framingham</td>\n",
       "      <td>MA</td>\n",
       "      <td>1702</td>\n",
       "      <td>800-865-3384</td>\n",
       "      <td>337</td>\n",
       "    </tr>\n",
       "    <tr>\n",
       "      <th>69</th>\n",
       "      <td>f95eebbf-70d7-385e-8e4c-748c79c6d644</td>\n",
       "      <td>Gloucester Community Based Outpatient Clinic (...</td>\n",
       "      <td>199 Main Street</td>\n",
       "      <td>Gloucester</td>\n",
       "      <td>MA</td>\n",
       "      <td>1930</td>\n",
       "      <td>800-838-6331</td>\n",
       "      <td>142</td>\n",
       "    </tr>\n",
       "    <tr>\n",
       "      <th>70</th>\n",
       "      <td>c1c0c43e-ca87-3ee5-9549-be3f28afde81</td>\n",
       "      <td>Greenfield Outpatient Clinic</td>\n",
       "      <td>143 Munson Street</td>\n",
       "      <td>Greenfield</td>\n",
       "      <td>MA</td>\n",
       "      <td>1301</td>\n",
       "      <td>413-773-8428 Or 413-773-8428</td>\n",
       "      <td>18</td>\n",
       "    </tr>\n",
       "    <tr>\n",
       "      <th>71</th>\n",
       "      <td>e0c85f99-d520-3f26-8dcd-cfbf172afc5a</td>\n",
       "      <td>Haverhill Community Based Outpatient Clinic (C...</td>\n",
       "      <td>108 Merrimack St.</td>\n",
       "      <td>Haverhill</td>\n",
       "      <td>MA</td>\n",
       "      <td>1830</td>\n",
       "      <td>800-838-6331</td>\n",
       "      <td>169</td>\n",
       "    </tr>\n",
       "    <tr>\n",
       "      <th>72</th>\n",
       "      <td>ed146054-9dd5-3f0b-83df-d29d983039c3</td>\n",
       "      <td>Hyannis Outpatient Clinic</td>\n",
       "      <td>233 Stevens St</td>\n",
       "      <td>Hyannis</td>\n",
       "      <td>MA</td>\n",
       "      <td>2601</td>\n",
       "      <td>508-771-3190</td>\n",
       "      <td>103</td>\n",
       "    </tr>\n",
       "    <tr>\n",
       "      <th>73</th>\n",
       "      <td>8881e3ee-e915-31b3-867f-8e2fbe41e887</td>\n",
       "      <td>Lynn Community Based Outpatient Clinic (CBOC)</td>\n",
       "      <td>225 Boston Road  Suite 107</td>\n",
       "      <td>Lynn</td>\n",
       "      <td>MA</td>\n",
       "      <td>1904</td>\n",
       "      <td>800-838-6331</td>\n",
       "      <td>812</td>\n",
       "    </tr>\n",
       "    <tr>\n",
       "      <th>74</th>\n",
       "      <td>0b78995f-8b45-34d3-969d-afcc456bb1c7</td>\n",
       "      <td>New Bedford Outpatient Clinic</td>\n",
       "      <td>175 Elm Street</td>\n",
       "      <td>New Bedford</td>\n",
       "      <td>MA</td>\n",
       "      <td>2740</td>\n",
       "      <td>508-994-0217</td>\n",
       "      <td>197</td>\n",
       "    </tr>\n",
       "    <tr>\n",
       "      <th>75</th>\n",
       "      <td>de7eebed-6d89-3e62-b8d3-59d80c664399</td>\n",
       "      <td>Pittsfield Outpatient Clinic</td>\n",
       "      <td>73 Eagle Street</td>\n",
       "      <td>Pittsfield</td>\n",
       "      <td>MA</td>\n",
       "      <td>1201</td>\n",
       "      <td>413-499-2672 Or 413-499-2672</td>\n",
       "      <td>5</td>\n",
       "    </tr>\n",
       "    <tr>\n",
       "      <th>76</th>\n",
       "      <td>cb72194a-b1fd-3089-afb6-cb8bb61f4f9c</td>\n",
       "      <td>Plymouth Outreach Clinic</td>\n",
       "      <td>116 Long Pond Road</td>\n",
       "      <td>Plymouth</td>\n",
       "      <td>MA</td>\n",
       "      <td>2360</td>\n",
       "      <td>800-865-3384</td>\n",
       "      <td>107</td>\n",
       "    </tr>\n",
       "    <tr>\n",
       "      <th>77</th>\n",
       "      <td>18f774ab-db01-37ba-95c4-44c4eab47089</td>\n",
       "      <td>Quincy Outpatient Clinic</td>\n",
       "      <td>110 West Squantum Street</td>\n",
       "      <td>Quincy</td>\n",
       "      <td>MA</td>\n",
       "      <td>2169</td>\n",
       "      <td>800-865-3384</td>\n",
       "      <td>276</td>\n",
       "    </tr>\n",
       "    <tr>\n",
       "      <th>78</th>\n",
       "      <td>37eb7694-de8f-3407-b95f-1a6a31fb0f6a</td>\n",
       "      <td>Springfield Outpatient Clinic</td>\n",
       "      <td>25 Bond Street</td>\n",
       "      <td>Springfield</td>\n",
       "      <td>MA</td>\n",
       "      <td>1104</td>\n",
       "      <td>413-731-6000 Or 413-731-6000</td>\n",
       "      <td>325</td>\n",
       "    </tr>\n",
       "    <tr>\n",
       "      <th>79</th>\n",
       "      <td>d311e70d-86e7-3c03-b115-53892bcf7ef1</td>\n",
       "      <td>Worcester Outpatient Clinic</td>\n",
       "      <td>605 Lincoln Street</td>\n",
       "      <td>Worcester</td>\n",
       "      <td>MA</td>\n",
       "      <td>1605</td>\n",
       "      <td>508-856-0104 Or 508-856-0104</td>\n",
       "      <td>223</td>\n",
       "    </tr>\n",
       "    <tr>\n",
       "      <th>80</th>\n",
       "      <td>3fbe3da9-8e41-3118-a253-7e2d1b46480f</td>\n",
       "      <td>Brockton Vet Center</td>\n",
       "      <td>1041L Pearl St.</td>\n",
       "      <td>Brockton</td>\n",
       "      <td>MA</td>\n",
       "      <td>2301</td>\n",
       "      <td>508-580-2730 Or 508-580-2730</td>\n",
       "      <td>29</td>\n",
       "    </tr>\n",
       "    <tr>\n",
       "      <th>81</th>\n",
       "      <td>515117f0-f62e-36da-90e9-a004b40b2260</td>\n",
       "      <td>Cape Cod Vet Center</td>\n",
       "      <td>474 West Main Street</td>\n",
       "      <td>Hyannis</td>\n",
       "      <td>MA</td>\n",
       "      <td>2601</td>\n",
       "      <td>508-778-0124 Or 508-778-0124</td>\n",
       "      <td>82</td>\n",
       "    </tr>\n",
       "    <tr>\n",
       "      <th>82</th>\n",
       "      <td>5b7aa5b4-aa6f-3acc-bd96-01ce774cb614</td>\n",
       "      <td>Lowell Vet Center</td>\n",
       "      <td>10 George Street  Gateway Center</td>\n",
       "      <td>Lowell</td>\n",
       "      <td>MA</td>\n",
       "      <td>1852</td>\n",
       "      <td>978-453-1151</td>\n",
       "      <td>44</td>\n",
       "    </tr>\n",
       "    <tr>\n",
       "      <th>84</th>\n",
       "      <td>78dbf052-6958-3c67-af45-b5a450b70fe4</td>\n",
       "      <td>Springfield Vet Center</td>\n",
       "      <td>95 Ashley Avenue  Suite A</td>\n",
       "      <td>West Springfield</td>\n",
       "      <td>MA</td>\n",
       "      <td>1089</td>\n",
       "      <td>413-737-5167 Or 413-737-5167</td>\n",
       "      <td>147</td>\n",
       "    </tr>\n",
       "    <tr>\n",
       "      <th>85</th>\n",
       "      <td>3a2242e0-de37-303b-bdfc-e160c7eae518</td>\n",
       "      <td>Worcester Vet Center</td>\n",
       "      <td>255 Park Ave Suite # 900</td>\n",
       "      <td>Worcester</td>\n",
       "      <td>MA</td>\n",
       "      <td>1609</td>\n",
       "      <td>508-753-7902</td>\n",
       "      <td>446</td>\n",
       "    </tr>\n",
       "  </tbody>\n",
       "</table>\n",
       "<p>83 rows × 8 columns</p>\n",
       "</div>"
      ],
      "text/plain": [
       "                                      Id  \\\n",
       "0   ef58ea08-d883-3957-8300-150554edc8fb   \n",
       "1   69176529-fd1f-3b3f-abce-a0a3626769eb   \n",
       "2   5e765f2b-e908-3888-9fc7-df2cb87beb58   \n",
       "3   f1fbcbfb-fcfa-3bd2-b7f4-df20f1b3c3a4   \n",
       "4   e002090d-4e92-300e-b41e-7d1f21dee4c6   \n",
       "5   ef6ab57c-ed94-3dbe-9861-812d515918b3   \n",
       "6   49318f80-bd8b-3fc7-a096-ac43088b0c12   \n",
       "7   fbf6180e-b800-3ebe-b91d-93d0288c400e   \n",
       "8   8b58cdd1-3d79-3126-8fe0-da2c54d6805c   \n",
       "9   4bdaa4c2-c664-3089-aee2-7137abbad27f   \n",
       "10  ecc51621-0af3-3b35-ac3e-8b1e34022e92   \n",
       "11  5d4b9df1-93ae-3bc9-b680-03249990e558   \n",
       "12  37b4d73f-652d-3033-a16e-d97b9e8b4cda   \n",
       "13  5844ad77-f653-3c2b-b7dd-e97576ab3b03   \n",
       "14  08bcda9c-f8c8-3244-82d4-fc306a7a55d3   \n",
       "15  37c0de84-bcaf-3624-82bf-a89b2ac441b8   \n",
       "16  4861d01f-019c-3dac-a153-8334e50919f9   \n",
       "17  a0b6ec0c-e587-3b2a-bf9f-248849f29ee5   \n",
       "18  4f3a530e-a2f7-3de0-9a09-c0a70a9ab894   \n",
       "19  f71ce1a9-cca7-3295-9a1e-c88ac3479b6f   \n",
       "20  c44f361c-2efb-3050-8f97-0354a12e2920   \n",
       "21  331f4c11-d298-308b-aaa1-d7825b29b57f   \n",
       "22  b1ddf812-1fdd-3adf-b1d5-32cc8bd07ebb   \n",
       "23  6be05ccf-ef94-341f-a2a3-1cf9bfde1b18   \n",
       "24  b0e04623-b02c-3f8b-92ea-943fc4db60da   \n",
       "25  ebc3f5c4-6700-34af-8323-85621c313726   \n",
       "26  fd328395-ab1d-35c6-a2d0-d05a9a79cf11   \n",
       "27  d692e283-0833-3201-8e55-4f868a9c0736   \n",
       "28  d78e84ec-30aa-3bba-a33a-f29a3a454662   \n",
       "29  8ad64ecf-c817-3753-bee7-006a8e662e06   \n",
       "..                                   ...   \n",
       "53  465de31f-3098-365c-af70-48a071e1f5aa   \n",
       "54  1eaf97fa-9de6-38de-a9c4-6efe5dc574be   \n",
       "55  80e919cc-df1a-3838-b75e-541564a286e5   \n",
       "56  8e00f524-3a5f-313e-9542-378dfc61193f   \n",
       "57  56e0b3b3-4fac-3776-8fc9-7b465eb2fc17   \n",
       "58  161a799c-4894-36f6-8ca7-2a71c8107f79   \n",
       "59  956ccb85-bea0-30f9-af48-52f5dd95ff72   \n",
       "60  d7b11827-25f2-350b-bcd8-939fc59851b0   \n",
       "61  5103c940-0c08-392f-95cd-446e0cea042a   \n",
       "62  ff9863d3-3fa3-3861-900e-f00148f5d9c2   \n",
       "63  72a10c1a-ee7c-3a01-97b1-33f63244c13e   \n",
       "65  be4c63f3-8d38-3fa9-a183-62045b5c85f6   \n",
       "66  05462bf2-25d4-3ecd-afdf-bb3e1140929a   \n",
       "68  53b25c4b-e95f-3dd1-8e69-d427cdd83631   \n",
       "69  f95eebbf-70d7-385e-8e4c-748c79c6d644   \n",
       "70  c1c0c43e-ca87-3ee5-9549-be3f28afde81   \n",
       "71  e0c85f99-d520-3f26-8dcd-cfbf172afc5a   \n",
       "72  ed146054-9dd5-3f0b-83df-d29d983039c3   \n",
       "73  8881e3ee-e915-31b3-867f-8e2fbe41e887   \n",
       "74  0b78995f-8b45-34d3-969d-afcc456bb1c7   \n",
       "75  de7eebed-6d89-3e62-b8d3-59d80c664399   \n",
       "76  cb72194a-b1fd-3089-afb6-cb8bb61f4f9c   \n",
       "77  18f774ab-db01-37ba-95c4-44c4eab47089   \n",
       "78  37eb7694-de8f-3407-b95f-1a6a31fb0f6a   \n",
       "79  d311e70d-86e7-3c03-b115-53892bcf7ef1   \n",
       "80  3fbe3da9-8e41-3118-a253-7e2d1b46480f   \n",
       "81  515117f0-f62e-36da-90e9-a004b40b2260   \n",
       "82  5b7aa5b4-aa6f-3acc-bd96-01ce774cb614   \n",
       "84  78dbf052-6958-3c67-af45-b5a450b70fe4   \n",
       "85  3a2242e0-de37-303b-bdfc-e160c7eae518   \n",
       "\n",
       "                                                 NAME  \\\n",
       "0                       HEALTHALLIANCE HOSPITALS  INC   \n",
       "1                               MOUNT AUBURN HOSPITAL   \n",
       "2                            STURDY MEMORIAL HOSPITAL   \n",
       "3                           LAWRENCE GENERAL HOSPITAL   \n",
       "4                           CAMBRIDGE HEALTH ALLIANCE   \n",
       "5                                   CAPE COD HOSPITAL   \n",
       "6                   COOLEY DICKINSON HOSPITAL INC THE   \n",
       "7                    BAYSTATE FRANKLIN MEDICAL CENTER   \n",
       "8                                     CARNEY HOSPITAL   \n",
       "9                      HARRINGTON MEMORIAL HOSPITAL-1   \n",
       "10                              SAINT ANNE'S HOSPITAL   \n",
       "11                             HOLYOKE MEDICAL CENTER   \n",
       "12                               ANNA JAQUES HOSPITAL   \n",
       "13         BAYSTATE WING HOSPITAL AND MEDICAL CENTERS   \n",
       "14                 BOSTON MEDICAL CENTER CORPORATION-   \n",
       "15                       BEVERLY HOSPITAL CORPORATION   \n",
       "16                       NORTH SHORE MEDICAL CENTER -   \n",
       "17                      ST ELIZABETH'S MEDICAL CENTER   \n",
       "18                   BERKSHIRE MEDICAL CENTER INC - 1   \n",
       "19                               MARLBOROUGH HOSPITAL   \n",
       "20             SIGNATURE HEALTHCARE BROCKTON HOSPITAL   \n",
       "21                       CLINTON HOSPITAL ASSOCIATION   \n",
       "22          BETH ISRAEL DEACONESS HOSPITAL - PLYMOUTH   \n",
       "23                   ADCARE HOSPITAL OF WORCESTER INC   \n",
       "24                            LOWELL GENERAL HOSPITAL   \n",
       "25                                     NOBLE HOSPITAL   \n",
       "26                                  MERCY MEDICAL CTR   \n",
       "27                             HALLMARK HEALTH SYSTEM   \n",
       "28                     MASSACHUSETTS GENERAL HOSPITAL   \n",
       "29                                    MORTON HOSPITAL   \n",
       "..                                                ...   \n",
       "53                           METROWEST MEDICAL CENTER   \n",
       "54                                ST VINCENT HOSPITAL   \n",
       "55                         NANTUCKET COTTAGE HOSPITAL   \n",
       "56                     MARTHA'S VINEYARD HOSPITAL INC   \n",
       "57                                  FAIRVIEW HOSPITAL   \n",
       "58                            ATHOL MEMORIAL HOSPITAL   \n",
       "59      FRANCISCAN CHILDREN'S HOSPITAL & REHAB CENTER   \n",
       "60                         BOSTON CHILDREN'S HOSPITAL   \n",
       "61              SHRINERS' HOSPITAL FOR CHILDREN (THE)   \n",
       "62      SHRINERS' HOSPITAL FOR CHILDREN - BOSTON  THE   \n",
       "63  Edith Nourse Rogers Memorial Veterans Hospital...   \n",
       "65  VA Boston Healthcare System  Jamaica Plain Campus   \n",
       "66                                       Causeway OPC   \n",
       "68                       Framingham Outpatient Clinic   \n",
       "69  Gloucester Community Based Outpatient Clinic (...   \n",
       "70                       Greenfield Outpatient Clinic   \n",
       "71  Haverhill Community Based Outpatient Clinic (C...   \n",
       "72                          Hyannis Outpatient Clinic   \n",
       "73      Lynn Community Based Outpatient Clinic (CBOC)   \n",
       "74                      New Bedford Outpatient Clinic   \n",
       "75                       Pittsfield Outpatient Clinic   \n",
       "76                           Plymouth Outreach Clinic   \n",
       "77                           Quincy Outpatient Clinic   \n",
       "78                      Springfield Outpatient Clinic   \n",
       "79                        Worcester Outpatient Clinic   \n",
       "80                                Brockton Vet Center   \n",
       "81                                Cape Cod Vet Center   \n",
       "82                                  Lowell Vet Center   \n",
       "84                             Springfield Vet Center   \n",
       "85                               Worcester Vet Center   \n",
       "\n",
       "                                              ADDRESS              CITY STATE  \\\n",
       "0                                    60 HOSPITAL ROAD        LEOMINSTER    MA   \n",
       "1                             330 MOUNT AUBURN STREET         CAMBRIDGE    MA   \n",
       "2                                     211 PARK STREET         ATTLEBORO    MA   \n",
       "3                                  ONE GENERAL STREET          LAWRENCE    MA   \n",
       "4                               1493 CAMBRIDGE STREET         CAMBRIDGE    MA   \n",
       "5                                   88 LEWIS BAY ROAD           HYANNIS    MA   \n",
       "6                                    30 LOCUST STREET       NORTHAMPTON    MA   \n",
       "7                                     164 HIGH STREET        GREENFIELD    MA   \n",
       "8                              2100 DORCHESTER AVENUE            BOSTON    MA   \n",
       "9                                    100 SOUTH STREET       SOUTHBRIDGE    MA   \n",
       "10                                  795 MIDDLE STREET        FALL RIVER    MA   \n",
       "11                                   575 BEECH STREET           HOLYOKE    MA   \n",
       "12                                 25 HIGHLAND AVENUE       NEWBURYPORT    MA   \n",
       "13                                   40 WRIGHT STREET            PALMER    MA   \n",
       "14                      1 BOSTON MEDICAL CENTER PLACE            BOSTON    MA   \n",
       "15                                  85 HERRICK STREET           BEVERLY    MA   \n",
       "16                                 81 HIGHLAND AVENUE             SALEM    MA   \n",
       "17                               736 CAMBRIDGE STREET          BRIGHTON    MA   \n",
       "18                                   725 NORTH STREET        PITTSFIELD    MA   \n",
       "19                                   157 UNION STREET       MARLBOROUGH    MA   \n",
       "20                                  680 CENTER STREET          BROCKTON    MA   \n",
       "21                                201 HIGHLAND STREET           CLINTON    MA   \n",
       "22                                275 SANDWICH STREET          PLYMOUTH    MA   \n",
       "23                                 107 LINCOLN STREET         WORCESTER    MA   \n",
       "24                                  295 VARNUM AVENUE            LOWELL    MA   \n",
       "25                             115 WEST SILVER STREET         WESTFIELD    MA   \n",
       "26                                   271 CAREW STREET       SPRINGFIELD    MA   \n",
       "27                                 585 LEBANON STREET           MELROSE    MA   \n",
       "28                                    55 FRUIT STREET            BOSTON    MA   \n",
       "29                               88 WASHINGTON STREET           TAUNTON    MA   \n",
       "..                                                ...               ...   ...   \n",
       "53                                 115 LINCOLN STREET        FRAMINGHAM    MA   \n",
       "54                                  123 SUMMER STREET         WORCESTER    MA   \n",
       "55                                 57 PROSPECT STREET         NANTUCKET    MA   \n",
       "56  ONE HOSPITAL ROAD  FIRST FL  WING 5   PO BOX 1477        OAK BLUFFS    MA   \n",
       "57                                    29 LEWIS AVENUE  GREAT BARRINGTON    MA   \n",
       "58                                   2033 MAIN STREET             ATHOL    MA   \n",
       "59                                   30 WARREN STREET          BRIGHTON    MA   \n",
       "60                                300 LONGWOOD AVENUE            BOSTON    MA   \n",
       "61                                   516 CAREW STREET       SPRINGFIELD    MA   \n",
       "62                                  51 BLOSSOM STREET            BOSTON    MA   \n",
       "63                                    200 Springs Rd.           Bedford    MA   \n",
       "65                        150 South Huntington Avenue     Jamaica Plain    MA   \n",
       "66                                   251 Causeway St.            Boston    MA   \n",
       "68                       61 Lincoln Street  Suite 112        Framingham    MA   \n",
       "69                                    199 Main Street        Gloucester    MA   \n",
       "70                                  143 Munson Street        Greenfield    MA   \n",
       "71                                  108 Merrimack St.         Haverhill    MA   \n",
       "72                                     233 Stevens St           Hyannis    MA   \n",
       "73                         225 Boston Road  Suite 107              Lynn    MA   \n",
       "74                                     175 Elm Street       New Bedford    MA   \n",
       "75                                    73 Eagle Street        Pittsfield    MA   \n",
       "76                                 116 Long Pond Road          Plymouth    MA   \n",
       "77                           110 West Squantum Street            Quincy    MA   \n",
       "78                                     25 Bond Street       Springfield    MA   \n",
       "79                                 605 Lincoln Street         Worcester    MA   \n",
       "80                                    1041L Pearl St.          Brockton    MA   \n",
       "81                               474 West Main Street           Hyannis    MA   \n",
       "82                   10 George Street  Gateway Center            Lowell    MA   \n",
       "84                          95 Ashley Avenue  Suite A  West Springfield    MA   \n",
       "85                           255 Park Ave Suite # 900         Worcester    MA   \n",
       "\n",
       "     ZIP                         PHONE  UTILIZATION  \n",
       "0   1453                    9784662000        33568  \n",
       "1   2138                    6174923500        57842  \n",
       "2   2703                    5082225200        72109  \n",
       "3   1842                    9786834000        66339  \n",
       "4   2138                    6176652300        57789  \n",
       "5   2601                    5087711800        20948  \n",
       "6   1060                    4135822000        22084  \n",
       "7   1301                    4137730211        18744  \n",
       "8   2124                    6175062000        19366  \n",
       "9   1550                    5087659771        31800  \n",
       "10  2721                    5086745600        43646  \n",
       "11  1040                    4135342500        26114  \n",
       "12  1950                    9784631000        47358  \n",
       "13  1069                    4132837651        10968  \n",
       "14  2118                    6176388000        18456  \n",
       "15  1915                    9789223000        76360  \n",
       "16  1970                    9787411215       151371  \n",
       "17  2135                    6177893000        20771  \n",
       "18  1201                    4134472000        28062  \n",
       "19  1752                    5084815000        24889  \n",
       "20  2302                    5089417000        84013  \n",
       "21  1510                    9783683000        20258  \n",
       "22  2360                    5087462000        55752  \n",
       "23  1605                    5087999000        38391  \n",
       "24  1854                    9789376000        94890  \n",
       "25  1085                    4135682811        45423  \n",
       "26  1104                    4137489000        40927  \n",
       "27  2176                    7819793000       170651  \n",
       "28  2114                    6177262000        13156  \n",
       "29  2780                    5088287000        66004  \n",
       "..   ...                           ...          ...  \n",
       "53  1701                    5083831000        81909  \n",
       "54  1608                    5083635000        39964  \n",
       "55  2554                    5082281200        15887  \n",
       "56  2557                    5086930410         2178  \n",
       "57  1230                    4135280790         4196  \n",
       "58  1331                    9782493511        15757  \n",
       "59  2135                    6172543800        17328  \n",
       "60  2115                    6177356000        19949  \n",
       "61  1104                    4137872000        43185  \n",
       "62  2114                    6177223000        22599  \n",
       "63  1730                  781-687-2000           38  \n",
       "65  2130                  617-232-9500            5  \n",
       "66  2114                  800-865-3384          337  \n",
       "68  1702                  800-865-3384          337  \n",
       "69  1930                  800-838-6331          142  \n",
       "70  1301  413-773-8428 Or 413-773-8428           18  \n",
       "71  1830                  800-838-6331          169  \n",
       "72  2601                  508-771-3190          103  \n",
       "73  1904                  800-838-6331          812  \n",
       "74  2740                  508-994-0217          197  \n",
       "75  1201  413-499-2672 Or 413-499-2672            5  \n",
       "76  2360                  800-865-3384          107  \n",
       "77  2169                  800-865-3384          276  \n",
       "78  1104  413-731-6000 Or 413-731-6000          325  \n",
       "79  1605  508-856-0104 Or 508-856-0104          223  \n",
       "80  2301  508-580-2730 Or 508-580-2730           29  \n",
       "81  2601  508-778-0124 Or 508-778-0124           82  \n",
       "82  1852                  978-453-1151           44  \n",
       "84  1089  413-737-5167 Or 413-737-5167          147  \n",
       "85  1609                  508-753-7902          446  \n",
       "\n",
       "[83 rows x 8 columns]"
      ]
     },
     "execution_count": 1015,
     "metadata": {},
     "output_type": "execute_result"
    }
   ],
   "source": [
    "orgs[orgs['Id'].isin(opioid_docs)]"
   ]
  },
  {
   "cell_type": "code",
   "execution_count": 398,
   "metadata": {},
   "outputs": [
    {
     "data": {
      "text/plain": [
       "Index(['Id', 'START', 'STOP', 'PATIENT', 'ENCOUNTER', 'CODE', 'DESCRIPTION',\n",
       "       'REASONCODE', 'REASONDESCRIPTION'],\n",
       "      dtype='object')"
      ]
     },
     "execution_count": 398,
     "metadata": {},
     "output_type": "execute_result"
    }
   ],
   "source": [
    "plans.columns"
   ]
  },
  {
   "cell_type": "code",
   "execution_count": 399,
   "metadata": {},
   "outputs": [
    {
     "data": {
      "text/plain": [
       "Respiratory therapy                                               8245\n",
       "Care plan (record artifact)                                       4429\n",
       "Routine antenatal care                                            4239\n",
       "Diabetes self management plan                                     3178\n",
       "Physical therapy procedure                                        2936\n",
       "Fracture care                                                     2500\n",
       "Wound care                                                        2410\n",
       "Musculoskeletal care                                              1896\n",
       "Head injury rehabilitation                                        1238\n",
       "Hyperlipidemia clinical management plan                           1219\n",
       "Self care                                                         1201\n",
       "Urinary tract infection care                                       737\n",
       "Overactivity/inattention behavior management                       689\n",
       "Burn care                                                          617\n",
       "Cancer care plan                                                   612\n",
       "Inpatient care plan (record artifact)                              509\n",
       "Heart failure self management plan                                 483\n",
       "Demential management                                               396\n",
       "Allergic disorder monitoring                                       380\n",
       "Surgery care management                                            364\n",
       "Asthma self management                                             322\n",
       "Chronic obstructive pulmonary disease clinical management plan     298\n",
       "Care Plan                                                          283\n",
       "Major surgery care management                                      210\n",
       "Skin condition care                                                202\n",
       "Terminal care                                                      157\n",
       "Psychiatry care plan                                               119\n",
       "Mental health care plan                                             53\n",
       "Postoperative care                                                  40\n",
       "Major depressive disorder clinical management plan                  24\n",
       "Spinal cord injury rehabilitation                                   21\n",
       "Dialysis care plan (record artifact)                                19\n",
       "Mental health care plan (record artifact)                           16\n",
       "Agreeing on diabetes care plan                                       3\n",
       "Anti-suicide psychotherapy                                           3\n",
       "Name: DESCRIPTION, dtype: int64"
      ]
     },
     "execution_count": 399,
     "metadata": {},
     "output_type": "execute_result"
    }
   ],
   "source": [
    "plans['DESCRIPTION'].value_counts()"
   ]
  },
  {
   "cell_type": "markdown",
   "metadata": {},
   "source": [
    "### IMMUNIZATIONS"
   ]
  },
  {
   "cell_type": "code",
   "execution_count": 394,
   "metadata": {},
   "outputs": [],
   "source": [
    "imm = pd.read_csv(\"immunizations.csv\")"
   ]
  },
  {
   "cell_type": "code",
   "execution_count": 395,
   "metadata": {},
   "outputs": [
    {
     "data": {
      "text/html": [
       "<div>\n",
       "<style scoped>\n",
       "    .dataframe tbody tr th:only-of-type {\n",
       "        vertical-align: middle;\n",
       "    }\n",
       "\n",
       "    .dataframe tbody tr th {\n",
       "        vertical-align: top;\n",
       "    }\n",
       "\n",
       "    .dataframe thead th {\n",
       "        text-align: right;\n",
       "    }\n",
       "</style>\n",
       "<table border=\"1\" class=\"dataframe\">\n",
       "  <thead>\n",
       "    <tr style=\"text-align: right;\">\n",
       "      <th></th>\n",
       "      <th>DATE</th>\n",
       "      <th>PATIENT</th>\n",
       "      <th>ENCOUNTER</th>\n",
       "      <th>CODE</th>\n",
       "      <th>DESCRIPTION</th>\n",
       "      <th>COST</th>\n",
       "    </tr>\n",
       "  </thead>\n",
       "  <tbody>\n",
       "    <tr>\n",
       "      <th>0</th>\n",
       "      <td>2013-02-10</td>\n",
       "      <td>c0d528b6-cdae-4d98-8936-a270f8827eb7</td>\n",
       "      <td>1ef67c37-7306-4be4-9668-a93f34972544</td>\n",
       "      <td>8</td>\n",
       "      <td>Hep B  adolescent or pediatric</td>\n",
       "      <td>140.52</td>\n",
       "    </tr>\n",
       "    <tr>\n",
       "      <th>1</th>\n",
       "      <td>2013-03-17</td>\n",
       "      <td>c0d528b6-cdae-4d98-8936-a270f8827eb7</td>\n",
       "      <td>158ced22-0023-4934-b046-451696f2d516</td>\n",
       "      <td>8</td>\n",
       "      <td>Hep B  adolescent or pediatric</td>\n",
       "      <td>140.52</td>\n",
       "    </tr>\n",
       "    <tr>\n",
       "      <th>2</th>\n",
       "      <td>2013-05-19</td>\n",
       "      <td>c0d528b6-cdae-4d98-8936-a270f8827eb7</td>\n",
       "      <td>3980f194-389d-42f5-b477-f7c99598d6be</td>\n",
       "      <td>49</td>\n",
       "      <td>Hib (PRP-OMP)</td>\n",
       "      <td>140.52</td>\n",
       "    </tr>\n",
       "    <tr>\n",
       "      <th>3</th>\n",
       "      <td>2013-05-19</td>\n",
       "      <td>c0d528b6-cdae-4d98-8936-a270f8827eb7</td>\n",
       "      <td>3980f194-389d-42f5-b477-f7c99598d6be</td>\n",
       "      <td>119</td>\n",
       "      <td>rotavirus  monovalent</td>\n",
       "      <td>140.52</td>\n",
       "    </tr>\n",
       "    <tr>\n",
       "      <th>4</th>\n",
       "      <td>2013-05-19</td>\n",
       "      <td>c0d528b6-cdae-4d98-8936-a270f8827eb7</td>\n",
       "      <td>3980f194-389d-42f5-b477-f7c99598d6be</td>\n",
       "      <td>10</td>\n",
       "      <td>IPV</td>\n",
       "      <td>140.52</td>\n",
       "    </tr>\n",
       "  </tbody>\n",
       "</table>\n",
       "</div>"
      ],
      "text/plain": [
       "         DATE                               PATIENT  \\\n",
       "0  2013-02-10  c0d528b6-cdae-4d98-8936-a270f8827eb7   \n",
       "1  2013-03-17  c0d528b6-cdae-4d98-8936-a270f8827eb7   \n",
       "2  2013-05-19  c0d528b6-cdae-4d98-8936-a270f8827eb7   \n",
       "3  2013-05-19  c0d528b6-cdae-4d98-8936-a270f8827eb7   \n",
       "4  2013-05-19  c0d528b6-cdae-4d98-8936-a270f8827eb7   \n",
       "\n",
       "                              ENCOUNTER  CODE                     DESCRIPTION  \\\n",
       "0  1ef67c37-7306-4be4-9668-a93f34972544     8  Hep B  adolescent or pediatric   \n",
       "1  158ced22-0023-4934-b046-451696f2d516     8  Hep B  adolescent or pediatric   \n",
       "2  3980f194-389d-42f5-b477-f7c99598d6be    49                   Hib (PRP-OMP)   \n",
       "3  3980f194-389d-42f5-b477-f7c99598d6be   119           rotavirus  monovalent   \n",
       "4  3980f194-389d-42f5-b477-f7c99598d6be    10                             IPV   \n",
       "\n",
       "     COST  \n",
       "0  140.52  \n",
       "1  140.52  \n",
       "2  140.52  \n",
       "3  140.52  \n",
       "4  140.52  "
      ]
     },
     "execution_count": 395,
     "metadata": {},
     "output_type": "execute_result"
    }
   ],
   "source": [
    "imm.head()"
   ]
  },
  {
   "cell_type": "code",
   "execution_count": 396,
   "metadata": {},
   "outputs": [
    {
     "data": {
      "text/plain": [
       "Influenza  seasonal  injectable  preservative free    121749\n",
       "Td (adult) preservative free                           10304\n",
       "DTaP                                                    6136\n",
       "IPV                                                     5590\n",
       "Hib (PRP-OMP)                                           3901\n",
       "Hep B  adolescent or pediatric                          3841\n",
       "meningococcal MCV4P                                     3492\n",
       "Pneumococcal conjugate PCV 13                           3277\n",
       "Hep A  adult                                            3231\n",
       "HPV  quadrivalent                                       3072\n",
       "MMR                                                     2732\n",
       "varicella                                               2630\n",
       "zoster                                                  2472\n",
       "Hep A  ped/adol  2 dose                                 2458\n",
       "Hep B  adult                                            2056\n",
       "pneumococcal polysaccharide vaccine  23 valent          1911\n",
       "rotavirus  monovalent                                   1867\n",
       "Tdap                                                    1181\n",
       "Name: DESCRIPTION, dtype: int64"
      ]
     },
     "execution_count": 396,
     "metadata": {},
     "output_type": "execute_result"
    }
   ],
   "source": [
    "imm['DESCRIPTION'].value_counts()"
   ]
  },
  {
   "cell_type": "code",
   "execution_count": null,
   "metadata": {},
   "outputs": [],
   "source": []
  },
  {
   "cell_type": "markdown",
   "metadata": {},
   "source": [
    "### IMAGING STUDIES"
   ]
  },
  {
   "cell_type": "code",
   "execution_count": 385,
   "metadata": {},
   "outputs": [],
   "source": [
    "imaging = pd.read_csv(\"imaging_studies.csv\")\n"
   ]
  },
  {
   "cell_type": "code",
   "execution_count": 392,
   "metadata": {},
   "outputs": [
    {
     "data": {
      "text/plain": [
       "Index(['Id', 'DATE', 'PATIENT', 'ENCOUNTER', 'BODYSITE_CODE',\n",
       "       'BODYSITE_DESCRIPTION', 'MODALITY_CODE', 'MODALITY_DESCRIPTION',\n",
       "       'SOP_CODE', 'SOP_DESCRIPTION'],\n",
       "      dtype='object')"
      ]
     },
     "execution_count": 392,
     "metadata": {},
     "output_type": "execute_result"
    }
   ],
   "source": [
    "imaging.columns"
   ]
  },
  {
   "cell_type": "code",
   "execution_count": 388,
   "metadata": {},
   "outputs": [
    {
     "data": {
      "text/plain": [
       "thoracic structure (body structure)             3195\n",
       "thoracic                                        1366\n",
       "arm                                              666\n",
       "clavicle                                         622\n",
       "wrist                                            527\n",
       "thoracic structure                               525\n",
       "ankle                                            515\n",
       "knee                                             338\n",
       "chest                                            263\n",
       "pelvis                                           214\n",
       "structure of right upper quadrant of abdomen      47\n",
       "Name: BODYSITE_DESCRIPTION, dtype: int64"
      ]
     },
     "execution_count": 388,
     "metadata": {},
     "output_type": "execute_result"
    }
   ],
   "source": [
    "imaging['BODYSITE_DESCRIPTION']=imaging['BODYSITE_DESCRIPTION'].apply(lambda x: x.lower())\n",
    "imaging['BODYSITE_DESCRIPTION'].value_counts()"
   ]
  },
  {
   "cell_type": "code",
   "execution_count": 389,
   "metadata": {},
   "outputs": [],
   "source": [
    "thoracic = imaging[imaging['BODYSITE_DESCRIPTION'].str.contains('thoracic')]"
   ]
  },
  {
   "cell_type": "code",
   "execution_count": 393,
   "metadata": {},
   "outputs": [
    {
     "data": {
      "text/html": [
       "<div>\n",
       "<style scoped>\n",
       "    .dataframe tbody tr th:only-of-type {\n",
       "        vertical-align: middle;\n",
       "    }\n",
       "\n",
       "    .dataframe tbody tr th {\n",
       "        vertical-align: top;\n",
       "    }\n",
       "\n",
       "    .dataframe thead th {\n",
       "        text-align: right;\n",
       "    }\n",
       "</style>\n",
       "<table border=\"1\" class=\"dataframe\">\n",
       "  <thead>\n",
       "    <tr style=\"text-align: right;\">\n",
       "      <th></th>\n",
       "      <th>Id</th>\n",
       "      <th>DATE</th>\n",
       "      <th>PATIENT</th>\n",
       "      <th>ENCOUNTER</th>\n",
       "      <th>BODYSITE_CODE</th>\n",
       "      <th>BODYSITE_DESCRIPTION</th>\n",
       "      <th>MODALITY_CODE</th>\n",
       "      <th>MODALITY_DESCRIPTION</th>\n",
       "      <th>SOP_CODE</th>\n",
       "      <th>SOP_DESCRIPTION</th>\n",
       "    </tr>\n",
       "  </thead>\n",
       "  <tbody>\n",
       "    <tr>\n",
       "      <th>5</th>\n",
       "      <td>99909564-2f6d-4334-b97b-a047a9db726a</td>\n",
       "      <td>2004-10-26</td>\n",
       "      <td>a66bda4b-652d-4b76-b6fd-8aea3b26ad8a</td>\n",
       "      <td>1e60606d-d793-4c07-b8eb-df1e172c4322</td>\n",
       "      <td>261179002</td>\n",
       "      <td>thoracic</td>\n",
       "      <td>US</td>\n",
       "      <td>Ultrasound</td>\n",
       "      <td>1.2.840.10008.5.1.4.1.1.3.1</td>\n",
       "      <td>Ultrasound Multiframe Image Storage</td>\n",
       "    </tr>\n",
       "    <tr>\n",
       "      <th>6</th>\n",
       "      <td>d7c3b4a4-f529-4366-bb6e-cbe1d99aeffb</td>\n",
       "      <td>2006-04-19</td>\n",
       "      <td>a66bda4b-652d-4b76-b6fd-8aea3b26ad8a</td>\n",
       "      <td>8fd84b96-f4b2-4e1e-a7a9-1fec8781c698</td>\n",
       "      <td>261179002</td>\n",
       "      <td>thoracic</td>\n",
       "      <td>US</td>\n",
       "      <td>Ultrasound</td>\n",
       "      <td>1.2.840.10008.5.1.4.1.1.3.1</td>\n",
       "      <td>Ultrasound Multiframe Image Storage</td>\n",
       "    </tr>\n",
       "    <tr>\n",
       "      <th>7</th>\n",
       "      <td>432ad88d-acec-4adf-86ff-4f0da22d84d7</td>\n",
       "      <td>2006-10-16</td>\n",
       "      <td>a66bda4b-652d-4b76-b6fd-8aea3b26ad8a</td>\n",
       "      <td>ab9bb7f9-64b1-49f3-98ad-78b33bf7bd80</td>\n",
       "      <td>51185008</td>\n",
       "      <td>thoracic structure (body structure)</td>\n",
       "      <td>CR</td>\n",
       "      <td>Computed Radiography</td>\n",
       "      <td>1.2.840.10008.5.1.4.1.1.1.1</td>\n",
       "      <td>Digital X-Ray Image Storage – for Presentation</td>\n",
       "    </tr>\n",
       "    <tr>\n",
       "      <th>8</th>\n",
       "      <td>5de9f73e-bec2-481f-b44a-80103be687c2</td>\n",
       "      <td>2006-10-16</td>\n",
       "      <td>a66bda4b-652d-4b76-b6fd-8aea3b26ad8a</td>\n",
       "      <td>04a8c66f-2831-47a5-a86c-2292d485dbfe</td>\n",
       "      <td>261179002</td>\n",
       "      <td>thoracic</td>\n",
       "      <td>US</td>\n",
       "      <td>Ultrasound</td>\n",
       "      <td>1.2.840.10008.5.1.4.1.1.3.1</td>\n",
       "      <td>Ultrasound Multiframe Image Storage</td>\n",
       "    </tr>\n",
       "    <tr>\n",
       "      <th>9</th>\n",
       "      <td>519ea88a-c304-415f-a96c-7eda22b75afd</td>\n",
       "      <td>2006-10-16</td>\n",
       "      <td>a66bda4b-652d-4b76-b6fd-8aea3b26ad8a</td>\n",
       "      <td>04a8c66f-2831-47a5-a86c-2292d485dbfe</td>\n",
       "      <td>51185008</td>\n",
       "      <td>thoracic structure</td>\n",
       "      <td>DX</td>\n",
       "      <td>Digital Radiography</td>\n",
       "      <td>1.2.840.10008.5.1.4.1.1.1.1</td>\n",
       "      <td>Digital X-Ray Image Storage – for Presentation</td>\n",
       "    </tr>\n",
       "    <tr>\n",
       "      <th>15</th>\n",
       "      <td>b8728ae4-ebce-48ac-b364-16950bc69fe5</td>\n",
       "      <td>2015-09-12</td>\n",
       "      <td>19f152b5-004e-4002-9875-db61b9ce4118</td>\n",
       "      <td>4f13deaa-2b13-4b7f-ae6c-a9ee1dc43bb1</td>\n",
       "      <td>261179002</td>\n",
       "      <td>thoracic</td>\n",
       "      <td>US</td>\n",
       "      <td>Ultrasound</td>\n",
       "      <td>1.2.840.10008.5.1.4.1.1.3.1</td>\n",
       "      <td>Ultrasound Multiframe Image Storage</td>\n",
       "    </tr>\n",
       "    <tr>\n",
       "      <th>16</th>\n",
       "      <td>2beec696-3954-43a5-a6bc-b6887fc29d36</td>\n",
       "      <td>2016-03-10</td>\n",
       "      <td>19f152b5-004e-4002-9875-db61b9ce4118</td>\n",
       "      <td>572f9226-7827-4fbb-9fb8-99e315332613</td>\n",
       "      <td>51185008</td>\n",
       "      <td>thoracic structure (body structure)</td>\n",
       "      <td>CR</td>\n",
       "      <td>Computed Radiography</td>\n",
       "      <td>1.2.840.10008.5.1.4.1.1.1.1</td>\n",
       "      <td>Digital X-Ray Image Storage – for Presentation</td>\n",
       "    </tr>\n",
       "    <tr>\n",
       "      <th>17</th>\n",
       "      <td>6cf8f158-e843-4022-87c4-93cbe9f4805b</td>\n",
       "      <td>2016-03-10</td>\n",
       "      <td>19f152b5-004e-4002-9875-db61b9ce4118</td>\n",
       "      <td>2df0329f-e657-42ab-9646-6f493ed54d0b</td>\n",
       "      <td>261179002</td>\n",
       "      <td>thoracic</td>\n",
       "      <td>US</td>\n",
       "      <td>Ultrasound</td>\n",
       "      <td>1.2.840.10008.5.1.4.1.1.3.1</td>\n",
       "      <td>Ultrasound Multiframe Image Storage</td>\n",
       "    </tr>\n",
       "    <tr>\n",
       "      <th>18</th>\n",
       "      <td>78ecad24-8218-4234-ba83-b8d840846c01</td>\n",
       "      <td>2016-03-10</td>\n",
       "      <td>19f152b5-004e-4002-9875-db61b9ce4118</td>\n",
       "      <td>2df0329f-e657-42ab-9646-6f493ed54d0b</td>\n",
       "      <td>51185008</td>\n",
       "      <td>thoracic structure</td>\n",
       "      <td>DX</td>\n",
       "      <td>Digital Radiography</td>\n",
       "      <td>1.2.840.10008.5.1.4.1.1.1.1</td>\n",
       "      <td>Digital X-Ray Image Storage – for Presentation</td>\n",
       "    </tr>\n",
       "    <tr>\n",
       "      <th>29</th>\n",
       "      <td>ef149e56-fffa-4f10-ba22-e37eabbb8bcf</td>\n",
       "      <td>2005-01-31</td>\n",
       "      <td>aee50cc5-d8d5-4fd9-90d7-ac43931c8e60</td>\n",
       "      <td>1cab502f-b8d7-42e1-9423-3b18df6189d9</td>\n",
       "      <td>51185008</td>\n",
       "      <td>thoracic structure (body structure)</td>\n",
       "      <td>CT</td>\n",
       "      <td>Computed Tomography</td>\n",
       "      <td>1.2.840.10008.5.1.4.1.1.2</td>\n",
       "      <td>CT Image Storage</td>\n",
       "    </tr>\n",
       "    <tr>\n",
       "      <th>30</th>\n",
       "      <td>a18f6667-c6c6-4bca-a652-7a682894ffcb</td>\n",
       "      <td>2005-03-06</td>\n",
       "      <td>aee50cc5-d8d5-4fd9-90d7-ac43931c8e60</td>\n",
       "      <td>15162b83-4ebf-4d14-9797-19efe41e8a07</td>\n",
       "      <td>51185008</td>\n",
       "      <td>thoracic structure (body structure)</td>\n",
       "      <td>CT</td>\n",
       "      <td>Computed Tomography</td>\n",
       "      <td>1.2.840.10008.5.1.4.1.1.2</td>\n",
       "      <td>CT Image Storage</td>\n",
       "    </tr>\n",
       "    <tr>\n",
       "      <th>31</th>\n",
       "      <td>db77daaa-6eb1-4a04-b1a4-9c869aada151</td>\n",
       "      <td>2005-04-03</td>\n",
       "      <td>aee50cc5-d8d5-4fd9-90d7-ac43931c8e60</td>\n",
       "      <td>da9b21a6-3d5b-4f17-8d00-5884adbd6092</td>\n",
       "      <td>51185008</td>\n",
       "      <td>thoracic structure (body structure)</td>\n",
       "      <td>CT</td>\n",
       "      <td>Computed Tomography</td>\n",
       "      <td>1.2.840.10008.5.1.4.1.1.2</td>\n",
       "      <td>CT Image Storage</td>\n",
       "    </tr>\n",
       "    <tr>\n",
       "      <th>32</th>\n",
       "      <td>643315dd-18bd-4309-988e-e8a16765dc38</td>\n",
       "      <td>2005-05-05</td>\n",
       "      <td>aee50cc5-d8d5-4fd9-90d7-ac43931c8e60</td>\n",
       "      <td>22591108-4aee-4278-8f66-40ec429b61e0</td>\n",
       "      <td>51185008</td>\n",
       "      <td>thoracic structure (body structure)</td>\n",
       "      <td>CT</td>\n",
       "      <td>Computed Tomography</td>\n",
       "      <td>1.2.840.10008.5.1.4.1.1.2</td>\n",
       "      <td>CT Image Storage</td>\n",
       "    </tr>\n",
       "    <tr>\n",
       "      <th>33</th>\n",
       "      <td>1ea2679c-aaba-4a9b-ad77-beaa3fee463d</td>\n",
       "      <td>2005-06-06</td>\n",
       "      <td>aee50cc5-d8d5-4fd9-90d7-ac43931c8e60</td>\n",
       "      <td>6316bf64-6d5f-4201-8fd6-2348666d413f</td>\n",
       "      <td>51185008</td>\n",
       "      <td>thoracic structure (body structure)</td>\n",
       "      <td>CT</td>\n",
       "      <td>Computed Tomography</td>\n",
       "      <td>1.2.840.10008.5.1.4.1.1.2</td>\n",
       "      <td>CT Image Storage</td>\n",
       "    </tr>\n",
       "    <tr>\n",
       "      <th>34</th>\n",
       "      <td>c68144b3-0a5b-4c49-b664-6a18d9ea75d8</td>\n",
       "      <td>2005-07-06</td>\n",
       "      <td>aee50cc5-d8d5-4fd9-90d7-ac43931c8e60</td>\n",
       "      <td>83b7a572-c03b-422d-af06-603b5114319f</td>\n",
       "      <td>51185008</td>\n",
       "      <td>thoracic structure (body structure)</td>\n",
       "      <td>CT</td>\n",
       "      <td>Computed Tomography</td>\n",
       "      <td>1.2.840.10008.5.1.4.1.1.2</td>\n",
       "      <td>CT Image Storage</td>\n",
       "    </tr>\n",
       "    <tr>\n",
       "      <th>35</th>\n",
       "      <td>d91301a9-1169-4041-8ba1-71d47c9f9040</td>\n",
       "      <td>2005-08-07</td>\n",
       "      <td>aee50cc5-d8d5-4fd9-90d7-ac43931c8e60</td>\n",
       "      <td>ffbecdeb-a100-4bf9-84e6-33a80405026a</td>\n",
       "      <td>51185008</td>\n",
       "      <td>thoracic structure (body structure)</td>\n",
       "      <td>CT</td>\n",
       "      <td>Computed Tomography</td>\n",
       "      <td>1.2.840.10008.5.1.4.1.1.2</td>\n",
       "      <td>CT Image Storage</td>\n",
       "    </tr>\n",
       "    <tr>\n",
       "      <th>36</th>\n",
       "      <td>54ca33e6-97ec-4e3d-bdce-4939bb3202fd</td>\n",
       "      <td>2005-09-10</td>\n",
       "      <td>aee50cc5-d8d5-4fd9-90d7-ac43931c8e60</td>\n",
       "      <td>7aea4db3-b5f6-42df-bf86-fd7b5cdd54dc</td>\n",
       "      <td>51185008</td>\n",
       "      <td>thoracic structure (body structure)</td>\n",
       "      <td>CT</td>\n",
       "      <td>Computed Tomography</td>\n",
       "      <td>1.2.840.10008.5.1.4.1.1.2</td>\n",
       "      <td>CT Image Storage</td>\n",
       "    </tr>\n",
       "    <tr>\n",
       "      <th>37</th>\n",
       "      <td>5cb87d67-6dd5-468c-b871-9220e14613ba</td>\n",
       "      <td>2005-10-08</td>\n",
       "      <td>aee50cc5-d8d5-4fd9-90d7-ac43931c8e60</td>\n",
       "      <td>478ee533-de19-4d21-9e99-695ca367444b</td>\n",
       "      <td>51185008</td>\n",
       "      <td>thoracic structure (body structure)</td>\n",
       "      <td>CT</td>\n",
       "      <td>Computed Tomography</td>\n",
       "      <td>1.2.840.10008.5.1.4.1.1.2</td>\n",
       "      <td>CT Image Storage</td>\n",
       "    </tr>\n",
       "    <tr>\n",
       "      <th>38</th>\n",
       "      <td>d044c16e-10b2-422e-be3f-083b97b62ae9</td>\n",
       "      <td>2005-11-11</td>\n",
       "      <td>aee50cc5-d8d5-4fd9-90d7-ac43931c8e60</td>\n",
       "      <td>f63b842c-e97c-450d-b8f2-a7c2a5bd714b</td>\n",
       "      <td>51185008</td>\n",
       "      <td>thoracic structure (body structure)</td>\n",
       "      <td>CT</td>\n",
       "      <td>Computed Tomography</td>\n",
       "      <td>1.2.840.10008.5.1.4.1.1.2</td>\n",
       "      <td>CT Image Storage</td>\n",
       "    </tr>\n",
       "    <tr>\n",
       "      <th>39</th>\n",
       "      <td>9e027d5e-c4d7-4577-b396-be2d3911bf38</td>\n",
       "      <td>2005-12-12</td>\n",
       "      <td>aee50cc5-d8d5-4fd9-90d7-ac43931c8e60</td>\n",
       "      <td>4799c1cb-b0a1-4787-9b29-a91cdcda0776</td>\n",
       "      <td>51185008</td>\n",
       "      <td>thoracic structure (body structure)</td>\n",
       "      <td>CT</td>\n",
       "      <td>Computed Tomography</td>\n",
       "      <td>1.2.840.10008.5.1.4.1.1.2</td>\n",
       "      <td>CT Image Storage</td>\n",
       "    </tr>\n",
       "    <tr>\n",
       "      <th>40</th>\n",
       "      <td>fbd3da3a-5a5d-444b-8636-70135ca50653</td>\n",
       "      <td>2006-01-13</td>\n",
       "      <td>aee50cc5-d8d5-4fd9-90d7-ac43931c8e60</td>\n",
       "      <td>3fca88e0-973b-4f2a-9ed5-3027b2e75035</td>\n",
       "      <td>51185008</td>\n",
       "      <td>thoracic structure (body structure)</td>\n",
       "      <td>CT</td>\n",
       "      <td>Computed Tomography</td>\n",
       "      <td>1.2.840.10008.5.1.4.1.1.2</td>\n",
       "      <td>CT Image Storage</td>\n",
       "    </tr>\n",
       "    <tr>\n",
       "      <th>41</th>\n",
       "      <td>a0e46209-3d1d-46ab-b2c0-edcd9638208d</td>\n",
       "      <td>2006-02-12</td>\n",
       "      <td>aee50cc5-d8d5-4fd9-90d7-ac43931c8e60</td>\n",
       "      <td>657fbae5-5606-42f8-9349-fc119b056cf8</td>\n",
       "      <td>51185008</td>\n",
       "      <td>thoracic structure (body structure)</td>\n",
       "      <td>CT</td>\n",
       "      <td>Computed Tomography</td>\n",
       "      <td>1.2.840.10008.5.1.4.1.1.2</td>\n",
       "      <td>CT Image Storage</td>\n",
       "    </tr>\n",
       "    <tr>\n",
       "      <th>42</th>\n",
       "      <td>89822217-c155-43b9-8664-51ca6680a5d0</td>\n",
       "      <td>2006-03-14</td>\n",
       "      <td>aee50cc5-d8d5-4fd9-90d7-ac43931c8e60</td>\n",
       "      <td>b602d7f1-84d8-45da-be36-3f548dead8c7</td>\n",
       "      <td>51185008</td>\n",
       "      <td>thoracic structure (body structure)</td>\n",
       "      <td>CT</td>\n",
       "      <td>Computed Tomography</td>\n",
       "      <td>1.2.840.10008.5.1.4.1.1.2</td>\n",
       "      <td>CT Image Storage</td>\n",
       "    </tr>\n",
       "    <tr>\n",
       "      <th>43</th>\n",
       "      <td>60c353f3-80e6-480e-a114-fe5159ef9a51</td>\n",
       "      <td>2006-04-15</td>\n",
       "      <td>aee50cc5-d8d5-4fd9-90d7-ac43931c8e60</td>\n",
       "      <td>0b386443-5dcf-42c0-ac60-8ad4689bcc0d</td>\n",
       "      <td>51185008</td>\n",
       "      <td>thoracic structure (body structure)</td>\n",
       "      <td>CT</td>\n",
       "      <td>Computed Tomography</td>\n",
       "      <td>1.2.840.10008.5.1.4.1.1.2</td>\n",
       "      <td>CT Image Storage</td>\n",
       "    </tr>\n",
       "    <tr>\n",
       "      <th>44</th>\n",
       "      <td>a77891d0-f4a3-42fa-8d64-da57744e24f5</td>\n",
       "      <td>2006-05-13</td>\n",
       "      <td>aee50cc5-d8d5-4fd9-90d7-ac43931c8e60</td>\n",
       "      <td>e9913d3b-26bb-4307-852f-8058470a05bd</td>\n",
       "      <td>51185008</td>\n",
       "      <td>thoracic structure (body structure)</td>\n",
       "      <td>CT</td>\n",
       "      <td>Computed Tomography</td>\n",
       "      <td>1.2.840.10008.5.1.4.1.1.2</td>\n",
       "      <td>CT Image Storage</td>\n",
       "    </tr>\n",
       "    <tr>\n",
       "      <th>45</th>\n",
       "      <td>715c6cd7-37a7-47c3-84d6-795d2e6e9a74</td>\n",
       "      <td>2006-06-16</td>\n",
       "      <td>aee50cc5-d8d5-4fd9-90d7-ac43931c8e60</td>\n",
       "      <td>67f29017-0354-4bd1-92dd-6f09c470cae0</td>\n",
       "      <td>51185008</td>\n",
       "      <td>thoracic structure (body structure)</td>\n",
       "      <td>CT</td>\n",
       "      <td>Computed Tomography</td>\n",
       "      <td>1.2.840.10008.5.1.4.1.1.2</td>\n",
       "      <td>CT Image Storage</td>\n",
       "    </tr>\n",
       "    <tr>\n",
       "      <th>46</th>\n",
       "      <td>0d033fc6-a9f8-4e42-aa91-19d7e6030dac</td>\n",
       "      <td>2006-07-16</td>\n",
       "      <td>aee50cc5-d8d5-4fd9-90d7-ac43931c8e60</td>\n",
       "      <td>9bbee998-58d9-4273-9258-df68fc9b952e</td>\n",
       "      <td>51185008</td>\n",
       "      <td>thoracic structure (body structure)</td>\n",
       "      <td>CT</td>\n",
       "      <td>Computed Tomography</td>\n",
       "      <td>1.2.840.10008.5.1.4.1.1.2</td>\n",
       "      <td>CT Image Storage</td>\n",
       "    </tr>\n",
       "    <tr>\n",
       "      <th>47</th>\n",
       "      <td>be6e56af-9e65-47fd-b64c-35c83666dc99</td>\n",
       "      <td>2006-08-17</td>\n",
       "      <td>aee50cc5-d8d5-4fd9-90d7-ac43931c8e60</td>\n",
       "      <td>0b014e45-98bc-4639-a68b-20ce9ac5fca2</td>\n",
       "      <td>51185008</td>\n",
       "      <td>thoracic structure (body structure)</td>\n",
       "      <td>CT</td>\n",
       "      <td>Computed Tomography</td>\n",
       "      <td>1.2.840.10008.5.1.4.1.1.2</td>\n",
       "      <td>CT Image Storage</td>\n",
       "    </tr>\n",
       "    <tr>\n",
       "      <th>48</th>\n",
       "      <td>6d044369-1c8b-4eae-b25c-d18f5db543bc</td>\n",
       "      <td>2006-09-14</td>\n",
       "      <td>aee50cc5-d8d5-4fd9-90d7-ac43931c8e60</td>\n",
       "      <td>b38f6434-0918-43fe-a186-356767787cbe</td>\n",
       "      <td>51185008</td>\n",
       "      <td>thoracic structure (body structure)</td>\n",
       "      <td>CT</td>\n",
       "      <td>Computed Tomography</td>\n",
       "      <td>1.2.840.10008.5.1.4.1.1.2</td>\n",
       "      <td>CT Image Storage</td>\n",
       "    </tr>\n",
       "    <tr>\n",
       "      <th>49</th>\n",
       "      <td>0e2c01c6-d8ae-4136-a1f1-5ea4cfdfe223</td>\n",
       "      <td>2006-10-15</td>\n",
       "      <td>aee50cc5-d8d5-4fd9-90d7-ac43931c8e60</td>\n",
       "      <td>21bf4630-202a-47b4-b623-85388fa67346</td>\n",
       "      <td>51185008</td>\n",
       "      <td>thoracic structure (body structure)</td>\n",
       "      <td>CT</td>\n",
       "      <td>Computed Tomography</td>\n",
       "      <td>1.2.840.10008.5.1.4.1.1.2</td>\n",
       "      <td>CT Image Storage</td>\n",
       "    </tr>\n",
       "    <tr>\n",
       "      <th>...</th>\n",
       "      <td>...</td>\n",
       "      <td>...</td>\n",
       "      <td>...</td>\n",
       "      <td>...</td>\n",
       "      <td>...</td>\n",
       "      <td>...</td>\n",
       "      <td>...</td>\n",
       "      <td>...</td>\n",
       "      <td>...</td>\n",
       "      <td>...</td>\n",
       "    </tr>\n",
       "    <tr>\n",
       "      <th>8234</th>\n",
       "      <td>724850f5-637d-4dbb-afa7-8e2f8b0fe399</td>\n",
       "      <td>1992-01-02</td>\n",
       "      <td>4ec11818-2780-4df7-b9a4-bc251b86a940</td>\n",
       "      <td>e19c919f-1efc-4d34-8c7d-c36be388e1bd</td>\n",
       "      <td>261179002</td>\n",
       "      <td>thoracic</td>\n",
       "      <td>US</td>\n",
       "      <td>Ultrasound</td>\n",
       "      <td>1.2.840.10008.5.1.4.1.1.3.1</td>\n",
       "      <td>Ultrasound Multiframe Image Storage</td>\n",
       "    </tr>\n",
       "    <tr>\n",
       "      <th>8235</th>\n",
       "      <td>d36ee1a1-646c-4023-875b-1822852ff43c</td>\n",
       "      <td>1992-06-30</td>\n",
       "      <td>4ec11818-2780-4df7-b9a4-bc251b86a940</td>\n",
       "      <td>4d0c5a1d-48f6-4682-ba21-f9e68cafe28f</td>\n",
       "      <td>51185008</td>\n",
       "      <td>thoracic structure (body structure)</td>\n",
       "      <td>CR</td>\n",
       "      <td>Computed Radiography</td>\n",
       "      <td>1.2.840.10008.5.1.4.1.1.1.1</td>\n",
       "      <td>Digital X-Ray Image Storage – for Presentation</td>\n",
       "    </tr>\n",
       "    <tr>\n",
       "      <th>8236</th>\n",
       "      <td>5bdbe77b-6f7c-4a9e-aa1b-2127d4f63430</td>\n",
       "      <td>1993-06-25</td>\n",
       "      <td>4ec11818-2780-4df7-b9a4-bc251b86a940</td>\n",
       "      <td>ee513e61-8037-40ae-9771-cf00b972dd40</td>\n",
       "      <td>261179002</td>\n",
       "      <td>thoracic</td>\n",
       "      <td>US</td>\n",
       "      <td>Ultrasound</td>\n",
       "      <td>1.2.840.10008.5.1.4.1.1.3.1</td>\n",
       "      <td>Ultrasound Multiframe Image Storage</td>\n",
       "    </tr>\n",
       "    <tr>\n",
       "      <th>8237</th>\n",
       "      <td>67130a73-f86b-406b-a2a8-b673bb4432bd</td>\n",
       "      <td>1993-12-22</td>\n",
       "      <td>4ec11818-2780-4df7-b9a4-bc251b86a940</td>\n",
       "      <td>f2cffe42-2649-4b1d-8b0e-96e741ff3349</td>\n",
       "      <td>51185008</td>\n",
       "      <td>thoracic structure (body structure)</td>\n",
       "      <td>CR</td>\n",
       "      <td>Computed Radiography</td>\n",
       "      <td>1.2.840.10008.5.1.4.1.1.1.1</td>\n",
       "      <td>Digital X-Ray Image Storage – for Presentation</td>\n",
       "    </tr>\n",
       "    <tr>\n",
       "      <th>8238</th>\n",
       "      <td>35b41aa1-e637-44e3-bee4-55b240fab27e</td>\n",
       "      <td>1993-12-22</td>\n",
       "      <td>4ec11818-2780-4df7-b9a4-bc251b86a940</td>\n",
       "      <td>8f501358-ad40-41e3-a47e-93b6e70e80c9</td>\n",
       "      <td>261179002</td>\n",
       "      <td>thoracic</td>\n",
       "      <td>US</td>\n",
       "      <td>Ultrasound</td>\n",
       "      <td>1.2.840.10008.5.1.4.1.1.3.1</td>\n",
       "      <td>Ultrasound Multiframe Image Storage</td>\n",
       "    </tr>\n",
       "    <tr>\n",
       "      <th>8239</th>\n",
       "      <td>8855f0af-91a8-4465-9e7d-7e960d628125</td>\n",
       "      <td>1993-12-22</td>\n",
       "      <td>4ec11818-2780-4df7-b9a4-bc251b86a940</td>\n",
       "      <td>8f501358-ad40-41e3-a47e-93b6e70e80c9</td>\n",
       "      <td>51185008</td>\n",
       "      <td>thoracic structure</td>\n",
       "      <td>DX</td>\n",
       "      <td>Digital Radiography</td>\n",
       "      <td>1.2.840.10008.5.1.4.1.1.1.1</td>\n",
       "      <td>Digital X-Ray Image Storage – for Presentation</td>\n",
       "    </tr>\n",
       "    <tr>\n",
       "      <th>8240</th>\n",
       "      <td>8b1c794e-b438-43bb-b192-9f38394e8485</td>\n",
       "      <td>1994-06-21</td>\n",
       "      <td>4ec11818-2780-4df7-b9a4-bc251b86a940</td>\n",
       "      <td>a6916665-4cc4-4dc5-85f3-a9989eb8852e</td>\n",
       "      <td>261179002</td>\n",
       "      <td>thoracic</td>\n",
       "      <td>US</td>\n",
       "      <td>Ultrasound</td>\n",
       "      <td>1.2.840.10008.5.1.4.1.1.3.1</td>\n",
       "      <td>Ultrasound Multiframe Image Storage</td>\n",
       "    </tr>\n",
       "    <tr>\n",
       "      <th>8241</th>\n",
       "      <td>d328dce3-c25d-4f51-a782-733560acfeae</td>\n",
       "      <td>1994-12-18</td>\n",
       "      <td>4ec11818-2780-4df7-b9a4-bc251b86a940</td>\n",
       "      <td>0a766fdc-b9bf-4e72-8d1e-a417d662eeeb</td>\n",
       "      <td>51185008</td>\n",
       "      <td>thoracic structure (body structure)</td>\n",
       "      <td>CR</td>\n",
       "      <td>Computed Radiography</td>\n",
       "      <td>1.2.840.10008.5.1.4.1.1.1.1</td>\n",
       "      <td>Digital X-Ray Image Storage – for Presentation</td>\n",
       "    </tr>\n",
       "    <tr>\n",
       "      <th>8242</th>\n",
       "      <td>e0d3e945-4e6b-45f8-b44f-0fcf55f24bc3</td>\n",
       "      <td>1994-12-18</td>\n",
       "      <td>4ec11818-2780-4df7-b9a4-bc251b86a940</td>\n",
       "      <td>08d01fe7-e4ad-4854-9905-b4d08bcd8d9b</td>\n",
       "      <td>261179002</td>\n",
       "      <td>thoracic</td>\n",
       "      <td>US</td>\n",
       "      <td>Ultrasound</td>\n",
       "      <td>1.2.840.10008.5.1.4.1.1.3.1</td>\n",
       "      <td>Ultrasound Multiframe Image Storage</td>\n",
       "    </tr>\n",
       "    <tr>\n",
       "      <th>8243</th>\n",
       "      <td>958a0369-ed62-4223-9231-dcf5265c79b9</td>\n",
       "      <td>1994-12-18</td>\n",
       "      <td>4ec11818-2780-4df7-b9a4-bc251b86a940</td>\n",
       "      <td>08d01fe7-e4ad-4854-9905-b4d08bcd8d9b</td>\n",
       "      <td>51185008</td>\n",
       "      <td>thoracic structure</td>\n",
       "      <td>DX</td>\n",
       "      <td>Digital Radiography</td>\n",
       "      <td>1.2.840.10008.5.1.4.1.1.1.1</td>\n",
       "      <td>Digital X-Ray Image Storage – for Presentation</td>\n",
       "    </tr>\n",
       "    <tr>\n",
       "      <th>8248</th>\n",
       "      <td>0545a5f1-0320-4ec1-842f-aec3e3a0ae99</td>\n",
       "      <td>1986-05-22</td>\n",
       "      <td>c390ec92-393f-4dad-ae41-5e141f22278f</td>\n",
       "      <td>43f7359b-ce15-4a8e-9d05-1dcdfe98993f</td>\n",
       "      <td>261179002</td>\n",
       "      <td>thoracic</td>\n",
       "      <td>US</td>\n",
       "      <td>Ultrasound</td>\n",
       "      <td>1.2.840.10008.5.1.4.1.1.3.1</td>\n",
       "      <td>Ultrasound Multiframe Image Storage</td>\n",
       "    </tr>\n",
       "    <tr>\n",
       "      <th>8249</th>\n",
       "      <td>6fcff1db-110e-4b6a-9489-b02d4a38a0f2</td>\n",
       "      <td>1986-11-18</td>\n",
       "      <td>c390ec92-393f-4dad-ae41-5e141f22278f</td>\n",
       "      <td>529538d0-f87d-4b2d-8351-c5ce10dfbd75</td>\n",
       "      <td>51185008</td>\n",
       "      <td>thoracic structure (body structure)</td>\n",
       "      <td>CR</td>\n",
       "      <td>Computed Radiography</td>\n",
       "      <td>1.2.840.10008.5.1.4.1.1.1.1</td>\n",
       "      <td>Digital X-Ray Image Storage – for Presentation</td>\n",
       "    </tr>\n",
       "    <tr>\n",
       "      <th>8250</th>\n",
       "      <td>413f811a-7b86-4630-a658-575d859c0b5e</td>\n",
       "      <td>1987-05-17</td>\n",
       "      <td>c390ec92-393f-4dad-ae41-5e141f22278f</td>\n",
       "      <td>58ec5c94-d9ab-408a-bcb7-77a9e1437792</td>\n",
       "      <td>51185008</td>\n",
       "      <td>thoracic structure (body structure)</td>\n",
       "      <td>CR</td>\n",
       "      <td>Computed Radiography</td>\n",
       "      <td>1.2.840.10008.5.1.4.1.1.1.1</td>\n",
       "      <td>Digital X-Ray Image Storage – for Presentation</td>\n",
       "    </tr>\n",
       "    <tr>\n",
       "      <th>8251</th>\n",
       "      <td>b69878e6-d1ff-4ee3-856a-d7f56c4d0515</td>\n",
       "      <td>1987-05-17</td>\n",
       "      <td>c390ec92-393f-4dad-ae41-5e141f22278f</td>\n",
       "      <td>e1054254-f7cc-41ef-a527-e9ca2ccab81d</td>\n",
       "      <td>261179002</td>\n",
       "      <td>thoracic</td>\n",
       "      <td>US</td>\n",
       "      <td>Ultrasound</td>\n",
       "      <td>1.2.840.10008.5.1.4.1.1.3.1</td>\n",
       "      <td>Ultrasound Multiframe Image Storage</td>\n",
       "    </tr>\n",
       "    <tr>\n",
       "      <th>8252</th>\n",
       "      <td>69bf2716-ca37-456e-aef2-08882a4802df</td>\n",
       "      <td>1987-05-17</td>\n",
       "      <td>c390ec92-393f-4dad-ae41-5e141f22278f</td>\n",
       "      <td>e1054254-f7cc-41ef-a527-e9ca2ccab81d</td>\n",
       "      <td>51185008</td>\n",
       "      <td>thoracic structure</td>\n",
       "      <td>DX</td>\n",
       "      <td>Digital Radiography</td>\n",
       "      <td>1.2.840.10008.5.1.4.1.1.1.1</td>\n",
       "      <td>Digital X-Ray Image Storage – for Presentation</td>\n",
       "    </tr>\n",
       "    <tr>\n",
       "      <th>8255</th>\n",
       "      <td>13775a81-fd8a-4526-a95c-979165f787f8</td>\n",
       "      <td>2001-05-18</td>\n",
       "      <td>80e52d49-be42-4600-b7c0-e153fc6b0dbe</td>\n",
       "      <td>de27784a-c2a5-4944-9b6c-1f438047375c</td>\n",
       "      <td>261179002</td>\n",
       "      <td>thoracic</td>\n",
       "      <td>US</td>\n",
       "      <td>Ultrasound</td>\n",
       "      <td>1.2.840.10008.5.1.4.1.1.3.1</td>\n",
       "      <td>Ultrasound Multiframe Image Storage</td>\n",
       "    </tr>\n",
       "    <tr>\n",
       "      <th>8256</th>\n",
       "      <td>9565e70b-1342-4bea-a567-6e1df8938e0b</td>\n",
       "      <td>2002-05-13</td>\n",
       "      <td>80e52d49-be42-4600-b7c0-e153fc6b0dbe</td>\n",
       "      <td>b5bd6a0c-b056-425c-a126-c8aa48670ea3</td>\n",
       "      <td>261179002</td>\n",
       "      <td>thoracic</td>\n",
       "      <td>US</td>\n",
       "      <td>Ultrasound</td>\n",
       "      <td>1.2.840.10008.5.1.4.1.1.3.1</td>\n",
       "      <td>Ultrasound Multiframe Image Storage</td>\n",
       "    </tr>\n",
       "    <tr>\n",
       "      <th>8257</th>\n",
       "      <td>173e9084-2c6e-42ab-b331-6d2f32e96862</td>\n",
       "      <td>2003-11-04</td>\n",
       "      <td>80e52d49-be42-4600-b7c0-e153fc6b0dbe</td>\n",
       "      <td>d9709c99-7f77-4146-a913-19e6c0598cf4</td>\n",
       "      <td>261179002</td>\n",
       "      <td>thoracic</td>\n",
       "      <td>US</td>\n",
       "      <td>Ultrasound</td>\n",
       "      <td>1.2.840.10008.5.1.4.1.1.3.1</td>\n",
       "      <td>Ultrasound Multiframe Image Storage</td>\n",
       "    </tr>\n",
       "    <tr>\n",
       "      <th>8258</th>\n",
       "      <td>697394e9-474b-4e91-b25f-a011690f79cf</td>\n",
       "      <td>2004-05-02</td>\n",
       "      <td>80e52d49-be42-4600-b7c0-e153fc6b0dbe</td>\n",
       "      <td>b6bb3daa-e589-42e7-aafe-db932d3cbf31</td>\n",
       "      <td>51185008</td>\n",
       "      <td>thoracic structure (body structure)</td>\n",
       "      <td>CR</td>\n",
       "      <td>Computed Radiography</td>\n",
       "      <td>1.2.840.10008.5.1.4.1.1.1.1</td>\n",
       "      <td>Digital X-Ray Image Storage – for Presentation</td>\n",
       "    </tr>\n",
       "    <tr>\n",
       "      <th>8259</th>\n",
       "      <td>032d94fd-1ee5-46fd-9a2a-a0c24d8fb559</td>\n",
       "      <td>2004-05-02</td>\n",
       "      <td>80e52d49-be42-4600-b7c0-e153fc6b0dbe</td>\n",
       "      <td>1d118a53-6c8a-4a05-86fd-79ec16ff1dd4</td>\n",
       "      <td>261179002</td>\n",
       "      <td>thoracic</td>\n",
       "      <td>US</td>\n",
       "      <td>Ultrasound</td>\n",
       "      <td>1.2.840.10008.5.1.4.1.1.3.1</td>\n",
       "      <td>Ultrasound Multiframe Image Storage</td>\n",
       "    </tr>\n",
       "    <tr>\n",
       "      <th>8260</th>\n",
       "      <td>e584ee35-e9a0-4f8f-977c-c060068ce1ee</td>\n",
       "      <td>2004-05-02</td>\n",
       "      <td>80e52d49-be42-4600-b7c0-e153fc6b0dbe</td>\n",
       "      <td>1d118a53-6c8a-4a05-86fd-79ec16ff1dd4</td>\n",
       "      <td>51185008</td>\n",
       "      <td>thoracic structure</td>\n",
       "      <td>DX</td>\n",
       "      <td>Digital Radiography</td>\n",
       "      <td>1.2.840.10008.5.1.4.1.1.1.1</td>\n",
       "      <td>Digital X-Ray Image Storage – for Presentation</td>\n",
       "    </tr>\n",
       "    <tr>\n",
       "      <th>8265</th>\n",
       "      <td>3d59f123-c618-4ab4-94f9-3f77b6f2d8b4</td>\n",
       "      <td>1989-12-24</td>\n",
       "      <td>b13d59b1-dfe5-49f8-bf8c-abd82e152496</td>\n",
       "      <td>4f3d6327-0bc3-46b4-a738-93899495d0f5</td>\n",
       "      <td>261179002</td>\n",
       "      <td>thoracic</td>\n",
       "      <td>US</td>\n",
       "      <td>Ultrasound</td>\n",
       "      <td>1.2.840.10008.5.1.4.1.1.3.1</td>\n",
       "      <td>Ultrasound Multiframe Image Storage</td>\n",
       "    </tr>\n",
       "    <tr>\n",
       "      <th>8266</th>\n",
       "      <td>f79934f1-bb33-4d21-9a89-f12b9cc8903a</td>\n",
       "      <td>1991-06-17</td>\n",
       "      <td>b13d59b1-dfe5-49f8-bf8c-abd82e152496</td>\n",
       "      <td>95f54c61-ce32-409b-8d70-1bbcf01ba3a9</td>\n",
       "      <td>261179002</td>\n",
       "      <td>thoracic</td>\n",
       "      <td>US</td>\n",
       "      <td>Ultrasound</td>\n",
       "      <td>1.2.840.10008.5.1.4.1.1.3.1</td>\n",
       "      <td>Ultrasound Multiframe Image Storage</td>\n",
       "    </tr>\n",
       "    <tr>\n",
       "      <th>8267</th>\n",
       "      <td>89fd100c-0c82-4a4a-9b54-c0e3f575efb0</td>\n",
       "      <td>1992-12-08</td>\n",
       "      <td>b13d59b1-dfe5-49f8-bf8c-abd82e152496</td>\n",
       "      <td>f914827b-a87d-48b7-96e0-fa7e4a7f8916</td>\n",
       "      <td>261179002</td>\n",
       "      <td>thoracic</td>\n",
       "      <td>US</td>\n",
       "      <td>Ultrasound</td>\n",
       "      <td>1.2.840.10008.5.1.4.1.1.3.1</td>\n",
       "      <td>Ultrasound Multiframe Image Storage</td>\n",
       "    </tr>\n",
       "    <tr>\n",
       "      <th>8268</th>\n",
       "      <td>823176d2-f20e-4401-a6b0-8b4224da3393</td>\n",
       "      <td>1993-12-03</td>\n",
       "      <td>b13d59b1-dfe5-49f8-bf8c-abd82e152496</td>\n",
       "      <td>d48bf9dc-383d-4a49-938e-b5623cc043b9</td>\n",
       "      <td>261179002</td>\n",
       "      <td>thoracic</td>\n",
       "      <td>US</td>\n",
       "      <td>Ultrasound</td>\n",
       "      <td>1.2.840.10008.5.1.4.1.1.3.1</td>\n",
       "      <td>Ultrasound Multiframe Image Storage</td>\n",
       "    </tr>\n",
       "    <tr>\n",
       "      <th>8269</th>\n",
       "      <td>d6215f7c-2290-46f3-8a94-01d3b3ab0aa9</td>\n",
       "      <td>1994-11-28</td>\n",
       "      <td>b13d59b1-dfe5-49f8-bf8c-abd82e152496</td>\n",
       "      <td>bcff003d-0bdc-46a4-9627-cbd12e9f6597</td>\n",
       "      <td>51185008</td>\n",
       "      <td>thoracic structure (body structure)</td>\n",
       "      <td>CR</td>\n",
       "      <td>Computed Radiography</td>\n",
       "      <td>1.2.840.10008.5.1.4.1.1.1.1</td>\n",
       "      <td>Digital X-Ray Image Storage – for Presentation</td>\n",
       "    </tr>\n",
       "    <tr>\n",
       "      <th>8270</th>\n",
       "      <td>ec365a9e-6c3c-4514-b14a-691ab962b2e8</td>\n",
       "      <td>1995-05-27</td>\n",
       "      <td>b13d59b1-dfe5-49f8-bf8c-abd82e152496</td>\n",
       "      <td>fd7053f7-676c-42a8-af28-c4a15f193a88</td>\n",
       "      <td>261179002</td>\n",
       "      <td>thoracic</td>\n",
       "      <td>US</td>\n",
       "      <td>Ultrasound</td>\n",
       "      <td>1.2.840.10008.5.1.4.1.1.3.1</td>\n",
       "      <td>Ultrasound Multiframe Image Storage</td>\n",
       "    </tr>\n",
       "    <tr>\n",
       "      <th>8271</th>\n",
       "      <td>fafdf563-df28-411c-81c7-1a50f9fa43dd</td>\n",
       "      <td>1995-11-23</td>\n",
       "      <td>b13d59b1-dfe5-49f8-bf8c-abd82e152496</td>\n",
       "      <td>5371cc3a-ec73-4d42-9698-4f8ab45f7107</td>\n",
       "      <td>51185008</td>\n",
       "      <td>thoracic structure (body structure)</td>\n",
       "      <td>CR</td>\n",
       "      <td>Computed Radiography</td>\n",
       "      <td>1.2.840.10008.5.1.4.1.1.1.1</td>\n",
       "      <td>Digital X-Ray Image Storage – for Presentation</td>\n",
       "    </tr>\n",
       "    <tr>\n",
       "      <th>8272</th>\n",
       "      <td>243cf2f7-4fb2-4c93-838f-a8493d2294c6</td>\n",
       "      <td>1995-11-23</td>\n",
       "      <td>b13d59b1-dfe5-49f8-bf8c-abd82e152496</td>\n",
       "      <td>ee4c8a41-b113-479c-9870-19a60c700738</td>\n",
       "      <td>261179002</td>\n",
       "      <td>thoracic</td>\n",
       "      <td>US</td>\n",
       "      <td>Ultrasound</td>\n",
       "      <td>1.2.840.10008.5.1.4.1.1.3.1</td>\n",
       "      <td>Ultrasound Multiframe Image Storage</td>\n",
       "    </tr>\n",
       "    <tr>\n",
       "      <th>8273</th>\n",
       "      <td>38201130-dbce-42be-be51-0c3284b3fddd</td>\n",
       "      <td>1995-11-23</td>\n",
       "      <td>b13d59b1-dfe5-49f8-bf8c-abd82e152496</td>\n",
       "      <td>ee4c8a41-b113-479c-9870-19a60c700738</td>\n",
       "      <td>51185008</td>\n",
       "      <td>thoracic structure</td>\n",
       "      <td>DX</td>\n",
       "      <td>Digital Radiography</td>\n",
       "      <td>1.2.840.10008.5.1.4.1.1.1.1</td>\n",
       "      <td>Digital X-Ray Image Storage – for Presentation</td>\n",
       "    </tr>\n",
       "  </tbody>\n",
       "</table>\n",
       "<p>5086 rows × 10 columns</p>\n",
       "</div>"
      ],
      "text/plain": [
       "                                        Id        DATE  \\\n",
       "5     99909564-2f6d-4334-b97b-a047a9db726a  2004-10-26   \n",
       "6     d7c3b4a4-f529-4366-bb6e-cbe1d99aeffb  2006-04-19   \n",
       "7     432ad88d-acec-4adf-86ff-4f0da22d84d7  2006-10-16   \n",
       "8     5de9f73e-bec2-481f-b44a-80103be687c2  2006-10-16   \n",
       "9     519ea88a-c304-415f-a96c-7eda22b75afd  2006-10-16   \n",
       "15    b8728ae4-ebce-48ac-b364-16950bc69fe5  2015-09-12   \n",
       "16    2beec696-3954-43a5-a6bc-b6887fc29d36  2016-03-10   \n",
       "17    6cf8f158-e843-4022-87c4-93cbe9f4805b  2016-03-10   \n",
       "18    78ecad24-8218-4234-ba83-b8d840846c01  2016-03-10   \n",
       "29    ef149e56-fffa-4f10-ba22-e37eabbb8bcf  2005-01-31   \n",
       "30    a18f6667-c6c6-4bca-a652-7a682894ffcb  2005-03-06   \n",
       "31    db77daaa-6eb1-4a04-b1a4-9c869aada151  2005-04-03   \n",
       "32    643315dd-18bd-4309-988e-e8a16765dc38  2005-05-05   \n",
       "33    1ea2679c-aaba-4a9b-ad77-beaa3fee463d  2005-06-06   \n",
       "34    c68144b3-0a5b-4c49-b664-6a18d9ea75d8  2005-07-06   \n",
       "35    d91301a9-1169-4041-8ba1-71d47c9f9040  2005-08-07   \n",
       "36    54ca33e6-97ec-4e3d-bdce-4939bb3202fd  2005-09-10   \n",
       "37    5cb87d67-6dd5-468c-b871-9220e14613ba  2005-10-08   \n",
       "38    d044c16e-10b2-422e-be3f-083b97b62ae9  2005-11-11   \n",
       "39    9e027d5e-c4d7-4577-b396-be2d3911bf38  2005-12-12   \n",
       "40    fbd3da3a-5a5d-444b-8636-70135ca50653  2006-01-13   \n",
       "41    a0e46209-3d1d-46ab-b2c0-edcd9638208d  2006-02-12   \n",
       "42    89822217-c155-43b9-8664-51ca6680a5d0  2006-03-14   \n",
       "43    60c353f3-80e6-480e-a114-fe5159ef9a51  2006-04-15   \n",
       "44    a77891d0-f4a3-42fa-8d64-da57744e24f5  2006-05-13   \n",
       "45    715c6cd7-37a7-47c3-84d6-795d2e6e9a74  2006-06-16   \n",
       "46    0d033fc6-a9f8-4e42-aa91-19d7e6030dac  2006-07-16   \n",
       "47    be6e56af-9e65-47fd-b64c-35c83666dc99  2006-08-17   \n",
       "48    6d044369-1c8b-4eae-b25c-d18f5db543bc  2006-09-14   \n",
       "49    0e2c01c6-d8ae-4136-a1f1-5ea4cfdfe223  2006-10-15   \n",
       "...                                    ...         ...   \n",
       "8234  724850f5-637d-4dbb-afa7-8e2f8b0fe399  1992-01-02   \n",
       "8235  d36ee1a1-646c-4023-875b-1822852ff43c  1992-06-30   \n",
       "8236  5bdbe77b-6f7c-4a9e-aa1b-2127d4f63430  1993-06-25   \n",
       "8237  67130a73-f86b-406b-a2a8-b673bb4432bd  1993-12-22   \n",
       "8238  35b41aa1-e637-44e3-bee4-55b240fab27e  1993-12-22   \n",
       "8239  8855f0af-91a8-4465-9e7d-7e960d628125  1993-12-22   \n",
       "8240  8b1c794e-b438-43bb-b192-9f38394e8485  1994-06-21   \n",
       "8241  d328dce3-c25d-4f51-a782-733560acfeae  1994-12-18   \n",
       "8242  e0d3e945-4e6b-45f8-b44f-0fcf55f24bc3  1994-12-18   \n",
       "8243  958a0369-ed62-4223-9231-dcf5265c79b9  1994-12-18   \n",
       "8248  0545a5f1-0320-4ec1-842f-aec3e3a0ae99  1986-05-22   \n",
       "8249  6fcff1db-110e-4b6a-9489-b02d4a38a0f2  1986-11-18   \n",
       "8250  413f811a-7b86-4630-a658-575d859c0b5e  1987-05-17   \n",
       "8251  b69878e6-d1ff-4ee3-856a-d7f56c4d0515  1987-05-17   \n",
       "8252  69bf2716-ca37-456e-aef2-08882a4802df  1987-05-17   \n",
       "8255  13775a81-fd8a-4526-a95c-979165f787f8  2001-05-18   \n",
       "8256  9565e70b-1342-4bea-a567-6e1df8938e0b  2002-05-13   \n",
       "8257  173e9084-2c6e-42ab-b331-6d2f32e96862  2003-11-04   \n",
       "8258  697394e9-474b-4e91-b25f-a011690f79cf  2004-05-02   \n",
       "8259  032d94fd-1ee5-46fd-9a2a-a0c24d8fb559  2004-05-02   \n",
       "8260  e584ee35-e9a0-4f8f-977c-c060068ce1ee  2004-05-02   \n",
       "8265  3d59f123-c618-4ab4-94f9-3f77b6f2d8b4  1989-12-24   \n",
       "8266  f79934f1-bb33-4d21-9a89-f12b9cc8903a  1991-06-17   \n",
       "8267  89fd100c-0c82-4a4a-9b54-c0e3f575efb0  1992-12-08   \n",
       "8268  823176d2-f20e-4401-a6b0-8b4224da3393  1993-12-03   \n",
       "8269  d6215f7c-2290-46f3-8a94-01d3b3ab0aa9  1994-11-28   \n",
       "8270  ec365a9e-6c3c-4514-b14a-691ab962b2e8  1995-05-27   \n",
       "8271  fafdf563-df28-411c-81c7-1a50f9fa43dd  1995-11-23   \n",
       "8272  243cf2f7-4fb2-4c93-838f-a8493d2294c6  1995-11-23   \n",
       "8273  38201130-dbce-42be-be51-0c3284b3fddd  1995-11-23   \n",
       "\n",
       "                                   PATIENT  \\\n",
       "5     a66bda4b-652d-4b76-b6fd-8aea3b26ad8a   \n",
       "6     a66bda4b-652d-4b76-b6fd-8aea3b26ad8a   \n",
       "7     a66bda4b-652d-4b76-b6fd-8aea3b26ad8a   \n",
       "8     a66bda4b-652d-4b76-b6fd-8aea3b26ad8a   \n",
       "9     a66bda4b-652d-4b76-b6fd-8aea3b26ad8a   \n",
       "15    19f152b5-004e-4002-9875-db61b9ce4118   \n",
       "16    19f152b5-004e-4002-9875-db61b9ce4118   \n",
       "17    19f152b5-004e-4002-9875-db61b9ce4118   \n",
       "18    19f152b5-004e-4002-9875-db61b9ce4118   \n",
       "29    aee50cc5-d8d5-4fd9-90d7-ac43931c8e60   \n",
       "30    aee50cc5-d8d5-4fd9-90d7-ac43931c8e60   \n",
       "31    aee50cc5-d8d5-4fd9-90d7-ac43931c8e60   \n",
       "32    aee50cc5-d8d5-4fd9-90d7-ac43931c8e60   \n",
       "33    aee50cc5-d8d5-4fd9-90d7-ac43931c8e60   \n",
       "34    aee50cc5-d8d5-4fd9-90d7-ac43931c8e60   \n",
       "35    aee50cc5-d8d5-4fd9-90d7-ac43931c8e60   \n",
       "36    aee50cc5-d8d5-4fd9-90d7-ac43931c8e60   \n",
       "37    aee50cc5-d8d5-4fd9-90d7-ac43931c8e60   \n",
       "38    aee50cc5-d8d5-4fd9-90d7-ac43931c8e60   \n",
       "39    aee50cc5-d8d5-4fd9-90d7-ac43931c8e60   \n",
       "40    aee50cc5-d8d5-4fd9-90d7-ac43931c8e60   \n",
       "41    aee50cc5-d8d5-4fd9-90d7-ac43931c8e60   \n",
       "42    aee50cc5-d8d5-4fd9-90d7-ac43931c8e60   \n",
       "43    aee50cc5-d8d5-4fd9-90d7-ac43931c8e60   \n",
       "44    aee50cc5-d8d5-4fd9-90d7-ac43931c8e60   \n",
       "45    aee50cc5-d8d5-4fd9-90d7-ac43931c8e60   \n",
       "46    aee50cc5-d8d5-4fd9-90d7-ac43931c8e60   \n",
       "47    aee50cc5-d8d5-4fd9-90d7-ac43931c8e60   \n",
       "48    aee50cc5-d8d5-4fd9-90d7-ac43931c8e60   \n",
       "49    aee50cc5-d8d5-4fd9-90d7-ac43931c8e60   \n",
       "...                                    ...   \n",
       "8234  4ec11818-2780-4df7-b9a4-bc251b86a940   \n",
       "8235  4ec11818-2780-4df7-b9a4-bc251b86a940   \n",
       "8236  4ec11818-2780-4df7-b9a4-bc251b86a940   \n",
       "8237  4ec11818-2780-4df7-b9a4-bc251b86a940   \n",
       "8238  4ec11818-2780-4df7-b9a4-bc251b86a940   \n",
       "8239  4ec11818-2780-4df7-b9a4-bc251b86a940   \n",
       "8240  4ec11818-2780-4df7-b9a4-bc251b86a940   \n",
       "8241  4ec11818-2780-4df7-b9a4-bc251b86a940   \n",
       "8242  4ec11818-2780-4df7-b9a4-bc251b86a940   \n",
       "8243  4ec11818-2780-4df7-b9a4-bc251b86a940   \n",
       "8248  c390ec92-393f-4dad-ae41-5e141f22278f   \n",
       "8249  c390ec92-393f-4dad-ae41-5e141f22278f   \n",
       "8250  c390ec92-393f-4dad-ae41-5e141f22278f   \n",
       "8251  c390ec92-393f-4dad-ae41-5e141f22278f   \n",
       "8252  c390ec92-393f-4dad-ae41-5e141f22278f   \n",
       "8255  80e52d49-be42-4600-b7c0-e153fc6b0dbe   \n",
       "8256  80e52d49-be42-4600-b7c0-e153fc6b0dbe   \n",
       "8257  80e52d49-be42-4600-b7c0-e153fc6b0dbe   \n",
       "8258  80e52d49-be42-4600-b7c0-e153fc6b0dbe   \n",
       "8259  80e52d49-be42-4600-b7c0-e153fc6b0dbe   \n",
       "8260  80e52d49-be42-4600-b7c0-e153fc6b0dbe   \n",
       "8265  b13d59b1-dfe5-49f8-bf8c-abd82e152496   \n",
       "8266  b13d59b1-dfe5-49f8-bf8c-abd82e152496   \n",
       "8267  b13d59b1-dfe5-49f8-bf8c-abd82e152496   \n",
       "8268  b13d59b1-dfe5-49f8-bf8c-abd82e152496   \n",
       "8269  b13d59b1-dfe5-49f8-bf8c-abd82e152496   \n",
       "8270  b13d59b1-dfe5-49f8-bf8c-abd82e152496   \n",
       "8271  b13d59b1-dfe5-49f8-bf8c-abd82e152496   \n",
       "8272  b13d59b1-dfe5-49f8-bf8c-abd82e152496   \n",
       "8273  b13d59b1-dfe5-49f8-bf8c-abd82e152496   \n",
       "\n",
       "                                 ENCOUNTER  BODYSITE_CODE  \\\n",
       "5     1e60606d-d793-4c07-b8eb-df1e172c4322      261179002   \n",
       "6     8fd84b96-f4b2-4e1e-a7a9-1fec8781c698      261179002   \n",
       "7     ab9bb7f9-64b1-49f3-98ad-78b33bf7bd80       51185008   \n",
       "8     04a8c66f-2831-47a5-a86c-2292d485dbfe      261179002   \n",
       "9     04a8c66f-2831-47a5-a86c-2292d485dbfe       51185008   \n",
       "15    4f13deaa-2b13-4b7f-ae6c-a9ee1dc43bb1      261179002   \n",
       "16    572f9226-7827-4fbb-9fb8-99e315332613       51185008   \n",
       "17    2df0329f-e657-42ab-9646-6f493ed54d0b      261179002   \n",
       "18    2df0329f-e657-42ab-9646-6f493ed54d0b       51185008   \n",
       "29    1cab502f-b8d7-42e1-9423-3b18df6189d9       51185008   \n",
       "30    15162b83-4ebf-4d14-9797-19efe41e8a07       51185008   \n",
       "31    da9b21a6-3d5b-4f17-8d00-5884adbd6092       51185008   \n",
       "32    22591108-4aee-4278-8f66-40ec429b61e0       51185008   \n",
       "33    6316bf64-6d5f-4201-8fd6-2348666d413f       51185008   \n",
       "34    83b7a572-c03b-422d-af06-603b5114319f       51185008   \n",
       "35    ffbecdeb-a100-4bf9-84e6-33a80405026a       51185008   \n",
       "36    7aea4db3-b5f6-42df-bf86-fd7b5cdd54dc       51185008   \n",
       "37    478ee533-de19-4d21-9e99-695ca367444b       51185008   \n",
       "38    f63b842c-e97c-450d-b8f2-a7c2a5bd714b       51185008   \n",
       "39    4799c1cb-b0a1-4787-9b29-a91cdcda0776       51185008   \n",
       "40    3fca88e0-973b-4f2a-9ed5-3027b2e75035       51185008   \n",
       "41    657fbae5-5606-42f8-9349-fc119b056cf8       51185008   \n",
       "42    b602d7f1-84d8-45da-be36-3f548dead8c7       51185008   \n",
       "43    0b386443-5dcf-42c0-ac60-8ad4689bcc0d       51185008   \n",
       "44    e9913d3b-26bb-4307-852f-8058470a05bd       51185008   \n",
       "45    67f29017-0354-4bd1-92dd-6f09c470cae0       51185008   \n",
       "46    9bbee998-58d9-4273-9258-df68fc9b952e       51185008   \n",
       "47    0b014e45-98bc-4639-a68b-20ce9ac5fca2       51185008   \n",
       "48    b38f6434-0918-43fe-a186-356767787cbe       51185008   \n",
       "49    21bf4630-202a-47b4-b623-85388fa67346       51185008   \n",
       "...                                    ...            ...   \n",
       "8234  e19c919f-1efc-4d34-8c7d-c36be388e1bd      261179002   \n",
       "8235  4d0c5a1d-48f6-4682-ba21-f9e68cafe28f       51185008   \n",
       "8236  ee513e61-8037-40ae-9771-cf00b972dd40      261179002   \n",
       "8237  f2cffe42-2649-4b1d-8b0e-96e741ff3349       51185008   \n",
       "8238  8f501358-ad40-41e3-a47e-93b6e70e80c9      261179002   \n",
       "8239  8f501358-ad40-41e3-a47e-93b6e70e80c9       51185008   \n",
       "8240  a6916665-4cc4-4dc5-85f3-a9989eb8852e      261179002   \n",
       "8241  0a766fdc-b9bf-4e72-8d1e-a417d662eeeb       51185008   \n",
       "8242  08d01fe7-e4ad-4854-9905-b4d08bcd8d9b      261179002   \n",
       "8243  08d01fe7-e4ad-4854-9905-b4d08bcd8d9b       51185008   \n",
       "8248  43f7359b-ce15-4a8e-9d05-1dcdfe98993f      261179002   \n",
       "8249  529538d0-f87d-4b2d-8351-c5ce10dfbd75       51185008   \n",
       "8250  58ec5c94-d9ab-408a-bcb7-77a9e1437792       51185008   \n",
       "8251  e1054254-f7cc-41ef-a527-e9ca2ccab81d      261179002   \n",
       "8252  e1054254-f7cc-41ef-a527-e9ca2ccab81d       51185008   \n",
       "8255  de27784a-c2a5-4944-9b6c-1f438047375c      261179002   \n",
       "8256  b5bd6a0c-b056-425c-a126-c8aa48670ea3      261179002   \n",
       "8257  d9709c99-7f77-4146-a913-19e6c0598cf4      261179002   \n",
       "8258  b6bb3daa-e589-42e7-aafe-db932d3cbf31       51185008   \n",
       "8259  1d118a53-6c8a-4a05-86fd-79ec16ff1dd4      261179002   \n",
       "8260  1d118a53-6c8a-4a05-86fd-79ec16ff1dd4       51185008   \n",
       "8265  4f3d6327-0bc3-46b4-a738-93899495d0f5      261179002   \n",
       "8266  95f54c61-ce32-409b-8d70-1bbcf01ba3a9      261179002   \n",
       "8267  f914827b-a87d-48b7-96e0-fa7e4a7f8916      261179002   \n",
       "8268  d48bf9dc-383d-4a49-938e-b5623cc043b9      261179002   \n",
       "8269  bcff003d-0bdc-46a4-9627-cbd12e9f6597       51185008   \n",
       "8270  fd7053f7-676c-42a8-af28-c4a15f193a88      261179002   \n",
       "8271  5371cc3a-ec73-4d42-9698-4f8ab45f7107       51185008   \n",
       "8272  ee4c8a41-b113-479c-9870-19a60c700738      261179002   \n",
       "8273  ee4c8a41-b113-479c-9870-19a60c700738       51185008   \n",
       "\n",
       "                     BODYSITE_DESCRIPTION MODALITY_CODE  MODALITY_DESCRIPTION  \\\n",
       "5                                thoracic            US            Ultrasound   \n",
       "6                                thoracic            US            Ultrasound   \n",
       "7     thoracic structure (body structure)            CR  Computed Radiography   \n",
       "8                                thoracic            US            Ultrasound   \n",
       "9                      thoracic structure            DX   Digital Radiography   \n",
       "15                               thoracic            US            Ultrasound   \n",
       "16    thoracic structure (body structure)            CR  Computed Radiography   \n",
       "17                               thoracic            US            Ultrasound   \n",
       "18                     thoracic structure            DX   Digital Radiography   \n",
       "29    thoracic structure (body structure)            CT   Computed Tomography   \n",
       "30    thoracic structure (body structure)            CT   Computed Tomography   \n",
       "31    thoracic structure (body structure)            CT   Computed Tomography   \n",
       "32    thoracic structure (body structure)            CT   Computed Tomography   \n",
       "33    thoracic structure (body structure)            CT   Computed Tomography   \n",
       "34    thoracic structure (body structure)            CT   Computed Tomography   \n",
       "35    thoracic structure (body structure)            CT   Computed Tomography   \n",
       "36    thoracic structure (body structure)            CT   Computed Tomography   \n",
       "37    thoracic structure (body structure)            CT   Computed Tomography   \n",
       "38    thoracic structure (body structure)            CT   Computed Tomography   \n",
       "39    thoracic structure (body structure)            CT   Computed Tomography   \n",
       "40    thoracic structure (body structure)            CT   Computed Tomography   \n",
       "41    thoracic structure (body structure)            CT   Computed Tomography   \n",
       "42    thoracic structure (body structure)            CT   Computed Tomography   \n",
       "43    thoracic structure (body structure)            CT   Computed Tomography   \n",
       "44    thoracic structure (body structure)            CT   Computed Tomography   \n",
       "45    thoracic structure (body structure)            CT   Computed Tomography   \n",
       "46    thoracic structure (body structure)            CT   Computed Tomography   \n",
       "47    thoracic structure (body structure)            CT   Computed Tomography   \n",
       "48    thoracic structure (body structure)            CT   Computed Tomography   \n",
       "49    thoracic structure (body structure)            CT   Computed Tomography   \n",
       "...                                   ...           ...                   ...   \n",
       "8234                             thoracic            US            Ultrasound   \n",
       "8235  thoracic structure (body structure)            CR  Computed Radiography   \n",
       "8236                             thoracic            US            Ultrasound   \n",
       "8237  thoracic structure (body structure)            CR  Computed Radiography   \n",
       "8238                             thoracic            US            Ultrasound   \n",
       "8239                   thoracic structure            DX   Digital Radiography   \n",
       "8240                             thoracic            US            Ultrasound   \n",
       "8241  thoracic structure (body structure)            CR  Computed Radiography   \n",
       "8242                             thoracic            US            Ultrasound   \n",
       "8243                   thoracic structure            DX   Digital Radiography   \n",
       "8248                             thoracic            US            Ultrasound   \n",
       "8249  thoracic structure (body structure)            CR  Computed Radiography   \n",
       "8250  thoracic structure (body structure)            CR  Computed Radiography   \n",
       "8251                             thoracic            US            Ultrasound   \n",
       "8252                   thoracic structure            DX   Digital Radiography   \n",
       "8255                             thoracic            US            Ultrasound   \n",
       "8256                             thoracic            US            Ultrasound   \n",
       "8257                             thoracic            US            Ultrasound   \n",
       "8258  thoracic structure (body structure)            CR  Computed Radiography   \n",
       "8259                             thoracic            US            Ultrasound   \n",
       "8260                   thoracic structure            DX   Digital Radiography   \n",
       "8265                             thoracic            US            Ultrasound   \n",
       "8266                             thoracic            US            Ultrasound   \n",
       "8267                             thoracic            US            Ultrasound   \n",
       "8268                             thoracic            US            Ultrasound   \n",
       "8269  thoracic structure (body structure)            CR  Computed Radiography   \n",
       "8270                             thoracic            US            Ultrasound   \n",
       "8271  thoracic structure (body structure)            CR  Computed Radiography   \n",
       "8272                             thoracic            US            Ultrasound   \n",
       "8273                   thoracic structure            DX   Digital Radiography   \n",
       "\n",
       "                         SOP_CODE  \\\n",
       "5     1.2.840.10008.5.1.4.1.1.3.1   \n",
       "6     1.2.840.10008.5.1.4.1.1.3.1   \n",
       "7     1.2.840.10008.5.1.4.1.1.1.1   \n",
       "8     1.2.840.10008.5.1.4.1.1.3.1   \n",
       "9     1.2.840.10008.5.1.4.1.1.1.1   \n",
       "15    1.2.840.10008.5.1.4.1.1.3.1   \n",
       "16    1.2.840.10008.5.1.4.1.1.1.1   \n",
       "17    1.2.840.10008.5.1.4.1.1.3.1   \n",
       "18    1.2.840.10008.5.1.4.1.1.1.1   \n",
       "29      1.2.840.10008.5.1.4.1.1.2   \n",
       "30      1.2.840.10008.5.1.4.1.1.2   \n",
       "31      1.2.840.10008.5.1.4.1.1.2   \n",
       "32      1.2.840.10008.5.1.4.1.1.2   \n",
       "33      1.2.840.10008.5.1.4.1.1.2   \n",
       "34      1.2.840.10008.5.1.4.1.1.2   \n",
       "35      1.2.840.10008.5.1.4.1.1.2   \n",
       "36      1.2.840.10008.5.1.4.1.1.2   \n",
       "37      1.2.840.10008.5.1.4.1.1.2   \n",
       "38      1.2.840.10008.5.1.4.1.1.2   \n",
       "39      1.2.840.10008.5.1.4.1.1.2   \n",
       "40      1.2.840.10008.5.1.4.1.1.2   \n",
       "41      1.2.840.10008.5.1.4.1.1.2   \n",
       "42      1.2.840.10008.5.1.4.1.1.2   \n",
       "43      1.2.840.10008.5.1.4.1.1.2   \n",
       "44      1.2.840.10008.5.1.4.1.1.2   \n",
       "45      1.2.840.10008.5.1.4.1.1.2   \n",
       "46      1.2.840.10008.5.1.4.1.1.2   \n",
       "47      1.2.840.10008.5.1.4.1.1.2   \n",
       "48      1.2.840.10008.5.1.4.1.1.2   \n",
       "49      1.2.840.10008.5.1.4.1.1.2   \n",
       "...                           ...   \n",
       "8234  1.2.840.10008.5.1.4.1.1.3.1   \n",
       "8235  1.2.840.10008.5.1.4.1.1.1.1   \n",
       "8236  1.2.840.10008.5.1.4.1.1.3.1   \n",
       "8237  1.2.840.10008.5.1.4.1.1.1.1   \n",
       "8238  1.2.840.10008.5.1.4.1.1.3.1   \n",
       "8239  1.2.840.10008.5.1.4.1.1.1.1   \n",
       "8240  1.2.840.10008.5.1.4.1.1.3.1   \n",
       "8241  1.2.840.10008.5.1.4.1.1.1.1   \n",
       "8242  1.2.840.10008.5.1.4.1.1.3.1   \n",
       "8243  1.2.840.10008.5.1.4.1.1.1.1   \n",
       "8248  1.2.840.10008.5.1.4.1.1.3.1   \n",
       "8249  1.2.840.10008.5.1.4.1.1.1.1   \n",
       "8250  1.2.840.10008.5.1.4.1.1.1.1   \n",
       "8251  1.2.840.10008.5.1.4.1.1.3.1   \n",
       "8252  1.2.840.10008.5.1.4.1.1.1.1   \n",
       "8255  1.2.840.10008.5.1.4.1.1.3.1   \n",
       "8256  1.2.840.10008.5.1.4.1.1.3.1   \n",
       "8257  1.2.840.10008.5.1.4.1.1.3.1   \n",
       "8258  1.2.840.10008.5.1.4.1.1.1.1   \n",
       "8259  1.2.840.10008.5.1.4.1.1.3.1   \n",
       "8260  1.2.840.10008.5.1.4.1.1.1.1   \n",
       "8265  1.2.840.10008.5.1.4.1.1.3.1   \n",
       "8266  1.2.840.10008.5.1.4.1.1.3.1   \n",
       "8267  1.2.840.10008.5.1.4.1.1.3.1   \n",
       "8268  1.2.840.10008.5.1.4.1.1.3.1   \n",
       "8269  1.2.840.10008.5.1.4.1.1.1.1   \n",
       "8270  1.2.840.10008.5.1.4.1.1.3.1   \n",
       "8271  1.2.840.10008.5.1.4.1.1.1.1   \n",
       "8272  1.2.840.10008.5.1.4.1.1.3.1   \n",
       "8273  1.2.840.10008.5.1.4.1.1.1.1   \n",
       "\n",
       "                                     SOP_DESCRIPTION  \n",
       "5                Ultrasound Multiframe Image Storage  \n",
       "6                Ultrasound Multiframe Image Storage  \n",
       "7     Digital X-Ray Image Storage – for Presentation  \n",
       "8                Ultrasound Multiframe Image Storage  \n",
       "9     Digital X-Ray Image Storage – for Presentation  \n",
       "15               Ultrasound Multiframe Image Storage  \n",
       "16    Digital X-Ray Image Storage – for Presentation  \n",
       "17               Ultrasound Multiframe Image Storage  \n",
       "18    Digital X-Ray Image Storage – for Presentation  \n",
       "29                                  CT Image Storage  \n",
       "30                                  CT Image Storage  \n",
       "31                                  CT Image Storage  \n",
       "32                                  CT Image Storage  \n",
       "33                                  CT Image Storage  \n",
       "34                                  CT Image Storage  \n",
       "35                                  CT Image Storage  \n",
       "36                                  CT Image Storage  \n",
       "37                                  CT Image Storage  \n",
       "38                                  CT Image Storage  \n",
       "39                                  CT Image Storage  \n",
       "40                                  CT Image Storage  \n",
       "41                                  CT Image Storage  \n",
       "42                                  CT Image Storage  \n",
       "43                                  CT Image Storage  \n",
       "44                                  CT Image Storage  \n",
       "45                                  CT Image Storage  \n",
       "46                                  CT Image Storage  \n",
       "47                                  CT Image Storage  \n",
       "48                                  CT Image Storage  \n",
       "49                                  CT Image Storage  \n",
       "...                                              ...  \n",
       "8234             Ultrasound Multiframe Image Storage  \n",
       "8235  Digital X-Ray Image Storage – for Presentation  \n",
       "8236             Ultrasound Multiframe Image Storage  \n",
       "8237  Digital X-Ray Image Storage – for Presentation  \n",
       "8238             Ultrasound Multiframe Image Storage  \n",
       "8239  Digital X-Ray Image Storage – for Presentation  \n",
       "8240             Ultrasound Multiframe Image Storage  \n",
       "8241  Digital X-Ray Image Storage – for Presentation  \n",
       "8242             Ultrasound Multiframe Image Storage  \n",
       "8243  Digital X-Ray Image Storage – for Presentation  \n",
       "8248             Ultrasound Multiframe Image Storage  \n",
       "8249  Digital X-Ray Image Storage – for Presentation  \n",
       "8250  Digital X-Ray Image Storage – for Presentation  \n",
       "8251             Ultrasound Multiframe Image Storage  \n",
       "8252  Digital X-Ray Image Storage – for Presentation  \n",
       "8255             Ultrasound Multiframe Image Storage  \n",
       "8256             Ultrasound Multiframe Image Storage  \n",
       "8257             Ultrasound Multiframe Image Storage  \n",
       "8258  Digital X-Ray Image Storage – for Presentation  \n",
       "8259             Ultrasound Multiframe Image Storage  \n",
       "8260  Digital X-Ray Image Storage – for Presentation  \n",
       "8265             Ultrasound Multiframe Image Storage  \n",
       "8266             Ultrasound Multiframe Image Storage  \n",
       "8267             Ultrasound Multiframe Image Storage  \n",
       "8268             Ultrasound Multiframe Image Storage  \n",
       "8269  Digital X-Ray Image Storage – for Presentation  \n",
       "8270             Ultrasound Multiframe Image Storage  \n",
       "8271  Digital X-Ray Image Storage – for Presentation  \n",
       "8272             Ultrasound Multiframe Image Storage  \n",
       "8273  Digital X-Ray Image Storage – for Presentation  \n",
       "\n",
       "[5086 rows x 10 columns]"
      ]
     },
     "execution_count": 393,
     "metadata": {},
     "output_type": "execute_result"
    }
   ],
   "source": [
    "thoracic"
   ]
  },
  {
   "cell_type": "markdown",
   "metadata": {},
   "source": [
    "### MEDICAL CONCEPTS"
   ]
  },
  {
   "cell_type": "code",
   "execution_count": 375,
   "metadata": {},
   "outputs": [],
   "source": [
    "#File is missing a header, so I added column names along the same lines as other files\n",
    "concepts = pd.read_csv(\"concepts.csv\", header=None, names = ['code_type','code','description','reason_description'])"
   ]
  },
  {
   "cell_type": "code",
   "execution_count": 376,
   "metadata": {},
   "outputs": [
    {
     "data": {
      "text/html": [
       "<div>\n",
       "<style scoped>\n",
       "    .dataframe tbody tr th:only-of-type {\n",
       "        vertical-align: middle;\n",
       "    }\n",
       "\n",
       "    .dataframe tbody tr th {\n",
       "        vertical-align: top;\n",
       "    }\n",
       "\n",
       "    .dataframe thead th {\n",
       "        text-align: right;\n",
       "    }\n",
       "</style>\n",
       "<table border=\"1\" class=\"dataframe\">\n",
       "  <thead>\n",
       "    <tr style=\"text-align: right;\">\n",
       "      <th></th>\n",
       "      <th>code_type</th>\n",
       "      <th>code</th>\n",
       "      <th>description</th>\n",
       "      <th>reason_description</th>\n",
       "    </tr>\n",
       "  </thead>\n",
       "  <tbody>\n",
       "    <tr>\n",
       "      <th>0</th>\n",
       "      <td>LOINC</td>\n",
       "      <td>10230-1</td>\n",
       "      <td>Left ventricular Ejection fraction</td>\n",
       "      <td>Congestive Heart Failure</td>\n",
       "    </tr>\n",
       "    <tr>\n",
       "      <th>1</th>\n",
       "      <td>LOINC</td>\n",
       "      <td>14959-1</td>\n",
       "      <td>Microalbumin Creatinine Ratio</td>\n",
       "      <td>Wellness Encounters</td>\n",
       "    </tr>\n",
       "    <tr>\n",
       "      <th>2</th>\n",
       "      <td>LOINC</td>\n",
       "      <td>19926-5</td>\n",
       "      <td>FEV1/FVC</td>\n",
       "      <td>COPD</td>\n",
       "    </tr>\n",
       "    <tr>\n",
       "      <th>3</th>\n",
       "      <td>LOINC</td>\n",
       "      <td>24321-2</td>\n",
       "      <td>Basic Metabolic 2000 Panel</td>\n",
       "      <td>Metabolic Syndrome Standards of Care</td>\n",
       "    </tr>\n",
       "    <tr>\n",
       "      <th>4</th>\n",
       "      <td>LOINC</td>\n",
       "      <td>24323-8</td>\n",
       "      <td>Comprehensive metabolic 2000 panel - Serum or ...</td>\n",
       "      <td>Veteran Prostate Cancer|Congestive Heart Failu...</td>\n",
       "    </tr>\n",
       "    <tr>\n",
       "      <th>5</th>\n",
       "      <td>LOINC</td>\n",
       "      <td>24357-6</td>\n",
       "      <td>Urinalysis macro (dipstick) panel - Urine</td>\n",
       "      <td>Veteran Prostate Cancer|Lung Cancer|Dialysis|M...</td>\n",
       "    </tr>\n",
       "    <tr>\n",
       "      <th>6</th>\n",
       "      <td>LOINC</td>\n",
       "      <td>24360-0</td>\n",
       "      <td>Hemoglobin and Hematocrit panel - Blood</td>\n",
       "      <td>anemia_sub</td>\n",
       "    </tr>\n",
       "    <tr>\n",
       "      <th>7</th>\n",
       "      <td>LOINC</td>\n",
       "      <td>28245-9</td>\n",
       "      <td>Abuse Status [OMAHA]</td>\n",
       "      <td>Homelessness</td>\n",
       "    </tr>\n",
       "    <tr>\n",
       "      <th>8</th>\n",
       "      <td>LOINC</td>\n",
       "      <td>2857-1</td>\n",
       "      <td>Prostate specific Ag [Mass/volume] in Serum or...</td>\n",
       "      <td>Veteran Prostate Cancer</td>\n",
       "    </tr>\n",
       "    <tr>\n",
       "      <th>9</th>\n",
       "      <td>LOINC</td>\n",
       "      <td>29463-7</td>\n",
       "      <td>Body Weight</td>\n",
       "      <td>Wellness Encounters</td>\n",
       "    </tr>\n",
       "    <tr>\n",
       "      <th>10</th>\n",
       "      <td>LOINC</td>\n",
       "      <td>3016-3</td>\n",
       "      <td>Thyrotropin [Units/volume] in Serum or Plasma</td>\n",
       "      <td>Hypothyroidism</td>\n",
       "    </tr>\n",
       "    <tr>\n",
       "      <th>11</th>\n",
       "      <td>LOINC</td>\n",
       "      <td>3024-7</td>\n",
       "      <td>Thyroxine (T4) free [Mass/volume] in Serum or ...</td>\n",
       "      <td>Hypothyroidism</td>\n",
       "    </tr>\n",
       "    <tr>\n",
       "      <th>12</th>\n",
       "      <td>LOINC</td>\n",
       "      <td>32465-7</td>\n",
       "      <td>Physical findings of Prostate</td>\n",
       "      <td>Veteran Prostate Cancer</td>\n",
       "    </tr>\n",
       "    <tr>\n",
       "      <th>13</th>\n",
       "      <td>LOINC</td>\n",
       "      <td>33756-8</td>\n",
       "      <td>Polyp size greatest dimension by CAP cancer pr...</td>\n",
       "      <td>Colorectal Cancer</td>\n",
       "    </tr>\n",
       "    <tr>\n",
       "      <th>14</th>\n",
       "      <td>LOINC</td>\n",
       "      <td>33762-6</td>\n",
       "      <td>NT-proBNP</td>\n",
       "      <td>Congestive Heart Failure</td>\n",
       "    </tr>\n",
       "    <tr>\n",
       "      <th>15</th>\n",
       "      <td>LOINC</td>\n",
       "      <td>33914-3</td>\n",
       "      <td>Estimated Glomerular Filtration Rate</td>\n",
       "      <td>Wellness Encounters</td>\n",
       "    </tr>\n",
       "    <tr>\n",
       "      <th>16</th>\n",
       "      <td>LOINC</td>\n",
       "      <td>38265-5</td>\n",
       "      <td>DXA [T-score] Bone density</td>\n",
       "      <td>Osteoporosis|Injuries</td>\n",
       "    </tr>\n",
       "    <tr>\n",
       "      <th>17</th>\n",
       "      <td>LOINC</td>\n",
       "      <td>39156-5</td>\n",
       "      <td>Body Mass Index</td>\n",
       "      <td>Wellness Encounters</td>\n",
       "    </tr>\n",
       "    <tr>\n",
       "      <th>18</th>\n",
       "      <td>LOINC</td>\n",
       "      <td>4548-4</td>\n",
       "      <td>Hemoglobin A1c/Hemoglobin.total in Blood</td>\n",
       "      <td>Metabolic Syndrome Standards of Care</td>\n",
       "    </tr>\n",
       "    <tr>\n",
       "      <th>19</th>\n",
       "      <td>LOINC</td>\n",
       "      <td>46240-8</td>\n",
       "      <td>History of Hospitalizations+Outpatient visits</td>\n",
       "      <td>Homelessness</td>\n",
       "    </tr>\n",
       "    <tr>\n",
       "      <th>20</th>\n",
       "      <td>LOINC</td>\n",
       "      <td>46288-7</td>\n",
       "      <td>US Guidance for biopsy of Prostate</td>\n",
       "      <td>Veteran Prostate Cancer</td>\n",
       "    </tr>\n",
       "    <tr>\n",
       "      <th>21</th>\n",
       "      <td>LOINC</td>\n",
       "      <td>51990-0</td>\n",
       "      <td>Basic Metabolic Panel</td>\n",
       "      <td>Congestive Heart Failure|Wellness Encounters</td>\n",
       "    </tr>\n",
       "    <tr>\n",
       "      <th>22</th>\n",
       "      <td>LOINC</td>\n",
       "      <td>55277-8</td>\n",
       "      <td>HIV status</td>\n",
       "      <td>Homelessness</td>\n",
       "    </tr>\n",
       "    <tr>\n",
       "      <th>23</th>\n",
       "      <td>LOINC</td>\n",
       "      <td>55284-4</td>\n",
       "      <td>Blood Pressure</td>\n",
       "      <td>Congestive Heart Failure|Wellness Encounters</td>\n",
       "    </tr>\n",
       "    <tr>\n",
       "      <th>24</th>\n",
       "      <td>LOINC</td>\n",
       "      <td>55405-5</td>\n",
       "      <td>Heartfailure Tracking Panel</td>\n",
       "      <td>Congestive Heart Failure</td>\n",
       "    </tr>\n",
       "    <tr>\n",
       "      <th>25</th>\n",
       "      <td>LOINC</td>\n",
       "      <td>57698-3</td>\n",
       "      <td>Lipid Panel</td>\n",
       "      <td>Veteran Hyperlipidemia|Wellness Encounters</td>\n",
       "    </tr>\n",
       "    <tr>\n",
       "      <th>26</th>\n",
       "      <td>LOINC</td>\n",
       "      <td>57905-2</td>\n",
       "      <td>Hemoglobin.gastrointestinal [Presence] in Stoo...</td>\n",
       "      <td>Colorectal Cancer</td>\n",
       "    </tr>\n",
       "    <tr>\n",
       "      <th>27</th>\n",
       "      <td>LOINC</td>\n",
       "      <td>58410-2</td>\n",
       "      <td>Complete blood count (hemogram) panel - Blood ...</td>\n",
       "      <td>Veteran Prostate Cancer|Lung Cancer|anemia_sub...</td>\n",
       "    </tr>\n",
       "    <tr>\n",
       "      <th>28</th>\n",
       "      <td>LOINC</td>\n",
       "      <td>6075-6</td>\n",
       "      <td>Cladosporium herbarum IgE Ab in Serum</td>\n",
       "      <td>Allergy Panel</td>\n",
       "    </tr>\n",
       "    <tr>\n",
       "      <th>29</th>\n",
       "      <td>LOINC</td>\n",
       "      <td>6082-2</td>\n",
       "      <td>Codfish IgE Ab in Serum</td>\n",
       "      <td>Allergy Panel</td>\n",
       "    </tr>\n",
       "    <tr>\n",
       "      <th>...</th>\n",
       "      <td>...</td>\n",
       "      <td>...</td>\n",
       "      <td>...</td>\n",
       "      <td>...</td>\n",
       "    </tr>\n",
       "    <tr>\n",
       "      <th>696</th>\n",
       "      <td>SNOMED-CT</td>\n",
       "      <td>91302008</td>\n",
       "      <td>Death due to sepsis</td>\n",
       "      <td>Gallstones</td>\n",
       "    </tr>\n",
       "    <tr>\n",
       "      <th>697</th>\n",
       "      <td>SNOMED-CT</td>\n",
       "      <td>91602002</td>\n",
       "      <td>Thoracentesis (procedure)</td>\n",
       "      <td>Veteran Lung Cancer|Lung Cancer</td>\n",
       "    </tr>\n",
       "    <tr>\n",
       "      <th>698</th>\n",
       "      <td>SNOMED-CT</td>\n",
       "      <td>91930004</td>\n",
       "      <td>Allergy to eggs</td>\n",
       "      <td>Outgrow Food Allergies|Allergy Incidence</td>\n",
       "    </tr>\n",
       "    <tr>\n",
       "      <th>699</th>\n",
       "      <td>SNOMED-CT</td>\n",
       "      <td>91934008</td>\n",
       "      <td>Allergy to nut</td>\n",
       "      <td>Allergy Incidence</td>\n",
       "    </tr>\n",
       "    <tr>\n",
       "      <th>700</th>\n",
       "      <td>SNOMED-CT</td>\n",
       "      <td>91935009</td>\n",
       "      <td>Allergy to peanuts</td>\n",
       "      <td>Allergy Incidence</td>\n",
       "    </tr>\n",
       "    <tr>\n",
       "      <th>701</th>\n",
       "      <td>SNOMED-CT</td>\n",
       "      <td>92691004</td>\n",
       "      <td>Carcinoma in situ of prostate (disorder)</td>\n",
       "      <td>Veteran Prostate Cancer</td>\n",
       "    </tr>\n",
       "    <tr>\n",
       "      <th>702</th>\n",
       "      <td>SNOMED-CT</td>\n",
       "      <td>93761005</td>\n",
       "      <td>Primary malignant neoplasm of colon</td>\n",
       "      <td>Colorectal Cancer</td>\n",
       "    </tr>\n",
       "    <tr>\n",
       "      <th>703</th>\n",
       "      <td>SNOMED-CT</td>\n",
       "      <td>94260004</td>\n",
       "      <td>Secondary malignant neoplasm of colon</td>\n",
       "      <td>Colorectal Cancer</td>\n",
       "    </tr>\n",
       "    <tr>\n",
       "      <th>704</th>\n",
       "      <td>SNOMED-CT</td>\n",
       "      <td>95281009</td>\n",
       "      <td>Sudden Cardiac Death</td>\n",
       "      <td>Epilepsy</td>\n",
       "    </tr>\n",
       "    <tr>\n",
       "      <th>705</th>\n",
       "      <td>SNOMED-CT</td>\n",
       "      <td>95417003</td>\n",
       "      <td>Primary fibromyalgia syndrome</td>\n",
       "      <td>Fibromyalgia</td>\n",
       "    </tr>\n",
       "    <tr>\n",
       "      <th>706</th>\n",
       "      <td>SNOMED-CT</td>\n",
       "      <td>97331000119101</td>\n",
       "      <td>Macular edema and retinopathy due to type 2 di...</td>\n",
       "      <td>Metabolic Syndrome Standards of Care</td>\n",
       "    </tr>\n",
       "    <tr>\n",
       "      <th>707</th>\n",
       "      <td>SNOMED-CT</td>\n",
       "      <td>9855000</td>\n",
       "      <td>Natural death with unknown cause</td>\n",
       "      <td>CardiovascularDiseaseModule|LifecycleModule</td>\n",
       "    </tr>\n",
       "    <tr>\n",
       "      <th>708</th>\n",
       "      <td>http://hl7.org/fhir/sid/cvx</td>\n",
       "      <td>03</td>\n",
       "      <td>MMR</td>\n",
       "      <td>Immunizations</td>\n",
       "    </tr>\n",
       "    <tr>\n",
       "      <th>709</th>\n",
       "      <td>http://hl7.org/fhir/sid/cvx</td>\n",
       "      <td>08</td>\n",
       "      <td>Hep B  adolescent or pediatric</td>\n",
       "      <td>Immunizations</td>\n",
       "    </tr>\n",
       "    <tr>\n",
       "      <th>710</th>\n",
       "      <td>http://hl7.org/fhir/sid/cvx</td>\n",
       "      <td>10</td>\n",
       "      <td>IPV</td>\n",
       "      <td>Immunizations</td>\n",
       "    </tr>\n",
       "    <tr>\n",
       "      <th>711</th>\n",
       "      <td>http://hl7.org/fhir/sid/cvx</td>\n",
       "      <td>113</td>\n",
       "      <td>Td (adult) preservative free</td>\n",
       "      <td>Immunizations</td>\n",
       "    </tr>\n",
       "    <tr>\n",
       "      <th>712</th>\n",
       "      <td>http://hl7.org/fhir/sid/cvx</td>\n",
       "      <td>114</td>\n",
       "      <td>meningococcal MCV4P</td>\n",
       "      <td>Immunizations</td>\n",
       "    </tr>\n",
       "    <tr>\n",
       "      <th>713</th>\n",
       "      <td>http://hl7.org/fhir/sid/cvx</td>\n",
       "      <td>115</td>\n",
       "      <td>Tdap</td>\n",
       "      <td>Immunizations</td>\n",
       "    </tr>\n",
       "    <tr>\n",
       "      <th>714</th>\n",
       "      <td>http://hl7.org/fhir/sid/cvx</td>\n",
       "      <td>119</td>\n",
       "      <td>rotavirus  monovalent</td>\n",
       "      <td>Immunizations</td>\n",
       "    </tr>\n",
       "    <tr>\n",
       "      <th>715</th>\n",
       "      <td>http://hl7.org/fhir/sid/cvx</td>\n",
       "      <td>121</td>\n",
       "      <td>zoster</td>\n",
       "      <td>Immunizations</td>\n",
       "    </tr>\n",
       "    <tr>\n",
       "      <th>716</th>\n",
       "      <td>http://hl7.org/fhir/sid/cvx</td>\n",
       "      <td>133</td>\n",
       "      <td>Pneumococcal conjugate PCV 13</td>\n",
       "      <td>Immunizations</td>\n",
       "    </tr>\n",
       "    <tr>\n",
       "      <th>717</th>\n",
       "      <td>http://hl7.org/fhir/sid/cvx</td>\n",
       "      <td>140</td>\n",
       "      <td>Influenza  seasonal  injectable  preservative ...</td>\n",
       "      <td>Immunizations</td>\n",
       "    </tr>\n",
       "    <tr>\n",
       "      <th>718</th>\n",
       "      <td>http://hl7.org/fhir/sid/cvx</td>\n",
       "      <td>20</td>\n",
       "      <td>DTaP</td>\n",
       "      <td>Immunizations</td>\n",
       "    </tr>\n",
       "    <tr>\n",
       "      <th>719</th>\n",
       "      <td>http://hl7.org/fhir/sid/cvx</td>\n",
       "      <td>21</td>\n",
       "      <td>varicella</td>\n",
       "      <td>Immunizations</td>\n",
       "    </tr>\n",
       "    <tr>\n",
       "      <th>720</th>\n",
       "      <td>http://hl7.org/fhir/sid/cvx</td>\n",
       "      <td>33</td>\n",
       "      <td>pneumococcal polysaccharide vaccine  23 valent</td>\n",
       "      <td>Immunizations</td>\n",
       "    </tr>\n",
       "    <tr>\n",
       "      <th>721</th>\n",
       "      <td>http://hl7.org/fhir/sid/cvx</td>\n",
       "      <td>43</td>\n",
       "      <td>Hep B  adult</td>\n",
       "      <td>Immunizations</td>\n",
       "    </tr>\n",
       "    <tr>\n",
       "      <th>722</th>\n",
       "      <td>http://hl7.org/fhir/sid/cvx</td>\n",
       "      <td>49</td>\n",
       "      <td>Hib (PRP-OMP)</td>\n",
       "      <td>Immunizations</td>\n",
       "    </tr>\n",
       "    <tr>\n",
       "      <th>723</th>\n",
       "      <td>http://hl7.org/fhir/sid/cvx</td>\n",
       "      <td>52</td>\n",
       "      <td>Hep A  adult</td>\n",
       "      <td>Immunizations</td>\n",
       "    </tr>\n",
       "    <tr>\n",
       "      <th>724</th>\n",
       "      <td>http://hl7.org/fhir/sid/cvx</td>\n",
       "      <td>62</td>\n",
       "      <td>HPV  quadrivalent</td>\n",
       "      <td>Immunizations</td>\n",
       "    </tr>\n",
       "    <tr>\n",
       "      <th>725</th>\n",
       "      <td>http://hl7.org/fhir/sid/cvx</td>\n",
       "      <td>83</td>\n",
       "      <td>Hep A  ped/adol  2 dose</td>\n",
       "      <td>Immunizations</td>\n",
       "    </tr>\n",
       "  </tbody>\n",
       "</table>\n",
       "<p>726 rows × 4 columns</p>\n",
       "</div>"
      ],
      "text/plain": [
       "                       code_type            code  \\\n",
       "0                          LOINC         10230-1   \n",
       "1                          LOINC         14959-1   \n",
       "2                          LOINC         19926-5   \n",
       "3                          LOINC         24321-2   \n",
       "4                          LOINC         24323-8   \n",
       "5                          LOINC         24357-6   \n",
       "6                          LOINC         24360-0   \n",
       "7                          LOINC         28245-9   \n",
       "8                          LOINC          2857-1   \n",
       "9                          LOINC         29463-7   \n",
       "10                         LOINC          3016-3   \n",
       "11                         LOINC          3024-7   \n",
       "12                         LOINC         32465-7   \n",
       "13                         LOINC         33756-8   \n",
       "14                         LOINC         33762-6   \n",
       "15                         LOINC         33914-3   \n",
       "16                         LOINC         38265-5   \n",
       "17                         LOINC         39156-5   \n",
       "18                         LOINC          4548-4   \n",
       "19                         LOINC         46240-8   \n",
       "20                         LOINC         46288-7   \n",
       "21                         LOINC         51990-0   \n",
       "22                         LOINC         55277-8   \n",
       "23                         LOINC         55284-4   \n",
       "24                         LOINC         55405-5   \n",
       "25                         LOINC         57698-3   \n",
       "26                         LOINC         57905-2   \n",
       "27                         LOINC         58410-2   \n",
       "28                         LOINC          6075-6   \n",
       "29                         LOINC          6082-2   \n",
       "..                           ...             ...   \n",
       "696                    SNOMED-CT        91302008   \n",
       "697                    SNOMED-CT        91602002   \n",
       "698                    SNOMED-CT        91930004   \n",
       "699                    SNOMED-CT        91934008   \n",
       "700                    SNOMED-CT        91935009   \n",
       "701                    SNOMED-CT        92691004   \n",
       "702                    SNOMED-CT        93761005   \n",
       "703                    SNOMED-CT        94260004   \n",
       "704                    SNOMED-CT        95281009   \n",
       "705                    SNOMED-CT        95417003   \n",
       "706                    SNOMED-CT  97331000119101   \n",
       "707                    SNOMED-CT         9855000   \n",
       "708  http://hl7.org/fhir/sid/cvx              03   \n",
       "709  http://hl7.org/fhir/sid/cvx              08   \n",
       "710  http://hl7.org/fhir/sid/cvx              10   \n",
       "711  http://hl7.org/fhir/sid/cvx             113   \n",
       "712  http://hl7.org/fhir/sid/cvx             114   \n",
       "713  http://hl7.org/fhir/sid/cvx             115   \n",
       "714  http://hl7.org/fhir/sid/cvx             119   \n",
       "715  http://hl7.org/fhir/sid/cvx             121   \n",
       "716  http://hl7.org/fhir/sid/cvx             133   \n",
       "717  http://hl7.org/fhir/sid/cvx             140   \n",
       "718  http://hl7.org/fhir/sid/cvx              20   \n",
       "719  http://hl7.org/fhir/sid/cvx              21   \n",
       "720  http://hl7.org/fhir/sid/cvx              33   \n",
       "721  http://hl7.org/fhir/sid/cvx              43   \n",
       "722  http://hl7.org/fhir/sid/cvx              49   \n",
       "723  http://hl7.org/fhir/sid/cvx              52   \n",
       "724  http://hl7.org/fhir/sid/cvx              62   \n",
       "725  http://hl7.org/fhir/sid/cvx              83   \n",
       "\n",
       "                                           description  \\\n",
       "0                   Left ventricular Ejection fraction   \n",
       "1                        Microalbumin Creatinine Ratio   \n",
       "2                                             FEV1/FVC   \n",
       "3                           Basic Metabolic 2000 Panel   \n",
       "4    Comprehensive metabolic 2000 panel - Serum or ...   \n",
       "5            Urinalysis macro (dipstick) panel - Urine   \n",
       "6              Hemoglobin and Hematocrit panel - Blood   \n",
       "7                                 Abuse Status [OMAHA]   \n",
       "8    Prostate specific Ag [Mass/volume] in Serum or...   \n",
       "9                                          Body Weight   \n",
       "10       Thyrotropin [Units/volume] in Serum or Plasma   \n",
       "11   Thyroxine (T4) free [Mass/volume] in Serum or ...   \n",
       "12                       Physical findings of Prostate   \n",
       "13   Polyp size greatest dimension by CAP cancer pr...   \n",
       "14                                           NT-proBNP   \n",
       "15                Estimated Glomerular Filtration Rate   \n",
       "16                          DXA [T-score] Bone density   \n",
       "17                                     Body Mass Index   \n",
       "18            Hemoglobin A1c/Hemoglobin.total in Blood   \n",
       "19       History of Hospitalizations+Outpatient visits   \n",
       "20                  US Guidance for biopsy of Prostate   \n",
       "21                               Basic Metabolic Panel   \n",
       "22                                          HIV status   \n",
       "23                                      Blood Pressure   \n",
       "24                         Heartfailure Tracking Panel   \n",
       "25                                         Lipid Panel   \n",
       "26   Hemoglobin.gastrointestinal [Presence] in Stoo...   \n",
       "27   Complete blood count (hemogram) panel - Blood ...   \n",
       "28               Cladosporium herbarum IgE Ab in Serum   \n",
       "29                             Codfish IgE Ab in Serum   \n",
       "..                                                 ...   \n",
       "696                                Death due to sepsis   \n",
       "697                          Thoracentesis (procedure)   \n",
       "698                                    Allergy to eggs   \n",
       "699                                     Allergy to nut   \n",
       "700                                 Allergy to peanuts   \n",
       "701           Carcinoma in situ of prostate (disorder)   \n",
       "702                Primary malignant neoplasm of colon   \n",
       "703              Secondary malignant neoplasm of colon   \n",
       "704                               Sudden Cardiac Death   \n",
       "705                      Primary fibromyalgia syndrome   \n",
       "706  Macular edema and retinopathy due to type 2 di...   \n",
       "707                   Natural death with unknown cause   \n",
       "708                                                MMR   \n",
       "709                     Hep B  adolescent or pediatric   \n",
       "710                                                IPV   \n",
       "711                       Td (adult) preservative free   \n",
       "712                                meningococcal MCV4P   \n",
       "713                                               Tdap   \n",
       "714                              rotavirus  monovalent   \n",
       "715                                             zoster   \n",
       "716                      Pneumococcal conjugate PCV 13   \n",
       "717  Influenza  seasonal  injectable  preservative ...   \n",
       "718                                               DTaP   \n",
       "719                                          varicella   \n",
       "720     pneumococcal polysaccharide vaccine  23 valent   \n",
       "721                                       Hep B  adult   \n",
       "722                                      Hib (PRP-OMP)   \n",
       "723                                       Hep A  adult   \n",
       "724                                  HPV  quadrivalent   \n",
       "725                            Hep A  ped/adol  2 dose   \n",
       "\n",
       "                                    reason_description  \n",
       "0                             Congestive Heart Failure  \n",
       "1                                  Wellness Encounters  \n",
       "2                                                 COPD  \n",
       "3                 Metabolic Syndrome Standards of Care  \n",
       "4    Veteran Prostate Cancer|Congestive Heart Failu...  \n",
       "5    Veteran Prostate Cancer|Lung Cancer|Dialysis|M...  \n",
       "6                                           anemia_sub  \n",
       "7                                         Homelessness  \n",
       "8                              Veteran Prostate Cancer  \n",
       "9                                  Wellness Encounters  \n",
       "10                                      Hypothyroidism  \n",
       "11                                      Hypothyroidism  \n",
       "12                             Veteran Prostate Cancer  \n",
       "13                                   Colorectal Cancer  \n",
       "14                            Congestive Heart Failure  \n",
       "15                                 Wellness Encounters  \n",
       "16                               Osteoporosis|Injuries  \n",
       "17                                 Wellness Encounters  \n",
       "18                Metabolic Syndrome Standards of Care  \n",
       "19                                        Homelessness  \n",
       "20                             Veteran Prostate Cancer  \n",
       "21        Congestive Heart Failure|Wellness Encounters  \n",
       "22                                        Homelessness  \n",
       "23        Congestive Heart Failure|Wellness Encounters  \n",
       "24                            Congestive Heart Failure  \n",
       "25          Veteran Hyperlipidemia|Wellness Encounters  \n",
       "26                                   Colorectal Cancer  \n",
       "27   Veteran Prostate Cancer|Lung Cancer|anemia_sub...  \n",
       "28                                       Allergy Panel  \n",
       "29                                       Allergy Panel  \n",
       "..                                                 ...  \n",
       "696                                         Gallstones  \n",
       "697                    Veteran Lung Cancer|Lung Cancer  \n",
       "698           Outgrow Food Allergies|Allergy Incidence  \n",
       "699                                  Allergy Incidence  \n",
       "700                                  Allergy Incidence  \n",
       "701                            Veteran Prostate Cancer  \n",
       "702                                  Colorectal Cancer  \n",
       "703                                  Colorectal Cancer  \n",
       "704                                           Epilepsy  \n",
       "705                                       Fibromyalgia  \n",
       "706               Metabolic Syndrome Standards of Care  \n",
       "707        CardiovascularDiseaseModule|LifecycleModule  \n",
       "708                                      Immunizations  \n",
       "709                                      Immunizations  \n",
       "710                                      Immunizations  \n",
       "711                                      Immunizations  \n",
       "712                                      Immunizations  \n",
       "713                                      Immunizations  \n",
       "714                                      Immunizations  \n",
       "715                                      Immunizations  \n",
       "716                                      Immunizations  \n",
       "717                                      Immunizations  \n",
       "718                                      Immunizations  \n",
       "719                                      Immunizations  \n",
       "720                                      Immunizations  \n",
       "721                                      Immunizations  \n",
       "722                                      Immunizations  \n",
       "723                                      Immunizations  \n",
       "724                                      Immunizations  \n",
       "725                                      Immunizations  \n",
       "\n",
       "[726 rows x 4 columns]"
      ]
     },
     "execution_count": 376,
     "metadata": {},
     "output_type": "execute_result"
    }
   ],
   "source": [
    "concepts"
   ]
  },
  {
   "cell_type": "code",
   "execution_count": null,
   "metadata": {},
   "outputs": [],
   "source": []
  }
 ],
 "metadata": {
  "kernelspec": {
   "display_name": "Python 3",
   "language": "python",
   "name": "python3"
  },
  "language_info": {
   "codemirror_mode": {
    "name": "ipython",
    "version": 3
   },
   "file_extension": ".py",
   "mimetype": "text/x-python",
   "name": "python",
   "nbconvert_exporter": "python",
   "pygments_lexer": "ipython3",
   "version": "3.7.4"
  }
 },
 "nbformat": 4,
 "nbformat_minor": 2
}
