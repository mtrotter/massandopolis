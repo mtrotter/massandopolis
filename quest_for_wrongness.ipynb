{
 "cells": [
  {
   "cell_type": "markdown",
   "metadata": {},
   "source": [
    "### Something is wrong!\n",
    "### Something is wrong?\n",
    "### Something is wrong!"
   ]
  },
  {
   "cell_type": "code",
   "execution_count": null,
   "metadata": {},
   "outputs": [],
   "source": [
    "SPOILERS / EXECUTIVE SUMMARY OF FINDINGS\n",
    "\n",
    "* A large number of men born in the early 30s got lung disease and died in the last 90s - early 2000s. Especially if they lived in Worcester and a couple other towns.\n",
    "I smell coal mines?\n",
    "\n",
    "* Obesity problems\n",
    "\n",
    "* Drug overdoses like WHOA. More than half of people have one on their record.\n",
    "\n"
   ]
  },
  {
   "cell_type": "code",
   "execution_count": null,
   "metadata": {},
   "outputs": [],
   "source": []
  },
  {
   "cell_type": "markdown",
   "metadata": {},
   "source": [
    "### Ok. Before I can figure out what is wrong I need to get an idea for what IS.\n",
    "Let's take a look at the data files. \n",
    "No, wait. Let's think about it for a minute, first.\n",
    "\n",
    "Things that could be wrong:\n",
    "    a) The data is wrong\n",
    "        approach: Do sanity checks on the individual tables wrt data completeness and 'correctness'.\n",
    "    b) The data shows me something is wrong with the people.\n",
    "        approach: Do sanity checks on the patient-centric tables wrt my biased expectations of usage and illness rates\n",
    "    c) The data shows me something is being done wrong For the people\n",
    "        approach: Look at costs, rxes, procedures, encounter rates, and - if they're there - deaths\n",
    "    d) All of the above\n",
    "        approach: Whatever random stuff I do as digressions\n",
    "    \n"
   ]
  },
  {
   "cell_type": "code",
   "execution_count": 124,
   "metadata": {},
   "outputs": [],
   "source": [
    "## First things first:  some imports\n",
    "import pandas as pd\n",
    "import json\n",
    "import numpy as np\n",
    "from matplotlib import pyplot as plt\n",
    "import seaborn\n",
    "import sklearn\n",
    "import glob"
   ]
  },
  {
   "cell_type": "code",
   "execution_count": 9,
   "metadata": {},
   "outputs": [
    {
     "data": {
      "text/plain": [
       "['medications.csv',\n",
       " 'providers.csv',\n",
       " 'imaging_studies.csv',\n",
       " 'allergies.csv',\n",
       " 'procedures.csv',\n",
       " 'organizations.csv',\n",
       " 'conditions.csv',\n",
       " 'careplans.csv',\n",
       " 'encounters.csv',\n",
       " 'immunizations.csv',\n",
       " 'patients.csv',\n",
       " 'concepts.csv',\n",
       " 'observations.csv']"
      ]
     },
     "execution_count": 9,
     "metadata": {},
     "output_type": "execute_result"
    }
   ],
   "source": [
    "# A quick tour of ALL the tables\n",
    "fnames = glob.glob(\"*.csv\")\n",
    "fnames"
   ]
  },
  {
   "cell_type": "code",
   "execution_count": 29,
   "metadata": {},
   "outputs": [
    {
     "name": "stdout",
     "output_type": "stream",
     "text": [
      "8360\n",
      "8360\n"
     ]
    }
   ],
   "source": [
    "# We all know this is the central table\n",
    "pats = pd.read_csv(\"patients.csv\")\n",
    "n_patients = len(set(pats['Id'].values))\n",
    "print(n_patients)\n",
    "\n",
    "# Hm. Are there dupes?\n",
    "print(len(pats)) \n",
    "# No! Good job, recordkeepers.\n",
    "\n"
   ]
  },
  {
   "cell_type": "code",
   "execution_count": 134,
   "metadata": {},
   "outputs": [
    {
     "data": {
      "text/plain": [
       "3360"
      ]
     },
     "execution_count": 134,
     "metadata": {},
     "output_type": "execute_result"
    }
   ],
   "source": [
    "## What about dead folks?\n",
    "deaths = pats['DEATHDATE'].count()\n",
    "deaths"
   ]
  },
  {
   "cell_type": "code",
   "execution_count": null,
   "metadata": {},
   "outputs": [],
   "source": [
    "## SO we have a round 5000 folks. CONVENIENT."
   ]
  },
  {
   "cell_type": "code",
   "execution_count": 243,
   "metadata": {},
   "outputs": [
    {
     "name": "stdout",
     "output_type": "stream",
     "text": [
      "There are ---> 124759 rows in the ---> MEDICATIONS table.\n",
      "That's 14.923325358851674 per patient\n",
      "earliest START: 1909-11-26 00:00:00, latest date: 2019-05-06 00:00:00\n",
      "earliest STOP: 1909-12-10 00:00:00, latest date: 2019-05-06 00:00:00\n",
      "How about nulls? -->\n",
      "STOP has 16524 null values\n",
      "REASONCODE has 44940 null values\n",
      "REASONDESCRIPTION has 44940 null values\n",
      "\n",
      "There are ---> 125 rows in the ---> PROVIDERS table.\n",
      "That's 0.014952153110047847 per patient\n",
      "How about nulls? -->\n",
      "\n",
      "There are ---> 8278 rows in the ---> IMAGING_STUDIES table.\n",
      "That's 0.9901913875598086 per patient\n",
      "earliest DATE: 1912-08-28 00:00:00, latest date: 2019-05-01 00:00:00\n",
      "How about nulls? -->\n",
      "\n",
      "There are ---> 3262 rows in the ---> ALLERGIES table.\n",
      "That's 0.3901913875598086 per patient\n",
      "earliest START: 1909-08-21 00:00:00, latest date: 2019-04-14 00:00:00\n",
      "earliest STOP: NaT, latest date: NaT\n",
      "How about nulls? -->\n",
      "STOP has 2705 null values\n",
      "\n",
      "There are ---> 419399 rows in the ---> PROCEDURES table.\n",
      "That's 50.16734449760766 per patient\n",
      "earliest DATE: 1909-01-11 00:00:00, latest date: 2019-05-06 00:00:00\n",
      "How about nulls? -->\n",
      "REASONCODE has 181376 null values\n",
      "REASONDESCRIPTION has 181376 null values\n",
      "\n",
      "There are ---> 125 rows in the ---> ORGANIZATIONS table.\n",
      "That's 0.014952153110047847 per patient\n",
      "How about nulls? -->\n",
      "\n",
      "There are ---> 109720 rows in the ---> CONDITIONS table.\n",
      "That's 13.124401913875598 per patient\n",
      "earliest START: 1909-11-26 00:00:00, latest date: 2019-05-06 00:00:00\n",
      "earliest STOP: 1910-02-09 00:00:00, latest date: 2019-05-06 00:00:00\n",
      "How about nulls? -->\n",
      "STOP has 48016 null values\n",
      "\n",
      "There are ---> 40048 rows in the ---> CAREPLANS table.\n",
      "That's 4.79043062200957 per patient\n",
      "earliest START: 1909-08-09 00:00:00, latest date: 2019-05-06 00:00:00\n",
      "earliest STOP: NaT, latest date: NaT\n",
      "How about nulls? -->\n",
      "STOP has 14780 null values\n",
      "REASONCODE has 2577 null values\n",
      "REASONDESCRIPTION has 2577 null values\n",
      "\n",
      "There are ---> 748639 rows in the ---> ENCOUNTERS table.\n",
      "That's 89.55011961722488 per patient\n",
      "earliest START: 1908-09-02 19:33:21+00:00, latest date: 2019-05-11 13:12:12+00:00\n",
      "earliest STOP: 1908-09-02 19:48:21+00:00, latest date: 2019-05-11 13:27:12+00:00\n",
      "How about nulls? -->\n",
      "PROVIDER has 2929 null values\n",
      "REASONCODE has 572460 null values\n",
      "REASONDESCRIPTION has 572460 null values\n",
      "\n",
      "There are ---> 181900 rows in the ---> IMMUNIZATIONS table.\n",
      "That's 21.758373205741627 per patient\n",
      "earliest DATE: 1945-01-16 00:00:00, latest date: 2019-05-06 00:00:00\n",
      "How about nulls? -->\n",
      "\n",
      "There are ---> 8360 rows in the ---> PATIENTS table.\n",
      "That's 1.0 per patient\n",
      "earliest BIRTHDATE: 1908-09-02 00:00:00, latest date: 2019-05-01 00:00:00\n",
      "earliest DEATHDATE: NaT, latest date: NaT\n",
      "How about nulls? -->\n",
      "DEATHDATE has 5000 null values\n",
      "DRIVERS has 1194 null values\n",
      "PASSPORT has 1545 null values\n",
      "PREFIX has 1362 null values\n",
      "SUFFIX has 8277 null values\n",
      "MAIDEN has 6008 null values\n",
      "MARITAL has 2144 null values\n",
      "ZIP has 101 null values\n",
      "\n",
      "There are ---> 725 rows in the ---> CONCEPTS table.\n",
      "That's 0.0867224880382775 per patient\n",
      "How about nulls? -->\n",
      "\n",
      "There are ---> 3199998 rows in the ---> OBSERVATIONS table.\n",
      "That's 382.7748803827751 per patient\n",
      "How about nulls? -->\n",
      "VALUE has 29 null values\n",
      "UNITS has 169450 null values\n",
      "\n",
      "TABLES JOINABLE TO PATIENT TABLE: ['medications', 'imaging_studies', 'allergies', 'procedures', 'conditions', 'careplans', 'encounters', 'immunizations', 'observations']\n",
      "DIM TABLES: ['providers', 'organizations', 'patients', 'concepts']\n"
     ]
    }
   ],
   "source": [
    "## OK. Super naive data exploration time.\n",
    "## How big are the tables\n",
    "## how far back does data go\n",
    "## how many (on super average) are there of *thing* per patient\n",
    "\n",
    "patient_linked=[]\n",
    "independent=[]\n",
    "for fname in fnames:\n",
    "    root= fname.split(\".\")[0]\n",
    "    df = pd.read_csv(fname)\n",
    "    print(\"There are ---> {} rows in the ---> {} table.\".format(len(df), root.upper()))\n",
    "    print(\"That's {} per patient\".format(len(df)/n_patients))\n",
    "    if len(df)<1000000:\n",
    "        for date_word in ['START','STOP','DATE','BIRTHDATE','DEATHDATE']:\n",
    "            if date_word in df.columns:\n",
    "                df[date_word]=df[date_word].apply(pd.to_datetime)\n",
    "\n",
    "                print(\"earliest {}: {}, latest date: {}\".format(date_word, min(df[date_word]), max(df[date_word])))\n",
    "\n",
    "    print(\"How about nulls? -->\")\n",
    "    for column in df:\n",
    "        if df[column].isnull().any():\n",
    "            print('{0} has {1} null values'.format(column, df[column].isnull().sum())) \n",
    "    if 'PATIENT' in df.columns:\n",
    "        patient_linked.append(root)\n",
    "    else:\n",
    "        independent.append(root)\n",
    "    print()\n",
    "    \n",
    "print(\"TABLES JOINABLE TO PATIENT TABLE: {}\".format(patient_linked))\n",
    "print(\"DIM TABLES: {}\".format(independent))"
   ]
  },
  {
   "cell_type": "markdown",
   "metadata": {},
   "source": [
    "So I am super impressed with record keeping in Massandopolis, as it appears we have medical record information going back as far as 1908. \n",
    "\n",
    "I personally don't trust any information over 30, so we might have to ignore some of the old stuff later on.\n",
    "\n",
    "\n",
    "\n",
    "... I think it's time to get to know the people of Massandopolis."
   ]
  },
  {
   "cell_type": "code",
   "execution_count": 46,
   "metadata": {},
   "outputs": [
    {
     "data": {
      "text/html": [
       "<div>\n",
       "<style scoped>\n",
       "    .dataframe tbody tr th:only-of-type {\n",
       "        vertical-align: middle;\n",
       "    }\n",
       "\n",
       "    .dataframe tbody tr th {\n",
       "        vertical-align: top;\n",
       "    }\n",
       "\n",
       "    .dataframe thead th {\n",
       "        text-align: right;\n",
       "    }\n",
       "</style>\n",
       "<table border=\"1\" class=\"dataframe\">\n",
       "  <thead>\n",
       "    <tr style=\"text-align: right;\">\n",
       "      <th></th>\n",
       "      <th>Id</th>\n",
       "      <th>BIRTHDATE</th>\n",
       "      <th>DEATHDATE</th>\n",
       "      <th>SSN</th>\n",
       "      <th>DRIVERS</th>\n",
       "      <th>PASSPORT</th>\n",
       "      <th>PREFIX</th>\n",
       "      <th>FIRST</th>\n",
       "      <th>LAST</th>\n",
       "      <th>SUFFIX</th>\n",
       "      <th>MAIDEN</th>\n",
       "      <th>MARITAL</th>\n",
       "      <th>RACE</th>\n",
       "      <th>ETHNICITY</th>\n",
       "      <th>GENDER</th>\n",
       "      <th>BIRTHPLACE</th>\n",
       "      <th>ADDRESS</th>\n",
       "      <th>CITY</th>\n",
       "      <th>STATE</th>\n",
       "      <th>ZIP</th>\n",
       "    </tr>\n",
       "  </thead>\n",
       "  <tbody>\n",
       "    <tr>\n",
       "      <th>0</th>\n",
       "      <td>c0d528b6-cdae-4d98-8936-a270f8827eb7</td>\n",
       "      <td>2013-02-10</td>\n",
       "      <td>NaN</td>\n",
       "      <td>999-83-3170</td>\n",
       "      <td>NaN</td>\n",
       "      <td>NaN</td>\n",
       "      <td>NaN</td>\n",
       "      <td>Claudette391</td>\n",
       "      <td>Hahn503</td>\n",
       "      <td>NaN</td>\n",
       "      <td>NaN</td>\n",
       "      <td>NaN</td>\n",
       "      <td>white</td>\n",
       "      <td>french_canadian</td>\n",
       "      <td>F</td>\n",
       "      <td>Framingham  Massandopolis  US</td>\n",
       "      <td>239 Schaden Glen</td>\n",
       "      <td>Randolph</td>\n",
       "      <td>Massandopolis</td>\n",
       "      <td>2368.0</td>\n",
       "    </tr>\n",
       "    <tr>\n",
       "      <th>1</th>\n",
       "      <td>d709f84f-7d2c-440b-a979-2bc27d41f63a</td>\n",
       "      <td>1994-01-10</td>\n",
       "      <td>2019-01-07</td>\n",
       "      <td>999-31-7937</td>\n",
       "      <td>S99989196</td>\n",
       "      <td>X43239863X</td>\n",
       "      <td>Ms.</td>\n",
       "      <td>Christina143</td>\n",
       "      <td>Langworth352</td>\n",
       "      <td>NaN</td>\n",
       "      <td>NaN</td>\n",
       "      <td>NaN</td>\n",
       "      <td>black</td>\n",
       "      <td>dominican</td>\n",
       "      <td>F</td>\n",
       "      <td>Lynn  Massandopolis  US</td>\n",
       "      <td>535 Romaguera Annex Unit 82</td>\n",
       "      <td>Boston</td>\n",
       "      <td>Massandopolis</td>\n",
       "      <td>2108.0</td>\n",
       "    </tr>\n",
       "    <tr>\n",
       "      <th>2</th>\n",
       "      <td>92aa6efc-004f-4e01-b0be-9aafa40d9857</td>\n",
       "      <td>1989-08-27</td>\n",
       "      <td>NaN</td>\n",
       "      <td>999-59-2188</td>\n",
       "      <td>S99973592</td>\n",
       "      <td>X80581589X</td>\n",
       "      <td>Mrs.</td>\n",
       "      <td>Robbyn526</td>\n",
       "      <td>Eichmann909</td>\n",
       "      <td>NaN</td>\n",
       "      <td>Kohler843</td>\n",
       "      <td>M</td>\n",
       "      <td>hispanic</td>\n",
       "      <td>central_american</td>\n",
       "      <td>F</td>\n",
       "      <td>Salem  Massandopolis  US</td>\n",
       "      <td>986 Franecki Road Apt 37</td>\n",
       "      <td>Bellingham</td>\n",
       "      <td>Massandopolis</td>\n",
       "      <td>2019.0</td>\n",
       "    </tr>\n",
       "    <tr>\n",
       "      <th>3</th>\n",
       "      <td>f9b11b47-e8e8-4c3c-b279-36eba5086cfd</td>\n",
       "      <td>1988-10-09</td>\n",
       "      <td>NaN</td>\n",
       "      <td>999-48-9512</td>\n",
       "      <td>S99947146</td>\n",
       "      <td>X80365010X</td>\n",
       "      <td>Mr.</td>\n",
       "      <td>Earnest658</td>\n",
       "      <td>Bauch723</td>\n",
       "      <td>NaN</td>\n",
       "      <td>NaN</td>\n",
       "      <td>M</td>\n",
       "      <td>white</td>\n",
       "      <td>american</td>\n",
       "      <td>M</td>\n",
       "      <td>Concord  Massandopolis  US</td>\n",
       "      <td>451 Paucek Divide</td>\n",
       "      <td>Plymouth</td>\n",
       "      <td>Massandopolis</td>\n",
       "      <td>2360.0</td>\n",
       "    </tr>\n",
       "    <tr>\n",
       "      <th>4</th>\n",
       "      <td>c9d19013-4435-4b71-823a-c5023ba56195</td>\n",
       "      <td>1997-12-21</td>\n",
       "      <td>NaN</td>\n",
       "      <td>999-44-8705</td>\n",
       "      <td>S99938855</td>\n",
       "      <td>X28806996X</td>\n",
       "      <td>Mr.</td>\n",
       "      <td>Sung603</td>\n",
       "      <td>Schroeder447</td>\n",
       "      <td>NaN</td>\n",
       "      <td>NaN</td>\n",
       "      <td>NaN</td>\n",
       "      <td>white</td>\n",
       "      <td>polish</td>\n",
       "      <td>M</td>\n",
       "      <td>Reading  Massandopolis  US</td>\n",
       "      <td>123 Klocko Gateway</td>\n",
       "      <td>Natick</td>\n",
       "      <td>Massandopolis</td>\n",
       "      <td>1760.0</td>\n",
       "    </tr>\n",
       "  </tbody>\n",
       "</table>\n",
       "</div>"
      ],
      "text/plain": [
       "                                     Id   BIRTHDATE   DEATHDATE          SSN  \\\n",
       "0  c0d528b6-cdae-4d98-8936-a270f8827eb7  2013-02-10         NaN  999-83-3170   \n",
       "1  d709f84f-7d2c-440b-a979-2bc27d41f63a  1994-01-10  2019-01-07  999-31-7937   \n",
       "2  92aa6efc-004f-4e01-b0be-9aafa40d9857  1989-08-27         NaN  999-59-2188   \n",
       "3  f9b11b47-e8e8-4c3c-b279-36eba5086cfd  1988-10-09         NaN  999-48-9512   \n",
       "4  c9d19013-4435-4b71-823a-c5023ba56195  1997-12-21         NaN  999-44-8705   \n",
       "\n",
       "     DRIVERS    PASSPORT PREFIX         FIRST          LAST SUFFIX     MAIDEN  \\\n",
       "0        NaN         NaN    NaN  Claudette391       Hahn503    NaN        NaN   \n",
       "1  S99989196  X43239863X    Ms.  Christina143  Langworth352    NaN        NaN   \n",
       "2  S99973592  X80581589X   Mrs.     Robbyn526   Eichmann909    NaN  Kohler843   \n",
       "3  S99947146  X80365010X    Mr.    Earnest658      Bauch723    NaN        NaN   \n",
       "4  S99938855  X28806996X    Mr.       Sung603  Schroeder447    NaN        NaN   \n",
       "\n",
       "  MARITAL      RACE         ETHNICITY GENDER                     BIRTHPLACE  \\\n",
       "0     NaN     white   french_canadian      F  Framingham  Massandopolis  US   \n",
       "1     NaN     black         dominican      F        Lynn  Massandopolis  US   \n",
       "2       M  hispanic  central_american      F       Salem  Massandopolis  US   \n",
       "3       M     white          american      M     Concord  Massandopolis  US   \n",
       "4     NaN     white            polish      M     Reading  Massandopolis  US   \n",
       "\n",
       "                       ADDRESS        CITY          STATE     ZIP  \n",
       "0             239 Schaden Glen    Randolph  Massandopolis  2368.0  \n",
       "1  535 Romaguera Annex Unit 82      Boston  Massandopolis  2108.0  \n",
       "2     986 Franecki Road Apt 37  Bellingham  Massandopolis  2019.0  \n",
       "3            451 Paucek Divide    Plymouth  Massandopolis  2360.0  \n",
       "4           123 Klocko Gateway      Natick  Massandopolis  1760.0  "
      ]
     },
     "execution_count": 46,
     "metadata": {},
     "output_type": "execute_result"
    }
   ],
   "source": [
    "pats.head()"
   ]
  },
  {
   "cell_type": "code",
   "execution_count": 141,
   "metadata": {},
   "outputs": [],
   "source": [
    "pats['BIRTHDATE']=pats['BIRTHDATE'].apply(pd.to_datetime)\n",
    "pats['BIRTHYEAR']=pats['BIRTHDATE'].dt.year\n",
    "pats['BIRTHDAY']=pats['BIRTHDATE'].dt.day\n",
    "pats['BIRTHMONTH']=pats['BIRTHDATE'].dt.month\n"
   ]
  },
  {
   "cell_type": "code",
   "execution_count": 162,
   "metadata": {},
   "outputs": [
    {
     "name": "stderr",
     "output_type": "stream",
     "text": [
      "/usr/local/lib/python3.7/site-packages/ipykernel_launcher.py:5: SettingWithCopyWarning: \n",
      "A value is trying to be set on a copy of a slice from a DataFrame.\n",
      "Try using .loc[row_indexer,col_indexer] = value instead\n",
      "\n",
      "See the caveats in the documentation: http://pandas.pydata.org/pandas-docs/stable/indexing.html#indexing-view-versus-copy\n",
      "  \"\"\"\n"
     ]
    }
   ],
   "source": [
    "alive = pats[pats['DEATHDATE'].isnull()]\n",
    "alive.name = 'alive'\n",
    "dead = pats[pats['DEATHDATE'].notnull()]\n",
    "dead.name = 'dead'\n",
    "dead['DEATHYEAR']=dead['DEATHDATE'].apply(pd.to_datetime).dt.year\n"
   ]
  },
  {
   "cell_type": "code",
   "execution_count": 148,
   "metadata": {},
   "outputs": [
    {
     "data": {
      "image/png": "[encoded data removed]",
      "text/plain": [
       "<Figure size 360x360 with 1 Axes>"
      ]
     },
     "metadata": {
      "needs_background": "light"
     },
     "output_type": "display_data"
    },
    {
     "data": {
      "image/png": "[encoded data removed]",
      "text/plain": [
       "<Figure size 360x360 with 1 Axes>"
      ]
     },
     "metadata": {
      "needs_background": "light"
     },
     "output_type": "display_data"
    },
    {
     "data": {
      "image/png": "[encoded data removed]",
      "text/plain": [
       "<Figure size 360x360 with 1 Axes>"
      ]
     },
     "metadata": {
      "needs_background": "light"
     },
     "output_type": "display_data"
    },
    {
     "data": {
      "image/png": "[encoded data removed]",
      "text/plain": [
       "<Figure size 360x360 with 1 Axes>"
      ]
     },
     "metadata": {
      "needs_background": "light"
     },
     "output_type": "display_data"
    },
    {
     "data": {
      "image/png": "[encoded data removed]",
      "text/plain": [
       "<Figure size 360x360 with 1 Axes>"
      ]
     },
     "metadata": {
      "needs_background": "light"
     },
     "output_type": "display_data"
    },
    {
     "data": {
      "image/png": "[encoded data removed]",
      "text/plain": [
       "<Figure size 360x360 with 1 Axes>"
      ]
     },
     "metadata": {
      "needs_background": "light"
     },
     "output_type": "display_data"
    }
   ],
   "source": [
    "for sub_tup in [('BIRTHYEAR',22),('BIRTHMONTH',12),('BIRTHDAY',31)]:\n",
    "    for status in [alive, dead]:\n",
    "        bins = 12\n",
    "        f=plt.figure(figsize=(5,5))\n",
    "        plt.hist(status[status['GENDER']=='F'][sub_tup[0]], bins = sub_tup[1], color = 'r', alpha = 0.4, label='F')\n",
    "        plt.hist(status[status['GENDER']=='M'][sub_tup[0]], bins = sub_tup[1], color = 'b', alpha = 0.4, label='M')\n",
    "        plt.legend()\n",
    "        plt.title(status.name + \" \"+ sub_tup[0])"
   ]
  },
  {
   "cell_type": "code",
   "execution_count": 150,
   "metadata": {},
   "outputs": [
    {
     "data": {
      "image/png": "[encoded data removed]",
      "text/plain": [
       "<Figure size 360x360 with 1 Axes>"
      ]
     },
     "metadata": {
      "needs_background": "light"
     },
     "output_type": "display_data"
    },
    {
     "data": {
      "image/png": "[encoded data removed]",
      "text/plain": [
       "<Figure size 360x360 with 1 Axes>"
      ]
     },
     "metadata": {
      "needs_background": "light"
     },
     "output_type": "display_data"
    },
    {
     "data": {
      "image/png": "[encoded data removed]",
      "text/plain": [
       "<Figure size 360x360 with 1 Axes>"
      ]
     },
     "metadata": {
      "needs_background": "light"
     },
     "output_type": "display_data"
    },
    {
     "data": {
      "image/png": "[encoded data removed]",
      "text/plain": [
       "<Figure size 360x360 with 1 Axes>"
      ]
     },
     "metadata": {
      "needs_background": "light"
     },
     "output_type": "display_data"
    },
    {
     "data": {
      "image/png": "[encoded data removed]",
      "text/plain": [
       "<Figure size 360x360 with 1 Axes>"
      ]
     },
     "metadata": {
      "needs_background": "light"
     },
     "output_type": "display_data"
    },
    {
     "data": {
      "image/png": "[encoded data removed]",
      "text/plain": [
       "<Figure size 360x360 with 1 Axes>"
      ]
     },
     "metadata": {
      "needs_background": "light"
     },
     "output_type": "display_data"
    }
   ],
   "source": [
    "## OK so that's weird. Does it go away if I look at density instead of abs numbers?\n",
    "for sub_tup in [('BIRTHYEAR',22),('BIRTHMONTH',12),('BIRTHDAY',31)]:\n",
    "    for status in [alive, dead]:\n",
    "        f=plt.figure(figsize=(5,5))\n",
    "        plt.hist(status[status['GENDER']=='F'][sub_tup[0]], bins = sub_tup[1], color = 'r', alpha = 0.4, label='F', density=True)\n",
    "        plt.hist(status[status['GENDER']=='M'][sub_tup[0]], bins = sub_tup[1], color = 'b', alpha = 0.4, label='M', density= True)\n",
    "        xmin=plt.gca().get_xlim()[0]\n",
    "        if sub_tup[0]!='BIRTHYEAR':\n",
    "            plt.hlines(y=1/(sub_tup[1]), xmin=xmin, xmax = max(pats[sub_tup[0]].values))\n",
    "\n",
    "        plt.legend()\n",
    "        plt.title(status.name + \" \" + sub_tup[0])"
   ]
  },
  {
   "cell_type": "code",
   "execution_count": 220,
   "metadata": {},
   "outputs": [
    {
     "data": {
      "text/plain": [
       "1929    304\n",
       "1931    240\n",
       "1930    200\n",
       "1932    168\n",
       "1913     99\n",
       "1933     88\n",
       "1935     79\n",
       "1914     77\n",
       "1941     74\n",
       "1916     66\n",
       "Name: BIRTHYEAR, dtype: int64"
      ]
     },
     "execution_count": 220,
     "metadata": {},
     "output_type": "execute_result"
    }
   ],
   "source": [
    "dead['BIRTHYEAR'].value_counts()[:10]"
   ]
  },
  {
   "cell_type": "code",
   "execution_count": 219,
   "metadata": {},
   "outputs": [
    {
     "name": "stderr",
     "output_type": "stream",
     "text": [
      "/usr/local/lib/python3.7/site-packages/ipykernel_launcher.py:1: UserWarning: Boolean Series key will be reindexed to match DataFrame index.\n",
      "  \"\"\"Entry point for launching an IPython kernel.\n"
     ]
    },
    {
     "data": {
      "text/plain": [
       "68    38\n",
       "66    33\n",
       "69    32\n",
       "77    32\n",
       "72    31\n",
       "76    31\n",
       "64    30\n",
       "67    30\n",
       "75    28\n",
       "81    27\n",
       "Name: DEATHYEAR, dtype: int64"
      ]
     },
     "execution_count": 219,
     "metadata": {},
     "output_type": "execute_result"
    }
   ],
   "source": [
    "dead[dead['BIRTHYEAR']<1933][dead['GENDER']=='M']['DEATHYEAR'].apply(lambda x: x-1930).value_counts()[:10]"
   ]
  },
  {
   "cell_type": "code",
   "execution_count": 182,
   "metadata": {},
   "outputs": [
    {
     "data": {
      "text/plain": [
       "white       0.7562\n",
       "hispanic    0.1076\n",
       "black       0.0716\n",
       "asian       0.0604\n",
       "native      0.0034\n",
       "other       0.0008\n",
       "Name: RACE, dtype: float64"
      ]
     },
     "execution_count": 182,
     "metadata": {},
     "output_type": "execute_result"
    }
   ],
   "source": [
    "alive['RACE'].value_counts()/len(alive)"
   ]
  },
  {
   "cell_type": "code",
   "execution_count": 183,
   "metadata": {},
   "outputs": [
    {
     "data": {
      "text/plain": [
       "white       0.717857\n",
       "hispanic    0.150893\n",
       "black       0.067560\n",
       "asian       0.061905\n",
       "native      0.001488\n",
       "other       0.000298\n",
       "Name: RACE, dtype: float64"
      ]
     },
     "execution_count": 183,
     "metadata": {},
     "output_type": "execute_result"
    }
   ],
   "source": [
    "dead['RACE'].value_counts()/len(dead)"
   ]
  },
  {
   "cell_type": "code",
   "execution_count": 234,
   "metadata": {},
   "outputs": [
    {
     "data": {
      "text/plain": [
       "white       0.708129\n",
       "hispanic    0.164757\n",
       "black       0.070376\n",
       "asian       0.056738\n",
       "Name: RACE, dtype: float64"
      ]
     },
     "execution_count": 234,
     "metadata": {},
     "output_type": "execute_result"
    }
   ],
   "source": [
    "dead[dead['BIRTHYEAR']<1933]['RACE'].value_counts()/len(dead[dead['BIRTHYEAR']<1933])"
   ]
  },
  {
   "cell_type": "code",
   "execution_count": null,
   "metadata": {},
   "outputs": [],
   "source": [
    "# HISPANIC FOLK DIE MORE? THE DIFF BTW 10% of alive folk vs 15% of dead folk SEEMS ODD TO ME AT A GLANCE.\n",
    "# IF I HAD MORE TIME I'D CHECK ON THEM MORE CLOSELY."
   ]
  },
  {
   "cell_type": "code",
   "execution_count": 184,
   "metadata": {},
   "outputs": [
    {
     "data": {
      "text/plain": [
       "F    2545\n",
       "M    2455\n",
       "Name: GENDER, dtype: int64"
      ]
     },
     "execution_count": 184,
     "metadata": {},
     "output_type": "execute_result"
    }
   ],
   "source": [
    "alive['GENDER'].value_counts()"
   ]
  },
  {
   "cell_type": "code",
   "execution_count": 187,
   "metadata": {},
   "outputs": [
    {
     "data": {
      "text/plain": [
       "M    2679\n",
       "S     653\n",
       "Name: MARITAL, dtype: int64"
      ]
     },
     "execution_count": 187,
     "metadata": {},
     "output_type": "execute_result"
    }
   ],
   "source": [
    "alive['MARITAL'].value_counts()"
   ]
  },
  {
   "cell_type": "code",
   "execution_count": 230,
   "metadata": {},
   "outputs": [
    {
     "data": {
      "text/plain": [
       "irish               988\n",
       "italian             617\n",
       "english             456\n",
       "french              336\n",
       "puerto_rican        303\n",
       "german              302\n",
       "polish              219\n",
       "portuguese          197\n",
       "american            195\n",
       "chinese             187\n",
       "french_canadian     154\n",
       "dominican           123\n",
       "african             122\n",
       "asian_indian        115\n",
       "west_indian         113\n",
       "scottish            110\n",
       "russian              96\n",
       "south_american       80\n",
       "central_american     78\n",
       "mexican              77\n",
       "swedish              60\n",
       "greek                51\n",
       "american_indian      17\n",
       "arab                  4\n",
       "Name: ETHNICITY, dtype: int64"
      ]
     },
     "execution_count": 230,
     "metadata": {},
     "output_type": "execute_result"
    }
   ],
   "source": [
    "alive['ETHNICITY'].value_counts()"
   ]
  },
  {
   "cell_type": "code",
   "execution_count": 199,
   "metadata": {},
   "outputs": [],
   "source": [
    "prop_deaths_early=dead[dead['BIRTHYEAR']<1940]['CITY'].value_counts()[:5]/len(dead[dead['BIRTHYEAR']<1940])"
   ]
  },
  {
   "cell_type": "code",
   "execution_count": 213,
   "metadata": {},
   "outputs": [
    {
     "data": {
      "text/plain": [
       "Brockton     3.847952\n",
       "Everett      4.039092\n",
       "Lynn         2.074876\n",
       "Worcester    1.607732\n",
       "Name: CITY, dtype: float64"
      ]
     },
     "execution_count": 213,
     "metadata": {},
     "output_type": "execute_result"
    }
   ],
   "source": [
    "prop_deaths_late=dead[dead['BIRTHYEAR']>1940]['CITY'].value_counts()/len(dead[dead['BIRTHYEAR']>1940])\n",
    "\n",
    "early_to_late = prop_deaths_early / prop_deaths_late\n",
    "early_to_late[early_to_late > 1]"
   ]
  },
  {
   "cell_type": "code",
   "execution_count": 221,
   "metadata": {},
   "outputs": [
    {
     "data": {
      "text/plain": [
       "M    1666\n",
       "S     420\n",
       "Name: MARITAL, dtype: int64"
      ]
     },
     "execution_count": 221,
     "metadata": {},
     "output_type": "execute_result"
    }
   ],
   "source": [
    "dead[dead['BIRTHYEAR']<1940]['MARITAL'].value_counts()"
   ]
  },
  {
   "cell_type": "markdown",
   "metadata": {},
   "source": [
    "### INITIAL THOUGHTS ON PATIENTS\n",
    "\n",
    "So, there appear to be a lot (A LOT) of men born in the late 30s using health services, and dying, here. A lot of people born in the late 30s, but way more men. THAT'S WEIRD.\n",
    "I mean. They would have been too young for WW2 and Korea, too old for Vietnam, so here they are - demographic lottery winners?\n",
    "\n",
    "All the same. There are WAY MORE men than there are women from the 30s using healthcare and dying. Men in their late 60s-70s HATE going to the doctor. Although, it looks like they were mostly married, and those guys wives make them go to the doctor (sexist but true last time I checked - married men die slower than singletons)\n",
    "\n",
    "Something was obviously happenening to late-Depression-born men, maybe focussed around Brockton, Everett, Lynn and Worcester (or those are retirement towns - the men are dying in their late sixties) starting in the late 90s. Or hitting them in the late 90s.\n",
    "...\n",
    "\n",
    "MINOR POINTS\n",
    "Also why would there be more women than men born in the fall, and in the second week of the month in general?\n",
    "The month and day stuff looks like if I checked closer it'd be maybe within range of normal variation, so I'm going to drop it for now. But those birth years though. What??\n",
    "\n",
    "I could probably rabbit-hole into patient data for ages, but I'm only supposed to spend an afternoon on this and I've clearly gotten distracted from basic data quality checks. On to the other files!"
   ]
  },
  {
   "cell_type": "code",
   "execution_count": 215,
   "metadata": {},
   "outputs": [
    {
     "data": {
      "text/plain": [
       "Index(['Id', 'BIRTHDATE', 'DEATHDATE', 'SSN', 'DRIVERS', 'PASSPORT', 'PREFIX',\n",
       "       'FIRST', 'LAST', 'SUFFIX', 'MAIDEN', 'MARITAL', 'RACE', 'ETHNICITY',\n",
       "       'GENDER', 'BIRTHPLACE', 'ADDRESS', 'CITY', 'STATE', 'ZIP', 'BIRTHYEAR',\n",
       "       'BIRTHDAY', 'BIRTHMONTH'],\n",
       "      dtype='object')"
      ]
     },
     "execution_count": 215,
     "metadata": {},
     "output_type": "execute_result"
    }
   ],
   "source": []
  },
  {
   "cell_type": "markdown",
   "metadata": {},
   "source": [
    "### MEDICATIONS"
   ]
  },
  {
   "cell_type": "code",
   "execution_count": 222,
   "metadata": {},
   "outputs": [],
   "source": [
    "meds = pd.read_csv(\"medications.csv\")"
   ]
  },
  {
   "cell_type": "code",
   "execution_count": 236,
   "metadata": {},
   "outputs": [
    {
     "data": {
      "text/plain": [
       "START                    0\n",
       "STOP                 16524\n",
       "PATIENT                  0\n",
       "ENCOUNTER                0\n",
       "CODE                     0\n",
       "DESCRIPTION              0\n",
       "COST                     0\n",
       "DISPENSES                0\n",
       "TOTALCOST                0\n",
       "REASONCODE           44940\n",
       "REASONDESCRIPTION    44940\n",
       "dtype: int64"
      ]
     },
     "execution_count": 236,
     "metadata": {},
     "output_type": "execute_result"
    }
   ],
   "source": [
    "meds.isnull().sum()"
   ]
  },
  {
   "cell_type": "code",
   "execution_count": 228,
   "metadata": {},
   "outputs": [],
   "source": [
    "meds_plus_dem = meds.merge(pats, left_on=\"PATIENT\", right_on=\"Id\")"
   ]
  },
  {
   "cell_type": "code",
   "execution_count": null,
   "metadata": {
    "scrolled": true
   },
   "outputs": [],
   "source": []
  },
  {
   "cell_type": "code",
   "execution_count": 260,
   "metadata": {},
   "outputs": [
    {
     "name": "stdout",
     "output_type": "stream",
     "text": [
      "1 ML Epoetin Alfa 4000 UNT/ML Injection [Epogen]    22027\n",
      "Name: DESCRIPTION, dtype: int64\n",
      "\n",
      "Simvistatin 10 MG    20215\n",
      "Name: DESCRIPTION, dtype: int64\n",
      "\n",
      "Acetaminophen 325 MG Oral Tablet    8986\n",
      "Name: DESCRIPTION, dtype: int64\n",
      "\n",
      "Cisplatin 50 MG Injection    6654\n",
      "Name: DESCRIPTION, dtype: int64\n",
      "\n",
      "PACLitaxel 100 MG Injection    5432\n",
      "Name: DESCRIPTION, dtype: int64\n",
      "\n",
      "Amoxicillin 250 MG / Clavulanate 125 MG Oral Tablet    3732\n",
      "Name: DESCRIPTION, dtype: int64\n",
      "\n",
      "Acetaminophen 325 MG / Oxycodone Hydrochloride 5 MG Oral Tablet    2723\n",
      "Acetaminophen 325 MG / oxyCODONE Hydrochloride 5 MG Oral Tablet     508\n",
      "Name: DESCRIPTION, dtype: int64\n",
      "\n",
      "Naproxen sodium 220 MG Oral Tablet    2781\n",
      "Name: DESCRIPTION, dtype: int64\n",
      "\n",
      "Abuse-Deterrent 12 HR Oxycodone Hydrochloride 15 MG Extended Release Oral Tablet    2756\n",
      "Name: DESCRIPTION, dtype: int64\n",
      "\n",
      "Acetaminophen 300 MG / HYDROcodone Bitartrate 5 MG [Vicodin]    2736\n",
      "Name: DESCRIPTION, dtype: int64\n",
      "\n",
      "Ibuprofen 200 MG Oral Tablet    2301\n",
      "Name: DESCRIPTION, dtype: int64\n",
      "\n",
      "Hydrochlorothiazide 25 MG    2237\n",
      "Name: DESCRIPTION, dtype: int64\n",
      "\n",
      "Acetaminophen 21.7 MG/ML / Dextromethorphan Hydrobromide 1 MG/ML / doxylamine succinate 0.417 MG/ML Oral Solution    1809\n",
      "Name: DESCRIPTION, dtype: int64\n",
      "\n",
      "Acetaminophen 160 MG Oral Tablet    1526\n",
      "Name: DESCRIPTION, dtype: int64\n",
      "\n",
      "Ibuprofen 100 MG Oral Tablet    1388\n",
      "Name: DESCRIPTION, dtype: int64\n",
      "\n",
      "Jolivette 28 Day Pack    1336\n",
      "Name: DESCRIPTION, dtype: int64\n",
      "\n",
      "Etoposide 100 MG Injection    1222\n",
      "Name: DESCRIPTION, dtype: int64\n",
      "\n",
      "Camila 28 Day Pack    1185\n",
      "Name: DESCRIPTION, dtype: int64\n",
      "\n",
      "Penicillin V Potassium 500 MG Oral Tablet    1136\n",
      "Name: DESCRIPTION, dtype: int64\n",
      "\n",
      "Penicillin V Potassium 250 MG Oral Tablet    1032\n",
      "Name: DESCRIPTION, dtype: int64\n",
      "\n"
     ]
    }
   ],
   "source": [
    "for code in meds['CODE'].value_counts().index[:20]:\n",
    "    print(meds[meds['CODE']==code]['DESCRIPTION'].value_counts())\n",
    "    print()"
   ]
  },
  {
   "cell_type": "code",
   "execution_count": 264,
   "metadata": {},
   "outputs": [
    {
     "data": {
      "text/plain": [
       "1931    4393\n",
       "1916    2809\n",
       "1930    2431\n",
       "1914    2431\n",
       "1940    2431\n",
       "1909    2065\n",
       "1934    1850\n",
       "1918    1045\n",
       "1949     763\n",
       "1919     618\n",
       "Name: BIRTHYEAR, dtype: int64"
      ]
     },
     "execution_count": 264,
     "metadata": {},
     "output_type": "execute_result"
    }
   ],
   "source": [
    "#THAT'S A LOT OF CKD MEDS?! Or is it?\n",
    "meds_plus_dem[meds_plus_dem['CODE']==205923]['BIRTHYEAR'].value_counts()[:10]"
   ]
  },
  {
   "cell_type": "code",
   "execution_count": 281,
   "metadata": {},
   "outputs": [
    {
     "name": "stderr",
     "output_type": "stream",
     "text": [
      "/usr/local/lib/python3.7/site-packages/ipykernel_launcher.py:1: UserWarning: Boolean Series key will be reindexed to match DataFrame index.\n",
      "  \"\"\"Entry point for launching an IPython kernel.\n",
      "/usr/local/lib/python3.7/site-packages/ipykernel_launcher.py:6: UserWarning: Boolean Series key will be reindexed to match DataFrame index.\n",
      "  \n",
      "/usr/local/lib/python3.7/site-packages/ipykernel_launcher.py:8: UserWarning: Boolean Series key will be reindexed to match DataFrame index.\n",
      "  \n"
     ]
    },
    {
     "data": {
      "text/plain": [
       "17"
      ]
     },
     "execution_count": 281,
     "metadata": {},
     "output_type": "execute_result"
    }
   ],
   "source": [
    "meds_plus_dem[meds_plus_dem['CODE']==205923][meds_plus_dem['GENDER']=='M']['BIRTHYEAR'].value_counts()[:10]\n",
    "\n",
    "#WAIT. THE 1916, 1914, 1918, 1919, 1930, FOLK ARE ALL MEN - but women from 1931 suddenly are allowed to have ckd?\n",
    "#UNIQUE PATIENTS FOR THOSE YEARS?\n",
    "\n",
    "meds_plus_dem[meds_plus_dem['CODE']==205923][meds_plus_dem['GENDER']=='M']['Id'].value_counts()\n",
    "\n",
    "meds_plus_dem[meds_plus_dem['CODE']==205923][meds_plus_dem['GENDER']=='F']['Id'].value_counts()\n",
    "meds_plus_dem[meds_plus_dem['CODE']==205923]['Id'].nunique()\n",
    "#AHA. Tonnes of that med, but only 17 patients. That makes sense, it's for a chronic condition."
   ]
  },
  {
   "cell_type": "code",
   "execution_count": 282,
   "metadata": {},
   "outputs": [],
   "source": [
    "#Because opioids"
   ]
  },
  {
   "cell_type": "code",
   "execution_count": 292,
   "metadata": {},
   "outputs": [
    {
     "data": {
      "text/plain": [
       "4146"
      ]
     },
     "execution_count": 292,
     "metadata": {},
     "output_type": "execute_result"
    }
   ],
   "source": [
    "meds_plus_dem['DESCRIPTION']=meds_plus_dem['DESCRIPTION'].str.lower()\n",
    "\n",
    "meds_plus_dem[meds_plus_dem['DESCRIPTION'].str.contains(\"codone\")]['Id'].nunique()"
   ]
  },
  {
   "cell_type": "code",
   "execution_count": 293,
   "metadata": {},
   "outputs": [],
   "source": [
    "#HALF THE PEOPLE HAVE HAD OPIOIDS?"
   ]
  },
  {
   "cell_type": "code",
   "execution_count": 294,
   "metadata": {},
   "outputs": [
    {
     "name": "stderr",
     "output_type": "stream",
     "text": [
      "/usr/local/lib/python3.7/site-packages/ipykernel_launcher.py:1: UserWarning: Boolean Series key will be reindexed to match DataFrame index.\n",
      "  \"\"\"Entry point for launching an IPython kernel.\n"
     ]
    },
    {
     "data": {
      "text/plain": [
       "2269"
      ]
     },
     "execution_count": 294,
     "metadata": {},
     "output_type": "execute_result"
    }
   ],
   "source": [
    "#WHAT ABOUT JUST ALIVE PEOPLE?\n",
    "meds_plus_dem[meds_plus_dem['DESCRIPTION'].str.contains(\"codone\")][meds_plus_dem['DEATHDATE'].isnull()]['Id'].nunique()"
   ]
  },
  {
   "cell_type": "code",
   "execution_count": 295,
   "metadata": {},
   "outputs": [
    {
     "data": {
      "text/plain": [
       "0.4538"
      ]
     },
     "execution_count": 295,
     "metadata": {},
     "output_type": "execute_result"
    }
   ],
   "source": [
    "2269/5000"
   ]
  },
  {
   "cell_type": "code",
   "execution_count": 305,
   "metadata": {},
   "outputs": [
    {
     "name": "stderr",
     "output_type": "stream",
     "text": [
      "/usr/local/lib/python3.7/site-packages/ipykernel_launcher.py:1: UserWarning: Boolean Series key will be reindexed to match DataFrame index.\n",
      "  \"\"\"Entry point for launching an IPython kernel.\n"
     ]
    },
    {
     "data": {
      "text/plain": [
       "1986    182\n",
       "1987    165\n",
       "1989    151\n",
       "1983    138\n",
       "1984    135\n",
       "1988    128\n",
       "1994    123\n",
       "1985    120\n",
       "1996    116\n",
       "1991    111\n",
       "Name: BIRTHYEAR, dtype: int64"
      ]
     },
     "execution_count": 305,
     "metadata": {},
     "output_type": "execute_result"
    }
   ],
   "source": [
    "meds_plus_dem[meds_plus_dem['DESCRIPTION'].str.contains(\"codone\")][meds_plus_dem['DEATHDATE'].isnull()]['BIRTHYEAR'].value_counts()[:10]"
   ]
  },
  {
   "cell_type": "code",
   "execution_count": 307,
   "metadata": {},
   "outputs": [
    {
     "name": "stderr",
     "output_type": "stream",
     "text": [
      "/usr/local/lib/python3.7/site-packages/ipykernel_launcher.py:1: UserWarning: Boolean Series key will be reindexed to match DataFrame index.\n",
      "  \"\"\"Entry point for launching an IPython kernel.\n"
     ]
    },
    {
     "data": {
      "text/plain": [
       "0b24afa8-2453-4d75-9b0f-34a150d510b5    15\n",
       "bc96bbc2-d741-4ac5-a3f4-8dadb0dddc33    13\n",
       "db153b45-5f34-4b37-b8a1-8d1779be8a21    13\n",
       "448bbf28-b47d-4325-b45d-0dc6bc8f4f31    12\n",
       "98e2e93a-8ef4-4b97-a4d8-fba2bf62ea75    11\n",
       "fc74bf14-fc1c-4f4c-a2d2-190bafb84b00    10\n",
       "4c12edfc-7da7-4103-8b4a-e7a958f92120    10\n",
       "930582b8-d01b-4fc7-a731-ecd011eff16b    10\n",
       "2b433be1-ae2c-4be7-9502-cc878db84e4d     9\n",
       "98b4bce5-803d-4297-ae55-69c5dfe7fe42     9\n",
       "Name: Id, dtype: int64"
      ]
     },
     "execution_count": 307,
     "metadata": {},
     "output_type": "execute_result"
    }
   ],
   "source": [
    "meds_plus_dem[meds_plus_dem['DESCRIPTION'].str.contains(\"codone\")][meds_plus_dem['DEATHDATE'].isnull()][meds_plus_dem['BIRTHYEAR']>1980]['Id'].value_counts()[:10]"
   ]
  },
  {
   "cell_type": "code",
   "execution_count": 353,
   "metadata": {},
   "outputs": [
    {
     "name": "stderr",
     "output_type": "stream",
     "text": [
      "/usr/local/lib/python3.7/site-packages/ipykernel_launcher.py:1: UserWarning: Boolean Series key will be reindexed to match DataFrame index.\n",
      "  \"\"\"Entry point for launching an IPython kernel.\n"
     ]
    },
    {
     "data": {
      "text/plain": [
       "Posttraumatic stress disorder    7\n",
       "Primary fibromyalgia syndrome    4\n",
       "Name: REASONDESCRIPTION, dtype: int64"
      ]
     },
     "execution_count": 353,
     "metadata": {},
     "output_type": "execute_result"
    }
   ],
   "source": [
    "meds_plus_dem[meds_plus_dem['DESCRIPTION'].str.contains(\"codone\")][meds_plus_dem['DEATHDATE'].isnull()]['REASONDESCRIPTION'].value_counts()"
   ]
  },
  {
   "cell_type": "code",
   "execution_count": 311,
   "metadata": {},
   "outputs": [
    {
     "name": "stderr",
     "output_type": "stream",
     "text": [
      "/usr/local/lib/python3.7/site-packages/ipykernel_launcher.py:1: UserWarning: Boolean Series key will be reindexed to match DataFrame index.\n",
      "  \"\"\"Entry point for launching an IPython kernel.\n"
     ]
    },
    {
     "data": {
      "text/plain": [
       "0b24afa8-2453-4d75-9b0f-34a150d510b5    15\n",
       "bc96bbc2-d741-4ac5-a3f4-8dadb0dddc33    13\n",
       "db153b45-5f34-4b37-b8a1-8d1779be8a21    13\n",
       "448bbf28-b47d-4325-b45d-0dc6bc8f4f31    12\n",
       "98e2e93a-8ef4-4b97-a4d8-fba2bf62ea75    11\n",
       "fc74bf14-fc1c-4f4c-a2d2-190bafb84b00    10\n",
       "4c12edfc-7da7-4103-8b4a-e7a958f92120    10\n",
       "930582b8-d01b-4fc7-a731-ecd011eff16b    10\n",
       "2b433be1-ae2c-4be7-9502-cc878db84e4d     9\n",
       "98b4bce5-803d-4297-ae55-69c5dfe7fe42     9\n",
       "Name: Id, dtype: int64"
      ]
     },
     "execution_count": 311,
     "metadata": {},
     "output_type": "execute_result"
    }
   ],
   "source": [
    "meds_plus_dem[meds_plus_dem['DESCRIPTION'].str.contains(\"codone\")][meds_plus_dem['DEATHDATE'].isnull()][meds_plus_dem['BIRTHYEAR']>1980]['Id'].value_counts()[:10]"
   ]
  },
  {
   "cell_type": "code",
   "execution_count": 312,
   "metadata": {},
   "outputs": [
    {
     "data": {
      "text/plain": [
       "(array([1.12658e+05, 4.04000e+03, 1.55500e+03, 4.60000e+02, 1.34000e+02,\n",
       "        1.40000e+01, 0.00000e+00, 0.00000e+00, 1.74000e+02, 5.72400e+03]),\n",
       " array([2.900000e-01, 7.014430e+02, 1.402596e+03, 2.103749e+03,\n",
       "        2.804902e+03, 3.506055e+03, 4.207208e+03, 4.908361e+03,\n",
       "        5.609514e+03, 6.310667e+03, 7.011820e+03]),\n",
       " <a list of 10 Patch objects>)"
      ]
     },
     "execution_count": 312,
     "metadata": {},
     "output_type": "execute_result"
    },
    {
     "data": {
      "image/png": "[encoded data removed]",
      "text/plain": [
       "<Figure size 432x288 with 1 Axes>"
      ]
     },
     "metadata": {
      "needs_background": "light"
     },
     "output_type": "display_data"
    }
   ],
   "source": [
    "plt.hist(meds['COST'])"
   ]
  },
  {
   "cell_type": "code",
   "execution_count": 314,
   "metadata": {},
   "outputs": [
    {
     "data": {
      "text/plain": [
       "(array([1.24479e+05, 1.24000e+02, 6.50000e+01, 3.80000e+01, 1.90000e+01,\n",
       "        5.00000e+00, 1.40000e+01, 6.00000e+00, 6.00000e+00, 3.00000e+00]),\n",
       " array([2.90000000e-01, 6.19834137e+05, 1.23966798e+06, 1.85950183e+06,\n",
       "        2.47933568e+06, 3.09916952e+06, 3.71900337e+06, 4.33883722e+06,\n",
       "        4.95867107e+06, 5.57850491e+06, 6.19833876e+06]),\n",
       " <a list of 10 Patch objects>)"
      ]
     },
     "execution_count": 314,
     "metadata": {},
     "output_type": "execute_result"
    },
    {
     "data": {
      "image/png": "[encoded data removed]",
      "text/plain": [
       "<Figure size 432x288 with 1 Axes>"
      ]
     },
     "metadata": {
      "needs_background": "light"
     },
     "output_type": "display_data"
    }
   ],
   "source": [
    "plt.hist(meds_plus_dem['TOTALCOST'])"
   ]
  },
  {
   "cell_type": "code",
   "execution_count": 334,
   "metadata": {},
   "outputs": [
    {
     "data": {
      "text/plain": [
       "Anemia (disorder)                                                        22027\n",
       "Hyperlipidemia                                                           20215\n",
       "Non-small cell carcinoma of lung  TNM stage 1 (disorder)                 10864\n",
       "Acute bronchitis (disorder)                                               7721\n",
       "Viral sinusitis (disorder)                                                3342\n",
       "Primary small cell malignant neoplasm of lung  TNM stage 1 (disorder)     2444\n",
       "Hypertension                                                              2421\n",
       "Streptococcal sore throat (disorder)                                      2034\n",
       "Chronic congestive heart failure (disorder)                               1403\n",
       "Diabetes                                                                  1365\n",
       "Escherichia coli urinary tract infection                                   925\n",
       "Cystitis                                                                   648\n",
       "Childhood asthma                                                           622\n",
       "Osteoarthritis of knee                                                     504\n",
       "Alzheimer's disease (disorder)                                             475\n",
       "Name: REASONDESCRIPTION, dtype: int64"
      ]
     },
     "execution_count": 334,
     "metadata": {},
     "output_type": "execute_result"
    }
   ],
   "source": [
    "meds['REASONDESCRIPTION'].value_counts()[:15]"
   ]
  },
  {
   "cell_type": "code",
   "execution_count": null,
   "metadata": {},
   "outputs": [],
   "source": [
    "#Cancer. Lung cancer is 20-30 / 100k people. So I'd expect 1-3 in my 8000 person sample per year. That's "
   ]
  },
  {
   "cell_type": "code",
   "execution_count": 346,
   "metadata": {},
   "outputs": [
    {
     "data": {
      "text/plain": [
       "157"
      ]
     },
     "execution_count": 346,
     "metadata": {},
     "output_type": "execute_result"
    }
   ],
   "source": [
    "has_desc = meds_plus_dem[meds_plus_dem['REASONDESCRIPTION'].notnull()==True]\n",
    "has_desc[has_desc['REASONDESCRIPTION'].str.contains(\"lung\")]['Id'].nunique()"
   ]
  },
  {
   "cell_type": "code",
   "execution_count": 351,
   "metadata": {},
   "outputs": [
    {
     "name": "stderr",
     "output_type": "stream",
     "text": [
      "/usr/local/lib/python3.7/site-packages/ipykernel_launcher.py:1: UserWarning: Boolean Series key will be reindexed to match DataFrame index.\n",
      "  \"\"\"Entry point for launching an IPython kernel.\n"
     ]
    },
    {
     "data": {
      "text/plain": [
       "105"
      ]
     },
     "execution_count": 351,
     "metadata": {},
     "output_type": "execute_result"
    }
   ],
   "source": [
    "has_desc[has_desc['REASONDESCRIPTION'].str.contains(\"lung\")][has_desc['BIRTHYEAR']<1935]['Id'].nunique()"
   ]
  },
  {
   "cell_type": "code",
   "execution_count": 352,
   "metadata": {},
   "outputs": [],
   "source": [
    "#OK. SO IF I HAD MORE TIME I'D WANT TO KNOW WHERE THE MASSANDOPOLIS COAL MINES AND COAL POWER PLANTS ARE. I\"M NOT SAYIN I\"M JUST SAYIN.\n",
    "\n"
   ]
  },
  {
   "cell_type": "markdown",
   "metadata": {},
   "source": [
    "### OBSERVATIONS"
   ]
  },
  {
   "cell_type": "code",
   "execution_count": 354,
   "metadata": {},
   "outputs": [],
   "source": [
    "obs = pd.read_csv(\"observations.csv\")"
   ]
  },
  {
   "cell_type": "code",
   "execution_count": 416,
   "metadata": {},
   "outputs": [
    {
     "data": {
      "text/plain": [
       "Index(['DATE', 'PATIENT', 'ENCOUNTER', 'CODE', 'DESCRIPTION', 'VALUE', 'UNITS',\n",
       "       'TYPE'],\n",
       "      dtype='object')"
      ]
     },
     "execution_count": 416,
     "metadata": {},
     "output_type": "execute_result"
    }
   ],
   "source": [
    "obs.columns"
   ]
  },
  {
   "cell_type": "code",
   "execution_count": 417,
   "metadata": {},
   "outputs": [
    {
     "data": {
      "text/plain": [
       "Pain severity - 0-10 verbal numeric rating [Score] - Reported               217754\n",
       "Systolic Blood Pressure                                                     165138\n",
       "Diastolic Blood Pressure                                                    165138\n",
       "Tobacco smoking status NHIS                                                 163795\n",
       "Body Height                                                                 163795\n",
       "Body Weight                                                                 163795\n",
       "Body Mass Index                                                             150086\n",
       "Sodium                                                                       97070\n",
       "Creatinine                                                                   97070\n",
       "Urea Nitrogen                                                                97070\n",
       "Glucose                                                                      97070\n",
       "Chloride                                                                     97070\n",
       "Carbon Dioxide                                                               97070\n",
       "Potassium                                                                    97070\n",
       "Calcium                                                                      97070\n",
       "Low Density Lipoprotein Cholesterol                                          81446\n",
       "Total Cholesterol                                                            81446\n",
       "High Density Lipoprotein Cholesterol                                         81446\n",
       "Triglycerides                                                                81446\n",
       "Hemoglobin A1c/Hemoglobin.total in Blood                                     73641\n",
       "Estimated Glomerular Filtration Rate                                         61518\n",
       "Microalbumin Creatinine Ratio                                                37770\n",
       "MCH [Entitic mass] by Automated count                                        33610\n",
       "Platelet mean volume [Entitic volume] in Blood by Automated count            33610\n",
       "MCV [Entitic volume] by Automated count                                      33610\n",
       "Platelet distribution width [Entitic volume] in Blood by Automated count     33610\n",
       "Erythrocyte distribution width [Entitic volume] by Automated count           32205\n",
       "Hematocrit [Volume Fraction] of Blood by Automated count                     32205\n",
       "Hemoglobin [Mass/volume] in Blood                                            29704\n",
       "Platelets [#/volume] in Blood by Automated count                             29609\n",
       "                                                                             ...  \n",
       "ALT (Elevated)                                                                  40\n",
       "Red Blood Cell                                                                  40\n",
       "Anion Gap                                                                       40\n",
       "MCV                                                                             40\n",
       "Albumin                                                                         40\n",
       "Alkaline Phosphatase                                                            40\n",
       "Protein                                                                         40\n",
       "White Blood Cell (Elevated)                                                     40\n",
       "PROMIS-10 Global Mental Health (GMH) score                                       6\n",
       "PROMIS-10 Global Physical Health (GPH) score                                     6\n",
       "Symptoms score [KOOS]                                                            4\n",
       "Sport-recreation score [KOOS]                                                    4\n",
       "Pain score [KOOS]                                                                4\n",
       "Quality of life score [KOOS]                                                     4\n",
       "Activities of daily living score [KOOS]                                          4\n",
       "VR-12 Mental health (MH) score - oblique method                                  2\n",
       "VR-12 Social functioning (SF) score - oblique method                             2\n",
       "VR-12 Role physical (RP) score - oblique method                                  2\n",
       "VR-12 Vitality (VT) score - oblique method                                       2\n",
       "VR-12 General health (GH) score - oblique method                                 2\n",
       "VR-12 Bodily pain (BP) score - oblique method                                    2\n",
       "VR-12 Role emotion (RE) score - oblique method                                   2\n",
       "VR-12 Physical functioning (PF) score - oblique method                           2\n",
       "PROMIS-29 Anxiety score                                                          1\n",
       "PROMIS-29 Sleep disturbance score                                                1\n",
       "PROMIS-29 Satisfaction with participation in social roles score                  1\n",
       "PROMIS-29 Depression score                                                       1\n",
       "PROMIS-29 Fatigue score                                                          1\n",
       "PROMIS-29 Pain interference score                                                1\n",
       "PROMIS-29 Physical function score                                                1\n",
       "Name: DESCRIPTION, Length: 159, dtype: int64"
      ]
     },
     "execution_count": 417,
     "metadata": {},
     "output_type": "execute_result"
    }
   ],
   "source": [
    "obs['DESCRIPTION'].value_counts()"
   ]
  },
  {
   "cell_type": "code",
   "execution_count": 493,
   "metadata": {},
   "outputs": [],
   "source": [
    "causes_of_death = obs[obs['DESCRIPTION'].apply(lambda x: 'Death' in x) == True]"
   ]
  },
  {
   "cell_type": "code",
   "execution_count": 494,
   "metadata": {},
   "outputs": [
    {
     "data": {
      "text/plain": [
       "2929"
      ]
     },
     "execution_count": 494,
     "metadata": {},
     "output_type": "execute_result"
    }
   ],
   "source": [
    "len(causes_of_death)"
   ]
  },
  {
   "cell_type": "code",
   "execution_count": 495,
   "metadata": {},
   "outputs": [
    {
     "data": {
      "text/plain": [
       "3360"
      ]
     },
     "execution_count": 495,
     "metadata": {},
     "output_type": "execute_result"
    }
   ],
   "source": [
    "len(dead)"
   ]
  },
  {
   "cell_type": "code",
   "execution_count": 497,
   "metadata": {},
   "outputs": [
    {
     "data": {
      "text/plain": [
       "Natural death with unknown cause                            0.485149\n",
       "Drug overdose                                               0.101400\n",
       "Sudden Cardiac Death                                        0.093547\n",
       "Myocardial Infarction                                       0.073062\n",
       "Non-small cell lung cancer (disorder)                       0.036190\n",
       "Stroke                                                      0.034483\n",
       "Pneumonia                                                   0.025265\n",
       "Neoplasm of prostate                                        0.024923\n",
       "Pulmonary emphysema (disorder)                              0.019461\n",
       "Cardiac Arrest                                              0.019461\n",
       "Alzheimer's disease (disorder)                              0.017753\n",
       "Malignant tumor of colon                                    0.010925\n",
       "Chronic obstructive bronchitis (disorder)                   0.010584\n",
       "Bullet wound                                                0.009901\n",
       "Secondary malignant neoplasm of colon                       0.008535\n",
       "Familial Alzheimer's disease of early onset (disorder)      0.006487\n",
       "Small cell carcinoma of lung (disorder)                     0.006145\n",
       "Overlapping malignant neoplasm of colon                     0.005463\n",
       "Concussion injury of brain                                  0.004780\n",
       "Burn injury(morphologic abnormality)                        0.002731\n",
       "Fracture of the vertebral column with spinal cord injury    0.001707\n",
       "Primary malignant neoplasm of colon                         0.001024\n",
       "Death due to acute respiratory failure                      0.000683\n",
       "Sepsis of Pseudomonas                                       0.000341\n",
       "Name: VALUE, dtype: float64"
      ]
     },
     "execution_count": 497,
     "metadata": {},
     "output_type": "execute_result"
    }
   ],
   "source": [
    "causes_of_death['VALUE'].value_counts()/len(causes_of_death)"
   ]
  },
  {
   "cell_type": "code",
   "execution_count": 454,
   "metadata": {},
   "outputs": [],
   "source": [
    "bmis = obs[obs['DESCRIPTION']=='Body Mass Index'].sort_values(\"DATE\").groupby(\"PATIENT\").last()\n",
    "\n",
    "#KEEPS THE MOST RECENT BMI OBSERVATION FOR EACH PATIENT"
   ]
  },
  {
   "cell_type": "code",
   "execution_count": 461,
   "metadata": {},
   "outputs": [
    {
     "data": {
      "text/plain": [
       "<matplotlib.lines.Line2D at 0x177aaa550>"
      ]
     },
     "execution_count": 461,
     "metadata": {},
     "output_type": "execute_result"
    },
    {
     "data": {
      "image/png": "[encoded data removed]",
      "text/plain": [
       "<Figure size 432x288 with 1 Axes>"
      ]
     },
     "metadata": {
      "needs_background": "light"
     },
     "output_type": "display_data"
    }
   ],
   "source": [
    "#print(bmis.head())\n",
    "\n",
    "plt.hist(bmis['VALUE'].apply(float), bins=50)\n",
    "plt.axvline(x=25, color='g')\n",
    "plt.axvline(x=20, color = 'r')\n",
    "plt.axvline(x=30, color = 'r')"
   ]
  },
  {
   "cell_type": "markdown",
   "metadata": {},
   "source": [
    "### ALLERGIES"
   ]
  },
  {
   "cell_type": "code",
   "execution_count": 359,
   "metadata": {},
   "outputs": [],
   "source": [
    "allergy = pd.read_csv(\"allergies.csv\")"
   ]
  },
  {
   "cell_type": "code",
   "execution_count": 414,
   "metadata": {},
   "outputs": [
    {
     "data": {
      "text/plain": [
       "Index(['START', 'STOP', 'PATIENT', 'ENCOUNTER', 'CODE', 'DESCRIPTION'], dtype='object')"
      ]
     },
     "execution_count": 414,
     "metadata": {},
     "output_type": "execute_result"
    }
   ],
   "source": [
    "allergy.columns"
   ]
  },
  {
   "cell_type": "code",
   "execution_count": 415,
   "metadata": {},
   "outputs": [
    {
     "data": {
      "text/plain": [
       "Allergy to mould            470\n",
       "Dander (animal) allergy     434\n",
       "House dust mite allergy     344\n",
       "Allergy to tree pollen      326\n",
       "Allergy to grass pollen     318\n",
       "Shellfish allergy           269\n",
       "Allergy to peanuts          177\n",
       "Allergy to bee venom        143\n",
       "Allergy to fish             138\n",
       "Allergy to eggs             131\n",
       "Latex allergy               131\n",
       "Allergy to nut              127\n",
       "Allergy to wheat            127\n",
       "Allergy to dairy product     79\n",
       "Allergy to soya              48\n",
       "Name: DESCRIPTION, dtype: int64"
      ]
     },
     "execution_count": 415,
     "metadata": {},
     "output_type": "execute_result"
    }
   ],
   "source": [
    "allergy['DESCRIPTION'].value_counts()"
   ]
  },
  {
   "cell_type": "code",
   "execution_count": null,
   "metadata": {},
   "outputs": [],
   "source": []
  },
  {
   "cell_type": "markdown",
   "metadata": {},
   "source": [
    "### ENCOUNTERS"
   ]
  },
  {
   "cell_type": "code",
   "execution_count": 355,
   "metadata": {},
   "outputs": [],
   "source": [
    "enc = pd.read_csv(\"encounters.csv\")"
   ]
  },
  {
   "cell_type": "code",
   "execution_count": 408,
   "metadata": {},
   "outputs": [
    {
     "data": {
      "text/plain": [
       "Index(['Id', 'START', 'STOP', 'PATIENT', 'PROVIDER', 'ENCOUNTERCLASS', 'CODE',\n",
       "       'DESCRIPTION', 'COST', 'REASONCODE', 'REASONDESCRIPTION'],\n",
       "      dtype='object')"
      ]
     },
     "execution_count": 408,
     "metadata": {},
     "output_type": "execute_result"
    }
   ],
   "source": [
    "enc.columns"
   ]
  },
  {
   "cell_type": "code",
   "execution_count": 411,
   "metadata": {},
   "outputs": [
    {
     "data": {
      "text/plain": [
       "Encounter for problem (procedure)         226850\n",
       "Encounter for check up (procedure)        173961\n",
       "Outpatient procedure (procedure)           57203\n",
       "Encounter for symptom                      46989\n",
       "Prenatal visit                             32280\n",
       "Encounter for problem                      24822\n",
       "Emergency Room Admission                   24206\n",
       "Follow-up encounter                        20262\n",
       "Outpatient procedure                       19459\n",
       "Drug rehabilitation and detoxification     17298\n",
       "Patient encounter procedure                16808\n",
       "Encounter for 'check-up'                   14492\n",
       "Consultation for treatment                 13376\n",
       "Encounter Inpatient                        12178\n",
       "Emergency room admission (procedure)       11169\n",
       "Emergency Encounter                         8176\n",
       "Prenatal initial visit                      7649\n",
       "Postnatal visit                             3749\n",
       "Obstetric emergency hospital admission      3741\n",
       "Death Certification                         2929\n",
       "Name: DESCRIPTION, dtype: int64"
      ]
     },
     "execution_count": 411,
     "metadata": {},
     "output_type": "execute_result"
    }
   ],
   "source": [
    "enc['DESCRIPTION'].value_counts()[:20]"
   ]
  },
  {
   "cell_type": "code",
   "execution_count": 413,
   "metadata": {},
   "outputs": [
    {
     "data": {
      "text/plain": [
       "Normal pregnancy                                                         43647\n",
       "Drug overdose                                                            22396\n",
       "Hyperlipidemia                                                           20215\n",
       "Viral sinusitis (disorder)                                               17064\n",
       "Acute viral pharyngitis (disorder)                                        9394\n",
       "Acute bronchitis (disorder)                                               8283\n",
       "Child attention deficit disorder                                          7927\n",
       "Chronic pain                                                              3944\n",
       "Chronic intractable migraine without aura                                 3901\n",
       "Impacted molars                                                           3888\n",
       "Sinusitis (disorder)                                                      2797\n",
       "Chronic congestive heart failure (disorder)                               2684\n",
       "Acute bacterial sinusitis (disorder)                                      2466\n",
       "Asthma                                                                    2303\n",
       "Otitis media                                                              2246\n",
       "Streptococcal sore throat (disorder)                                      2208\n",
       "Anemia (disorder)                                                         2143\n",
       "Childhood asthma                                                          1257\n",
       "Primary small cell malignant neoplasm of lung  TNM stage 1 (disorder)     1246\n",
       "Seizure disorder                                                          1161\n",
       "Concussion with no loss of consciousness                                   929\n",
       "Appendicitis                                                               890\n",
       "Malignant tumor of colon                                                   787\n",
       "Neoplasm of prostate                                                       625\n",
       "Alzheimer's disease (disorder)                                             609\n",
       "Fetus with unknown complication                                            601\n",
       "Fracture of forearm                                                        597\n",
       "Escherichia coli urinary tract infection                                   533\n",
       "Osteoarthritis of knee                                                     514\n",
       "Fracture of clavicle                                                       489\n",
       "                                                                         ...  \n",
       "Major depression  single episode                                           103\n",
       "Major depression disorder                                                   98\n",
       "Rupture of patellar tendon                                                  98\n",
       "Seasonal allergic rhinitis                                                  86\n",
       "Primary malignant neoplasm of colon                                         78\n",
       "Pneumonia                                                                   75\n",
       "Fetus with chromosomal abnormality                                          75\n",
       "Contact dermatitis                                                          69\n",
       "Bleeding from anus                                                          56\n",
       "Acute Cholecystitis                                                         47\n",
       "Concussion injury of brain                                                  46\n",
       "Fracture of vertebral column without spinal cord injury                     38\n",
       "Laparoscopic Removal of Gall Bladder                                        37\n",
       "Rheumatoid arthritis                                                        36\n",
       "Congenital uterine anomaly                                                  34\n",
       "Pulmonary emphysema (disorder)                                              31\n",
       "Third degree burn                                                           25\n",
       "Small cell carcinoma of lung (disorder)                                     24\n",
       "Bullet wound                                                                24\n",
       "Chronic obstructive bronchitis (disorder)                                   23\n",
       "Complication occuring during pregnancy                                      22\n",
       "Fracture of the vertebral column with spinal cord injury                     9\n",
       "Neuropathy due to type 2 diabetes mellitus (disorder)                        8\n",
       "Lupus erythematosus                                                          8\n",
       "Pyelonephritis                                                               7\n",
       "Attempted suicide - suffocation                                              4\n",
       "Open Removal of Gall Bladder                                                 3\n",
       "Acute respiratory failure (disorder)                                         2\n",
       "Sepsis caused by Pseudomonas (disorder)                                      2\n",
       "Suicidal deliberate poisoning                                                1\n",
       "Name: REASONDESCRIPTION, Length: 89, dtype: int64"
      ]
     },
     "execution_count": 413,
     "metadata": {},
     "output_type": "execute_result"
    }
   ],
   "source": [
    "enc['REASONDESCRIPTION'].value_counts()"
   ]
  },
  {
   "cell_type": "code",
   "execution_count": null,
   "metadata": {},
   "outputs": [],
   "source": []
  },
  {
   "cell_type": "markdown",
   "metadata": {},
   "source": [
    "### CONDITIONS"
   ]
  },
  {
   "cell_type": "code",
   "execution_count": 358,
   "metadata": {},
   "outputs": [],
   "source": [
    "cond = pd.read_csv(\"conditions.csv\")"
   ]
  },
  {
   "cell_type": "code",
   "execution_count": 406,
   "metadata": {},
   "outputs": [
    {
     "data": {
      "text/plain": [
       "Index(['START', 'STOP', 'PATIENT', 'ENCOUNTER', 'CODE', 'DESCRIPTION'], dtype='object')"
      ]
     },
     "execution_count": 406,
     "metadata": {},
     "output_type": "execute_result"
    }
   ],
   "source": [
    "cond.columns"
   ]
  },
  {
   "cell_type": "code",
   "execution_count": 476,
   "metadata": {},
   "outputs": [],
   "source": [
    "cond = pd.merge(cond, pats, left_on=\"PATIENT\", right_on=\"Id\")"
   ]
  },
  {
   "cell_type": "code",
   "execution_count": 477,
   "metadata": {},
   "outputs": [
    {
     "data": {
      "text/plain": [
       "Viral sinusitis (disorder)                                               16893\n",
       "Acute viral pharyngitis (disorder)                                        9389\n",
       "Acute bronchitis (disorder)                                               7686\n",
       "Normal pregnancy                                                          6079\n",
       "Drug overdose                                                             4710\n",
       "Body mass index 30+ - obesity (finding)                                   4143\n",
       "Anemia (disorder)                                                         2979\n",
       "Chronic pain                                                              2891\n",
       "Prediabetes                                                               2871\n",
       "Chronic intractable migraine without aura                                 2857\n",
       "Impacted molars                                                           2838\n",
       "Hypertension                                                              2247\n",
       "Otitis media                                                              2242\n",
       "Streptococcal sore throat (disorder)                                      2208\n",
       "Chronic sinusitis (disorder)                                              1961\n",
       "Sprain of ankle                                                           1632\n",
       "Miscarriage in first trimester                                            1583\n",
       "Hyperlipidemia                                                            1222\n",
       "Polyp of colon                                                            1218\n",
       "Body mass index 40+ - severely obese (finding)                            1100\n",
       "Acute bacterial sinusitis (disorder)                                       933\n",
       "Concussion with no loss of consciousness                                   930\n",
       "Sinusitis (disorder)                                                       901\n",
       "Seizure disorder                                                           845\n",
       "History of single seizure (situation)                                      845\n",
       "Whiplash injury to neck                                                    760\n",
       "Sprain of wrist                                                            735\n",
       "Diabetes                                                                   706\n",
       "Child attention deficit disorder                                           689\n",
       "Hypertriglyceridemia (disorder)                                            687\n",
       "                                                                         ...  \n",
       "Secondary malignant neoplasm of colon                                       30\n",
       "Third degree burn                                                           26\n",
       "Primary small cell malignant neoplasm of lung  TNM stage 1 (disorder)       24\n",
       "Small cell carcinoma of lung (disorder)                                     24\n",
       "Posttraumatic stress disorder                                               22\n",
       "Proteinuria due to type 2 diabetes mellitus (disorder)                      19\n",
       "Chronic kidney disease stage 3 (disorder)                                   18\n",
       "Fracture of vertebral column without spinal cord injury                     17\n",
       "Asthma                                                                      11\n",
       "Fracture of the vertebral column with spinal cord injury                     9\n",
       "Major depression  single episode                                             8\n",
       "Burn injury(morphologic abnormality)                                         8\n",
       "Chronic paralysis due to lesion of spinal cord                               7\n",
       "Pyelonephritis                                                               7\n",
       "History of lower limb amputation (situation)                                 5\n",
       "Cystic Fibrosis                                                              4\n",
       "Blindness due to type 2 diabetes mellitus (disorder)                         3\n",
       "History of amputation of foot (situation)                                    3\n",
       "Infection caused by Pseudomonas aeruginosa                                   2\n",
       "Male Infertility                                                             2\n",
       "Traumatic brain injury (disorder)                                            2\n",
       "Attempted suicide - suffocation                                              2\n",
       "Female Infertility                                                           2\n",
       "Acute respiratory failure (disorder)                                         2\n",
       "Lupus erythematosus                                                          2\n",
       "Sepsis caused by Pseudomonas (disorder)                                      1\n",
       "Meconium Ileus                                                               1\n",
       "Chronic kidney disease stage 4 (disorder)                                    1\n",
       "Infection caused by Staphylococcus aureus                                    1\n",
       "Diabetes from Cystic Fibrosis                                                1\n",
       "Name: DESCRIPTION, Length: 152, dtype: int64"
      ]
     },
     "execution_count": 477,
     "metadata": {},
     "output_type": "execute_result"
    }
   ],
   "source": [
    "cond['DESCRIPTION'].value_counts()"
   ]
  },
  {
   "cell_type": "code",
   "execution_count": 478,
   "metadata": {},
   "outputs": [
    {
     "data": {
      "text/plain": [
       "4710"
      ]
     },
     "execution_count": 478,
     "metadata": {},
     "output_type": "execute_result"
    }
   ],
   "source": [
    "cond[cond['DESCRIPTION'].str.contains(\"overdose\")]['PATIENT'].nunique()\n",
    "\n",
    "#THAT CAN'T BE RIGHT..."
   ]
  },
  {
   "cell_type": "code",
   "execution_count": 479,
   "metadata": {},
   "outputs": [
    {
     "data": {
      "text/plain": [
       "8226"
      ]
     },
     "execution_count": 479,
     "metadata": {},
     "output_type": "execute_result"
    }
   ],
   "source": [
    "cond['PATIENT'].nunique() < pats['Id'].nunique()\n",
    "len(set(pats['Id'].values).intersection(set(cond['PATIENT'].values)))\n",
    "#That's fine. Some patients don't have any conditions."
   ]
  },
  {
   "cell_type": "code",
   "execution_count": 484,
   "metadata": {},
   "outputs": [
    {
     "name": "stderr",
     "output_type": "stream",
     "text": [
      "/usr/local/lib/python3.7/site-packages/ipykernel_launcher.py:1: UserWarning: Boolean Series key will be reindexed to match DataFrame index.\n",
      "  \"\"\"Entry point for launching an IPython kernel.\n"
     ]
    },
    {
     "data": {
      "text/plain": [
       "1609"
      ]
     },
     "execution_count": 484,
     "metadata": {},
     "output_type": "execute_result"
    }
   ],
   "source": [
    "len(cond[cond['DESCRIPTION'].str.contains(\"overdose\")][cond['DEATHDATE'].isnull()==False])"
   ]
  },
  {
   "cell_type": "code",
   "execution_count": 485,
   "metadata": {},
   "outputs": [],
   "source": [
    "#THAT SEEMS LIKE A LOT OF OVERDOSES TO ME?"
   ]
  },
  {
   "cell_type": "code",
   "execution_count": null,
   "metadata": {},
   "outputs": [],
   "source": []
  },
  {
   "cell_type": "markdown",
   "metadata": {},
   "source": [
    "### PROVIDERS"
   ]
  },
  {
   "cell_type": "code",
   "execution_count": 467,
   "metadata": {},
   "outputs": [],
   "source": [
    "prov = pd.read_csv(\"providers.csv\")"
   ]
  },
  {
   "cell_type": "code",
   "execution_count": 404,
   "metadata": {},
   "outputs": [
    {
     "data": {
      "text/plain": [
       "Index(['Id', 'ORGANIZATION', 'NAME', 'GENDER', 'SPECIALITY', 'ADDRESS', 'CITY',\n",
       "       'STATE', 'ZIP', 'UTILIZATION'],\n",
       "      dtype='object')"
      ]
     },
     "execution_count": 404,
     "metadata": {},
     "output_type": "execute_result"
    }
   ],
   "source": [
    "prov.columns"
   ]
  },
  {
   "cell_type": "code",
   "execution_count": 405,
   "metadata": {},
   "outputs": [
    {
     "data": {
      "text/html": [
       "<div>\n",
       "<style scoped>\n",
       "    .dataframe tbody tr th:only-of-type {\n",
       "        vertical-align: middle;\n",
       "    }\n",
       "\n",
       "    .dataframe tbody tr th {\n",
       "        vertical-align: top;\n",
       "    }\n",
       "\n",
       "    .dataframe thead th {\n",
       "        text-align: right;\n",
       "    }\n",
       "</style>\n",
       "<table border=\"1\" class=\"dataframe\">\n",
       "  <thead>\n",
       "    <tr style=\"text-align: right;\">\n",
       "      <th></th>\n",
       "      <th>Id</th>\n",
       "      <th>ORGANIZATION</th>\n",
       "      <th>NAME</th>\n",
       "      <th>GENDER</th>\n",
       "      <th>SPECIALITY</th>\n",
       "      <th>ADDRESS</th>\n",
       "      <th>CITY</th>\n",
       "      <th>STATE</th>\n",
       "      <th>ZIP</th>\n",
       "      <th>UTILIZATION</th>\n",
       "    </tr>\n",
       "  </thead>\n",
       "  <tbody>\n",
       "    <tr>\n",
       "      <th>0</th>\n",
       "      <td>af944a62-54d2-4af0-b441-255e7f399cd2</td>\n",
       "      <td>ef58ea08-d883-3957-8300-150554edc8fb</td>\n",
       "      <td>Noe500 Dibbert990</td>\n",
       "      <td>M</td>\n",
       "      <td>GENERAL PRACTICE</td>\n",
       "      <td>60 HOSPITAL ROAD</td>\n",
       "      <td>LEOMINSTER</td>\n",
       "      <td>MA</td>\n",
       "      <td>1453</td>\n",
       "      <td>33568</td>\n",
       "    </tr>\n",
       "    <tr>\n",
       "      <th>1</th>\n",
       "      <td>66105bcb-96ef-4289-b1fb-996c631e5ea2</td>\n",
       "      <td>69176529-fd1f-3b3f-abce-a0a3626769eb</td>\n",
       "      <td>Mariam937 Gleason633</td>\n",
       "      <td>F</td>\n",
       "      <td>GENERAL PRACTICE</td>\n",
       "      <td>330 MOUNT AUBURN STREET</td>\n",
       "      <td>CAMBRIDGE</td>\n",
       "      <td>MA</td>\n",
       "      <td>2138</td>\n",
       "      <td>57842</td>\n",
       "    </tr>\n",
       "    <tr>\n",
       "      <th>2</th>\n",
       "      <td>e164c630-bacb-47e3-81d3-6821b8f5d112</td>\n",
       "      <td>5e765f2b-e908-3888-9fc7-df2cb87beb58</td>\n",
       "      <td>Dagny669 Schoen8</td>\n",
       "      <td>F</td>\n",
       "      <td>GENERAL PRACTICE</td>\n",
       "      <td>211 PARK STREET</td>\n",
       "      <td>ATTLEBORO</td>\n",
       "      <td>MA</td>\n",
       "      <td>2703</td>\n",
       "      <td>72109</td>\n",
       "    </tr>\n",
       "    <tr>\n",
       "      <th>3</th>\n",
       "      <td>9cdc032d-fcad-4aef-a5ef-b42626e9c34e</td>\n",
       "      <td>f1fbcbfb-fcfa-3bd2-b7f4-df20f1b3c3a4</td>\n",
       "      <td>Tyron580 Torphy630</td>\n",
       "      <td>M</td>\n",
       "      <td>GENERAL PRACTICE</td>\n",
       "      <td>ONE GENERAL STREET</td>\n",
       "      <td>LAWRENCE</td>\n",
       "      <td>MA</td>\n",
       "      <td>1842</td>\n",
       "      <td>66339</td>\n",
       "    </tr>\n",
       "    <tr>\n",
       "      <th>4</th>\n",
       "      <td>3880a375-efa5-456b-bcdf-b5aee0280512</td>\n",
       "      <td>e002090d-4e92-300e-b41e-7d1f21dee4c6</td>\n",
       "      <td>Loren192 Fay398</td>\n",
       "      <td>M</td>\n",
       "      <td>GENERAL PRACTICE</td>\n",
       "      <td>1493 CAMBRIDGE STREET</td>\n",
       "      <td>CAMBRIDGE</td>\n",
       "      <td>MA</td>\n",
       "      <td>2138</td>\n",
       "      <td>57789</td>\n",
       "    </tr>\n",
       "  </tbody>\n",
       "</table>\n",
       "</div>"
      ],
      "text/plain": [
       "                                     Id                          ORGANIZATION  \\\n",
       "0  af944a62-54d2-4af0-b441-255e7f399cd2  ef58ea08-d883-3957-8300-150554edc8fb   \n",
       "1  66105bcb-96ef-4289-b1fb-996c631e5ea2  69176529-fd1f-3b3f-abce-a0a3626769eb   \n",
       "2  e164c630-bacb-47e3-81d3-6821b8f5d112  5e765f2b-e908-3888-9fc7-df2cb87beb58   \n",
       "3  9cdc032d-fcad-4aef-a5ef-b42626e9c34e  f1fbcbfb-fcfa-3bd2-b7f4-df20f1b3c3a4   \n",
       "4  3880a375-efa5-456b-bcdf-b5aee0280512  e002090d-4e92-300e-b41e-7d1f21dee4c6   \n",
       "\n",
       "                   NAME GENDER        SPECIALITY                  ADDRESS  \\\n",
       "0     Noe500 Dibbert990      M  GENERAL PRACTICE         60 HOSPITAL ROAD   \n",
       "1  Mariam937 Gleason633      F  GENERAL PRACTICE  330 MOUNT AUBURN STREET   \n",
       "2      Dagny669 Schoen8      F  GENERAL PRACTICE          211 PARK STREET   \n",
       "3    Tyron580 Torphy630      M  GENERAL PRACTICE       ONE GENERAL STREET   \n",
       "4       Loren192 Fay398      M  GENERAL PRACTICE    1493 CAMBRIDGE STREET   \n",
       "\n",
       "         CITY STATE   ZIP  UTILIZATION  \n",
       "0  LEOMINSTER    MA  1453        33568  \n",
       "1   CAMBRIDGE    MA  2138        57842  \n",
       "2   ATTLEBORO    MA  2703        72109  \n",
       "3    LAWRENCE    MA  1842        66339  \n",
       "4   CAMBRIDGE    MA  2138        57789  "
      ]
     },
     "execution_count": 405,
     "metadata": {},
     "output_type": "execute_result"
    }
   ],
   "source": [
    "prov.head()"
   ]
  },
  {
   "cell_type": "markdown",
   "metadata": {},
   "source": [
    "### PROCEDURES"
   ]
  },
  {
   "cell_type": "code",
   "execution_count": 360,
   "metadata": {},
   "outputs": [],
   "source": [
    "proc = pd.read_csv(\"procedures.csv\")"
   ]
  },
  {
   "cell_type": "code",
   "execution_count": 402,
   "metadata": {},
   "outputs": [
    {
     "data": {
      "text/plain": [
       "Index(['DATE', 'PATIENT', 'ENCOUNTER', 'CODE', 'DESCRIPTION', 'COST',\n",
       "       'REASONCODE', 'REASONDESCRIPTION'],\n",
       "      dtype='object')"
      ]
     },
     "execution_count": 402,
     "metadata": {},
     "output_type": "execute_result"
    }
   ],
   "source": [
    "proc.columns"
   ]
  },
  {
   "cell_type": "code",
   "execution_count": 418,
   "metadata": {},
   "outputs": [
    {
     "data": {
      "text/plain": [
       "Documentation of current medications                               73957\n",
       "Auscultation of the fetal heart                                    33693\n",
       "Evaluation of uterine fundal height                                33693\n",
       "Renal dialysis (procedure)                                         23892\n",
       "Subcutaneous immunotherapy                                         19430\n",
       "Intramuscular injection                                            13385\n",
       "Electrical cardioversion                                           10214\n",
       "Colonoscopy                                                         9444\n",
       "Hemoglobin / Hematocrit / Platelet count                            7565\n",
       "Combined chemotherapy and radiation therapy (procedure)             7536\n",
       "Cognitive and behavioral therapy                                    7238\n",
       "Depression screening                                                5938\n",
       "Standard pregnancy test                                             5914\n",
       "Ultrasound scan for fetal viability                                 5914\n",
       "Spirometry (procedure)                                              4212\n",
       "Throat culture (procedure)                                          4148\n",
       "Screening for chromosomal aneuploidy in prenatal amniotic fluid     3854\n",
       "Hepatitis B Surface Antigen Measurement                             3847\n",
       "Syphilis infection test                                             3847\n",
       "Urine protein test                                                  3847\n",
       "Skin test for tuberculosis                                          3847\n",
       "Gonorrhea infection test                                            3847\n",
       "Hepatitis C antibody test                                           3847\n",
       "Urine screening test for diabetes                                   3847\n",
       "Blood typing  RH typing                                             3847\n",
       "Chlamydia antigen test                                              3847\n",
       "Physical examination of mother                                      3847\n",
       "Cytopathology procedure  preparation of smear  genital source       3847\n",
       "Urine culture                                                       3847\n",
       "Measurement of Varicella-zoster virus antibody                      3847\n",
       "                                                                   ...  \n",
       "Admission to burn unit                                                26\n",
       "Transplant of lung (procedure)                                        22\n",
       "Mental health screening (procedure)                                   20\n",
       "Oral Glucose Tolerance Test                                           20\n",
       "Surgical manipulation of shoulder joint                               17\n",
       "Admission to trauma surgery department                                16\n",
       "Spontaneous breech delivery                                            9\n",
       "Construction of diverting colostomy                                    7\n",
       "positive screening for PHQ-9                                           7\n",
       "negative screening for depression on phq9                              7\n",
       "Admission to neurosurgical department                                  4\n",
       "positive screening for depression on phq9                              4\n",
       "Open Removal of Gall Bladder                                           3\n",
       "Total replacement of hip                                               3\n",
       "Total knee replacement                                                 3\n",
       "20 Gene mutation test                                                  3\n",
       "Sweat Test                                                             3\n",
       "Intravenous infusion (procedure)                                       2\n",
       "Neonatal Screening                                                     2\n",
       "Lung Transplant                                                        2\n",
       "Intravenous antibiotic therapy                                         2\n",
       "Evaluation of psychiatric state of patient                             2\n",
       "Incision of trachea (procedure)                                        2\n",
       "Hospital admission  short-term  24 hours                               2\n",
       "Amputation of right leg                                                2\n",
       "Psychiatric follow-up                                                  2\n",
       "Oxygen Therapy                                                         2\n",
       "negative screening for PHQ9                                            1\n",
       "Amputation of left leg                                                 1\n",
       "Enema                                                                  1\n",
       "Name: DESCRIPTION, Length: 157, dtype: int64"
      ]
     },
     "execution_count": 418,
     "metadata": {},
     "output_type": "execute_result"
    }
   ],
   "source": [
    "proc['DESCRIPTION'].value_counts()"
   ]
  },
  {
   "cell_type": "code",
   "execution_count": 403,
   "metadata": {},
   "outputs": [
    {
     "data": {
      "text/plain": [
       "Normal pregnancy                                                         182604\n",
       "Atrial Fibrillation                                                       12596\n",
       "Child attention deficit disorder                                           7238\n",
       "Acute bronchitis (disorder)                                                5760\n",
       "Non-small cell carcinoma of lung  TNM stage 1 (disorder)                   5565\n",
       "Pulmonary emphysema (disorder)                                             3273\n",
       "Acute viral pharyngitis (disorder)                                         2983\n",
       "Chronic obstructive bronchitis (disorder)                                  2821\n",
       "Polyp of colon                                                             2292\n",
       "Primary small cell malignant neoplasm of lung  TNM stage 1 (disorder)      1246\n",
       "Streptococcal sore throat (disorder)                                       1165\n",
       "Fracture of forearm                                                         829\n",
       "Fracture of clavicle                                                        708\n",
       "Fracture subluxation of wrist                                               695\n",
       "Fracture of ankle                                                           685\n",
       "Malignant tumor of colon                                                    623\n",
       "Laceration of forearm                                                       616\n",
       "Laceration of thigh                                                         566\n",
       "Laceration of hand                                                          562\n",
       "Laceration of foot                                                          557\n",
       "Facial laceration                                                           535\n",
       "Stroke                                                                      532\n",
       "Myocardial Infarction                                                       498\n",
       "Suspected lung cancer (situation)                                           471\n",
       "Cardiac Arrest                                                              352\n",
       "Fracture of rib                                                             334\n",
       "Neoplasm of prostate                                                        287\n",
       "Overlapping malignant neoplasm of colon                                     267\n",
       "Recurrent rectal polyp                                                      238\n",
       "Closed fracture of hip                                                      235\n",
       "Secondary malignant neoplasm of colon                                       184\n",
       "Appendicitis                                                                139\n",
       "Injury of medial collateral ligament of knee                                104\n",
       "Childhood asthma                                                            100\n",
       "Injury of anterior cruciate ligament                                         86\n",
       "Posttraumatic stress disorder                                                77\n",
       "Rupture of patellar tendon                                                   68\n",
       "Third degree burn                                                            52\n",
       "Injury of tendon of the rotator cuff of shoulder                             17\n",
       "Bullet wound                                                                 16\n",
       "Primary malignant neoplasm of colon                                          11\n",
       "Tubal pregnancy                                                               9\n",
       "Major depression  single episode                                              8\n",
       "Attempted suicide - suffocation                                               6\n",
       "Fracture of the vertebral column with spinal cord injury                      4\n",
       "Asthma                                                                        4\n",
       "Neuropathy due to type 2 diabetes mellitus (disorder)                         3\n",
       "Cystic Fibrosis                                                               2\n",
       "Name: REASONDESCRIPTION, dtype: int64"
      ]
     },
     "execution_count": 403,
     "metadata": {},
     "output_type": "execute_result"
    }
   ],
   "source": [
    "proc['REASONDESCRIPTION'].value_counts()"
   ]
  },
  {
   "cell_type": "code",
   "execution_count": null,
   "metadata": {},
   "outputs": [],
   "source": []
  },
  {
   "cell_type": "markdown",
   "metadata": {},
   "source": [
    "### PLANS AND ORGS"
   ]
  },
  {
   "cell_type": "code",
   "execution_count": 363,
   "metadata": {},
   "outputs": [],
   "source": [
    "plans = pd.read_csv(\"careplans.csv\")\n",
    "orgs = pd.read_csv(\"organizations.csv\")"
   ]
  },
  {
   "cell_type": "code",
   "execution_count": 400,
   "metadata": {},
   "outputs": [
    {
     "data": {
      "text/plain": [
       "Index(['Id', 'NAME', 'ADDRESS', 'CITY', 'STATE', 'ZIP', 'PHONE',\n",
       "       'UTILIZATION'],\n",
       "      dtype='object')"
      ]
     },
     "execution_count": 400,
     "metadata": {},
     "output_type": "execute_result"
    }
   ],
   "source": [
    "orgs.columns"
   ]
  },
  {
   "cell_type": "code",
   "execution_count": 401,
   "metadata": {},
   "outputs": [
    {
     "data": {
      "text/html": [
       "<div>\n",
       "<style scoped>\n",
       "    .dataframe tbody tr th:only-of-type {\n",
       "        vertical-align: middle;\n",
       "    }\n",
       "\n",
       "    .dataframe tbody tr th {\n",
       "        vertical-align: top;\n",
       "    }\n",
       "\n",
       "    .dataframe thead th {\n",
       "        text-align: right;\n",
       "    }\n",
       "</style>\n",
       "<table border=\"1\" class=\"dataframe\">\n",
       "  <thead>\n",
       "    <tr style=\"text-align: right;\">\n",
       "      <th></th>\n",
       "      <th>Id</th>\n",
       "      <th>NAME</th>\n",
       "      <th>ADDRESS</th>\n",
       "      <th>CITY</th>\n",
       "      <th>STATE</th>\n",
       "      <th>ZIP</th>\n",
       "      <th>PHONE</th>\n",
       "      <th>UTILIZATION</th>\n",
       "    </tr>\n",
       "  </thead>\n",
       "  <tbody>\n",
       "    <tr>\n",
       "      <th>0</th>\n",
       "      <td>ef58ea08-d883-3957-8300-150554edc8fb</td>\n",
       "      <td>HEALTHALLIANCE HOSPITALS  INC</td>\n",
       "      <td>60 HOSPITAL ROAD</td>\n",
       "      <td>LEOMINSTER</td>\n",
       "      <td>MA</td>\n",
       "      <td>1453</td>\n",
       "      <td>9784662000</td>\n",
       "      <td>33568</td>\n",
       "    </tr>\n",
       "    <tr>\n",
       "      <th>1</th>\n",
       "      <td>69176529-fd1f-3b3f-abce-a0a3626769eb</td>\n",
       "      <td>MOUNT AUBURN HOSPITAL</td>\n",
       "      <td>330 MOUNT AUBURN STREET</td>\n",
       "      <td>CAMBRIDGE</td>\n",
       "      <td>MA</td>\n",
       "      <td>2138</td>\n",
       "      <td>6174923500</td>\n",
       "      <td>57842</td>\n",
       "    </tr>\n",
       "    <tr>\n",
       "      <th>2</th>\n",
       "      <td>5e765f2b-e908-3888-9fc7-df2cb87beb58</td>\n",
       "      <td>STURDY MEMORIAL HOSPITAL</td>\n",
       "      <td>211 PARK STREET</td>\n",
       "      <td>ATTLEBORO</td>\n",
       "      <td>MA</td>\n",
       "      <td>2703</td>\n",
       "      <td>5082225200</td>\n",
       "      <td>72109</td>\n",
       "    </tr>\n",
       "    <tr>\n",
       "      <th>3</th>\n",
       "      <td>f1fbcbfb-fcfa-3bd2-b7f4-df20f1b3c3a4</td>\n",
       "      <td>LAWRENCE GENERAL HOSPITAL</td>\n",
       "      <td>ONE GENERAL STREET</td>\n",
       "      <td>LAWRENCE</td>\n",
       "      <td>MA</td>\n",
       "      <td>1842</td>\n",
       "      <td>9786834000</td>\n",
       "      <td>66339</td>\n",
       "    </tr>\n",
       "    <tr>\n",
       "      <th>4</th>\n",
       "      <td>e002090d-4e92-300e-b41e-7d1f21dee4c6</td>\n",
       "      <td>CAMBRIDGE HEALTH ALLIANCE</td>\n",
       "      <td>1493 CAMBRIDGE STREET</td>\n",
       "      <td>CAMBRIDGE</td>\n",
       "      <td>MA</td>\n",
       "      <td>2138</td>\n",
       "      <td>6176652300</td>\n",
       "      <td>57789</td>\n",
       "    </tr>\n",
       "  </tbody>\n",
       "</table>\n",
       "</div>"
      ],
      "text/plain": [
       "                                     Id                           NAME  \\\n",
       "0  ef58ea08-d883-3957-8300-150554edc8fb  HEALTHALLIANCE HOSPITALS  INC   \n",
       "1  69176529-fd1f-3b3f-abce-a0a3626769eb          MOUNT AUBURN HOSPITAL   \n",
       "2  5e765f2b-e908-3888-9fc7-df2cb87beb58       STURDY MEMORIAL HOSPITAL   \n",
       "3  f1fbcbfb-fcfa-3bd2-b7f4-df20f1b3c3a4      LAWRENCE GENERAL HOSPITAL   \n",
       "4  e002090d-4e92-300e-b41e-7d1f21dee4c6      CAMBRIDGE HEALTH ALLIANCE   \n",
       "\n",
       "                   ADDRESS        CITY STATE   ZIP       PHONE  UTILIZATION  \n",
       "0         60 HOSPITAL ROAD  LEOMINSTER    MA  1453  9784662000        33568  \n",
       "1  330 MOUNT AUBURN STREET   CAMBRIDGE    MA  2138  6174923500        57842  \n",
       "2          211 PARK STREET   ATTLEBORO    MA  2703  5082225200        72109  \n",
       "3       ONE GENERAL STREET    LAWRENCE    MA  1842  9786834000        66339  \n",
       "4    1493 CAMBRIDGE STREET   CAMBRIDGE    MA  2138  6176652300        57789  "
      ]
     },
     "execution_count": 401,
     "metadata": {},
     "output_type": "execute_result"
    }
   ],
   "source": [
    "orgs.head()"
   ]
  },
  {
   "cell_type": "code",
   "execution_count": 398,
   "metadata": {},
   "outputs": [
    {
     "data": {
      "text/plain": [
       "Index(['Id', 'START', 'STOP', 'PATIENT', 'ENCOUNTER', 'CODE', 'DESCRIPTION',\n",
       "       'REASONCODE', 'REASONDESCRIPTION'],\n",
       "      dtype='object')"
      ]
     },
     "execution_count": 398,
     "metadata": {},
     "output_type": "execute_result"
    }
   ],
   "source": [
    "plans.columns"
   ]
  },
  {
   "cell_type": "code",
   "execution_count": 399,
   "metadata": {},
   "outputs": [
    {
     "data": {
      "text/plain": [
       "Respiratory therapy                                               8245\n",
       "Care plan (record artifact)                                       4429\n",
       "Routine antenatal care                                            4239\n",
       "Diabetes self management plan                                     3178\n",
       "Physical therapy procedure                                        2936\n",
       "Fracture care                                                     2500\n",
       "Wound care                                                        2410\n",
       "Musculoskeletal care                                              1896\n",
       "Head injury rehabilitation                                        1238\n",
       "Hyperlipidemia clinical management plan                           1219\n",
       "Self care                                                         1201\n",
       "Urinary tract infection care                                       737\n",
       "Overactivity/inattention behavior management                       689\n",
       "Burn care                                                          617\n",
       "Cancer care plan                                                   612\n",
       "Inpatient care plan (record artifact)                              509\n",
       "Heart failure self management plan                                 483\n",
       "Demential management                                               396\n",
       "Allergic disorder monitoring                                       380\n",
       "Surgery care management                                            364\n",
       "Asthma self management                                             322\n",
       "Chronic obstructive pulmonary disease clinical management plan     298\n",
       "Care Plan                                                          283\n",
       "Major surgery care management                                      210\n",
       "Skin condition care                                                202\n",
       "Terminal care                                                      157\n",
       "Psychiatry care plan                                               119\n",
       "Mental health care plan                                             53\n",
       "Postoperative care                                                  40\n",
       "Major depressive disorder clinical management plan                  24\n",
       "Spinal cord injury rehabilitation                                   21\n",
       "Dialysis care plan (record artifact)                                19\n",
       "Mental health care plan (record artifact)                           16\n",
       "Agreeing on diabetes care plan                                       3\n",
       "Anti-suicide psychotherapy                                           3\n",
       "Name: DESCRIPTION, dtype: int64"
      ]
     },
     "execution_count": 399,
     "metadata": {},
     "output_type": "execute_result"
    }
   ],
   "source": [
    "plans['DESCRIPTION'].value_counts()"
   ]
  },
  {
   "cell_type": "markdown",
   "metadata": {},
   "source": [
    "### IMMUNIZATIONS"
   ]
  },
  {
   "cell_type": "code",
   "execution_count": 394,
   "metadata": {},
   "outputs": [],
   "source": [
    "imm = pd.read_csv(\"immunizations.csv\")"
   ]
  },
  {
   "cell_type": "code",
   "execution_count": 395,
   "metadata": {},
   "outputs": [
    {
     "data": {
      "text/html": [
       "<div>\n",
       "<style scoped>\n",
       "    .dataframe tbody tr th:only-of-type {\n",
       "        vertical-align: middle;\n",
       "    }\n",
       "\n",
       "    .dataframe tbody tr th {\n",
       "        vertical-align: top;\n",
       "    }\n",
       "\n",
       "    .dataframe thead th {\n",
       "        text-align: right;\n",
       "    }\n",
       "</style>\n",
       "<table border=\"1\" class=\"dataframe\">\n",
       "  <thead>\n",
       "    <tr style=\"text-align: right;\">\n",
       "      <th></th>\n",
       "      <th>DATE</th>\n",
       "      <th>PATIENT</th>\n",
       "      <th>ENCOUNTER</th>\n",
       "      <th>CODE</th>\n",
       "      <th>DESCRIPTION</th>\n",
       "      <th>COST</th>\n",
       "    </tr>\n",
       "  </thead>\n",
       "  <tbody>\n",
       "    <tr>\n",
       "      <th>0</th>\n",
       "      <td>2013-02-10</td>\n",
       "      <td>c0d528b6-cdae-4d98-8936-a270f8827eb7</td>\n",
       "      <td>1ef67c37-7306-4be4-9668-a93f34972544</td>\n",
       "      <td>8</td>\n",
       "      <td>Hep B  adolescent or pediatric</td>\n",
       "      <td>140.52</td>\n",
       "    </tr>\n",
       "    <tr>\n",
       "      <th>1</th>\n",
       "      <td>2013-03-17</td>\n",
       "      <td>c0d528b6-cdae-4d98-8936-a270f8827eb7</td>\n",
       "      <td>158ced22-0023-4934-b046-451696f2d516</td>\n",
       "      <td>8</td>\n",
       "      <td>Hep B  adolescent or pediatric</td>\n",
       "      <td>140.52</td>\n",
       "    </tr>\n",
       "    <tr>\n",
       "      <th>2</th>\n",
       "      <td>2013-05-19</td>\n",
       "      <td>c0d528b6-cdae-4d98-8936-a270f8827eb7</td>\n",
       "      <td>3980f194-389d-42f5-b477-f7c99598d6be</td>\n",
       "      <td>49</td>\n",
       "      <td>Hib (PRP-OMP)</td>\n",
       "      <td>140.52</td>\n",
       "    </tr>\n",
       "    <tr>\n",
       "      <th>3</th>\n",
       "      <td>2013-05-19</td>\n",
       "      <td>c0d528b6-cdae-4d98-8936-a270f8827eb7</td>\n",
       "      <td>3980f194-389d-42f5-b477-f7c99598d6be</td>\n",
       "      <td>119</td>\n",
       "      <td>rotavirus  monovalent</td>\n",
       "      <td>140.52</td>\n",
       "    </tr>\n",
       "    <tr>\n",
       "      <th>4</th>\n",
       "      <td>2013-05-19</td>\n",
       "      <td>c0d528b6-cdae-4d98-8936-a270f8827eb7</td>\n",
       "      <td>3980f194-389d-42f5-b477-f7c99598d6be</td>\n",
       "      <td>10</td>\n",
       "      <td>IPV</td>\n",
       "      <td>140.52</td>\n",
       "    </tr>\n",
       "  </tbody>\n",
       "</table>\n",
       "</div>"
      ],
      "text/plain": [
       "         DATE                               PATIENT  \\\n",
       "0  2013-02-10  c0d528b6-cdae-4d98-8936-a270f8827eb7   \n",
       "1  2013-03-17  c0d528b6-cdae-4d98-8936-a270f8827eb7   \n",
       "2  2013-05-19  c0d528b6-cdae-4d98-8936-a270f8827eb7   \n",
       "3  2013-05-19  c0d528b6-cdae-4d98-8936-a270f8827eb7   \n",
       "4  2013-05-19  c0d528b6-cdae-4d98-8936-a270f8827eb7   \n",
       "\n",
       "                              ENCOUNTER  CODE                     DESCRIPTION  \\\n",
       "0  1ef67c37-7306-4be4-9668-a93f34972544     8  Hep B  adolescent or pediatric   \n",
       "1  158ced22-0023-4934-b046-451696f2d516     8  Hep B  adolescent or pediatric   \n",
       "2  3980f194-389d-42f5-b477-f7c99598d6be    49                   Hib (PRP-OMP)   \n",
       "3  3980f194-389d-42f5-b477-f7c99598d6be   119           rotavirus  monovalent   \n",
       "4  3980f194-389d-42f5-b477-f7c99598d6be    10                             IPV   \n",
       "\n",
       "     COST  \n",
       "0  140.52  \n",
       "1  140.52  \n",
       "2  140.52  \n",
       "3  140.52  \n",
       "4  140.52  "
      ]
     },
     "execution_count": 395,
     "metadata": {},
     "output_type": "execute_result"
    }
   ],
   "source": [
    "imm.head()"
   ]
  },
  {
   "cell_type": "code",
   "execution_count": 396,
   "metadata": {},
   "outputs": [
    {
     "data": {
      "text/plain": [
       "Influenza  seasonal  injectable  preservative free    121749\n",
       "Td (adult) preservative free                           10304\n",
       "DTaP                                                    6136\n",
       "IPV                                                     5590\n",
       "Hib (PRP-OMP)                                           3901\n",
       "Hep B  adolescent or pediatric                          3841\n",
       "meningococcal MCV4P                                     3492\n",
       "Pneumococcal conjugate PCV 13                           3277\n",
       "Hep A  adult                                            3231\n",
       "HPV  quadrivalent                                       3072\n",
       "MMR                                                     2732\n",
       "varicella                                               2630\n",
       "zoster                                                  2472\n",
       "Hep A  ped/adol  2 dose                                 2458\n",
       "Hep B  adult                                            2056\n",
       "pneumococcal polysaccharide vaccine  23 valent          1911\n",
       "rotavirus  monovalent                                   1867\n",
       "Tdap                                                    1181\n",
       "Name: DESCRIPTION, dtype: int64"
      ]
     },
     "execution_count": 396,
     "metadata": {},
     "output_type": "execute_result"
    }
   ],
   "source": [
    "imm['DESCRIPTION'].value_counts()"
   ]
  },
  {
   "cell_type": "code",
   "execution_count": null,
   "metadata": {},
   "outputs": [],
   "source": []
  },
  {
   "cell_type": "markdown",
   "metadata": {},
   "source": [
    "### IMAGING STUDIES"
   ]
  },
  {
   "cell_type": "code",
   "execution_count": 385,
   "metadata": {},
   "outputs": [],
   "source": [
    "imaging = pd.read_csv(\"imaging_studies.csv\")\n"
   ]
  },
  {
   "cell_type": "code",
   "execution_count": 392,
   "metadata": {},
   "outputs": [
    {
     "data": {
      "text/plain": [
       "Index(['Id', 'DATE', 'PATIENT', 'ENCOUNTER', 'BODYSITE_CODE',\n",
       "       'BODYSITE_DESCRIPTION', 'MODALITY_CODE', 'MODALITY_DESCRIPTION',\n",
       "       'SOP_CODE', 'SOP_DESCRIPTION'],\n",
       "      dtype='object')"
      ]
     },
     "execution_count": 392,
     "metadata": {},
     "output_type": "execute_result"
    }
   ],
   "source": [
    "imaging.columns"
   ]
  },
  {
   "cell_type": "code",
   "execution_count": 388,
   "metadata": {},
   "outputs": [
    {
     "data": {
      "text/plain": [
       "thoracic structure (body structure)             3195\n",
       "thoracic                                        1366\n",
       "arm                                              666\n",
       "clavicle                                         622\n",
       "wrist                                            527\n",
       "thoracic structure                               525\n",
       "ankle                                            515\n",
       "knee                                             338\n",
       "chest                                            263\n",
       "pelvis                                           214\n",
       "structure of right upper quadrant of abdomen      47\n",
       "Name: BODYSITE_DESCRIPTION, dtype: int64"
      ]
     },
     "execution_count": 388,
     "metadata": {},
     "output_type": "execute_result"
    }
   ],
   "source": [
    "imaging['BODYSITE_DESCRIPTION']=imaging['BODYSITE_DESCRIPTION'].apply(lambda x: x.lower())\n",
    "imaging['BODYSITE_DESCRIPTION'].value_counts()"
   ]
  },
  {
   "cell_type": "code",
   "execution_count": 389,
   "metadata": {},
   "outputs": [],
   "source": [
    "thoracic = imaging[imaging['BODYSITE_DESCRIPTION'].str.contains('thoracic')]"
   ]
  },
  {
   "cell_type": "code",
   "execution_count": 393,
   "metadata": {},
   "outputs": [
    {
     "data": {
      "text/html": [
       "<div>\n",
       "<style scoped>\n",
       "    .dataframe tbody tr th:only-of-type {\n",
       "        vertical-align: middle;\n",
       "    }\n",
       "\n",
       "    .dataframe tbody tr th {\n",
       "        vertical-align: top;\n",
       "    }\n",
       "\n",
       "    .dataframe thead th {\n",
       "        text-align: right;\n",
       "    }\n",
       "</style>\n",
       "<table border=\"1\" class=\"dataframe\">\n",
       "  <thead>\n",
       "    <tr style=\"text-align: right;\">\n",
       "      <th></th>\n",
       "      <th>Id</th>\n",
       "      <th>DATE</th>\n",
       "      <th>PATIENT</th>\n",
       "      <th>ENCOUNTER</th>\n",
       "      <th>BODYSITE_CODE</th>\n",
       "      <th>BODYSITE_DESCRIPTION</th>\n",
       "      <th>MODALITY_CODE</th>\n",
       "      <th>MODALITY_DESCRIPTION</th>\n",
       "      <th>SOP_CODE</th>\n",
       "      <th>SOP_DESCRIPTION</th>\n",
       "    </tr>\n",
       "  </thead>\n",
       "  <tbody>\n",
       "    <tr>\n",
       "      <th>5</th>\n",
       "      <td>99909564-2f6d-4334-b97b-a047a9db726a</td>\n",
       "      <td>2004-10-26</td>\n",
       "      <td>a66bda4b-652d-4b76-b6fd-8aea3b26ad8a</td>\n",
       "      <td>1e60606d-d793-4c07-b8eb-df1e172c4322</td>\n",
       "      <td>261179002</td>\n",
       "      <td>thoracic</td>\n",
       "      <td>US</td>\n",
       "      <td>Ultrasound</td>\n",
       "      <td>1.2.840.10008.5.1.4.1.1.3.1</td>\n",
       "      <td>Ultrasound Multiframe Image Storage</td>\n",
       "    </tr>\n",
       "    <tr>\n",
       "      <th>6</th>\n",
       "      <td>d7c3b4a4-f529-4366-bb6e-cbe1d99aeffb</td>\n",
       "      <td>2006-04-19</td>\n",
       "      <td>a66bda4b-652d-4b76-b6fd-8aea3b26ad8a</td>\n",
       "      <td>8fd84b96-f4b2-4e1e-a7a9-1fec8781c698</td>\n",
       "      <td>261179002</td>\n",
       "      <td>thoracic</td>\n",
       "      <td>US</td>\n",
       "      <td>Ultrasound</td>\n",
       "      <td>1.2.840.10008.5.1.4.1.1.3.1</td>\n",
       "      <td>Ultrasound Multiframe Image Storage</td>\n",
       "    </tr>\n",
       "    <tr>\n",
       "      <th>7</th>\n",
       "      <td>432ad88d-acec-4adf-86ff-4f0da22d84d7</td>\n",
       "      <td>2006-10-16</td>\n",
       "      <td>a66bda4b-652d-4b76-b6fd-8aea3b26ad8a</td>\n",
       "      <td>ab9bb7f9-64b1-49f3-98ad-78b33bf7bd80</td>\n",
       "      <td>51185008</td>\n",
       "      <td>thoracic structure (body structure)</td>\n",
       "      <td>CR</td>\n",
       "      <td>Computed Radiography</td>\n",
       "      <td>1.2.840.10008.5.1.4.1.1.1.1</td>\n",
       "      <td>Digital X-Ray Image Storage – for Presentation</td>\n",
       "    </tr>\n",
       "    <tr>\n",
       "      <th>8</th>\n",
       "      <td>5de9f73e-bec2-481f-b44a-80103be687c2</td>\n",
       "      <td>2006-10-16</td>\n",
       "      <td>a66bda4b-652d-4b76-b6fd-8aea3b26ad8a</td>\n",
       "      <td>04a8c66f-2831-47a5-a86c-2292d485dbfe</td>\n",
       "      <td>261179002</td>\n",
       "      <td>thoracic</td>\n",
       "      <td>US</td>\n",
       "      <td>Ultrasound</td>\n",
       "      <td>1.2.840.10008.5.1.4.1.1.3.1</td>\n",
       "      <td>Ultrasound Multiframe Image Storage</td>\n",
       "    </tr>\n",
       "    <tr>\n",
       "      <th>9</th>\n",
       "      <td>519ea88a-c304-415f-a96c-7eda22b75afd</td>\n",
       "      <td>2006-10-16</td>\n",
       "      <td>a66bda4b-652d-4b76-b6fd-8aea3b26ad8a</td>\n",
       "      <td>04a8c66f-2831-47a5-a86c-2292d485dbfe</td>\n",
       "      <td>51185008</td>\n",
       "      <td>thoracic structure</td>\n",
       "      <td>DX</td>\n",
       "      <td>Digital Radiography</td>\n",
       "      <td>1.2.840.10008.5.1.4.1.1.1.1</td>\n",
       "      <td>Digital X-Ray Image Storage – for Presentation</td>\n",
       "    </tr>\n",
       "    <tr>\n",
       "      <th>15</th>\n",
       "      <td>b8728ae4-ebce-48ac-b364-16950bc69fe5</td>\n",
       "      <td>2015-09-12</td>\n",
       "      <td>19f152b5-004e-4002-9875-db61b9ce4118</td>\n",
       "      <td>4f13deaa-2b13-4b7f-ae6c-a9ee1dc43bb1</td>\n",
       "      <td>261179002</td>\n",
       "      <td>thoracic</td>\n",
       "      <td>US</td>\n",
       "      <td>Ultrasound</td>\n",
       "      <td>1.2.840.10008.5.1.4.1.1.3.1</td>\n",
       "      <td>Ultrasound Multiframe Image Storage</td>\n",
       "    </tr>\n",
       "    <tr>\n",
       "      <th>16</th>\n",
       "      <td>2beec696-3954-43a5-a6bc-b6887fc29d36</td>\n",
       "      <td>2016-03-10</td>\n",
       "      <td>19f152b5-004e-4002-9875-db61b9ce4118</td>\n",
       "      <td>572f9226-7827-4fbb-9fb8-99e315332613</td>\n",
       "      <td>51185008</td>\n",
       "      <td>thoracic structure (body structure)</td>\n",
       "      <td>CR</td>\n",
       "      <td>Computed Radiography</td>\n",
       "      <td>1.2.840.10008.5.1.4.1.1.1.1</td>\n",
       "      <td>Digital X-Ray Image Storage – for Presentation</td>\n",
       "    </tr>\n",
       "    <tr>\n",
       "      <th>17</th>\n",
       "      <td>6cf8f158-e843-4022-87c4-93cbe9f4805b</td>\n",
       "      <td>2016-03-10</td>\n",
       "      <td>19f152b5-004e-4002-9875-db61b9ce4118</td>\n",
       "      <td>2df0329f-e657-42ab-9646-6f493ed54d0b</td>\n",
       "      <td>261179002</td>\n",
       "      <td>thoracic</td>\n",
       "      <td>US</td>\n",
       "      <td>Ultrasound</td>\n",
       "      <td>1.2.840.10008.5.1.4.1.1.3.1</td>\n",
       "      <td>Ultrasound Multiframe Image Storage</td>\n",
       "    </tr>\n",
       "    <tr>\n",
       "      <th>18</th>\n",
       "      <td>78ecad24-8218-4234-ba83-b8d840846c01</td>\n",
       "      <td>2016-03-10</td>\n",
       "      <td>19f152b5-004e-4002-9875-db61b9ce4118</td>\n",
       "      <td>2df0329f-e657-42ab-9646-6f493ed54d0b</td>\n",
       "      <td>51185008</td>\n",
       "      <td>thoracic structure</td>\n",
       "      <td>DX</td>\n",
       "      <td>Digital Radiography</td>\n",
       "      <td>1.2.840.10008.5.1.4.1.1.1.1</td>\n",
       "      <td>Digital X-Ray Image Storage – for Presentation</td>\n",
       "    </tr>\n",
       "    <tr>\n",
       "      <th>29</th>\n",
       "      <td>ef149e56-fffa-4f10-ba22-e37eabbb8bcf</td>\n",
       "      <td>2005-01-31</td>\n",
       "      <td>aee50cc5-d8d5-4fd9-90d7-ac43931c8e60</td>\n",
       "      <td>1cab502f-b8d7-42e1-9423-3b18df6189d9</td>\n",
       "      <td>51185008</td>\n",
       "      <td>thoracic structure (body structure)</td>\n",
       "      <td>CT</td>\n",
       "      <td>Computed Tomography</td>\n",
       "      <td>1.2.840.10008.5.1.4.1.1.2</td>\n",
       "      <td>CT Image Storage</td>\n",
       "    </tr>\n",
       "    <tr>\n",
       "      <th>30</th>\n",
       "      <td>a18f6667-c6c6-4bca-a652-7a682894ffcb</td>\n",
       "      <td>2005-03-06</td>\n",
       "      <td>aee50cc5-d8d5-4fd9-90d7-ac43931c8e60</td>\n",
       "      <td>15162b83-4ebf-4d14-9797-19efe41e8a07</td>\n",
       "      <td>51185008</td>\n",
       "      <td>thoracic structure (body structure)</td>\n",
       "      <td>CT</td>\n",
       "      <td>Computed Tomography</td>\n",
       "      <td>1.2.840.10008.5.1.4.1.1.2</td>\n",
       "      <td>CT Image Storage</td>\n",
       "    </tr>\n",
       "    <tr>\n",
       "      <th>31</th>\n",
       "      <td>db77daaa-6eb1-4a04-b1a4-9c869aada151</td>\n",
       "      <td>2005-04-03</td>\n",
       "      <td>aee50cc5-d8d5-4fd9-90d7-ac43931c8e60</td>\n",
       "      <td>da9b21a6-3d5b-4f17-8d00-5884adbd6092</td>\n",
       "      <td>51185008</td>\n",
       "      <td>thoracic structure (body structure)</td>\n",
       "      <td>CT</td>\n",
       "      <td>Computed Tomography</td>\n",
       "      <td>1.2.840.10008.5.1.4.1.1.2</td>\n",
       "      <td>CT Image Storage</td>\n",
       "    </tr>\n",
       "    <tr>\n",
       "      <th>32</th>\n",
       "      <td>643315dd-18bd-4309-988e-e8a16765dc38</td>\n",
       "      <td>2005-05-05</td>\n",
       "      <td>aee50cc5-d8d5-4fd9-90d7-ac43931c8e60</td>\n",
       "      <td>22591108-4aee-4278-8f66-40ec429b61e0</td>\n",
       "      <td>51185008</td>\n",
       "      <td>thoracic structure (body structure)</td>\n",
       "      <td>CT</td>\n",
       "      <td>Computed Tomography</td>\n",
       "      <td>1.2.840.10008.5.1.4.1.1.2</td>\n",
       "      <td>CT Image Storage</td>\n",
       "    </tr>\n",
       "    <tr>\n",
       "      <th>33</th>\n",
       "      <td>1ea2679c-aaba-4a9b-ad77-beaa3fee463d</td>\n",
       "      <td>2005-06-06</td>\n",
       "      <td>aee50cc5-d8d5-4fd9-90d7-ac43931c8e60</td>\n",
       "      <td>6316bf64-6d5f-4201-8fd6-2348666d413f</td>\n",
       "      <td>51185008</td>\n",
       "      <td>thoracic structure (body structure)</td>\n",
       "      <td>CT</td>\n",
       "      <td>Computed Tomography</td>\n",
       "      <td>1.2.840.10008.5.1.4.1.1.2</td>\n",
       "      <td>CT Image Storage</td>\n",
       "    </tr>\n",
       "    <tr>\n",
       "      <th>34</th>\n",
       "      <td>c68144b3-0a5b-4c49-b664-6a18d9ea75d8</td>\n",
       "      <td>2005-07-06</td>\n",
       "      <td>aee50cc5-d8d5-4fd9-90d7-ac43931c8e60</td>\n",
       "      <td>83b7a572-c03b-422d-af06-603b5114319f</td>\n",
       "      <td>51185008</td>\n",
       "      <td>thoracic structure (body structure)</td>\n",
       "      <td>CT</td>\n",
       "      <td>Computed Tomography</td>\n",
       "      <td>1.2.840.10008.5.1.4.1.1.2</td>\n",
       "      <td>CT Image Storage</td>\n",
       "    </tr>\n",
       "    <tr>\n",
       "      <th>35</th>\n",
       "      <td>d91301a9-1169-4041-8ba1-71d47c9f9040</td>\n",
       "      <td>2005-08-07</td>\n",
       "      <td>aee50cc5-d8d5-4fd9-90d7-ac43931c8e60</td>\n",
       "      <td>ffbecdeb-a100-4bf9-84e6-33a80405026a</td>\n",
       "      <td>51185008</td>\n",
       "      <td>thoracic structure (body structure)</td>\n",
       "      <td>CT</td>\n",
       "      <td>Computed Tomography</td>\n",
       "      <td>1.2.840.10008.5.1.4.1.1.2</td>\n",
       "      <td>CT Image Storage</td>\n",
       "    </tr>\n",
       "    <tr>\n",
       "      <th>36</th>\n",
       "      <td>54ca33e6-97ec-4e3d-bdce-4939bb3202fd</td>\n",
       "      <td>2005-09-10</td>\n",
       "      <td>aee50cc5-d8d5-4fd9-90d7-ac43931c8e60</td>\n",
       "      <td>7aea4db3-b5f6-42df-bf86-fd7b5cdd54dc</td>\n",
       "      <td>51185008</td>\n",
       "      <td>thoracic structure (body structure)</td>\n",
       "      <td>CT</td>\n",
       "      <td>Computed Tomography</td>\n",
       "      <td>1.2.840.10008.5.1.4.1.1.2</td>\n",
       "      <td>CT Image Storage</td>\n",
       "    </tr>\n",
       "    <tr>\n",
       "      <th>37</th>\n",
       "      <td>5cb87d67-6dd5-468c-b871-9220e14613ba</td>\n",
       "      <td>2005-10-08</td>\n",
       "      <td>aee50cc5-d8d5-4fd9-90d7-ac43931c8e60</td>\n",
       "      <td>478ee533-de19-4d21-9e99-695ca367444b</td>\n",
       "      <td>51185008</td>\n",
       "      <td>thoracic structure (body structure)</td>\n",
       "      <td>CT</td>\n",
       "      <td>Computed Tomography</td>\n",
       "      <td>1.2.840.10008.5.1.4.1.1.2</td>\n",
       "      <td>CT Image Storage</td>\n",
       "    </tr>\n",
       "    <tr>\n",
       "      <th>38</th>\n",
       "      <td>d044c16e-10b2-422e-be3f-083b97b62ae9</td>\n",
       "      <td>2005-11-11</td>\n",
       "      <td>aee50cc5-d8d5-4fd9-90d7-ac43931c8e60</td>\n",
       "      <td>f63b842c-e97c-450d-b8f2-a7c2a5bd714b</td>\n",
       "      <td>51185008</td>\n",
       "      <td>thoracic structure (body structure)</td>\n",
       "      <td>CT</td>\n",
       "      <td>Computed Tomography</td>\n",
       "      <td>1.2.840.10008.5.1.4.1.1.2</td>\n",
       "      <td>CT Image Storage</td>\n",
       "    </tr>\n",
       "    <tr>\n",
       "      <th>39</th>\n",
       "      <td>9e027d5e-c4d7-4577-b396-be2d3911bf38</td>\n",
       "      <td>2005-12-12</td>\n",
       "      <td>aee50cc5-d8d5-4fd9-90d7-ac43931c8e60</td>\n",
       "      <td>4799c1cb-b0a1-4787-9b29-a91cdcda0776</td>\n",
       "      <td>51185008</td>\n",
       "      <td>thoracic structure (body structure)</td>\n",
       "      <td>CT</td>\n",
       "      <td>Computed Tomography</td>\n",
       "      <td>1.2.840.10008.5.1.4.1.1.2</td>\n",
       "      <td>CT Image Storage</td>\n",
       "    </tr>\n",
       "    <tr>\n",
       "      <th>40</th>\n",
       "      <td>fbd3da3a-5a5d-444b-8636-70135ca50653</td>\n",
       "      <td>2006-01-13</td>\n",
       "      <td>aee50cc5-d8d5-4fd9-90d7-ac43931c8e60</td>\n",
       "      <td>3fca88e0-973b-4f2a-9ed5-3027b2e75035</td>\n",
       "      <td>51185008</td>\n",
       "      <td>thoracic structure (body structure)</td>\n",
       "      <td>CT</td>\n",
       "      <td>Computed Tomography</td>\n",
       "      <td>1.2.840.10008.5.1.4.1.1.2</td>\n",
       "      <td>CT Image Storage</td>\n",
       "    </tr>\n",
       "    <tr>\n",
       "      <th>41</th>\n",
       "      <td>a0e46209-3d1d-46ab-b2c0-edcd9638208d</td>\n",
       "      <td>2006-02-12</td>\n",
       "      <td>aee50cc5-d8d5-4fd9-90d7-ac43931c8e60</td>\n",
       "      <td>657fbae5-5606-42f8-9349-fc119b056cf8</td>\n",
       "      <td>51185008</td>\n",
       "      <td>thoracic structure (body structure)</td>\n",
       "      <td>CT</td>\n",
       "      <td>Computed Tomography</td>\n",
       "      <td>1.2.840.10008.5.1.4.1.1.2</td>\n",
       "      <td>CT Image Storage</td>\n",
       "    </tr>\n",
       "    <tr>\n",
       "      <th>42</th>\n",
       "      <td>89822217-c155-43b9-8664-51ca6680a5d0</td>\n",
       "      <td>2006-03-14</td>\n",
       "      <td>aee50cc5-d8d5-4fd9-90d7-ac43931c8e60</td>\n",
       "      <td>b602d7f1-84d8-45da-be36-3f548dead8c7</td>\n",
       "      <td>51185008</td>\n",
       "      <td>thoracic structure (body structure)</td>\n",
       "      <td>CT</td>\n",
       "      <td>Computed Tomography</td>\n",
       "      <td>1.2.840.10008.5.1.4.1.1.2</td>\n",
       "      <td>CT Image Storage</td>\n",
       "    </tr>\n",
       "    <tr>\n",
       "      <th>43</th>\n",
       "      <td>60c353f3-80e6-480e-a114-fe5159ef9a51</td>\n",
       "      <td>2006-04-15</td>\n",
       "      <td>aee50cc5-d8d5-4fd9-90d7-ac43931c8e60</td>\n",
       "      <td>0b386443-5dcf-42c0-ac60-8ad4689bcc0d</td>\n",
       "      <td>51185008</td>\n",
       "      <td>thoracic structure (body structure)</td>\n",
       "      <td>CT</td>\n",
       "      <td>Computed Tomography</td>\n",
       "      <td>1.2.840.10008.5.1.4.1.1.2</td>\n",
       "      <td>CT Image Storage</td>\n",
       "    </tr>\n",
       "    <tr>\n",
       "      <th>44</th>\n",
       "      <td>a77891d0-f4a3-42fa-8d64-da57744e24f5</td>\n",
       "      <td>2006-05-13</td>\n",
       "      <td>aee50cc5-d8d5-4fd9-90d7-ac43931c8e60</td>\n",
       "      <td>e9913d3b-26bb-4307-852f-8058470a05bd</td>\n",
       "      <td>51185008</td>\n",
       "      <td>thoracic structure (body structure)</td>\n",
       "      <td>CT</td>\n",
       "      <td>Computed Tomography</td>\n",
       "      <td>1.2.840.10008.5.1.4.1.1.2</td>\n",
       "      <td>CT Image Storage</td>\n",
       "    </tr>\n",
       "    <tr>\n",
       "      <th>45</th>\n",
       "      <td>715c6cd7-37a7-47c3-84d6-795d2e6e9a74</td>\n",
       "      <td>2006-06-16</td>\n",
       "      <td>aee50cc5-d8d5-4fd9-90d7-ac43931c8e60</td>\n",
       "      <td>67f29017-0354-4bd1-92dd-6f09c470cae0</td>\n",
       "      <td>51185008</td>\n",
       "      <td>thoracic structure (body structure)</td>\n",
       "      <td>CT</td>\n",
       "      <td>Computed Tomography</td>\n",
       "      <td>1.2.840.10008.5.1.4.1.1.2</td>\n",
       "      <td>CT Image Storage</td>\n",
       "    </tr>\n",
       "    <tr>\n",
       "      <th>46</th>\n",
       "      <td>0d033fc6-a9f8-4e42-aa91-19d7e6030dac</td>\n",
       "      <td>2006-07-16</td>\n",
       "      <td>aee50cc5-d8d5-4fd9-90d7-ac43931c8e60</td>\n",
       "      <td>9bbee998-58d9-4273-9258-df68fc9b952e</td>\n",
       "      <td>51185008</td>\n",
       "      <td>thoracic structure (body structure)</td>\n",
       "      <td>CT</td>\n",
       "      <td>Computed Tomography</td>\n",
       "      <td>1.2.840.10008.5.1.4.1.1.2</td>\n",
       "      <td>CT Image Storage</td>\n",
       "    </tr>\n",
       "    <tr>\n",
       "      <th>47</th>\n",
       "      <td>be6e56af-9e65-47fd-b64c-35c83666dc99</td>\n",
       "      <td>2006-08-17</td>\n",
       "      <td>aee50cc5-d8d5-4fd9-90d7-ac43931c8e60</td>\n",
       "      <td>0b014e45-98bc-4639-a68b-20ce9ac5fca2</td>\n",
       "      <td>51185008</td>\n",
       "      <td>thoracic structure (body structure)</td>\n",
       "      <td>CT</td>\n",
       "      <td>Computed Tomography</td>\n",
       "      <td>1.2.840.10008.5.1.4.1.1.2</td>\n",
       "      <td>CT Image Storage</td>\n",
       "    </tr>\n",
       "    <tr>\n",
       "      <th>48</th>\n",
       "      <td>6d044369-1c8b-4eae-b25c-d18f5db543bc</td>\n",
       "      <td>2006-09-14</td>\n",
       "      <td>aee50cc5-d8d5-4fd9-90d7-ac43931c8e60</td>\n",
       "      <td>b38f6434-0918-43fe-a186-356767787cbe</td>\n",
       "      <td>51185008</td>\n",
       "      <td>thoracic structure (body structure)</td>\n",
       "      <td>CT</td>\n",
       "      <td>Computed Tomography</td>\n",
       "      <td>1.2.840.10008.5.1.4.1.1.2</td>\n",
       "      <td>CT Image Storage</td>\n",
       "    </tr>\n",
       "    <tr>\n",
       "      <th>49</th>\n",
       "      <td>0e2c01c6-d8ae-4136-a1f1-5ea4cfdfe223</td>\n",
       "      <td>2006-10-15</td>\n",
       "      <td>aee50cc5-d8d5-4fd9-90d7-ac43931c8e60</td>\n",
       "      <td>21bf4630-202a-47b4-b623-85388fa67346</td>\n",
       "      <td>51185008</td>\n",
       "      <td>thoracic structure (body structure)</td>\n",
       "      <td>CT</td>\n",
       "      <td>Computed Tomography</td>\n",
       "      <td>1.2.840.10008.5.1.4.1.1.2</td>\n",
       "      <td>CT Image Storage</td>\n",
       "    </tr>\n",
       "    <tr>\n",
       "      <th>...</th>\n",
       "      <td>...</td>\n",
       "      <td>...</td>\n",
       "      <td>...</td>\n",
       "      <td>...</td>\n",
       "      <td>...</td>\n",
       "      <td>...</td>\n",
       "      <td>...</td>\n",
       "      <td>...</td>\n",
       "      <td>...</td>\n",
       "      <td>...</td>\n",
       "    </tr>\n",
       "    <tr>\n",
       "      <th>8234</th>\n",
       "      <td>724850f5-637d-4dbb-afa7-8e2f8b0fe399</td>\n",
       "      <td>1992-01-02</td>\n",
       "      <td>4ec11818-2780-4df7-b9a4-bc251b86a940</td>\n",
       "      <td>e19c919f-1efc-4d34-8c7d-c36be388e1bd</td>\n",
       "      <td>261179002</td>\n",
       "      <td>thoracic</td>\n",
       "      <td>US</td>\n",
       "      <td>Ultrasound</td>\n",
       "      <td>1.2.840.10008.5.1.4.1.1.3.1</td>\n",
       "      <td>Ultrasound Multiframe Image Storage</td>\n",
       "    </tr>\n",
       "    <tr>\n",
       "      <th>8235</th>\n",
       "      <td>d36ee1a1-646c-4023-875b-1822852ff43c</td>\n",
       "      <td>1992-06-30</td>\n",
       "      <td>4ec11818-2780-4df7-b9a4-bc251b86a940</td>\n",
       "      <td>4d0c5a1d-48f6-4682-ba21-f9e68cafe28f</td>\n",
       "      <td>51185008</td>\n",
       "      <td>thoracic structure (body structure)</td>\n",
       "      <td>CR</td>\n",
       "      <td>Computed Radiography</td>\n",
       "      <td>1.2.840.10008.5.1.4.1.1.1.1</td>\n",
       "      <td>Digital X-Ray Image Storage – for Presentation</td>\n",
       "    </tr>\n",
       "    <tr>\n",
       "      <th>8236</th>\n",
       "      <td>5bdbe77b-6f7c-4a9e-aa1b-2127d4f63430</td>\n",
       "      <td>1993-06-25</td>\n",
       "      <td>4ec11818-2780-4df7-b9a4-bc251b86a940</td>\n",
       "      <td>ee513e61-8037-40ae-9771-cf00b972dd40</td>\n",
       "      <td>261179002</td>\n",
       "      <td>thoracic</td>\n",
       "      <td>US</td>\n",
       "      <td>Ultrasound</td>\n",
       "      <td>1.2.840.10008.5.1.4.1.1.3.1</td>\n",
       "      <td>Ultrasound Multiframe Image Storage</td>\n",
       "    </tr>\n",
       "    <tr>\n",
       "      <th>8237</th>\n",
       "      <td>67130a73-f86b-406b-a2a8-b673bb4432bd</td>\n",
       "      <td>1993-12-22</td>\n",
       "      <td>4ec11818-2780-4df7-b9a4-bc251b86a940</td>\n",
       "      <td>f2cffe42-2649-4b1d-8b0e-96e741ff3349</td>\n",
       "      <td>51185008</td>\n",
       "      <td>thoracic structure (body structure)</td>\n",
       "      <td>CR</td>\n",
       "      <td>Computed Radiography</td>\n",
       "      <td>1.2.840.10008.5.1.4.1.1.1.1</td>\n",
       "      <td>Digital X-Ray Image Storage – for Presentation</td>\n",
       "    </tr>\n",
       "    <tr>\n",
       "      <th>8238</th>\n",
       "      <td>35b41aa1-e637-44e3-bee4-55b240fab27e</td>\n",
       "      <td>1993-12-22</td>\n",
       "      <td>4ec11818-2780-4df7-b9a4-bc251b86a940</td>\n",
       "      <td>8f501358-ad40-41e3-a47e-93b6e70e80c9</td>\n",
       "      <td>261179002</td>\n",
       "      <td>thoracic</td>\n",
       "      <td>US</td>\n",
       "      <td>Ultrasound</td>\n",
       "      <td>1.2.840.10008.5.1.4.1.1.3.1</td>\n",
       "      <td>Ultrasound Multiframe Image Storage</td>\n",
       "    </tr>\n",
       "    <tr>\n",
       "      <th>8239</th>\n",
       "      <td>8855f0af-91a8-4465-9e7d-7e960d628125</td>\n",
       "      <td>1993-12-22</td>\n",
       "      <td>4ec11818-2780-4df7-b9a4-bc251b86a940</td>\n",
       "      <td>8f501358-ad40-41e3-a47e-93b6e70e80c9</td>\n",
       "      <td>51185008</td>\n",
       "      <td>thoracic structure</td>\n",
       "      <td>DX</td>\n",
       "      <td>Digital Radiography</td>\n",
       "      <td>1.2.840.10008.5.1.4.1.1.1.1</td>\n",
       "      <td>Digital X-Ray Image Storage – for Presentation</td>\n",
       "    </tr>\n",
       "    <tr>\n",
       "      <th>8240</th>\n",
       "      <td>8b1c794e-b438-43bb-b192-9f38394e8485</td>\n",
       "      <td>1994-06-21</td>\n",
       "      <td>4ec11818-2780-4df7-b9a4-bc251b86a940</td>\n",
       "      <td>a6916665-4cc4-4dc5-85f3-a9989eb8852e</td>\n",
       "      <td>261179002</td>\n",
       "      <td>thoracic</td>\n",
       "      <td>US</td>\n",
       "      <td>Ultrasound</td>\n",
       "      <td>1.2.840.10008.5.1.4.1.1.3.1</td>\n",
       "      <td>Ultrasound Multiframe Image Storage</td>\n",
       "    </tr>\n",
       "    <tr>\n",
       "      <th>8241</th>\n",
       "      <td>d328dce3-c25d-4f51-a782-733560acfeae</td>\n",
       "      <td>1994-12-18</td>\n",
       "      <td>4ec11818-2780-4df7-b9a4-bc251b86a940</td>\n",
       "      <td>0a766fdc-b9bf-4e72-8d1e-a417d662eeeb</td>\n",
       "      <td>51185008</td>\n",
       "      <td>thoracic structure (body structure)</td>\n",
       "      <td>CR</td>\n",
       "      <td>Computed Radiography</td>\n",
       "      <td>1.2.840.10008.5.1.4.1.1.1.1</td>\n",
       "      <td>Digital X-Ray Image Storage – for Presentation</td>\n",
       "    </tr>\n",
       "    <tr>\n",
       "      <th>8242</th>\n",
       "      <td>e0d3e945-4e6b-45f8-b44f-0fcf55f24bc3</td>\n",
       "      <td>1994-12-18</td>\n",
       "      <td>4ec11818-2780-4df7-b9a4-bc251b86a940</td>\n",
       "      <td>08d01fe7-e4ad-4854-9905-b4d08bcd8d9b</td>\n",
       "      <td>261179002</td>\n",
       "      <td>thoracic</td>\n",
       "      <td>US</td>\n",
       "      <td>Ultrasound</td>\n",
       "      <td>1.2.840.10008.5.1.4.1.1.3.1</td>\n",
       "      <td>Ultrasound Multiframe Image Storage</td>\n",
       "    </tr>\n",
       "    <tr>\n",
       "      <th>8243</th>\n",
       "      <td>958a0369-ed62-4223-9231-dcf5265c79b9</td>\n",
       "      <td>1994-12-18</td>\n",
       "      <td>4ec11818-2780-4df7-b9a4-bc251b86a940</td>\n",
       "      <td>08d01fe7-e4ad-4854-9905-b4d08bcd8d9b</td>\n",
       "      <td>51185008</td>\n",
       "      <td>thoracic structure</td>\n",
       "      <td>DX</td>\n",
       "      <td>Digital Radiography</td>\n",
       "      <td>1.2.840.10008.5.1.4.1.1.1.1</td>\n",
       "      <td>Digital X-Ray Image Storage – for Presentation</td>\n",
       "    </tr>\n",
       "    <tr>\n",
       "      <th>8248</th>\n",
       "      <td>0545a5f1-0320-4ec1-842f-aec3e3a0ae99</td>\n",
       "      <td>1986-05-22</td>\n",
       "      <td>c390ec92-393f-4dad-ae41-5e141f22278f</td>\n",
       "      <td>43f7359b-ce15-4a8e-9d05-1dcdfe98993f</td>\n",
       "      <td>261179002</td>\n",
       "      <td>thoracic</td>\n",
       "      <td>US</td>\n",
       "      <td>Ultrasound</td>\n",
       "      <td>1.2.840.10008.5.1.4.1.1.3.1</td>\n",
       "      <td>Ultrasound Multiframe Image Storage</td>\n",
       "    </tr>\n",
       "    <tr>\n",
       "      <th>8249</th>\n",
       "      <td>6fcff1db-110e-4b6a-9489-b02d4a38a0f2</td>\n",
       "      <td>1986-11-18</td>\n",
       "      <td>c390ec92-393f-4dad-ae41-5e141f22278f</td>\n",
       "      <td>529538d0-f87d-4b2d-8351-c5ce10dfbd75</td>\n",
       "      <td>51185008</td>\n",
       "      <td>thoracic structure (body structure)</td>\n",
       "      <td>CR</td>\n",
       "      <td>Computed Radiography</td>\n",
       "      <td>1.2.840.10008.5.1.4.1.1.1.1</td>\n",
       "      <td>Digital X-Ray Image Storage – for Presentation</td>\n",
       "    </tr>\n",
       "    <tr>\n",
       "      <th>8250</th>\n",
       "      <td>413f811a-7b86-4630-a658-575d859c0b5e</td>\n",
       "      <td>1987-05-17</td>\n",
       "      <td>c390ec92-393f-4dad-ae41-5e141f22278f</td>\n",
       "      <td>58ec5c94-d9ab-408a-bcb7-77a9e1437792</td>\n",
       "      <td>51185008</td>\n",
       "      <td>thoracic structure (body structure)</td>\n",
       "      <td>CR</td>\n",
       "      <td>Computed Radiography</td>\n",
       "      <td>1.2.840.10008.5.1.4.1.1.1.1</td>\n",
       "      <td>Digital X-Ray Image Storage – for Presentation</td>\n",
       "    </tr>\n",
       "    <tr>\n",
       "      <th>8251</th>\n",
       "      <td>b69878e6-d1ff-4ee3-856a-d7f56c4d0515</td>\n",
       "      <td>1987-05-17</td>\n",
       "      <td>c390ec92-393f-4dad-ae41-5e141f22278f</td>\n",
       "      <td>e1054254-f7cc-41ef-a527-e9ca2ccab81d</td>\n",
       "      <td>261179002</td>\n",
       "      <td>thoracic</td>\n",
       "      <td>US</td>\n",
       "      <td>Ultrasound</td>\n",
       "      <td>1.2.840.10008.5.1.4.1.1.3.1</td>\n",
       "      <td>Ultrasound Multiframe Image Storage</td>\n",
       "    </tr>\n",
       "    <tr>\n",
       "      <th>8252</th>\n",
       "      <td>69bf2716-ca37-456e-aef2-08882a4802df</td>\n",
       "      <td>1987-05-17</td>\n",
       "      <td>c390ec92-393f-4dad-ae41-5e141f22278f</td>\n",
       "      <td>e1054254-f7cc-41ef-a527-e9ca2ccab81d</td>\n",
       "      <td>51185008</td>\n",
       "      <td>thoracic structure</td>\n",
       "      <td>DX</td>\n",
       "      <td>Digital Radiography</td>\n",
       "      <td>1.2.840.10008.5.1.4.1.1.1.1</td>\n",
       "      <td>Digital X-Ray Image Storage – for Presentation</td>\n",
       "    </tr>\n",
       "    <tr>\n",
       "      <th>8255</th>\n",
       "      <td>13775a81-fd8a-4526-a95c-979165f787f8</td>\n",
       "      <td>2001-05-18</td>\n",
       "      <td>80e52d49-be42-4600-b7c0-e153fc6b0dbe</td>\n",
       "      <td>de27784a-c2a5-4944-9b6c-1f438047375c</td>\n",
       "      <td>261179002</td>\n",
       "      <td>thoracic</td>\n",
       "      <td>US</td>\n",
       "      <td>Ultrasound</td>\n",
       "      <td>1.2.840.10008.5.1.4.1.1.3.1</td>\n",
       "      <td>Ultrasound Multiframe Image Storage</td>\n",
       "    </tr>\n",
       "    <tr>\n",
       "      <th>8256</th>\n",
       "      <td>9565e70b-1342-4bea-a567-6e1df8938e0b</td>\n",
       "      <td>2002-05-13</td>\n",
       "      <td>80e52d49-be42-4600-b7c0-e153fc6b0dbe</td>\n",
       "      <td>b5bd6a0c-b056-425c-a126-c8aa48670ea3</td>\n",
       "      <td>261179002</td>\n",
       "      <td>thoracic</td>\n",
       "      <td>US</td>\n",
       "      <td>Ultrasound</td>\n",
       "      <td>1.2.840.10008.5.1.4.1.1.3.1</td>\n",
       "      <td>Ultrasound Multiframe Image Storage</td>\n",
       "    </tr>\n",
       "    <tr>\n",
       "      <th>8257</th>\n",
       "      <td>173e9084-2c6e-42ab-b331-6d2f32e96862</td>\n",
       "      <td>2003-11-04</td>\n",
       "      <td>80e52d49-be42-4600-b7c0-e153fc6b0dbe</td>\n",
       "      <td>d9709c99-7f77-4146-a913-19e6c0598cf4</td>\n",
       "      <td>261179002</td>\n",
       "      <td>thoracic</td>\n",
       "      <td>US</td>\n",
       "      <td>Ultrasound</td>\n",
       "      <td>1.2.840.10008.5.1.4.1.1.3.1</td>\n",
       "      <td>Ultrasound Multiframe Image Storage</td>\n",
       "    </tr>\n",
       "    <tr>\n",
       "      <th>8258</th>\n",
       "      <td>697394e9-474b-4e91-b25f-a011690f79cf</td>\n",
       "      <td>2004-05-02</td>\n",
       "      <td>80e52d49-be42-4600-b7c0-e153fc6b0dbe</td>\n",
       "      <td>b6bb3daa-e589-42e7-aafe-db932d3cbf31</td>\n",
       "      <td>51185008</td>\n",
       "      <td>thoracic structure (body structure)</td>\n",
       "      <td>CR</td>\n",
       "      <td>Computed Radiography</td>\n",
       "      <td>1.2.840.10008.5.1.4.1.1.1.1</td>\n",
       "      <td>Digital X-Ray Image Storage – for Presentation</td>\n",
       "    </tr>\n",
       "    <tr>\n",
       "      <th>8259</th>\n",
       "      <td>032d94fd-1ee5-46fd-9a2a-a0c24d8fb559</td>\n",
       "      <td>2004-05-02</td>\n",
       "      <td>80e52d49-be42-4600-b7c0-e153fc6b0dbe</td>\n",
       "      <td>1d118a53-6c8a-4a05-86fd-79ec16ff1dd4</td>\n",
       "      <td>261179002</td>\n",
       "      <td>thoracic</td>\n",
       "      <td>US</td>\n",
       "      <td>Ultrasound</td>\n",
       "      <td>1.2.840.10008.5.1.4.1.1.3.1</td>\n",
       "      <td>Ultrasound Multiframe Image Storage</td>\n",
       "    </tr>\n",
       "    <tr>\n",
       "      <th>8260</th>\n",
       "      <td>e584ee35-e9a0-4f8f-977c-c060068ce1ee</td>\n",
       "      <td>2004-05-02</td>\n",
       "      <td>80e52d49-be42-4600-b7c0-e153fc6b0dbe</td>\n",
       "      <td>1d118a53-6c8a-4a05-86fd-79ec16ff1dd4</td>\n",
       "      <td>51185008</td>\n",
       "      <td>thoracic structure</td>\n",
       "      <td>DX</td>\n",
       "      <td>Digital Radiography</td>\n",
       "      <td>1.2.840.10008.5.1.4.1.1.1.1</td>\n",
       "      <td>Digital X-Ray Image Storage – for Presentation</td>\n",
       "    </tr>\n",
       "    <tr>\n",
       "      <th>8265</th>\n",
       "      <td>3d59f123-c618-4ab4-94f9-3f77b6f2d8b4</td>\n",
       "      <td>1989-12-24</td>\n",
       "      <td>b13d59b1-dfe5-49f8-bf8c-abd82e152496</td>\n",
       "      <td>4f3d6327-0bc3-46b4-a738-93899495d0f5</td>\n",
       "      <td>261179002</td>\n",
       "      <td>thoracic</td>\n",
       "      <td>US</td>\n",
       "      <td>Ultrasound</td>\n",
       "      <td>1.2.840.10008.5.1.4.1.1.3.1</td>\n",
       "      <td>Ultrasound Multiframe Image Storage</td>\n",
       "    </tr>\n",
       "    <tr>\n",
       "      <th>8266</th>\n",
       "      <td>f79934f1-bb33-4d21-9a89-f12b9cc8903a</td>\n",
       "      <td>1991-06-17</td>\n",
       "      <td>b13d59b1-dfe5-49f8-bf8c-abd82e152496</td>\n",
       "      <td>95f54c61-ce32-409b-8d70-1bbcf01ba3a9</td>\n",
       "      <td>261179002</td>\n",
       "      <td>thoracic</td>\n",
       "      <td>US</td>\n",
       "      <td>Ultrasound</td>\n",
       "      <td>1.2.840.10008.5.1.4.1.1.3.1</td>\n",
       "      <td>Ultrasound Multiframe Image Storage</td>\n",
       "    </tr>\n",
       "    <tr>\n",
       "      <th>8267</th>\n",
       "      <td>89fd100c-0c82-4a4a-9b54-c0e3f575efb0</td>\n",
       "      <td>1992-12-08</td>\n",
       "      <td>b13d59b1-dfe5-49f8-bf8c-abd82e152496</td>\n",
       "      <td>f914827b-a87d-48b7-96e0-fa7e4a7f8916</td>\n",
       "      <td>261179002</td>\n",
       "      <td>thoracic</td>\n",
       "      <td>US</td>\n",
       "      <td>Ultrasound</td>\n",
       "      <td>1.2.840.10008.5.1.4.1.1.3.1</td>\n",
       "      <td>Ultrasound Multiframe Image Storage</td>\n",
       "    </tr>\n",
       "    <tr>\n",
       "      <th>8268</th>\n",
       "      <td>823176d2-f20e-4401-a6b0-8b4224da3393</td>\n",
       "      <td>1993-12-03</td>\n",
       "      <td>b13d59b1-dfe5-49f8-bf8c-abd82e152496</td>\n",
       "      <td>d48bf9dc-383d-4a49-938e-b5623cc043b9</td>\n",
       "      <td>261179002</td>\n",
       "      <td>thoracic</td>\n",
       "      <td>US</td>\n",
       "      <td>Ultrasound</td>\n",
       "      <td>1.2.840.10008.5.1.4.1.1.3.1</td>\n",
       "      <td>Ultrasound Multiframe Image Storage</td>\n",
       "    </tr>\n",
       "    <tr>\n",
       "      <th>8269</th>\n",
       "      <td>d6215f7c-2290-46f3-8a94-01d3b3ab0aa9</td>\n",
       "      <td>1994-11-28</td>\n",
       "      <td>b13d59b1-dfe5-49f8-bf8c-abd82e152496</td>\n",
       "      <td>bcff003d-0bdc-46a4-9627-cbd12e9f6597</td>\n",
       "      <td>51185008</td>\n",
       "      <td>thoracic structure (body structure)</td>\n",
       "      <td>CR</td>\n",
       "      <td>Computed Radiography</td>\n",
       "      <td>1.2.840.10008.5.1.4.1.1.1.1</td>\n",
       "      <td>Digital X-Ray Image Storage – for Presentation</td>\n",
       "    </tr>\n",
       "    <tr>\n",
       "      <th>8270</th>\n",
       "      <td>ec365a9e-6c3c-4514-b14a-691ab962b2e8</td>\n",
       "      <td>1995-05-27</td>\n",
       "      <td>b13d59b1-dfe5-49f8-bf8c-abd82e152496</td>\n",
       "      <td>fd7053f7-676c-42a8-af28-c4a15f193a88</td>\n",
       "      <td>261179002</td>\n",
       "      <td>thoracic</td>\n",
       "      <td>US</td>\n",
       "      <td>Ultrasound</td>\n",
       "      <td>1.2.840.10008.5.1.4.1.1.3.1</td>\n",
       "      <td>Ultrasound Multiframe Image Storage</td>\n",
       "    </tr>\n",
       "    <tr>\n",
       "      <th>8271</th>\n",
       "      <td>fafdf563-df28-411c-81c7-1a50f9fa43dd</td>\n",
       "      <td>1995-11-23</td>\n",
       "      <td>b13d59b1-dfe5-49f8-bf8c-abd82e152496</td>\n",
       "      <td>5371cc3a-ec73-4d42-9698-4f8ab45f7107</td>\n",
       "      <td>51185008</td>\n",
       "      <td>thoracic structure (body structure)</td>\n",
       "      <td>CR</td>\n",
       "      <td>Computed Radiography</td>\n",
       "      <td>1.2.840.10008.5.1.4.1.1.1.1</td>\n",
       "      <td>Digital X-Ray Image Storage – for Presentation</td>\n",
       "    </tr>\n",
       "    <tr>\n",
       "      <th>8272</th>\n",
       "      <td>243cf2f7-4fb2-4c93-838f-a8493d2294c6</td>\n",
       "      <td>1995-11-23</td>\n",
       "      <td>b13d59b1-dfe5-49f8-bf8c-abd82e152496</td>\n",
       "      <td>ee4c8a41-b113-479c-9870-19a60c700738</td>\n",
       "      <td>261179002</td>\n",
       "      <td>thoracic</td>\n",
       "      <td>US</td>\n",
       "      <td>Ultrasound</td>\n",
       "      <td>1.2.840.10008.5.1.4.1.1.3.1</td>\n",
       "      <td>Ultrasound Multiframe Image Storage</td>\n",
       "    </tr>\n",
       "    <tr>\n",
       "      <th>8273</th>\n",
       "      <td>38201130-dbce-42be-be51-0c3284b3fddd</td>\n",
       "      <td>1995-11-23</td>\n",
       "      <td>b13d59b1-dfe5-49f8-bf8c-abd82e152496</td>\n",
       "      <td>ee4c8a41-b113-479c-9870-19a60c700738</td>\n",
       "      <td>51185008</td>\n",
       "      <td>thoracic structure</td>\n",
       "      <td>DX</td>\n",
       "      <td>Digital Radiography</td>\n",
       "      <td>1.2.840.10008.5.1.4.1.1.1.1</td>\n",
       "      <td>Digital X-Ray Image Storage – for Presentation</td>\n",
       "    </tr>\n",
       "  </tbody>\n",
       "</table>\n",
       "<p>5086 rows × 10 columns</p>\n",
       "</div>"
      ],
      "text/plain": [
       "                                        Id        DATE  \\\n",
       "5     99909564-2f6d-4334-b97b-a047a9db726a  2004-10-26   \n",
       "6     d7c3b4a4-f529-4366-bb6e-cbe1d99aeffb  2006-04-19   \n",
       "7     432ad88d-acec-4adf-86ff-4f0da22d84d7  2006-10-16   \n",
       "8     5de9f73e-bec2-481f-b44a-80103be687c2  2006-10-16   \n",
       "9     519ea88a-c304-415f-a96c-7eda22b75afd  2006-10-16   \n",
       "15    b8728ae4-ebce-48ac-b364-16950bc69fe5  2015-09-12   \n",
       "16    2beec696-3954-43a5-a6bc-b6887fc29d36  2016-03-10   \n",
       "17    6cf8f158-e843-4022-87c4-93cbe9f4805b  2016-03-10   \n",
       "18    78ecad24-8218-4234-ba83-b8d840846c01  2016-03-10   \n",
       "29    ef149e56-fffa-4f10-ba22-e37eabbb8bcf  2005-01-31   \n",
       "30    a18f6667-c6c6-4bca-a652-7a682894ffcb  2005-03-06   \n",
       "31    db77daaa-6eb1-4a04-b1a4-9c869aada151  2005-04-03   \n",
       "32    643315dd-18bd-4309-988e-e8a16765dc38  2005-05-05   \n",
       "33    1ea2679c-aaba-4a9b-ad77-beaa3fee463d  2005-06-06   \n",
       "34    c68144b3-0a5b-4c49-b664-6a18d9ea75d8  2005-07-06   \n",
       "35    d91301a9-1169-4041-8ba1-71d47c9f9040  2005-08-07   \n",
       "36    54ca33e6-97ec-4e3d-bdce-4939bb3202fd  2005-09-10   \n",
       "37    5cb87d67-6dd5-468c-b871-9220e14613ba  2005-10-08   \n",
       "38    d044c16e-10b2-422e-be3f-083b97b62ae9  2005-11-11   \n",
       "39    9e027d5e-c4d7-4577-b396-be2d3911bf38  2005-12-12   \n",
       "40    fbd3da3a-5a5d-444b-8636-70135ca50653  2006-01-13   \n",
       "41    a0e46209-3d1d-46ab-b2c0-edcd9638208d  2006-02-12   \n",
       "42    89822217-c155-43b9-8664-51ca6680a5d0  2006-03-14   \n",
       "43    60c353f3-80e6-480e-a114-fe5159ef9a51  2006-04-15   \n",
       "44    a77891d0-f4a3-42fa-8d64-da57744e24f5  2006-05-13   \n",
       "45    715c6cd7-37a7-47c3-84d6-795d2e6e9a74  2006-06-16   \n",
       "46    0d033fc6-a9f8-4e42-aa91-19d7e6030dac  2006-07-16   \n",
       "47    be6e56af-9e65-47fd-b64c-35c83666dc99  2006-08-17   \n",
       "48    6d044369-1c8b-4eae-b25c-d18f5db543bc  2006-09-14   \n",
       "49    0e2c01c6-d8ae-4136-a1f1-5ea4cfdfe223  2006-10-15   \n",
       "...                                    ...         ...   \n",
       "8234  724850f5-637d-4dbb-afa7-8e2f8b0fe399  1992-01-02   \n",
       "8235  d36ee1a1-646c-4023-875b-1822852ff43c  1992-06-30   \n",
       "8236  5bdbe77b-6f7c-4a9e-aa1b-2127d4f63430  1993-06-25   \n",
       "8237  67130a73-f86b-406b-a2a8-b673bb4432bd  1993-12-22   \n",
       "8238  35b41aa1-e637-44e3-bee4-55b240fab27e  1993-12-22   \n",
       "8239  8855f0af-91a8-4465-9e7d-7e960d628125  1993-12-22   \n",
       "8240  8b1c794e-b438-43bb-b192-9f38394e8485  1994-06-21   \n",
       "8241  d328dce3-c25d-4f51-a782-733560acfeae  1994-12-18   \n",
       "8242  e0d3e945-4e6b-45f8-b44f-0fcf55f24bc3  1994-12-18   \n",
       "8243  958a0369-ed62-4223-9231-dcf5265c79b9  1994-12-18   \n",
       "8248  0545a5f1-0320-4ec1-842f-aec3e3a0ae99  1986-05-22   \n",
       "8249  6fcff1db-110e-4b6a-9489-b02d4a38a0f2  1986-11-18   \n",
       "8250  413f811a-7b86-4630-a658-575d859c0b5e  1987-05-17   \n",
       "8251  b69878e6-d1ff-4ee3-856a-d7f56c4d0515  1987-05-17   \n",
       "8252  69bf2716-ca37-456e-aef2-08882a4802df  1987-05-17   \n",
       "8255  13775a81-fd8a-4526-a95c-979165f787f8  2001-05-18   \n",
       "8256  9565e70b-1342-4bea-a567-6e1df8938e0b  2002-05-13   \n",
       "8257  173e9084-2c6e-42ab-b331-6d2f32e96862  2003-11-04   \n",
       "8258  697394e9-474b-4e91-b25f-a011690f79cf  2004-05-02   \n",
       "8259  032d94fd-1ee5-46fd-9a2a-a0c24d8fb559  2004-05-02   \n",
       "8260  e584ee35-e9a0-4f8f-977c-c060068ce1ee  2004-05-02   \n",
       "8265  3d59f123-c618-4ab4-94f9-3f77b6f2d8b4  1989-12-24   \n",
       "8266  f79934f1-bb33-4d21-9a89-f12b9cc8903a  1991-06-17   \n",
       "8267  89fd100c-0c82-4a4a-9b54-c0e3f575efb0  1992-12-08   \n",
       "8268  823176d2-f20e-4401-a6b0-8b4224da3393  1993-12-03   \n",
       "8269  d6215f7c-2290-46f3-8a94-01d3b3ab0aa9  1994-11-28   \n",
       "8270  ec365a9e-6c3c-4514-b14a-691ab962b2e8  1995-05-27   \n",
       "8271  fafdf563-df28-411c-81c7-1a50f9fa43dd  1995-11-23   \n",
       "8272  243cf2f7-4fb2-4c93-838f-a8493d2294c6  1995-11-23   \n",
       "8273  38201130-dbce-42be-be51-0c3284b3fddd  1995-11-23   \n",
       "\n",
       "                                   PATIENT  \\\n",
       "5     a66bda4b-652d-4b76-b6fd-8aea3b26ad8a   \n",
       "6     a66bda4b-652d-4b76-b6fd-8aea3b26ad8a   \n",
       "7     a66bda4b-652d-4b76-b6fd-8aea3b26ad8a   \n",
       "8     a66bda4b-652d-4b76-b6fd-8aea3b26ad8a   \n",
       "9     a66bda4b-652d-4b76-b6fd-8aea3b26ad8a   \n",
       "15    19f152b5-004e-4002-9875-db61b9ce4118   \n",
       "16    19f152b5-004e-4002-9875-db61b9ce4118   \n",
       "17    19f152b5-004e-4002-9875-db61b9ce4118   \n",
       "18    19f152b5-004e-4002-9875-db61b9ce4118   \n",
       "29    aee50cc5-d8d5-4fd9-90d7-ac43931c8e60   \n",
       "30    aee50cc5-d8d5-4fd9-90d7-ac43931c8e60   \n",
       "31    aee50cc5-d8d5-4fd9-90d7-ac43931c8e60   \n",
       "32    aee50cc5-d8d5-4fd9-90d7-ac43931c8e60   \n",
       "33    aee50cc5-d8d5-4fd9-90d7-ac43931c8e60   \n",
       "34    aee50cc5-d8d5-4fd9-90d7-ac43931c8e60   \n",
       "35    aee50cc5-d8d5-4fd9-90d7-ac43931c8e60   \n",
       "36    aee50cc5-d8d5-4fd9-90d7-ac43931c8e60   \n",
       "37    aee50cc5-d8d5-4fd9-90d7-ac43931c8e60   \n",
       "38    aee50cc5-d8d5-4fd9-90d7-ac43931c8e60   \n",
       "39    aee50cc5-d8d5-4fd9-90d7-ac43931c8e60   \n",
       "40    aee50cc5-d8d5-4fd9-90d7-ac43931c8e60   \n",
       "41    aee50cc5-d8d5-4fd9-90d7-ac43931c8e60   \n",
       "42    aee50cc5-d8d5-4fd9-90d7-ac43931c8e60   \n",
       "43    aee50cc5-d8d5-4fd9-90d7-ac43931c8e60   \n",
       "44    aee50cc5-d8d5-4fd9-90d7-ac43931c8e60   \n",
       "45    aee50cc5-d8d5-4fd9-90d7-ac43931c8e60   \n",
       "46    aee50cc5-d8d5-4fd9-90d7-ac43931c8e60   \n",
       "47    aee50cc5-d8d5-4fd9-90d7-ac43931c8e60   \n",
       "48    aee50cc5-d8d5-4fd9-90d7-ac43931c8e60   \n",
       "49    aee50cc5-d8d5-4fd9-90d7-ac43931c8e60   \n",
       "...                                    ...   \n",
       "8234  4ec11818-2780-4df7-b9a4-bc251b86a940   \n",
       "8235  4ec11818-2780-4df7-b9a4-bc251b86a940   \n",
       "8236  4ec11818-2780-4df7-b9a4-bc251b86a940   \n",
       "8237  4ec11818-2780-4df7-b9a4-bc251b86a940   \n",
       "8238  4ec11818-2780-4df7-b9a4-bc251b86a940   \n",
       "8239  4ec11818-2780-4df7-b9a4-bc251b86a940   \n",
       "8240  4ec11818-2780-4df7-b9a4-bc251b86a940   \n",
       "8241  4ec11818-2780-4df7-b9a4-bc251b86a940   \n",
       "8242  4ec11818-2780-4df7-b9a4-bc251b86a940   \n",
       "8243  4ec11818-2780-4df7-b9a4-bc251b86a940   \n",
       "8248  c390ec92-393f-4dad-ae41-5e141f22278f   \n",
       "8249  c390ec92-393f-4dad-ae41-5e141f22278f   \n",
       "8250  c390ec92-393f-4dad-ae41-5e141f22278f   \n",
       "8251  c390ec92-393f-4dad-ae41-5e141f22278f   \n",
       "8252  c390ec92-393f-4dad-ae41-5e141f22278f   \n",
       "8255  80e52d49-be42-4600-b7c0-e153fc6b0dbe   \n",
       "8256  80e52d49-be42-4600-b7c0-e153fc6b0dbe   \n",
       "8257  80e52d49-be42-4600-b7c0-e153fc6b0dbe   \n",
       "8258  80e52d49-be42-4600-b7c0-e153fc6b0dbe   \n",
       "8259  80e52d49-be42-4600-b7c0-e153fc6b0dbe   \n",
       "8260  80e52d49-be42-4600-b7c0-e153fc6b0dbe   \n",
       "8265  b13d59b1-dfe5-49f8-bf8c-abd82e152496   \n",
       "8266  b13d59b1-dfe5-49f8-bf8c-abd82e152496   \n",
       "8267  b13d59b1-dfe5-49f8-bf8c-abd82e152496   \n",
       "8268  b13d59b1-dfe5-49f8-bf8c-abd82e152496   \n",
       "8269  b13d59b1-dfe5-49f8-bf8c-abd82e152496   \n",
       "8270  b13d59b1-dfe5-49f8-bf8c-abd82e152496   \n",
       "8271  b13d59b1-dfe5-49f8-bf8c-abd82e152496   \n",
       "8272  b13d59b1-dfe5-49f8-bf8c-abd82e152496   \n",
       "8273  b13d59b1-dfe5-49f8-bf8c-abd82e152496   \n",
       "\n",
       "                                 ENCOUNTER  BODYSITE_CODE  \\\n",
       "5     1e60606d-d793-4c07-b8eb-df1e172c4322      261179002   \n",
       "6     8fd84b96-f4b2-4e1e-a7a9-1fec8781c698      261179002   \n",
       "7     ab9bb7f9-64b1-49f3-98ad-78b33bf7bd80       51185008   \n",
       "8     04a8c66f-2831-47a5-a86c-2292d485dbfe      261179002   \n",
       "9     04a8c66f-2831-47a5-a86c-2292d485dbfe       51185008   \n",
       "15    4f13deaa-2b13-4b7f-ae6c-a9ee1dc43bb1      261179002   \n",
       "16    572f9226-7827-4fbb-9fb8-99e315332613       51185008   \n",
       "17    2df0329f-e657-42ab-9646-6f493ed54d0b      261179002   \n",
       "18    2df0329f-e657-42ab-9646-6f493ed54d0b       51185008   \n",
       "29    1cab502f-b8d7-42e1-9423-3b18df6189d9       51185008   \n",
       "30    15162b83-4ebf-4d14-9797-19efe41e8a07       51185008   \n",
       "31    da9b21a6-3d5b-4f17-8d00-5884adbd6092       51185008   \n",
       "32    22591108-4aee-4278-8f66-40ec429b61e0       51185008   \n",
       "33    6316bf64-6d5f-4201-8fd6-2348666d413f       51185008   \n",
       "34    83b7a572-c03b-422d-af06-603b5114319f       51185008   \n",
       "35    ffbecdeb-a100-4bf9-84e6-33a80405026a       51185008   \n",
       "36    7aea4db3-b5f6-42df-bf86-fd7b5cdd54dc       51185008   \n",
       "37    478ee533-de19-4d21-9e99-695ca367444b       51185008   \n",
       "38    f63b842c-e97c-450d-b8f2-a7c2a5bd714b       51185008   \n",
       "39    4799c1cb-b0a1-4787-9b29-a91cdcda0776       51185008   \n",
       "40    3fca88e0-973b-4f2a-9ed5-3027b2e75035       51185008   \n",
       "41    657fbae5-5606-42f8-9349-fc119b056cf8       51185008   \n",
       "42    b602d7f1-84d8-45da-be36-3f548dead8c7       51185008   \n",
       "43    0b386443-5dcf-42c0-ac60-8ad4689bcc0d       51185008   \n",
       "44    e9913d3b-26bb-4307-852f-8058470a05bd       51185008   \n",
       "45    67f29017-0354-4bd1-92dd-6f09c470cae0       51185008   \n",
       "46    9bbee998-58d9-4273-9258-df68fc9b952e       51185008   \n",
       "47    0b014e45-98bc-4639-a68b-20ce9ac5fca2       51185008   \n",
       "48    b38f6434-0918-43fe-a186-356767787cbe       51185008   \n",
       "49    21bf4630-202a-47b4-b623-85388fa67346       51185008   \n",
       "...                                    ...            ...   \n",
       "8234  e19c919f-1efc-4d34-8c7d-c36be388e1bd      261179002   \n",
       "8235  4d0c5a1d-48f6-4682-ba21-f9e68cafe28f       51185008   \n",
       "8236  ee513e61-8037-40ae-9771-cf00b972dd40      261179002   \n",
       "8237  f2cffe42-2649-4b1d-8b0e-96e741ff3349       51185008   \n",
       "8238  8f501358-ad40-41e3-a47e-93b6e70e80c9      261179002   \n",
       "8239  8f501358-ad40-41e3-a47e-93b6e70e80c9       51185008   \n",
       "8240  a6916665-4cc4-4dc5-85f3-a9989eb8852e      261179002   \n",
       "8241  0a766fdc-b9bf-4e72-8d1e-a417d662eeeb       51185008   \n",
       "8242  08d01fe7-e4ad-4854-9905-b4d08bcd8d9b      261179002   \n",
       "8243  08d01fe7-e4ad-4854-9905-b4d08bcd8d9b       51185008   \n",
       "8248  43f7359b-ce15-4a8e-9d05-1dcdfe98993f      261179002   \n",
       "8249  529538d0-f87d-4b2d-8351-c5ce10dfbd75       51185008   \n",
       "8250  58ec5c94-d9ab-408a-bcb7-77a9e1437792       51185008   \n",
       "8251  e1054254-f7cc-41ef-a527-e9ca2ccab81d      261179002   \n",
       "8252  e1054254-f7cc-41ef-a527-e9ca2ccab81d       51185008   \n",
       "8255  de27784a-c2a5-4944-9b6c-1f438047375c      261179002   \n",
       "8256  b5bd6a0c-b056-425c-a126-c8aa48670ea3      261179002   \n",
       "8257  d9709c99-7f77-4146-a913-19e6c0598cf4      261179002   \n",
       "8258  b6bb3daa-e589-42e7-aafe-db932d3cbf31       51185008   \n",
       "8259  1d118a53-6c8a-4a05-86fd-79ec16ff1dd4      261179002   \n",
       "8260  1d118a53-6c8a-4a05-86fd-79ec16ff1dd4       51185008   \n",
       "8265  4f3d6327-0bc3-46b4-a738-93899495d0f5      261179002   \n",
       "8266  95f54c61-ce32-409b-8d70-1bbcf01ba3a9      261179002   \n",
       "8267  f914827b-a87d-48b7-96e0-fa7e4a7f8916      261179002   \n",
       "8268  d48bf9dc-383d-4a49-938e-b5623cc043b9      261179002   \n",
       "8269  bcff003d-0bdc-46a4-9627-cbd12e9f6597       51185008   \n",
       "8270  fd7053f7-676c-42a8-af28-c4a15f193a88      261179002   \n",
       "8271  5371cc3a-ec73-4d42-9698-4f8ab45f7107       51185008   \n",
       "8272  ee4c8a41-b113-479c-9870-19a60c700738      261179002   \n",
       "8273  ee4c8a41-b113-479c-9870-19a60c700738       51185008   \n",
       "\n",
       "                     BODYSITE_DESCRIPTION MODALITY_CODE  MODALITY_DESCRIPTION  \\\n",
       "5                                thoracic            US            Ultrasound   \n",
       "6                                thoracic            US            Ultrasound   \n",
       "7     thoracic structure (body structure)            CR  Computed Radiography   \n",
       "8                                thoracic            US            Ultrasound   \n",
       "9                      thoracic structure            DX   Digital Radiography   \n",
       "15                               thoracic            US            Ultrasound   \n",
       "16    thoracic structure (body structure)            CR  Computed Radiography   \n",
       "17                               thoracic            US            Ultrasound   \n",
       "18                     thoracic structure            DX   Digital Radiography   \n",
       "29    thoracic structure (body structure)            CT   Computed Tomography   \n",
       "30    thoracic structure (body structure)            CT   Computed Tomography   \n",
       "31    thoracic structure (body structure)            CT   Computed Tomography   \n",
       "32    thoracic structure (body structure)            CT   Computed Tomography   \n",
       "33    thoracic structure (body structure)            CT   Computed Tomography   \n",
       "34    thoracic structure (body structure)            CT   Computed Tomography   \n",
       "35    thoracic structure (body structure)            CT   Computed Tomography   \n",
       "36    thoracic structure (body structure)            CT   Computed Tomography   \n",
       "37    thoracic structure (body structure)            CT   Computed Tomography   \n",
       "38    thoracic structure (body structure)            CT   Computed Tomography   \n",
       "39    thoracic structure (body structure)            CT   Computed Tomography   \n",
       "40    thoracic structure (body structure)            CT   Computed Tomography   \n",
       "41    thoracic structure (body structure)            CT   Computed Tomography   \n",
       "42    thoracic structure (body structure)            CT   Computed Tomography   \n",
       "43    thoracic structure (body structure)            CT   Computed Tomography   \n",
       "44    thoracic structure (body structure)            CT   Computed Tomography   \n",
       "45    thoracic structure (body structure)            CT   Computed Tomography   \n",
       "46    thoracic structure (body structure)            CT   Computed Tomography   \n",
       "47    thoracic structure (body structure)            CT   Computed Tomography   \n",
       "48    thoracic structure (body structure)            CT   Computed Tomography   \n",
       "49    thoracic structure (body structure)            CT   Computed Tomography   \n",
       "...                                   ...           ...                   ...   \n",
       "8234                             thoracic            US            Ultrasound   \n",
       "8235  thoracic structure (body structure)            CR  Computed Radiography   \n",
       "8236                             thoracic            US            Ultrasound   \n",
       "8237  thoracic structure (body structure)            CR  Computed Radiography   \n",
       "8238                             thoracic            US            Ultrasound   \n",
       "8239                   thoracic structure            DX   Digital Radiography   \n",
       "8240                             thoracic            US            Ultrasound   \n",
       "8241  thoracic structure (body structure)            CR  Computed Radiography   \n",
       "8242                             thoracic            US            Ultrasound   \n",
       "8243                   thoracic structure            DX   Digital Radiography   \n",
       "8248                             thoracic            US            Ultrasound   \n",
       "8249  thoracic structure (body structure)            CR  Computed Radiography   \n",
       "8250  thoracic structure (body structure)            CR  Computed Radiography   \n",
       "8251                             thoracic            US            Ultrasound   \n",
       "8252                   thoracic structure            DX   Digital Radiography   \n",
       "8255                             thoracic            US            Ultrasound   \n",
       "8256                             thoracic            US            Ultrasound   \n",
       "8257                             thoracic            US            Ultrasound   \n",
       "8258  thoracic structure (body structure)            CR  Computed Radiography   \n",
       "8259                             thoracic            US            Ultrasound   \n",
       "8260                   thoracic structure            DX   Digital Radiography   \n",
       "8265                             thoracic            US            Ultrasound   \n",
       "8266                             thoracic            US            Ultrasound   \n",
       "8267                             thoracic            US            Ultrasound   \n",
       "8268                             thoracic            US            Ultrasound   \n",
       "8269  thoracic structure (body structure)            CR  Computed Radiography   \n",
       "8270                             thoracic            US            Ultrasound   \n",
       "8271  thoracic structure (body structure)            CR  Computed Radiography   \n",
       "8272                             thoracic            US            Ultrasound   \n",
       "8273                   thoracic structure            DX   Digital Radiography   \n",
       "\n",
       "                         SOP_CODE  \\\n",
       "5     1.2.840.10008.5.1.4.1.1.3.1   \n",
       "6     1.2.840.10008.5.1.4.1.1.3.1   \n",
       "7     1.2.840.10008.5.1.4.1.1.1.1   \n",
       "8     1.2.840.10008.5.1.4.1.1.3.1   \n",
       "9     1.2.840.10008.5.1.4.1.1.1.1   \n",
       "15    1.2.840.10008.5.1.4.1.1.3.1   \n",
       "16    1.2.840.10008.5.1.4.1.1.1.1   \n",
       "17    1.2.840.10008.5.1.4.1.1.3.1   \n",
       "18    1.2.840.10008.5.1.4.1.1.1.1   \n",
       "29      1.2.840.10008.5.1.4.1.1.2   \n",
       "30      1.2.840.10008.5.1.4.1.1.2   \n",
       "31      1.2.840.10008.5.1.4.1.1.2   \n",
       "32      1.2.840.10008.5.1.4.1.1.2   \n",
       "33      1.2.840.10008.5.1.4.1.1.2   \n",
       "34      1.2.840.10008.5.1.4.1.1.2   \n",
       "35      1.2.840.10008.5.1.4.1.1.2   \n",
       "36      1.2.840.10008.5.1.4.1.1.2   \n",
       "37      1.2.840.10008.5.1.4.1.1.2   \n",
       "38      1.2.840.10008.5.1.4.1.1.2   \n",
       "39      1.2.840.10008.5.1.4.1.1.2   \n",
       "40      1.2.840.10008.5.1.4.1.1.2   \n",
       "41      1.2.840.10008.5.1.4.1.1.2   \n",
       "42      1.2.840.10008.5.1.4.1.1.2   \n",
       "43      1.2.840.10008.5.1.4.1.1.2   \n",
       "44      1.2.840.10008.5.1.4.1.1.2   \n",
       "45      1.2.840.10008.5.1.4.1.1.2   \n",
       "46      1.2.840.10008.5.1.4.1.1.2   \n",
       "47      1.2.840.10008.5.1.4.1.1.2   \n",
       "48      1.2.840.10008.5.1.4.1.1.2   \n",
       "49      1.2.840.10008.5.1.4.1.1.2   \n",
       "...                           ...   \n",
       "8234  1.2.840.10008.5.1.4.1.1.3.1   \n",
       "8235  1.2.840.10008.5.1.4.1.1.1.1   \n",
       "8236  1.2.840.10008.5.1.4.1.1.3.1   \n",
       "8237  1.2.840.10008.5.1.4.1.1.1.1   \n",
       "8238  1.2.840.10008.5.1.4.1.1.3.1   \n",
       "8239  1.2.840.10008.5.1.4.1.1.1.1   \n",
       "8240  1.2.840.10008.5.1.4.1.1.3.1   \n",
       "8241  1.2.840.10008.5.1.4.1.1.1.1   \n",
       "8242  1.2.840.10008.5.1.4.1.1.3.1   \n",
       "8243  1.2.840.10008.5.1.4.1.1.1.1   \n",
       "8248  1.2.840.10008.5.1.4.1.1.3.1   \n",
       "8249  1.2.840.10008.5.1.4.1.1.1.1   \n",
       "8250  1.2.840.10008.5.1.4.1.1.1.1   \n",
       "8251  1.2.840.10008.5.1.4.1.1.3.1   \n",
       "8252  1.2.840.10008.5.1.4.1.1.1.1   \n",
       "8255  1.2.840.10008.5.1.4.1.1.3.1   \n",
       "8256  1.2.840.10008.5.1.4.1.1.3.1   \n",
       "8257  1.2.840.10008.5.1.4.1.1.3.1   \n",
       "8258  1.2.840.10008.5.1.4.1.1.1.1   \n",
       "8259  1.2.840.10008.5.1.4.1.1.3.1   \n",
       "8260  1.2.840.10008.5.1.4.1.1.1.1   \n",
       "8265  1.2.840.10008.5.1.4.1.1.3.1   \n",
       "8266  1.2.840.10008.5.1.4.1.1.3.1   \n",
       "8267  1.2.840.10008.5.1.4.1.1.3.1   \n",
       "8268  1.2.840.10008.5.1.4.1.1.3.1   \n",
       "8269  1.2.840.10008.5.1.4.1.1.1.1   \n",
       "8270  1.2.840.10008.5.1.4.1.1.3.1   \n",
       "8271  1.2.840.10008.5.1.4.1.1.1.1   \n",
       "8272  1.2.840.10008.5.1.4.1.1.3.1   \n",
       "8273  1.2.840.10008.5.1.4.1.1.1.1   \n",
       "\n",
       "                                     SOP_DESCRIPTION  \n",
       "5                Ultrasound Multiframe Image Storage  \n",
       "6                Ultrasound Multiframe Image Storage  \n",
       "7     Digital X-Ray Image Storage – for Presentation  \n",
       "8                Ultrasound Multiframe Image Storage  \n",
       "9     Digital X-Ray Image Storage – for Presentation  \n",
       "15               Ultrasound Multiframe Image Storage  \n",
       "16    Digital X-Ray Image Storage – for Presentation  \n",
       "17               Ultrasound Multiframe Image Storage  \n",
       "18    Digital X-Ray Image Storage – for Presentation  \n",
       "29                                  CT Image Storage  \n",
       "30                                  CT Image Storage  \n",
       "31                                  CT Image Storage  \n",
       "32                                  CT Image Storage  \n",
       "33                                  CT Image Storage  \n",
       "34                                  CT Image Storage  \n",
       "35                                  CT Image Storage  \n",
       "36                                  CT Image Storage  \n",
       "37                                  CT Image Storage  \n",
       "38                                  CT Image Storage  \n",
       "39                                  CT Image Storage  \n",
       "40                                  CT Image Storage  \n",
       "41                                  CT Image Storage  \n",
       "42                                  CT Image Storage  \n",
       "43                                  CT Image Storage  \n",
       "44                                  CT Image Storage  \n",
       "45                                  CT Image Storage  \n",
       "46                                  CT Image Storage  \n",
       "47                                  CT Image Storage  \n",
       "48                                  CT Image Storage  \n",
       "49                                  CT Image Storage  \n",
       "...                                              ...  \n",
       "8234             Ultrasound Multiframe Image Storage  \n",
       "8235  Digital X-Ray Image Storage – for Presentation  \n",
       "8236             Ultrasound Multiframe Image Storage  \n",
       "8237  Digital X-Ray Image Storage – for Presentation  \n",
       "8238             Ultrasound Multiframe Image Storage  \n",
       "8239  Digital X-Ray Image Storage – for Presentation  \n",
       "8240             Ultrasound Multiframe Image Storage  \n",
       "8241  Digital X-Ray Image Storage – for Presentation  \n",
       "8242             Ultrasound Multiframe Image Storage  \n",
       "8243  Digital X-Ray Image Storage – for Presentation  \n",
       "8248             Ultrasound Multiframe Image Storage  \n",
       "8249  Digital X-Ray Image Storage – for Presentation  \n",
       "8250  Digital X-Ray Image Storage – for Presentation  \n",
       "8251             Ultrasound Multiframe Image Storage  \n",
       "8252  Digital X-Ray Image Storage – for Presentation  \n",
       "8255             Ultrasound Multiframe Image Storage  \n",
       "8256             Ultrasound Multiframe Image Storage  \n",
       "8257             Ultrasound Multiframe Image Storage  \n",
       "8258  Digital X-Ray Image Storage – for Presentation  \n",
       "8259             Ultrasound Multiframe Image Storage  \n",
       "8260  Digital X-Ray Image Storage – for Presentation  \n",
       "8265             Ultrasound Multiframe Image Storage  \n",
       "8266             Ultrasound Multiframe Image Storage  \n",
       "8267             Ultrasound Multiframe Image Storage  \n",
       "8268             Ultrasound Multiframe Image Storage  \n",
       "8269  Digital X-Ray Image Storage – for Presentation  \n",
       "8270             Ultrasound Multiframe Image Storage  \n",
       "8271  Digital X-Ray Image Storage – for Presentation  \n",
       "8272             Ultrasound Multiframe Image Storage  \n",
       "8273  Digital X-Ray Image Storage – for Presentation  \n",
       "\n",
       "[5086 rows x 10 columns]"
      ]
     },
     "execution_count": 393,
     "metadata": {},
     "output_type": "execute_result"
    }
   ],
   "source": [
    "thoracic"
   ]
  },
  {
   "cell_type": "markdown",
   "metadata": {},
   "source": [
    "### MEDICAL CONCEPTS"
   ]
  },
  {
   "cell_type": "code",
   "execution_count": 375,
   "metadata": {},
   "outputs": [],
   "source": [
    "#File is missing a header, so I added column names along the same lines as other files\n",
    "concepts = pd.read_csv(\"concepts.csv\", header=None, names = ['code_type','code','description','reason_description'])"
   ]
  },
  {
   "cell_type": "code",
   "execution_count": 376,
   "metadata": {},
   "outputs": [
    {
     "data": {
      "text/html": [
       "<div>\n",
       "<style scoped>\n",
       "    .dataframe tbody tr th:only-of-type {\n",
       "        vertical-align: middle;\n",
       "    }\n",
       "\n",
       "    .dataframe tbody tr th {\n",
       "        vertical-align: top;\n",
       "    }\n",
       "\n",
       "    .dataframe thead th {\n",
       "        text-align: right;\n",
       "    }\n",
       "</style>\n",
       "<table border=\"1\" class=\"dataframe\">\n",
       "  <thead>\n",
       "    <tr style=\"text-align: right;\">\n",
       "      <th></th>\n",
       "      <th>code_type</th>\n",
       "      <th>code</th>\n",
       "      <th>description</th>\n",
       "      <th>reason_description</th>\n",
       "    </tr>\n",
       "  </thead>\n",
       "  <tbody>\n",
       "    <tr>\n",
       "      <th>0</th>\n",
       "      <td>LOINC</td>\n",
       "      <td>10230-1</td>\n",
       "      <td>Left ventricular Ejection fraction</td>\n",
       "      <td>Congestive Heart Failure</td>\n",
       "    </tr>\n",
       "    <tr>\n",
       "      <th>1</th>\n",
       "      <td>LOINC</td>\n",
       "      <td>14959-1</td>\n",
       "      <td>Microalbumin Creatinine Ratio</td>\n",
       "      <td>Wellness Encounters</td>\n",
       "    </tr>\n",
       "    <tr>\n",
       "      <th>2</th>\n",
       "      <td>LOINC</td>\n",
       "      <td>19926-5</td>\n",
       "      <td>FEV1/FVC</td>\n",
       "      <td>COPD</td>\n",
       "    </tr>\n",
       "    <tr>\n",
       "      <th>3</th>\n",
       "      <td>LOINC</td>\n",
       "      <td>24321-2</td>\n",
       "      <td>Basic Metabolic 2000 Panel</td>\n",
       "      <td>Metabolic Syndrome Standards of Care</td>\n",
       "    </tr>\n",
       "    <tr>\n",
       "      <th>4</th>\n",
       "      <td>LOINC</td>\n",
       "      <td>24323-8</td>\n",
       "      <td>Comprehensive metabolic 2000 panel - Serum or ...</td>\n",
       "      <td>Veteran Prostate Cancer|Congestive Heart Failu...</td>\n",
       "    </tr>\n",
       "    <tr>\n",
       "      <th>5</th>\n",
       "      <td>LOINC</td>\n",
       "      <td>24357-6</td>\n",
       "      <td>Urinalysis macro (dipstick) panel - Urine</td>\n",
       "      <td>Veteran Prostate Cancer|Lung Cancer|Dialysis|M...</td>\n",
       "    </tr>\n",
       "    <tr>\n",
       "      <th>6</th>\n",
       "      <td>LOINC</td>\n",
       "      <td>24360-0</td>\n",
       "      <td>Hemoglobin and Hematocrit panel - Blood</td>\n",
       "      <td>anemia_sub</td>\n",
       "    </tr>\n",
       "    <tr>\n",
       "      <th>7</th>\n",
       "      <td>LOINC</td>\n",
       "      <td>28245-9</td>\n",
       "      <td>Abuse Status [OMAHA]</td>\n",
       "      <td>Homelessness</td>\n",
       "    </tr>\n",
       "    <tr>\n",
       "      <th>8</th>\n",
       "      <td>LOINC</td>\n",
       "      <td>2857-1</td>\n",
       "      <td>Prostate specific Ag [Mass/volume] in Serum or...</td>\n",
       "      <td>Veteran Prostate Cancer</td>\n",
       "    </tr>\n",
       "    <tr>\n",
       "      <th>9</th>\n",
       "      <td>LOINC</td>\n",
       "      <td>29463-7</td>\n",
       "      <td>Body Weight</td>\n",
       "      <td>Wellness Encounters</td>\n",
       "    </tr>\n",
       "    <tr>\n",
       "      <th>10</th>\n",
       "      <td>LOINC</td>\n",
       "      <td>3016-3</td>\n",
       "      <td>Thyrotropin [Units/volume] in Serum or Plasma</td>\n",
       "      <td>Hypothyroidism</td>\n",
       "    </tr>\n",
       "    <tr>\n",
       "      <th>11</th>\n",
       "      <td>LOINC</td>\n",
       "      <td>3024-7</td>\n",
       "      <td>Thyroxine (T4) free [Mass/volume] in Serum or ...</td>\n",
       "      <td>Hypothyroidism</td>\n",
       "    </tr>\n",
       "    <tr>\n",
       "      <th>12</th>\n",
       "      <td>LOINC</td>\n",
       "      <td>32465-7</td>\n",
       "      <td>Physical findings of Prostate</td>\n",
       "      <td>Veteran Prostate Cancer</td>\n",
       "    </tr>\n",
       "    <tr>\n",
       "      <th>13</th>\n",
       "      <td>LOINC</td>\n",
       "      <td>33756-8</td>\n",
       "      <td>Polyp size greatest dimension by CAP cancer pr...</td>\n",
       "      <td>Colorectal Cancer</td>\n",
       "    </tr>\n",
       "    <tr>\n",
       "      <th>14</th>\n",
       "      <td>LOINC</td>\n",
       "      <td>33762-6</td>\n",
       "      <td>NT-proBNP</td>\n",
       "      <td>Congestive Heart Failure</td>\n",
       "    </tr>\n",
       "    <tr>\n",
       "      <th>15</th>\n",
       "      <td>LOINC</td>\n",
       "      <td>33914-3</td>\n",
       "      <td>Estimated Glomerular Filtration Rate</td>\n",
       "      <td>Wellness Encounters</td>\n",
       "    </tr>\n",
       "    <tr>\n",
       "      <th>16</th>\n",
       "      <td>LOINC</td>\n",
       "      <td>38265-5</td>\n",
       "      <td>DXA [T-score] Bone density</td>\n",
       "      <td>Osteoporosis|Injuries</td>\n",
       "    </tr>\n",
       "    <tr>\n",
       "      <th>17</th>\n",
       "      <td>LOINC</td>\n",
       "      <td>39156-5</td>\n",
       "      <td>Body Mass Index</td>\n",
       "      <td>Wellness Encounters</td>\n",
       "    </tr>\n",
       "    <tr>\n",
       "      <th>18</th>\n",
       "      <td>LOINC</td>\n",
       "      <td>4548-4</td>\n",
       "      <td>Hemoglobin A1c/Hemoglobin.total in Blood</td>\n",
       "      <td>Metabolic Syndrome Standards of Care</td>\n",
       "    </tr>\n",
       "    <tr>\n",
       "      <th>19</th>\n",
       "      <td>LOINC</td>\n",
       "      <td>46240-8</td>\n",
       "      <td>History of Hospitalizations+Outpatient visits</td>\n",
       "      <td>Homelessness</td>\n",
       "    </tr>\n",
       "    <tr>\n",
       "      <th>20</th>\n",
       "      <td>LOINC</td>\n",
       "      <td>46288-7</td>\n",
       "      <td>US Guidance for biopsy of Prostate</td>\n",
       "      <td>Veteran Prostate Cancer</td>\n",
       "    </tr>\n",
       "    <tr>\n",
       "      <th>21</th>\n",
       "      <td>LOINC</td>\n",
       "      <td>51990-0</td>\n",
       "      <td>Basic Metabolic Panel</td>\n",
       "      <td>Congestive Heart Failure|Wellness Encounters</td>\n",
       "    </tr>\n",
       "    <tr>\n",
       "      <th>22</th>\n",
       "      <td>LOINC</td>\n",
       "      <td>55277-8</td>\n",
       "      <td>HIV status</td>\n",
       "      <td>Homelessness</td>\n",
       "    </tr>\n",
       "    <tr>\n",
       "      <th>23</th>\n",
       "      <td>LOINC</td>\n",
       "      <td>55284-4</td>\n",
       "      <td>Blood Pressure</td>\n",
       "      <td>Congestive Heart Failure|Wellness Encounters</td>\n",
       "    </tr>\n",
       "    <tr>\n",
       "      <th>24</th>\n",
       "      <td>LOINC</td>\n",
       "      <td>55405-5</td>\n",
       "      <td>Heartfailure Tracking Panel</td>\n",
       "      <td>Congestive Heart Failure</td>\n",
       "    </tr>\n",
       "    <tr>\n",
       "      <th>25</th>\n",
       "      <td>LOINC</td>\n",
       "      <td>57698-3</td>\n",
       "      <td>Lipid Panel</td>\n",
       "      <td>Veteran Hyperlipidemia|Wellness Encounters</td>\n",
       "    </tr>\n",
       "    <tr>\n",
       "      <th>26</th>\n",
       "      <td>LOINC</td>\n",
       "      <td>57905-2</td>\n",
       "      <td>Hemoglobin.gastrointestinal [Presence] in Stoo...</td>\n",
       "      <td>Colorectal Cancer</td>\n",
       "    </tr>\n",
       "    <tr>\n",
       "      <th>27</th>\n",
       "      <td>LOINC</td>\n",
       "      <td>58410-2</td>\n",
       "      <td>Complete blood count (hemogram) panel - Blood ...</td>\n",
       "      <td>Veteran Prostate Cancer|Lung Cancer|anemia_sub...</td>\n",
       "    </tr>\n",
       "    <tr>\n",
       "      <th>28</th>\n",
       "      <td>LOINC</td>\n",
       "      <td>6075-6</td>\n",
       "      <td>Cladosporium herbarum IgE Ab in Serum</td>\n",
       "      <td>Allergy Panel</td>\n",
       "    </tr>\n",
       "    <tr>\n",
       "      <th>29</th>\n",
       "      <td>LOINC</td>\n",
       "      <td>6082-2</td>\n",
       "      <td>Codfish IgE Ab in Serum</td>\n",
       "      <td>Allergy Panel</td>\n",
       "    </tr>\n",
       "    <tr>\n",
       "      <th>...</th>\n",
       "      <td>...</td>\n",
       "      <td>...</td>\n",
       "      <td>...</td>\n",
       "      <td>...</td>\n",
       "    </tr>\n",
       "    <tr>\n",
       "      <th>696</th>\n",
       "      <td>SNOMED-CT</td>\n",
       "      <td>91302008</td>\n",
       "      <td>Death due to sepsis</td>\n",
       "      <td>Gallstones</td>\n",
       "    </tr>\n",
       "    <tr>\n",
       "      <th>697</th>\n",
       "      <td>SNOMED-CT</td>\n",
       "      <td>91602002</td>\n",
       "      <td>Thoracentesis (procedure)</td>\n",
       "      <td>Veteran Lung Cancer|Lung Cancer</td>\n",
       "    </tr>\n",
       "    <tr>\n",
       "      <th>698</th>\n",
       "      <td>SNOMED-CT</td>\n",
       "      <td>91930004</td>\n",
       "      <td>Allergy to eggs</td>\n",
       "      <td>Outgrow Food Allergies|Allergy Incidence</td>\n",
       "    </tr>\n",
       "    <tr>\n",
       "      <th>699</th>\n",
       "      <td>SNOMED-CT</td>\n",
       "      <td>91934008</td>\n",
       "      <td>Allergy to nut</td>\n",
       "      <td>Allergy Incidence</td>\n",
       "    </tr>\n",
       "    <tr>\n",
       "      <th>700</th>\n",
       "      <td>SNOMED-CT</td>\n",
       "      <td>91935009</td>\n",
       "      <td>Allergy to peanuts</td>\n",
       "      <td>Allergy Incidence</td>\n",
       "    </tr>\n",
       "    <tr>\n",
       "      <th>701</th>\n",
       "      <td>SNOMED-CT</td>\n",
       "      <td>92691004</td>\n",
       "      <td>Carcinoma in situ of prostate (disorder)</td>\n",
       "      <td>Veteran Prostate Cancer</td>\n",
       "    </tr>\n",
       "    <tr>\n",
       "      <th>702</th>\n",
       "      <td>SNOMED-CT</td>\n",
       "      <td>93761005</td>\n",
       "      <td>Primary malignant neoplasm of colon</td>\n",
       "      <td>Colorectal Cancer</td>\n",
       "    </tr>\n",
       "    <tr>\n",
       "      <th>703</th>\n",
       "      <td>SNOMED-CT</td>\n",
       "      <td>94260004</td>\n",
       "      <td>Secondary malignant neoplasm of colon</td>\n",
       "      <td>Colorectal Cancer</td>\n",
       "    </tr>\n",
       "    <tr>\n",
       "      <th>704</th>\n",
       "      <td>SNOMED-CT</td>\n",
       "      <td>95281009</td>\n",
       "      <td>Sudden Cardiac Death</td>\n",
       "      <td>Epilepsy</td>\n",
       "    </tr>\n",
       "    <tr>\n",
       "      <th>705</th>\n",
       "      <td>SNOMED-CT</td>\n",
       "      <td>95417003</td>\n",
       "      <td>Primary fibromyalgia syndrome</td>\n",
       "      <td>Fibromyalgia</td>\n",
       "    </tr>\n",
       "    <tr>\n",
       "      <th>706</th>\n",
       "      <td>SNOMED-CT</td>\n",
       "      <td>97331000119101</td>\n",
       "      <td>Macular edema and retinopathy due to type 2 di...</td>\n",
       "      <td>Metabolic Syndrome Standards of Care</td>\n",
       "    </tr>\n",
       "    <tr>\n",
       "      <th>707</th>\n",
       "      <td>SNOMED-CT</td>\n",
       "      <td>9855000</td>\n",
       "      <td>Natural death with unknown cause</td>\n",
       "      <td>CardiovascularDiseaseModule|LifecycleModule</td>\n",
       "    </tr>\n",
       "    <tr>\n",
       "      <th>708</th>\n",
       "      <td>http://hl7.org/fhir/sid/cvx</td>\n",
       "      <td>03</td>\n",
       "      <td>MMR</td>\n",
       "      <td>Immunizations</td>\n",
       "    </tr>\n",
       "    <tr>\n",
       "      <th>709</th>\n",
       "      <td>http://hl7.org/fhir/sid/cvx</td>\n",
       "      <td>08</td>\n",
       "      <td>Hep B  adolescent or pediatric</td>\n",
       "      <td>Immunizations</td>\n",
       "    </tr>\n",
       "    <tr>\n",
       "      <th>710</th>\n",
       "      <td>http://hl7.org/fhir/sid/cvx</td>\n",
       "      <td>10</td>\n",
       "      <td>IPV</td>\n",
       "      <td>Immunizations</td>\n",
       "    </tr>\n",
       "    <tr>\n",
       "      <th>711</th>\n",
       "      <td>http://hl7.org/fhir/sid/cvx</td>\n",
       "      <td>113</td>\n",
       "      <td>Td (adult) preservative free</td>\n",
       "      <td>Immunizations</td>\n",
       "    </tr>\n",
       "    <tr>\n",
       "      <th>712</th>\n",
       "      <td>http://hl7.org/fhir/sid/cvx</td>\n",
       "      <td>114</td>\n",
       "      <td>meningococcal MCV4P</td>\n",
       "      <td>Immunizations</td>\n",
       "    </tr>\n",
       "    <tr>\n",
       "      <th>713</th>\n",
       "      <td>http://hl7.org/fhir/sid/cvx</td>\n",
       "      <td>115</td>\n",
       "      <td>Tdap</td>\n",
       "      <td>Immunizations</td>\n",
       "    </tr>\n",
       "    <tr>\n",
       "      <th>714</th>\n",
       "      <td>http://hl7.org/fhir/sid/cvx</td>\n",
       "      <td>119</td>\n",
       "      <td>rotavirus  monovalent</td>\n",
       "      <td>Immunizations</td>\n",
       "    </tr>\n",
       "    <tr>\n",
       "      <th>715</th>\n",
       "      <td>http://hl7.org/fhir/sid/cvx</td>\n",
       "      <td>121</td>\n",
       "      <td>zoster</td>\n",
       "      <td>Immunizations</td>\n",
       "    </tr>\n",
       "    <tr>\n",
       "      <th>716</th>\n",
       "      <td>http://hl7.org/fhir/sid/cvx</td>\n",
       "      <td>133</td>\n",
       "      <td>Pneumococcal conjugate PCV 13</td>\n",
       "      <td>Immunizations</td>\n",
       "    </tr>\n",
       "    <tr>\n",
       "      <th>717</th>\n",
       "      <td>http://hl7.org/fhir/sid/cvx</td>\n",
       "      <td>140</td>\n",
       "      <td>Influenza  seasonal  injectable  preservative ...</td>\n",
       "      <td>Immunizations</td>\n",
       "    </tr>\n",
       "    <tr>\n",
       "      <th>718</th>\n",
       "      <td>http://hl7.org/fhir/sid/cvx</td>\n",
       "      <td>20</td>\n",
       "      <td>DTaP</td>\n",
       "      <td>Immunizations</td>\n",
       "    </tr>\n",
       "    <tr>\n",
       "      <th>719</th>\n",
       "      <td>http://hl7.org/fhir/sid/cvx</td>\n",
       "      <td>21</td>\n",
       "      <td>varicella</td>\n",
       "      <td>Immunizations</td>\n",
       "    </tr>\n",
       "    <tr>\n",
       "      <th>720</th>\n",
       "      <td>http://hl7.org/fhir/sid/cvx</td>\n",
       "      <td>33</td>\n",
       "      <td>pneumococcal polysaccharide vaccine  23 valent</td>\n",
       "      <td>Immunizations</td>\n",
       "    </tr>\n",
       "    <tr>\n",
       "      <th>721</th>\n",
       "      <td>http://hl7.org/fhir/sid/cvx</td>\n",
       "      <td>43</td>\n",
       "      <td>Hep B  adult</td>\n",
       "      <td>Immunizations</td>\n",
       "    </tr>\n",
       "    <tr>\n",
       "      <th>722</th>\n",
       "      <td>http://hl7.org/fhir/sid/cvx</td>\n",
       "      <td>49</td>\n",
       "      <td>Hib (PRP-OMP)</td>\n",
       "      <td>Immunizations</td>\n",
       "    </tr>\n",
       "    <tr>\n",
       "      <th>723</th>\n",
       "      <td>http://hl7.org/fhir/sid/cvx</td>\n",
       "      <td>52</td>\n",
       "      <td>Hep A  adult</td>\n",
       "      <td>Immunizations</td>\n",
       "    </tr>\n",
       "    <tr>\n",
       "      <th>724</th>\n",
       "      <td>http://hl7.org/fhir/sid/cvx</td>\n",
       "      <td>62</td>\n",
       "      <td>HPV  quadrivalent</td>\n",
       "      <td>Immunizations</td>\n",
       "    </tr>\n",
       "    <tr>\n",
       "      <th>725</th>\n",
       "      <td>http://hl7.org/fhir/sid/cvx</td>\n",
       "      <td>83</td>\n",
       "      <td>Hep A  ped/adol  2 dose</td>\n",
       "      <td>Immunizations</td>\n",
       "    </tr>\n",
       "  </tbody>\n",
       "</table>\n",
       "<p>726 rows × 4 columns</p>\n",
       "</div>"
      ],
      "text/plain": [
       "                       code_type            code  \\\n",
       "0                          LOINC         10230-1   \n",
       "1                          LOINC         14959-1   \n",
       "2                          LOINC         19926-5   \n",
       "3                          LOINC         24321-2   \n",
       "4                          LOINC         24323-8   \n",
       "5                          LOINC         24357-6   \n",
       "6                          LOINC         24360-0   \n",
       "7                          LOINC         28245-9   \n",
       "8                          LOINC          2857-1   \n",
       "9                          LOINC         29463-7   \n",
       "10                         LOINC          3016-3   \n",
       "11                         LOINC          3024-7   \n",
       "12                         LOINC         32465-7   \n",
       "13                         LOINC         33756-8   \n",
       "14                         LOINC         33762-6   \n",
       "15                         LOINC         33914-3   \n",
       "16                         LOINC         38265-5   \n",
       "17                         LOINC         39156-5   \n",
       "18                         LOINC          4548-4   \n",
       "19                         LOINC         46240-8   \n",
       "20                         LOINC         46288-7   \n",
       "21                         LOINC         51990-0   \n",
       "22                         LOINC         55277-8   \n",
       "23                         LOINC         55284-4   \n",
       "24                         LOINC         55405-5   \n",
       "25                         LOINC         57698-3   \n",
       "26                         LOINC         57905-2   \n",
       "27                         LOINC         58410-2   \n",
       "28                         LOINC          6075-6   \n",
       "29                         LOINC          6082-2   \n",
       "..                           ...             ...   \n",
       "696                    SNOMED-CT        91302008   \n",
       "697                    SNOMED-CT        91602002   \n",
       "698                    SNOMED-CT        91930004   \n",
       "699                    SNOMED-CT        91934008   \n",
       "700                    SNOMED-CT        91935009   \n",
       "701                    SNOMED-CT        92691004   \n",
       "702                    SNOMED-CT        93761005   \n",
       "703                    SNOMED-CT        94260004   \n",
       "704                    SNOMED-CT        95281009   \n",
       "705                    SNOMED-CT        95417003   \n",
       "706                    SNOMED-CT  97331000119101   \n",
       "707                    SNOMED-CT         9855000   \n",
       "708  http://hl7.org/fhir/sid/cvx              03   \n",
       "709  http://hl7.org/fhir/sid/cvx              08   \n",
       "710  http://hl7.org/fhir/sid/cvx              10   \n",
       "711  http://hl7.org/fhir/sid/cvx             113   \n",
       "712  http://hl7.org/fhir/sid/cvx             114   \n",
       "713  http://hl7.org/fhir/sid/cvx             115   \n",
       "714  http://hl7.org/fhir/sid/cvx             119   \n",
       "715  http://hl7.org/fhir/sid/cvx             121   \n",
       "716  http://hl7.org/fhir/sid/cvx             133   \n",
       "717  http://hl7.org/fhir/sid/cvx             140   \n",
       "718  http://hl7.org/fhir/sid/cvx              20   \n",
       "719  http://hl7.org/fhir/sid/cvx              21   \n",
       "720  http://hl7.org/fhir/sid/cvx              33   \n",
       "721  http://hl7.org/fhir/sid/cvx              43   \n",
       "722  http://hl7.org/fhir/sid/cvx              49   \n",
       "723  http://hl7.org/fhir/sid/cvx              52   \n",
       "724  http://hl7.org/fhir/sid/cvx              62   \n",
       "725  http://hl7.org/fhir/sid/cvx              83   \n",
       "\n",
       "                                           description  \\\n",
       "0                   Left ventricular Ejection fraction   \n",
       "1                        Microalbumin Creatinine Ratio   \n",
       "2                                             FEV1/FVC   \n",
       "3                           Basic Metabolic 2000 Panel   \n",
       "4    Comprehensive metabolic 2000 panel - Serum or ...   \n",
       "5            Urinalysis macro (dipstick) panel - Urine   \n",
       "6              Hemoglobin and Hematocrit panel - Blood   \n",
       "7                                 Abuse Status [OMAHA]   \n",
       "8    Prostate specific Ag [Mass/volume] in Serum or...   \n",
       "9                                          Body Weight   \n",
       "10       Thyrotropin [Units/volume] in Serum or Plasma   \n",
       "11   Thyroxine (T4) free [Mass/volume] in Serum or ...   \n",
       "12                       Physical findings of Prostate   \n",
       "13   Polyp size greatest dimension by CAP cancer pr...   \n",
       "14                                           NT-proBNP   \n",
       "15                Estimated Glomerular Filtration Rate   \n",
       "16                          DXA [T-score] Bone density   \n",
       "17                                     Body Mass Index   \n",
       "18            Hemoglobin A1c/Hemoglobin.total in Blood   \n",
       "19       History of Hospitalizations+Outpatient visits   \n",
       "20                  US Guidance for biopsy of Prostate   \n",
       "21                               Basic Metabolic Panel   \n",
       "22                                          HIV status   \n",
       "23                                      Blood Pressure   \n",
       "24                         Heartfailure Tracking Panel   \n",
       "25                                         Lipid Panel   \n",
       "26   Hemoglobin.gastrointestinal [Presence] in Stoo...   \n",
       "27   Complete blood count (hemogram) panel - Blood ...   \n",
       "28               Cladosporium herbarum IgE Ab in Serum   \n",
       "29                             Codfish IgE Ab in Serum   \n",
       "..                                                 ...   \n",
       "696                                Death due to sepsis   \n",
       "697                          Thoracentesis (procedure)   \n",
       "698                                    Allergy to eggs   \n",
       "699                                     Allergy to nut   \n",
       "700                                 Allergy to peanuts   \n",
       "701           Carcinoma in situ of prostate (disorder)   \n",
       "702                Primary malignant neoplasm of colon   \n",
       "703              Secondary malignant neoplasm of colon   \n",
       "704                               Sudden Cardiac Death   \n",
       "705                      Primary fibromyalgia syndrome   \n",
       "706  Macular edema and retinopathy due to type 2 di...   \n",
       "707                   Natural death with unknown cause   \n",
       "708                                                MMR   \n",
       "709                     Hep B  adolescent or pediatric   \n",
       "710                                                IPV   \n",
       "711                       Td (adult) preservative free   \n",
       "712                                meningococcal MCV4P   \n",
       "713                                               Tdap   \n",
       "714                              rotavirus  monovalent   \n",
       "715                                             zoster   \n",
       "716                      Pneumococcal conjugate PCV 13   \n",
       "717  Influenza  seasonal  injectable  preservative ...   \n",
       "718                                               DTaP   \n",
       "719                                          varicella   \n",
       "720     pneumococcal polysaccharide vaccine  23 valent   \n",
       "721                                       Hep B  adult   \n",
       "722                                      Hib (PRP-OMP)   \n",
       "723                                       Hep A  adult   \n",
       "724                                  HPV  quadrivalent   \n",
       "725                            Hep A  ped/adol  2 dose   \n",
       "\n",
       "                                    reason_description  \n",
       "0                             Congestive Heart Failure  \n",
       "1                                  Wellness Encounters  \n",
       "2                                                 COPD  \n",
       "3                 Metabolic Syndrome Standards of Care  \n",
       "4    Veteran Prostate Cancer|Congestive Heart Failu...  \n",
       "5    Veteran Prostate Cancer|Lung Cancer|Dialysis|M...  \n",
       "6                                           anemia_sub  \n",
       "7                                         Homelessness  \n",
       "8                              Veteran Prostate Cancer  \n",
       "9                                  Wellness Encounters  \n",
       "10                                      Hypothyroidism  \n",
       "11                                      Hypothyroidism  \n",
       "12                             Veteran Prostate Cancer  \n",
       "13                                   Colorectal Cancer  \n",
       "14                            Congestive Heart Failure  \n",
       "15                                 Wellness Encounters  \n",
       "16                               Osteoporosis|Injuries  \n",
       "17                                 Wellness Encounters  \n",
       "18                Metabolic Syndrome Standards of Care  \n",
       "19                                        Homelessness  \n",
       "20                             Veteran Prostate Cancer  \n",
       "21        Congestive Heart Failure|Wellness Encounters  \n",
       "22                                        Homelessness  \n",
       "23        Congestive Heart Failure|Wellness Encounters  \n",
       "24                            Congestive Heart Failure  \n",
       "25          Veteran Hyperlipidemia|Wellness Encounters  \n",
       "26                                   Colorectal Cancer  \n",
       "27   Veteran Prostate Cancer|Lung Cancer|anemia_sub...  \n",
       "28                                       Allergy Panel  \n",
       "29                                       Allergy Panel  \n",
       "..                                                 ...  \n",
       "696                                         Gallstones  \n",
       "697                    Veteran Lung Cancer|Lung Cancer  \n",
       "698           Outgrow Food Allergies|Allergy Incidence  \n",
       "699                                  Allergy Incidence  \n",
       "700                                  Allergy Incidence  \n",
       "701                            Veteran Prostate Cancer  \n",
       "702                                  Colorectal Cancer  \n",
       "703                                  Colorectal Cancer  \n",
       "704                                           Epilepsy  \n",
       "705                                       Fibromyalgia  \n",
       "706               Metabolic Syndrome Standards of Care  \n",
       "707        CardiovascularDiseaseModule|LifecycleModule  \n",
       "708                                      Immunizations  \n",
       "709                                      Immunizations  \n",
       "710                                      Immunizations  \n",
       "711                                      Immunizations  \n",
       "712                                      Immunizations  \n",
       "713                                      Immunizations  \n",
       "714                                      Immunizations  \n",
       "715                                      Immunizations  \n",
       "716                                      Immunizations  \n",
       "717                                      Immunizations  \n",
       "718                                      Immunizations  \n",
       "719                                      Immunizations  \n",
       "720                                      Immunizations  \n",
       "721                                      Immunizations  \n",
       "722                                      Immunizations  \n",
       "723                                      Immunizations  \n",
       "724                                      Immunizations  \n",
       "725                                      Immunizations  \n",
       "\n",
       "[726 rows x 4 columns]"
      ]
     },
     "execution_count": 376,
     "metadata": {},
     "output_type": "execute_result"
    }
   ],
   "source": [
    "concepts"
   ]
  },
  {
   "cell_type": "code",
   "execution_count": null,
   "metadata": {},
   "outputs": [],
   "source": []
  }
 ],
 "metadata": {
  "kernelspec": {
   "display_name": "Python 3",
   "language": "python",
   "name": "python3"
  },
  "language_info": {
   "codemirror_mode": {
    "name": "ipython",
    "version": 3
   },
   "file_extension": ".py",
   "mimetype": "text/x-python",
   "name": "python",
   "nbconvert_exporter": "python",
   "pygments_lexer": "ipython3",
   "version": "3.7.4"
  }
 },
 "nbformat": 4,
 "nbformat_minor": 2
}
